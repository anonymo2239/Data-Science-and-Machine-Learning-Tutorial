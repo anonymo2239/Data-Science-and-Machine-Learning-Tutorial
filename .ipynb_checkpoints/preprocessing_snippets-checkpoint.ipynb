{
 "cells": [
  {
   "cell_type": "markdown",
   "id": "016c59d4-2a6f-4133-962d-3b2899771f36",
   "metadata": {},
   "source": [
    "# Data Preprocessing\n",
    "\n",
    "* `preprocess.py` dosyasının oluşturulması\n",
    "* Sınıfın ve fonksiyonların oluşturulması\n",
    "\n",
    "  * single aykırı değişken analizi → IQR\n",
    "\n",
    "    * sil veya doldur\n",
    "  * multi aykırı değişken analizi → LOF\n",
    "\n",
    "    * sil veya doldur\n",
    "\n",
    "---\n",
    "\n",
    "#### Bilgi 1:\n",
    "\n",
    "Gradient Descent optimizasyon algoritmasını kullanan modellerde **scaling** etmeliyiz.\n",
    "Linear regresyon gibi algoritmalar scaling'den etkilenmediği için her koşulda scaling fonksiyonu yazabiliriz.\n",
    "**Scale etmekten zarar görmezsin ama unutursan yandın.**\n",
    "↳ katsayı yorumlama zorlaşabilir.\n",
    "\n",
    "---\n",
    "\n",
    "#### Bilgi 2:\n",
    "\n",
    "Label Encoding, kategorik değişkenlerin ordinal sırasına göre encode etmeyebilir.\n",
    "Verilen kategorik değişken elemanlarını önce harf sırasına göre sıralar sonra sayı verir.\n",
    "Bunun için **Ordinal Encoding** kullanılmalıdır.\n",
    "\n",
    "---\n",
    "\n",
    "#### Bilgi 3:\n",
    "\n",
    "`pandas.get_dummies()` dataframe üzerinde doğrudan çalışır ve statik bir dönüşüm yapar.\n",
    "**OneHotEncoder** ise pipeline'a uyumlu çalışır ve sorun çıkarmaz.\n",
    "\n",
    "---\n",
    "\n",
    "#### Bilgi 4:\n",
    "\n",
    "`.yaml` dosyaları **environment** oluştururken işe yarar.\n",
    "Oluşturduktan sonra bir katkısı yoktur.\n",
    "\n",
    "---\n",
    "\n",
    "İstersen Markdown, LaTeX veya PDF şeklinde de düzenleyebilirim. Nasıl istersin?\n"
   ]
  },
  {
   "cell_type": "code",
   "execution_count": null,
   "id": "a0d836d6-792c-4e67-a860-715efe27ca4d",
   "metadata": {},
   "outputs": [],
   "source": []
  }
 ],
 "metadata": {
  "kernelspec": {
   "display_name": "Python 3 (ipykernel)",
   "language": "python",
   "name": "python3"
  },
  "language_info": {
   "codemirror_mode": {
    "name": "ipython",
    "version": 3
   },
   "file_extension": ".py",
   "mimetype": "text/x-python",
   "name": "python",
   "nbconvert_exporter": "python",
   "pygments_lexer": "ipython3",
   "version": "3.13.5"
  }
 },
 "nbformat": 4,
 "nbformat_minor": 5
}
