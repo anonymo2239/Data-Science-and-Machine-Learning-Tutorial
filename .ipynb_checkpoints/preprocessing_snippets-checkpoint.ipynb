{
 "cells": [
  {
   "cell_type": "markdown",
   "id": "016c59d4-2a6f-4133-962d-3b2899771f36",
   "metadata": {},
   "source": [
    "# Data Preprocessing\n",
    "\n",
    "* `preprocess.py` dosyasının oluşturulması\n",
    "* Sınıfın ve fonksiyonların oluşturulması\n",
    "\n",
    "  * single aykırı değişken analizi → IQR\n",
    "\n",
    "    * sil veya doldur\n",
    "  * multi aykırı değişken analizi → LOF\n",
    "\n",
    "    * sil veya doldur\n",
    "\n",
    "---\n",
    "\n",
    "#### Bilgi 1:\n",
    "\n",
    "Gradient Descent optimizasyon algoritmasını kullanan modellerde **scaling** etmeliyiz.\n",
    "Linear regresyon gibi algoritmalar scaling'den etkilenmediği için her koşulda scaling fonksiyonu yazabiliriz.\n",
    "**Scale etmekten zarar görmezsin ama unutursan yandın.**\n",
    "↳ katsayı yorumlama zorlaşabilir.\n",
    "\n",
    "---\n",
    "\n",
    "#### Bilgi 2:\n",
    "\n",
    "Label Encoding, kategorik değişkenlerin ordinal sırasına göre encode etmeyebilir.\n",
    "Verilen kategorik değişken elemanlarını önce harf sırasına göre sıralar sonra sayı verir.\n",
    "Bunun için **Ordinal Encoding** kullanılmalıdır.\n",
    "\n",
    "---\n",
    "\n",
    "#### Bilgi 3:\n",
    "\n",
    "`pandas.get_dummies()` dataframe üzerinde doğrudan çalışır ve statik bir dönüşüm yapar.\n",
    "**OneHotEncoder** ise pipeline'a uyumlu çalışır ve sorun çıkarmaz.\n",
    "\n",
    "---\n",
    "\n",
    "#### Bilgi 4:\n",
    "\n",
    "`.yaml` dosyaları **environment** oluştururken işe yarar.\n",
    "Oluşturduktan sonra bir katkısı yoktur.\n",
    "\n",
    "---\n",
    "\n",
    "İstersen Markdown, LaTeX veya PDF şeklinde de düzenleyebilirim. Nasıl istersin?\n"
   ]
  },
  {
   "cell_type": "code",
   "execution_count": 1,
   "id": "a0d836d6-792c-4e67-a860-715efe27ca4d",
   "metadata": {},
   "outputs": [
    {
     "data": {
      "text/html": [
       "<div>\n",
       "<style scoped>\n",
       "    .dataframe tbody tr th:only-of-type {\n",
       "        vertical-align: middle;\n",
       "    }\n",
       "\n",
       "    .dataframe tbody tr th {\n",
       "        vertical-align: top;\n",
       "    }\n",
       "\n",
       "    .dataframe thead th {\n",
       "        text-align: right;\n",
       "    }\n",
       "</style>\n",
       "<table border=\"1\" class=\"dataframe\">\n",
       "  <thead>\n",
       "    <tr style=\"text-align: right;\">\n",
       "      <th></th>\n",
       "      <th>carat</th>\n",
       "      <th>depth</th>\n",
       "      <th>table</th>\n",
       "      <th>price</th>\n",
       "      <th>x</th>\n",
       "      <th>y</th>\n",
       "      <th>z</th>\n",
       "    </tr>\n",
       "  </thead>\n",
       "  <tbody>\n",
       "    <tr>\n",
       "      <th>0</th>\n",
       "      <td>0.23</td>\n",
       "      <td>61.5</td>\n",
       "      <td>55.0</td>\n",
       "      <td>326</td>\n",
       "      <td>3.95</td>\n",
       "      <td>3.98</td>\n",
       "      <td>2.43</td>\n",
       "    </tr>\n",
       "    <tr>\n",
       "      <th>1</th>\n",
       "      <td>0.21</td>\n",
       "      <td>59.8</td>\n",
       "      <td>61.0</td>\n",
       "      <td>326</td>\n",
       "      <td>3.89</td>\n",
       "      <td>3.84</td>\n",
       "      <td>2.31</td>\n",
       "    </tr>\n",
       "    <tr>\n",
       "      <th>2</th>\n",
       "      <td>0.23</td>\n",
       "      <td>56.9</td>\n",
       "      <td>65.0</td>\n",
       "      <td>327</td>\n",
       "      <td>4.05</td>\n",
       "      <td>4.07</td>\n",
       "      <td>2.31</td>\n",
       "    </tr>\n",
       "    <tr>\n",
       "      <th>3</th>\n",
       "      <td>0.29</td>\n",
       "      <td>62.4</td>\n",
       "      <td>58.0</td>\n",
       "      <td>334</td>\n",
       "      <td>4.20</td>\n",
       "      <td>4.23</td>\n",
       "      <td>2.63</td>\n",
       "    </tr>\n",
       "    <tr>\n",
       "      <th>4</th>\n",
       "      <td>0.31</td>\n",
       "      <td>63.3</td>\n",
       "      <td>58.0</td>\n",
       "      <td>335</td>\n",
       "      <td>4.34</td>\n",
       "      <td>4.35</td>\n",
       "      <td>2.75</td>\n",
       "    </tr>\n",
       "  </tbody>\n",
       "</table>\n",
       "</div>"
      ],
      "text/plain": [
       "   carat  depth  table  price     x     y     z\n",
       "0   0.23   61.5   55.0    326  3.95  3.98  2.43\n",
       "1   0.21   59.8   61.0    326  3.89  3.84  2.31\n",
       "2   0.23   56.9   65.0    327  4.05  4.07  2.31\n",
       "3   0.29   62.4   58.0    334  4.20  4.23  2.63\n",
       "4   0.31   63.3   58.0    335  4.34  4.35  2.75"
      ]
     },
     "execution_count": 1,
     "metadata": {},
     "output_type": "execute_result"
    }
   ],
   "source": [
    "import seaborn as sns\n",
    "import pandas as pd\n",
    "df = sns.load_dataset(\"diamonds\")\n",
    "df = df.select_dtypes(include=[\"float64\", \"int64\"])\n",
    "df = df.dropna()\n",
    "df.head()"
   ]
  },
  {
   "cell_type": "code",
   "execution_count": 2,
   "id": "04c10b69-a011-4afc-a9b8-c06bf8c40c43",
   "metadata": {},
   "outputs": [],
   "source": [
    "df_table = df[\"table\"]"
   ]
  },
  {
   "cell_type": "code",
   "execution_count": 3,
   "id": "b3692244-aa0f-4d03-8b58-e8286fe8b6c8",
   "metadata": {},
   "outputs": [],
   "source": [
    "Q1 = df_table.quantile(0.25)\n",
    "Q3 = df_table.quantile(0.75)\n",
    "IQR = 1.5 * (Q3 - Q1)"
   ]
  },
  {
   "cell_type": "code",
   "execution_count": 4,
   "id": "60b8f9ef-1aad-4c41-80c5-2e180bb1ff78",
   "metadata": {},
   "outputs": [],
   "source": [
    "lower_limit = Q1 - IQR"
   ]
  },
  {
   "cell_type": "code",
   "execution_count": 5,
   "id": "32f4c244-a2c5-44c8-8c17-b04060914c9b",
   "metadata": {},
   "outputs": [],
   "source": [
    "upper_limit = Q3 + IQR"
   ]
  },
  {
   "cell_type": "code",
   "execution_count": 6,
   "id": "365bf4e7-c7ce-4579-a1e0-ffba8589e4ec",
   "metadata": {},
   "outputs": [],
   "source": [
    "aykiri_tf = (df_table < lower_limit) | (df_table > upper_limit)"
   ]
  },
  {
   "cell_type": "code",
   "execution_count": 8,
   "id": "f9dccb49-95dd-41d2-9c7b-393eb4326598",
   "metadata": {},
   "outputs": [
    {
     "name": "stderr",
     "output_type": "stream",
     "text": [
      "C:\\Users\\aalperen.arda\\AppData\\Local\\Temp\\ipykernel_7436\\3741757661.py:1: SettingWithCopyWarning: \n",
      "A value is trying to be set on a copy of a slice from a DataFrame\n",
      "\n",
      "See the caveats in the documentation: https://pandas.pydata.org/pandas-docs/stable/user_guide/indexing.html#returning-a-view-versus-a-copy\n",
      "  df_table[aykiri_tf] = df_table.mean()\n"
     ]
    }
   ],
   "source": [
    "df_table[aykiri_tf] = df_table.mean()"
   ]
  },
  {
   "cell_type": "code",
   "execution_count": null,
   "id": "88f839ee-2293-4cf8-81a6-fdc8ad941cab",
   "metadata": {},
   "outputs": [],
   "source": []
  }
 ],
 "metadata": {
  "kernelspec": {
   "display_name": "Python 3 (ipykernel)",
   "language": "python",
   "name": "python3"
  },
  "language_info": {
   "codemirror_mode": {
    "name": "ipython",
    "version": 3
   },
   "file_extension": ".py",
   "mimetype": "text/x-python",
   "name": "python",
   "nbconvert_exporter": "python",
   "pygments_lexer": "ipython3",
   "version": "3.13.5"
  }
 },
 "nbformat": 4,
 "nbformat_minor": 5
}
