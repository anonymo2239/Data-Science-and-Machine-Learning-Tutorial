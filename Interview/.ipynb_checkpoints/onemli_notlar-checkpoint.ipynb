{
 "cells": [
  {
   "cell_type": "markdown",
   "id": "fb9abbf4-8db0-465f-8013-e5d393a74f0a",
   "metadata": {},
   "source": [
    "* Ortalama ve medyan birbirine yakınsa düzgün bir dağılım vardır.\n",
    "\n",
    "* Skewness(Çarpıklık), bir değişkenin dağılımının simetrik olamayışıdır.\n",
    "\n",
    "* Standart deviation(Standart sapma), ortalamadan olan sapmaların genel bir ölçüsüdür.\n",
    "\n",
    "* Variance(Varyans), ortalamadan olan sapmaların karelerinin ortalamasıdır."
   ]
  },
  {
   "cell_type": "code",
   "execution_count": null,
   "id": "f4afb5bf-7fce-48d6-9f86-916389ffe6bb",
   "metadata": {},
   "outputs": [],
   "source": []
  }
 ],
 "metadata": {
  "kernelspec": {
   "display_name": "Python 3 (ipykernel)",
   "language": "python",
   "name": "python3"
  },
  "language_info": {
   "codemirror_mode": {
    "name": "ipython",
    "version": 3
   },
   "file_extension": ".py",
   "mimetype": "text/x-python",
   "name": "python",
   "nbconvert_exporter": "python",
   "pygments_lexer": "ipython3",
   "version": "3.13.5"
  }
 },
 "nbformat": 4,
 "nbformat_minor": 5
}
