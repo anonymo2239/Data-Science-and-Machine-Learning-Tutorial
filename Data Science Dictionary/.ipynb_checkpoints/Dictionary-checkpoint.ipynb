{
 "cells": [
  {
   "cell_type": "markdown",
   "id": "1754fbce-1a5d-463b-af1a-c65c7b21d068",
   "metadata": {},
   "source": [
    "* Ortalama ve medyan birbirine yakınsa düzgün bir dağılım vardır."
   ]
  },
  {
   "cell_type": "code",
   "execution_count": null,
   "id": "bb0f80e0-3117-4c9f-b70a-24f421458bbb",
   "metadata": {},
   "outputs": [],
   "source": []
  }
 ],
 "metadata": {
  "kernelspec": {
   "display_name": "Python 3 (ipykernel)",
   "language": "python",
   "name": "python3"
  },
  "language_info": {
   "codemirror_mode": {
    "name": "ipython",
    "version": 3
   },
   "file_extension": ".py",
   "mimetype": "text/x-python",
   "name": "python",
   "nbconvert_exporter": "python",
   "pygments_lexer": "ipython3",
   "version": "3.12.7"
  }
 },
 "nbformat": 4,
 "nbformat_minor": 5
}
