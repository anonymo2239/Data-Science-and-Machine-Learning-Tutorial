{
 "cells": [
  {
   "cell_type": "markdown",
   "id": "6e98e2cb-4f8a-4597-b4a2-bc6b3989141c",
   "metadata": {},
   "source": [
    "# ANOVA"
   ]
  },
  {
   "cell_type": "markdown",
   "id": "4043a653-5c80-4f1a-88ed-d0a490742d9d",
   "metadata": {},
   "source": [
    "Varyans analizi, ikiden fazla örneklem olduğunda kullanılacak yaklaşımdır. Bu notebook'ta veri bilimine bakan kısmı ele alınmıştır."
   ]
  },
  {
   "cell_type": "markdown",
   "id": "c346831d-dab9-4ce4-a0f5-ec61c5c38967",
   "metadata": {},
   "source": [
    "Tanım"
   ]
  },
  {
   "cell_type": "markdown",
   "id": "1b2d1821-db2b-44e9-b07e-35c71ace0634",
   "metadata": {},
   "source": []
  },
  {
   "cell_type": "markdown",
   "id": "c135f47a-def9-449b-a056-79f10595b0c1",
   "metadata": {},
   "source": []
  },
  {
   "cell_type": "markdown",
   "id": "22c3f060-d5ed-4730-8c13-d49e7980dc1c",
   "metadata": {},
   "source": []
  }
 ],
 "metadata": {
  "kernelspec": {
   "display_name": "Python 3 (ipykernel)",
   "language": "python",
   "name": "python3"
  },
  "language_info": {
   "codemirror_mode": {
    "name": "ipython",
    "version": 3
   },
   "file_extension": ".py",
   "mimetype": "text/x-python",
   "name": "python",
   "nbconvert_exporter": "python",
   "pygments_lexer": "ipython3",
   "version": "3.11.5"
  }
 },
 "nbformat": 4,
 "nbformat_minor": 5
}
