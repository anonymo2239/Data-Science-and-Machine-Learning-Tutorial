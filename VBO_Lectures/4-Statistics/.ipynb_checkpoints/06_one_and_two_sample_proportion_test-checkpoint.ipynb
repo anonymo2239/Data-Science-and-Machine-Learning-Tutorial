{
 "cells": [
  {
   "cell_type": "markdown",
   "id": "629be656-863c-4a6e-938c-bce71f6d9db0",
   "metadata": {},
   "source": [
    "# Tek Örneklem Oran Testi"
   ]
  },
  {
   "cell_type": "markdown",
   "id": "ce5aaf7c-68f6-40c9-b94f-8ac8bc29488a",
   "metadata": {},
   "source": [
    "Anakitle üzerinden oransal bir ifade(a/b) hakkında yapılan yorumu, alınan bir örneklem üzerinden test edilmesi işlemidir."
   ]
  },
  {
   "cell_type": "markdown",
   "id": "ab292701-a73e-4fb7-a60d-0513fc3c5eb6",
   "metadata": {},
   "source": [
    "Oransal bir ifade test edilmek istenildiğinde kullanılır."
   ]
  },
  {
   "attachments": {},
   "cell_type": "markdown",
   "id": "148f4365-9766-4208-a6e4-a722dedb9a2b",
   "metadata": {},
   "source": [
    "![image.png](imagee22.png)"
   ]
  },
  {
   "cell_type": "markdown",
   "id": "7d8babbb-f1b8-43e7-a1fe-86e74ac85edd",
   "metadata": {},
   "source": [
    "Hipotezler"
   ]
  },
  {
   "attachments": {},
   "cell_type": "markdown",
   "id": "1393f32c-5c79-470f-ba0c-2d40518fe137",
   "metadata": {},
   "source": [
    "![image.png](imagee23.png)"
   ]
  },
  {
   "cell_type": "markdown",
   "id": "076942c0-7646-4b36-adfb-cac3f649ca45",
   "metadata": {},
   "source": [
    "Test istatistiği"
   ]
  },
  {
   "attachments": {},
   "cell_type": "markdown",
   "id": "aa0b8d2d-d50b-49d3-9637-7bfab7cab980",
   "metadata": {},
   "source": [
    "Varsayım: n > 30 olması\n",
    "\n",
    "Bu varsayım sağlanıyorsa bu testi gerçekleştirebiliyoruz."
   ]
  },
  {
   "cell_type": "markdown",
   "id": "0f11ed6c-bc41-48dd-a556-595254a4f209",
   "metadata": {},
   "source": [
    "## Business Practice"
   ]
  },
  {
   "cell_type": "markdown",
   "id": "aa615795-e8f0-4e4b-a6df-cfd29e429371",
   "metadata": {},
   "source": [
    "Dönüşüm Oranı: Örneğin 100 kişiye reklam gösterildi. 1 kişi tıkladı. Dönüşüm oranı 1/100'dür."
   ]
  },
  {
   "cell_type": "markdown",
   "id": "b2f72f4f-4e79-4a4d-95f4-896d684f4120",
   "metadata": {},
   "source": [
    "![image.png](imagee24.png)"
   ]
  },
  {
   "cell_type": "markdown",
   "id": "3be36aaf-dbd2-4ef9-98bf-66f396ada8cc",
   "metadata": {},
   "source": [
    "H0: p = 0.125\n",
    "\n",
    "H1: p != 0.125"
   ]
  },
  {
   "cell_type": "code",
   "execution_count": 1,
   "id": "49576ed3-43dc-4408-8e8d-1a5820177e9b",
   "metadata": {},
   "outputs": [],
   "source": [
    "from statsmodels.stats.proportion import proportions_ztest"
   ]
  },
  {
   "cell_type": "code",
   "execution_count": 2,
   "id": "2463d0a0-c7ae-47ce-b020-0b07748c45b4",
   "metadata": {},
   "outputs": [],
   "source": [
    "count = 40 # 40 kere basari yakalamistik\n",
    "nobs = 500 # number of observation = nobs\n",
    "value = 0.125"
   ]
  },
  {
   "cell_type": "code",
   "execution_count": 3,
   "id": "94f60a7a-acd6-40dc-ab9b-52a747b316d4",
   "metadata": {},
   "outputs": [
    {
     "data": {
      "text/plain": [
       "(-3.7090151628513017, 0.0002080669689845979)"
      ]
     },
     "execution_count": 3,
     "metadata": {},
     "output_type": "execute_result"
    }
   ],
   "source": [
    "proportions_ztest(count, nobs, value) # p value < 0.05 oldugu icin 'donusum orani 0.125'ten farklidir.' deriz."
   ]
  }
 ],
 "metadata": {
  "kernelspec": {
   "display_name": "Python 3 (ipykernel)",
   "language": "python",
   "name": "python3"
  },
  "language_info": {
   "codemirror_mode": {
    "name": "ipython",
    "version": 3
   },
   "file_extension": ".py",
   "mimetype": "text/x-python",
   "name": "python",
   "nbconvert_exporter": "python",
   "pygments_lexer": "ipython3",
   "version": "3.11.5"
  }
 },
 "nbformat": 4,
 "nbformat_minor": 5
}
