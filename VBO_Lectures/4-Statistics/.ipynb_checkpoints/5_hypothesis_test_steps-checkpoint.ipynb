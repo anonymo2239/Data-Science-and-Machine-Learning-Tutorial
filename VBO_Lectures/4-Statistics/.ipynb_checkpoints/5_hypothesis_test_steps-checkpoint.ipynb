{
 "cells": [
  {
   "attachments": {},
   "cell_type": "markdown",
   "id": "463c48e1-9184-450c-afeb-e7bfb8310c02",
   "metadata": {},
   "source": [
    "![image.png](imagee11.png)"
   ]
  },
  {
   "cell_type": "markdown",
   "id": "2a49db6a-69cc-4368-9817-d8bef6ba8480",
   "metadata": {},
   "source": [
    "SORU: Niye T testi yapıyoruz zaten ortalama 19 sn değil mi?\n",
    "\n",
    "CEVAP: Buradaki amaç \"her adım 20 saniyedir\" hipotezini kanıtlamaktır. T testi, bir örneklemin ortalamasının belirli bir hedef değere (bu durumda 20 saniye) eşit olup olmadığını test etmek için kullanılır. Örnek ortalamasının 19 saniye olması, bu değerin 20 saniyeden anlamlı bir şekilde farklı olup olmadığını göstermek için yeterli değildir. T testi, bu farkın RASTLANTISAL mı yoksa istatistiksel olarak anlamlı mı olduğunu belirlemek için yapılır. Yani şansa yer vermeyecek şekilde ispat etmeye çalışıyoruz."
   ]
  },
  {
   "attachments": {},
   "cell_type": "markdown",
   "id": "f3343d01-7f62-495d-b86e-0555b1f189d6",
   "metadata": {},
   "source": [
    "![imagee11.png](imagee12.png)"
   ]
  },
  {
   "attachments": {},
   "cell_type": "markdown",
   "id": "f96982af-8ebf-49ab-879b-76e4e5a07c60",
   "metadata": {},
   "source": [
    "![imagee13.png](imagee13.png)"
   ]
  },
  {
   "cell_type": "markdown",
   "id": "3cb8244b-de8f-4db7-84dd-7b5ea276c452",
   "metadata": {},
   "source": [
    "Bu durumda, test hem ortalamanın 20 saniyeden daha büyük hem de daha küçük olabileceği ihtimallerini inceler. Bu yüzden, anlamlılık düzeyi (𝛼) her iki uca da eşit olarak dağıtılır (α/2)."
   ]
  },
  {
   "attachments": {},
   "cell_type": "markdown",
   "id": "382bf760-6052-45ae-ba91-f1aa89e695bb",
   "metadata": {},
   "source": [
    "![image.png](imagee14.png)"
   ]
  },
  {
   "cell_type": "markdown",
   "id": "c4e70369-6e62-49ec-acf4-fcb8a364f06a",
   "metadata": {},
   "source": [
    "olsaydı tek bir yönden hipotez inceleneceği için ikiye bölmeye gerek kalmazdı. Kısaca alternatif hipotezin hangi yönü veya yönleri incelediği incelenir."
   ]
  },
  {
   "cell_type": "markdown",
   "id": "e65c6fac-6a23-40b7-b229-7bd4d1b7a136",
   "metadata": {},
   "source": []
  },
  {
   "cell_type": "markdown",
   "id": "9e8af919-1fd8-4db9-bffc-113e0cc512d7",
   "metadata": {},
   "source": []
  },
  {
   "cell_type": "markdown",
   "id": "f7a60fb2-b680-4088-b9ca-4b20275c0177",
   "metadata": {},
   "source": []
  }
 ],
 "metadata": {
  "kernelspec": {
   "display_name": "Python 3 (ipykernel)",
   "language": "python",
   "name": "python3"
  },
  "language_info": {
   "codemirror_mode": {
    "name": "ipython",
    "version": 3
   },
   "file_extension": ".py",
   "mimetype": "text/x-python",
   "name": "python",
   "nbconvert_exporter": "python",
   "pygments_lexer": "ipython3",
   "version": "3.11.5"
  }
 },
 "nbformat": 4,
 "nbformat_minor": 5
}
