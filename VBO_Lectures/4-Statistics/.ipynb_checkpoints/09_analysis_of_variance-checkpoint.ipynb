{
 "cells": [
  {
   "cell_type": "markdown",
   "id": "6e98e2cb-4f8a-4597-b4a2-bc6b3989141c",
   "metadata": {},
   "source": [
    "# ANOVA"
   ]
  },
  {
   "cell_type": "markdown",
   "id": "4043a653-5c80-4f1a-88ed-d0a490742d9d",
   "metadata": {},
   "source": [
    "Varyans analizi, ikiden fazla örneklem olduğunda kullanılacak yaklaşımdır. Bu notebook'ta veri bilimine bakan kısmı ele alınmıştır."
   ]
  },
  {
   "cell_type": "markdown",
   "id": "c346831d-dab9-4ce4-a0f5-ec61c5c38967",
   "metadata": {},
   "source": [
    "Tanım: İki ya da daha fazla grup ortalaması arasında istatistiksel olarak anlamlı farklılık olup olmadığını öğrenilmek istenildiğinde kullanılır."
   ]
  },
  {
   "attachments": {},
   "cell_type": "markdown",
   "id": "1b2d1821-db2b-44e9-b07e-35c71ace0634",
   "metadata": {},
   "source": [
    "![image.png](imagee40.png)"
   ]
  },
  {
   "attachments": {},
   "cell_type": "markdown",
   "id": "c135f47a-def9-449b-a056-79f10595b0c1",
   "metadata": {},
   "source": [
    "![image.png](imagee41.png)"
   ]
  },
  {
   "cell_type": "markdown",
   "id": "22c3f060-d5ed-4730-8c13-d49e7980dc1c",
   "metadata": {},
   "source": [
    "Burada test istatistiği F-istatistiği olarak geçer."
   ]
  },
  {
   "attachments": {},
   "cell_type": "markdown",
   "id": "24a337a8-4317-4744-8941-3947de574cad",
   "metadata": {},
   "source": [
    "![image.png](imagee42.png)"
   ]
  },
  {
   "cell_type": "markdown",
   "id": "582b4437-c1f6-4e24-bb59-92176f60094f",
   "metadata": {},
   "source": [
    "### Bu analizin varsayımları:\n",
    "* Gözlemlerin(grupların) birbirinden bağımsız olması\n",
    "* Normal dağılım\n",
    "* Varyans homojenliği"
   ]
  },
  {
   "cell_type": "markdown",
   "id": "7fd227da-7bd6-4b81-8018-2799aa7dc5c0",
   "metadata": {},
   "source": [
    "## Business Practice"
   ]
  },
  {
   "attachments": {},
   "cell_type": "markdown",
   "id": "9dd9eb9d-236b-425f-8904-68e1f0e4e7cd",
   "metadata": {},
   "source": [
    " ![image.png](imagee43.png)"
   ]
  },
  {
   "attachments": {},
   "cell_type": "markdown",
   "id": "518022cd-8610-4551-83ed-1f4a9fe6e2a5",
   "metadata": {},
   "source": [
    "![image.png](imagee44.png)"
   ]
  },
  {
   "cell_type": "markdown",
   "id": "5da60ab3-ffdd-4b2b-8dd0-d0642c672f2a",
   "metadata": {},
   "source": [
    "Aynı haber 3 farklı şekilde 3 farklı gruba sunuluyor ve bunun üzerinden analiz yapılıyor."
   ]
  },
  {
   "cell_type": "code",
   "execution_count": 1,
   "id": "459ad630-58bf-4505-8e22-2180547498c0",
   "metadata": {},
   "outputs": [
    {
     "data": {
      "text/html": [
       "<div>\n",
       "<style scoped>\n",
       "    .dataframe tbody tr th:only-of-type {\n",
       "        vertical-align: middle;\n",
       "    }\n",
       "\n",
       "    .dataframe tbody tr th {\n",
       "        vertical-align: top;\n",
       "    }\n",
       "\n",
       "    .dataframe thead th {\n",
       "        text-align: right;\n",
       "    }\n",
       "</style>\n",
       "<table border=\"1\" class=\"dataframe\">\n",
       "  <thead>\n",
       "    <tr style=\"text-align: right;\">\n",
       "      <th></th>\n",
       "      <th>GRUP_A</th>\n",
       "      <th>GRUP_B</th>\n",
       "      <th>GRUP_C</th>\n",
       "    </tr>\n",
       "  </thead>\n",
       "  <tbody>\n",
       "    <tr>\n",
       "      <th>0</th>\n",
       "      <td>28</td>\n",
       "      <td>31</td>\n",
       "      <td>40</td>\n",
       "    </tr>\n",
       "    <tr>\n",
       "      <th>1</th>\n",
       "      <td>33</td>\n",
       "      <td>32</td>\n",
       "      <td>33</td>\n",
       "    </tr>\n",
       "    <tr>\n",
       "      <th>2</th>\n",
       "      <td>30</td>\n",
       "      <td>30</td>\n",
       "      <td>38</td>\n",
       "    </tr>\n",
       "    <tr>\n",
       "      <th>3</th>\n",
       "      <td>29</td>\n",
       "      <td>30</td>\n",
       "      <td>41</td>\n",
       "    </tr>\n",
       "    <tr>\n",
       "      <th>4</th>\n",
       "      <td>28</td>\n",
       "      <td>33</td>\n",
       "      <td>42</td>\n",
       "    </tr>\n",
       "  </tbody>\n",
       "</table>\n",
       "</div>"
      ],
      "text/plain": [
       "   GRUP_A  GRUP_B  GRUP_C\n",
       "0      28      31      40\n",
       "1      33      32      33\n",
       "2      30      30      38\n",
       "3      29      30      41\n",
       "4      28      33      42"
      ]
     },
     "execution_count": 1,
     "metadata": {},
     "output_type": "execute_result"
    }
   ],
   "source": [
    "import numpy as np \n",
    "import pandas as pd \n",
    "\n",
    "A = pd.DataFrame([28, 33, 30, 29, 28, 29, 27, 31, 30, 32, 28, 33, 25, 29, 27, 31, 31, 30, 31, 34, 30, 32, 31])\n",
    "\n",
    "B = pd.DataFrame([31, 32, 30, 30, 33, 32, 34, 27, 36, 30, 31, 30, 38, 29, 30, 34, 34, 31, 35, 35, 33, 30, 28])\n",
    "\n",
    "C = pd.DataFrame([40, 33, 38, 41, 42, 43, 38, 35, 39, 39, 36, 34, 35, 40, 38, 36, 39, 36, 33, 35, 38, 35, 40])\n",
    "\n",
    "dfs = [A, B, C]\n",
    "\n",
    "ABC = pd.concat(dfs, axis=1)\n",
    "ABC.columns = [\"GRUP_A\", \"GRUP_B\", \"GRUP_C\"]\n",
    "ABC.head()\n",
    "# Bunlar inceledigimiz web sitesindeki gecirilen sureleri ifade ediyor."
   ]
  },
  {
   "cell_type": "markdown",
   "id": "34466641-8b56-454d-aa43-3cd11901c3b9",
   "metadata": {},
   "source": [
    "### Varsayım Kontrolü"
   ]
  },
  {
   "cell_type": "markdown",
   "id": "c7defffd-5416-4716-81cf-c3c7231e22a7",
   "metadata": {},
   "source": [
    "1. Grupların birbirinden bağımsız olduğunu varsayıyoruz. Zaten ayrı bir şekilde gruplarımızı oluşturduk."
   ]
  },
  {
   "cell_type": "code",
   "execution_count": 2,
   "id": "3e967b12-28a2-4b03-9b0c-710279fd32a3",
   "metadata": {},
   "outputs": [
    {
     "data": {
      "text/plain": [
       "ShapiroResult(statistic=0.9771650804769308, pvalue=0.8526755202981372)"
      ]
     },
     "execution_count": 2,
     "metadata": {},
     "output_type": "execute_result"
    }
   ],
   "source": [
    "from scipy.stats import shapiro\n",
    "shapiro(ABC.GRUP_A)"
   ]
  },
  {
   "cell_type": "code",
   "execution_count": 3,
   "id": "2ec82fae-9099-4b50-b04c-e3e3ff23dbe5",
   "metadata": {},
   "outputs": [
    {
     "data": {
      "text/plain": [
       "ShapiroResult(statistic=0.9653159538895948, pvalue=0.5784827260658594)"
      ]
     },
     "execution_count": 3,
     "metadata": {},
     "output_type": "execute_result"
    }
   ],
   "source": [
    "shapiro(ABC.GRUP_B)"
   ]
  },
  {
   "cell_type": "code",
   "execution_count": 4,
   "id": "56bb26b9-13f7-494b-be0d-78cc82dd7c88",
   "metadata": {},
   "outputs": [
    {
     "data": {
      "text/plain": [
       "ShapiroResult(statistic=0.9604301400354545, pvalue=0.4721079288826735)"
      ]
     },
     "execution_count": 4,
     "metadata": {},
     "output_type": "execute_result"
    }
   ],
   "source": [
    "shapiro(ABC.GRUP_C)"
   ]
  },
  {
   "cell_type": "code",
   "execution_count": 5,
   "id": "ebfcc28d-40f5-4116-b055-84cf61fffabb",
   "metadata": {},
   "outputs": [],
   "source": [
    "# Tum gruplar normal dagilima sahiptir."
   ]
  },
  {
   "cell_type": "code",
   "execution_count": 6,
   "id": "e0203b59-9d01-42fe-9879-13ebfc1d7192",
   "metadata": {},
   "outputs": [
    {
     "data": {
      "text/plain": [
       "LeveneResult(statistic=0.9446786090621706, pvalue=0.39399787531140673)"
      ]
     },
     "execution_count": 6,
     "metadata": {},
     "output_type": "execute_result"
    }
   ],
   "source": [
    "from scipy.stats import levene\n",
    "levene(ABC.GRUP_A, ABC.GRUP_B, ABC.GRUP_C)"
   ]
  },
  {
   "cell_type": "code",
   "execution_count": 7,
   "id": "cc6723ab-d12a-478a-b5ca-1686b1033ec8",
   "metadata": {},
   "outputs": [],
   "source": [
    "# Varyanslar da homojen. Tum varsayimlarimiz saglaniyor."
   ]
  },
  {
   "cell_type": "markdown",
   "id": "f20ee465-500e-4097-9fa6-b5820f6c306a",
   "metadata": {},
   "source": [
    "### Hipotez Testi"
   ]
  },
  {
   "cell_type": "code",
   "execution_count": 8,
   "id": "c57ac951-553f-440d-a170-97654f62499c",
   "metadata": {},
   "outputs": [
    {
     "data": {
      "text/plain": [
       "F_onewayResult(statistic=53.46714172604916, pvalue=1.5662951887117957e-14)"
      ]
     },
     "execution_count": 8,
     "metadata": {},
     "output_type": "execute_result"
    }
   ],
   "source": [
    "from scipy.stats import f_oneway\n",
    "f_oneway(ABC.GRUP_A, ABC.GRUP_B, ABC.GRUP_C)"
   ]
  },
  {
   "cell_type": "markdown",
   "id": "3281e660-fb9b-4ea3-86fb-03236f943daa",
   "metadata": {},
   "source": [
    "H0 hipotezini (Gruplar arasında anlamlı bir farklılık yoktur) reddetmiş oluyoruz. En az bir grup farklıdır."
   ]
  },
  {
   "cell_type": "code",
   "execution_count": 9,
   "id": "20a00a4d-328c-4edf-a064-a0db434fab5b",
   "metadata": {},
   "outputs": [
    {
     "data": {
      "text/html": [
       "<div>\n",
       "<style scoped>\n",
       "    .dataframe tbody tr th:only-of-type {\n",
       "        vertical-align: middle;\n",
       "    }\n",
       "\n",
       "    .dataframe tbody tr th {\n",
       "        vertical-align: top;\n",
       "    }\n",
       "\n",
       "    .dataframe thead th {\n",
       "        text-align: right;\n",
       "    }\n",
       "</style>\n",
       "<table border=\"1\" class=\"dataframe\">\n",
       "  <thead>\n",
       "    <tr style=\"text-align: right;\">\n",
       "      <th></th>\n",
       "      <th>count</th>\n",
       "      <th>mean</th>\n",
       "      <th>std</th>\n",
       "      <th>min</th>\n",
       "      <th>25%</th>\n",
       "      <th>50%</th>\n",
       "      <th>75%</th>\n",
       "      <th>max</th>\n",
       "    </tr>\n",
       "  </thead>\n",
       "  <tbody>\n",
       "    <tr>\n",
       "      <th>GRUP_A</th>\n",
       "      <td>23.0</td>\n",
       "      <td>29.956522</td>\n",
       "      <td>2.184205</td>\n",
       "      <td>25.0</td>\n",
       "      <td>28.5</td>\n",
       "      <td>30.0</td>\n",
       "      <td>31.0</td>\n",
       "      <td>34.0</td>\n",
       "    </tr>\n",
       "    <tr>\n",
       "      <th>GRUP_B</th>\n",
       "      <td>23.0</td>\n",
       "      <td>31.869565</td>\n",
       "      <td>2.701924</td>\n",
       "      <td>27.0</td>\n",
       "      <td>30.0</td>\n",
       "      <td>31.0</td>\n",
       "      <td>34.0</td>\n",
       "      <td>38.0</td>\n",
       "    </tr>\n",
       "    <tr>\n",
       "      <th>GRUP_C</th>\n",
       "      <td>23.0</td>\n",
       "      <td>37.521739</td>\n",
       "      <td>2.810202</td>\n",
       "      <td>33.0</td>\n",
       "      <td>35.0</td>\n",
       "      <td>38.0</td>\n",
       "      <td>39.5</td>\n",
       "      <td>43.0</td>\n",
       "    </tr>\n",
       "  </tbody>\n",
       "</table>\n",
       "</div>"
      ],
      "text/plain": [
       "        count       mean       std   min   25%   50%   75%   max\n",
       "GRUP_A   23.0  29.956522  2.184205  25.0  28.5  30.0  31.0  34.0\n",
       "GRUP_B   23.0  31.869565  2.701924  27.0  30.0  31.0  34.0  38.0\n",
       "GRUP_C   23.0  37.521739  2.810202  33.0  35.0  38.0  39.5  43.0"
      ]
     },
     "execution_count": 9,
     "metadata": {},
     "output_type": "execute_result"
    }
   ],
   "source": [
    "ABC.describe().T"
   ]
  },
  {
   "cell_type": "markdown",
   "id": "1c34f45e-0e89-4b56-bdb4-ba5a0fe2cf2f",
   "metadata": {},
   "source": [
    "Burada da görüyoruz ki C grubunda, yani ilgi çekici habercilikte, daha çok vakit geçirilmiş. Yani daha çok bu türde haberler yapılmalıdır."
   ]
  },
  {
   "cell_type": "markdown",
   "id": "1249af71-2891-4c11-8bf9-a18255a232fd",
   "metadata": {},
   "source": [
    "## Nonparametrik Hipotez Testi"
   ]
  },
  {
   "cell_type": "markdown",
   "id": "e0e59c40-28ef-401d-aff7-9c5138e8c037",
   "metadata": {},
   "source": [
    "Kruskal-Wallis testi, parametrik olmayan bir istatistiksel testtir ve gruplar arasındaki farkları analiz etmek için kullanılır."
   ]
  },
  {
   "cell_type": "code",
   "execution_count": 10,
   "id": "7ae04cd7-ad62-45e5-9b7a-5caaacfaaf7b",
   "metadata": {},
   "outputs": [],
   "source": [
    "from scipy.stats import kruskal"
   ]
  },
  {
   "cell_type": "code",
   "execution_count": 12,
   "id": "08bbca97-cae3-461f-a1b5-ff14b0c5bfcf",
   "metadata": {},
   "outputs": [
    {
     "data": {
      "text/plain": [
       "KruskalResult(statistic=41.41835051661897, pvalue=1.014190318754816e-09)"
      ]
     },
     "execution_count": 12,
     "metadata": {},
     "output_type": "execute_result"
    }
   ],
   "source": [
    "kruskal(ABC.GRUP_A, ABC.GRUP_B, ABC.GRUP_C) # Burada da 'H0 hipotezi reddedilir.' diyebiliriz."
   ]
  }
 ],
 "metadata": {
  "kernelspec": {
   "display_name": "Python 3 (ipykernel)",
   "language": "python",
   "name": "python3"
  },
  "language_info": {
   "codemirror_mode": {
    "name": "ipython",
    "version": 3
   },
   "file_extension": ".py",
   "mimetype": "text/x-python",
   "name": "python",
   "nbconvert_exporter": "python",
   "pygments_lexer": "ipython3",
   "version": "3.11.5"
  }
 },
 "nbformat": 4,
 "nbformat_minor": 5
}
