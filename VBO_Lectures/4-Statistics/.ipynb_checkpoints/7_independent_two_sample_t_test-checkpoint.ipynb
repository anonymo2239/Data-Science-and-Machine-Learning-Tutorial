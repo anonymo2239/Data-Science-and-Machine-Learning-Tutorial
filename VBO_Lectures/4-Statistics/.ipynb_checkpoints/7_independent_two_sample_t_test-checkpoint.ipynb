{
 "cells": [
  {
   "cell_type": "markdown",
   "id": "75890c4c-31aa-4161-a976-6db5e0dcb8c5",
   "metadata": {},
   "source": [
    "# Bağımsız İki Örneklem t-Testi (Independent Two-Sample t-Test) (AB Test)"
   ]
  },
  {
   "cell_type": "markdown",
   "id": "ee76b4fb-f3a5-4066-9c13-0980d3d81d10",
   "metadata": {},
   "source": [
    "İki grup ortalaması arasında karşılaştırma yapılmak istenildiğinde kullanılır."
   ]
  },
  {
   "attachments": {},
   "cell_type": "markdown",
   "id": "8e037ca0-ff8c-4b0f-91b2-8da6a9ba95f5",
   "metadata": {},
   "source": [
    "![image.png](imagee25.png)"
   ]
  },
  {
   "cell_type": "markdown",
   "id": "5948fb19-d3ad-4028-a3d3-bb82d146624f",
   "metadata": {},
   "source": [
    "Hatırlanacağı üzere mü = Popülasyon ortalaması. Yani anakitlelerin ortalamalarını karşılaştırıyoruz."
   ]
  },
  {
   "attachments": {},
   "cell_type": "markdown",
   "id": "15e02ba8-1205-4e41-8716-b0311e64e210",
   "metadata": {},
   "source": [
    "![image.png](imagee26.png)"
   ]
  },
  {
   "cell_type": "markdown",
   "id": "b10c972b-e0e0-4220-ae58-345287ebd088",
   "metadata": {},
   "source": [
    "Burada test istatistikleri değişkenlik gösteriyor.\n",
    "\n",
    "* NOT1: Son iki yöntem, örnek sayısı aynı olsa bile kullanılabilir.\n",
    "* NOT2: 3. yöntem Welch Testi olarak geçer."
   ]
  },
  {
   "cell_type": "markdown",
   "id": "34a3ebd4-96db-4e4a-abc4-38c51f566a2b",
   "metadata": {},
   "source": [
    "### Bu test için varsayımlar:\n",
    "* Normallik (görsel ya da hipotez testleri yardımıyla 'her iki grubunda normal dağılıma sahip olduğu' hipotezini kanıtlamamız gerekiyor)\n",
    "* Varyans Homojenliği (grupların varyanslarının birbirine benzer olmasını ifade ediyor)"
   ]
  },
  {
   "cell_type": "markdown",
   "id": "7fcbdd82-9f1d-4cb8-8045-b323766ffa79",
   "metadata": {},
   "source": [
    "## Business Practice"
   ]
  },
  {
   "cell_type": "markdown",
   "id": "e17210e6-e5e4-4886-864c-5ca9378ec80b",
   "metadata": {},
   "source": [
    "### ML Modelinin Başarı Testi(AB Testi)"
   ]
  },
  {
   "attachments": {},
   "cell_type": "markdown",
   "id": "3e989c46-d727-47b3-b5bc-9c2b5ca9209b",
   "metadata": {},
   "source": [
    "![image.png](imagee27.png)"
   ]
  },
  {
   "cell_type": "markdown",
   "id": "eb1b22c8-9429-4445-b0d4-312778c29d29",
   "metadata": {},
   "source": [
    "A eski sistemi ifade ediyor. B yeni sistemi ifade ediyor."
   ]
  },
  {
   "attachments": {},
   "cell_type": "markdown",
   "id": "c48298f0-6455-449b-aad2-368b1fd65121",
   "metadata": {},
   "source": [
    "![image.png](imagee28.png)"
   ]
  },
  {
   "cell_type": "markdown",
   "id": "3361d154-5501-4dde-9c2a-6cdea229d955",
   "metadata": {},
   "source": [
    "Attığımız taş ürküttüğümüz kurbağaya değdi mi?"
   ]
  },
  {
   "attachments": {},
   "cell_type": "markdown",
   "id": "f1e837c0-a68f-4158-8000-705437ba040c",
   "metadata": {},
   "source": [
    "![image.png](imagee29.png)"
   ]
  },
  {
   "cell_type": "code",
   "execution_count": 1,
   "id": "ced2fb20-e4e3-4392-a423-1f6085e253f1",
   "metadata": {},
   "outputs": [],
   "source": [
    "# Veri tipi I "
   ]
  },
  {
   "cell_type": "code",
   "execution_count": 2,
   "id": "057a179f-d1d8-484c-bc59-dc522c5afa98",
   "metadata": {},
   "outputs": [
    {
     "name": "stdout",
     "output_type": "stream",
     "text": [
      "    A   B\n",
      "0  30  37\n",
      "1  27  39\n",
      "2  21  31\n",
      "3  27  31\n",
      "4  29  34\n"
     ]
    }
   ],
   "source": [
    "import pandas as pd\n",
    "\n",
    "A = pd.DataFrame([30, 27, 21, 27, 29, 30, 20, 20, 27, 32, 35, 22, 24, 23, 25, \n",
    "                  27, 23, 27, 23, 25, 21, 18, 24, 26, 33, 26, 27, 28, 19, 25])\n",
    "\n",
    "B = pd.DataFrame([37, 39, 31, 31, 34, 38, 30, 36, 29, 28, 38, 28, 37, 37, 30, \n",
    "                  32, 31, 31, 27, 32, 33, 33, 33, 31, 32, 33, 26, 32, 33, 29])\n",
    "\n",
    "A_B = pd.concat([A, B], axis=1)\n",
    "A_B.columns = [\"A\", \"B\"]\n",
    "\n",
    "print(A_B.head())"
   ]
  },
  {
   "cell_type": "code",
   "execution_count": 3,
   "id": "7e6f875e-ea67-4d3b-85bc-2418d5f0a694",
   "metadata": {},
   "outputs": [],
   "source": [
    "# Veri tipi II"
   ]
  },
  {
   "cell_type": "code",
   "execution_count": 4,
   "id": "78fa97c4-1707-4382-9285-9848b6de339c",
   "metadata": {},
   "outputs": [
    {
     "name": "stdout",
     "output_type": "stream",
     "text": [
      "   gelir GRUP\n",
      "0     30    A\n",
      "1     27    A\n",
      "2     21    A\n",
      "3     27    A\n",
      "4     29    A\n",
      "    gelir GRUP\n",
      "25     33    B\n",
      "26     26    B\n",
      "27     32    B\n",
      "28     33    B\n",
      "29     29    B\n"
     ]
    },
    {
     "name": "stderr",
     "output_type": "stream",
     "text": [
      "C:\\Users\\Alperen Arda\\AppData\\Local\\Temp\\ipykernel_21588\\2245639488.py:13: FutureWarning: Setting an item of incompatible dtype is deprecated and will raise in a future error of pandas. Value 'A' has dtype incompatible with int32, please explicitly cast to a compatible dtype first.\n",
      "  GRUP_A[:] = \"A\"\n",
      "C:\\Users\\Alperen Arda\\AppData\\Local\\Temp\\ipykernel_21588\\2245639488.py:19: FutureWarning: Setting an item of incompatible dtype is deprecated and will raise in a future error of pandas. Value 'B' has dtype incompatible with int32, please explicitly cast to a compatible dtype first.\n",
      "  GRUP_B[:] = \"B\"\n"
     ]
    }
   ],
   "source": [
    "import pandas as pd\n",
    "import numpy as np\n",
    "\n",
    "A = pd.DataFrame([30, 27, 21, 27, 29, 30, 20, 20, 27, 32, 35, 22, 24, 23, 25, \n",
    "                  27, 23, 27, 23, 25, 21, 18, 24, 26, 33, 26, 27, 28, 19, 25])\n",
    "\n",
    "B = pd.DataFrame([37, 39, 31, 31, 34, 38, 30, 36, 29, 28, 38, 28, 37, 37, 30, \n",
    "                  32, 31, 31, 27, 32, 33, 33, 33, 31, 32, 33, 26, 32, 33, 29])\n",
    "\n",
    "# A ve A'nın grubu\n",
    "GRUP_A = np.arange(len(A))\n",
    "GRUP_A = pd.DataFrame(GRUP_A)\n",
    "GRUP_A[:] = \"A\"\n",
    "A = pd.concat([A, GRUP_A], axis=1)\n",
    "\n",
    "# B ve B'nin grubu\n",
    "GRUP_B = np.arange(len(B))\n",
    "GRUP_B = pd.DataFrame(GRUP_B)\n",
    "GRUP_B[:] = \"B\"\n",
    "B = pd.concat([B, GRUP_B], axis=1)\n",
    "\n",
    "# Tum veri\n",
    "AB = pd.concat([A, B])\n",
    "AB.columns = [\"gelir\", \"GRUP\"]\n",
    "\n",
    "print(AB.head())\n",
    "print(AB.tail())"
   ]
  },
  {
   "cell_type": "code",
   "execution_count": 5,
   "id": "ccca4ce2-3443-46a3-a1b5-f1104311e799",
   "metadata": {},
   "outputs": [
    {
     "data": {
      "text/plain": [
       "<Axes: xlabel='GRUP', ylabel='gelir'>"
      ]
     },
     "execution_count": 5,
     "metadata": {},
     "output_type": "execute_result"
    },
    {
     "data": {
      "image/png": "[encoded data removed]",
      "text/plain": [
       "<Figure size 640x480 with 1 Axes>"
      ]
     },
     "metadata": {},
     "output_type": "display_data"
    }
   ],
   "source": [
    "import seaborn as sns\n",
    "sns.boxplot(x=\"GRUP\", y=\"gelir\", data=AB)"
   ]
  },
  {
   "cell_type": "markdown",
   "id": "7795a439-78c7-4f04-8a18-2b00fcdc0d78",
   "metadata": {},
   "source": [
    "Evet grafikte görüldüğü gibi bir farklılık var ama bu farkın anlamlı olup olmadığını bilmiyoruz, şans eseri oluşup oluşmadığını bilmiyoruz. Bu yüzden bağımsız iki örneklem t testini uygulayacağız."
   ]
  },
  {
   "cell_type": "code",
   "execution_count": 6,
   "id": "8aabaa5d-e5f1-4bdc-a5b5-4ac9aa2ecd67",
   "metadata": {},
   "outputs": [],
   "source": [
    "# Normallik varsayimi"
   ]
  },
  {
   "cell_type": "code",
   "execution_count": 7,
   "id": "23075970-87c1-4557-b801-ac4cc6ea066d",
   "metadata": {},
   "outputs": [
    {
     "data": {
      "text/html": [
       "<div>\n",
       "<style scoped>\n",
       "    .dataframe tbody tr th:only-of-type {\n",
       "        vertical-align: middle;\n",
       "    }\n",
       "\n",
       "    .dataframe tbody tr th {\n",
       "        vertical-align: top;\n",
       "    }\n",
       "\n",
       "    .dataframe thead th {\n",
       "        text-align: right;\n",
       "    }\n",
       "</style>\n",
       "<table border=\"1\" class=\"dataframe\">\n",
       "  <thead>\n",
       "    <tr style=\"text-align: right;\">\n",
       "      <th></th>\n",
       "      <th>A</th>\n",
       "      <th>B</th>\n",
       "    </tr>\n",
       "  </thead>\n",
       "  <tbody>\n",
       "    <tr>\n",
       "      <th>0</th>\n",
       "      <td>30</td>\n",
       "      <td>37</td>\n",
       "    </tr>\n",
       "    <tr>\n",
       "      <th>1</th>\n",
       "      <td>27</td>\n",
       "      <td>39</td>\n",
       "    </tr>\n",
       "    <tr>\n",
       "      <th>2</th>\n",
       "      <td>21</td>\n",
       "      <td>31</td>\n",
       "    </tr>\n",
       "    <tr>\n",
       "      <th>3</th>\n",
       "      <td>27</td>\n",
       "      <td>31</td>\n",
       "    </tr>\n",
       "    <tr>\n",
       "      <th>4</th>\n",
       "      <td>29</td>\n",
       "      <td>34</td>\n",
       "    </tr>\n",
       "  </tbody>\n",
       "</table>\n",
       "</div>"
      ],
      "text/plain": [
       "    A   B\n",
       "0  30  37\n",
       "1  27  39\n",
       "2  21  31\n",
       "3  27  31\n",
       "4  29  34"
      ]
     },
     "execution_count": 7,
     "metadata": {},
     "output_type": "execute_result"
    }
   ],
   "source": [
    "A_B.head() "
   ]
  },
  {
   "cell_type": "code",
   "execution_count": 8,
   "id": "17fb00d9-61b9-4963-a190-15e7c0e644d8",
   "metadata": {},
   "outputs": [
    {
     "data": {
      "text/html": [
       "<div>\n",
       "<style scoped>\n",
       "    .dataframe tbody tr th:only-of-type {\n",
       "        vertical-align: middle;\n",
       "    }\n",
       "\n",
       "    .dataframe tbody tr th {\n",
       "        vertical-align: top;\n",
       "    }\n",
       "\n",
       "    .dataframe thead th {\n",
       "        text-align: right;\n",
       "    }\n",
       "</style>\n",
       "<table border=\"1\" class=\"dataframe\">\n",
       "  <thead>\n",
       "    <tr style=\"text-align: right;\">\n",
       "      <th></th>\n",
       "      <th>gelir</th>\n",
       "      <th>GRUP</th>\n",
       "    </tr>\n",
       "  </thead>\n",
       "  <tbody>\n",
       "    <tr>\n",
       "      <th>0</th>\n",
       "      <td>30</td>\n",
       "      <td>A</td>\n",
       "    </tr>\n",
       "    <tr>\n",
       "      <th>1</th>\n",
       "      <td>27</td>\n",
       "      <td>A</td>\n",
       "    </tr>\n",
       "    <tr>\n",
       "      <th>2</th>\n",
       "      <td>21</td>\n",
       "      <td>A</td>\n",
       "    </tr>\n",
       "    <tr>\n",
       "      <th>3</th>\n",
       "      <td>27</td>\n",
       "      <td>A</td>\n",
       "    </tr>\n",
       "    <tr>\n",
       "      <th>4</th>\n",
       "      <td>29</td>\n",
       "      <td>A</td>\n",
       "    </tr>\n",
       "  </tbody>\n",
       "</table>\n",
       "</div>"
      ],
      "text/plain": [
       "   gelir GRUP\n",
       "0     30    A\n",
       "1     27    A\n",
       "2     21    A\n",
       "3     27    A\n",
       "4     29    A"
      ]
     },
     "execution_count": 8,
     "metadata": {},
     "output_type": "execute_result"
    }
   ],
   "source": [
    "AB.head()"
   ]
  },
  {
   "cell_type": "code",
   "execution_count": 10,
   "id": "385e1520-39a6-49f3-bf83-3a6b4e106b60",
   "metadata": {},
   "outputs": [],
   "source": [
    "from scipy.stats import shapiro "
   ]
  },
  {
   "cell_type": "code",
   "execution_count": 11,
   "id": "99224ed2-50f1-46e2-8e54-5f18a6b6f2ac",
   "metadata": {},
   "outputs": [
    {
     "data": {
      "text/plain": [
       "ShapiroResult(statistic=0.97892437099949, pvalue=0.7962848069993307)"
      ]
     },
     "execution_count": 11,
     "metadata": {},
     "output_type": "execute_result"
    }
   ],
   "source": [
    "shapiro(A_B.A) # shapiro fonksiyonu bizden sadece degerleri istiyor. Bundan dolayi ikinci veri tipini kullanmamaliyiz. Aslinda ikinci tipi de kullanabiliriz fakat her grubu \n",
    "# kendi icinde degerlendirmek daha dogru sonuclar verir.\n",
    "# Burada H0 hipotezini reddedemedik. Yani A grubu normal dagilmistir."
   ]
  },
  {
   "cell_type": "code",
   "execution_count": 12,
   "id": "6bb6b590-0cf1-43c3-9aba-d6bcc837e37a",
   "metadata": {},
   "outputs": [
    {
     "data": {
      "text/plain": [
       "ShapiroResult(statistic=0.9561261367393356, pvalue=0.2458439374473953)"
      ]
     },
     "execution_count": 12,
     "metadata": {},
     "output_type": "execute_result"
    }
   ],
   "source": [
    "shapiro(A_B.B) # Burda da ayni islem yapilir. Iki grup da normal dagildigi icin 1. varsayimimiz saglanmistir."
   ]
  },
  {
   "cell_type": "code",
   "execution_count": 13,
   "id": "dc6d25ae-ac56-4465-87e8-6371398918ec",
   "metadata": {},
   "outputs": [],
   "source": [
    "# Varyans homojenligi varsayimi"
   ]
  },
  {
   "cell_type": "markdown",
   "id": "d483997f-9808-4d45-9fc7-a9b529141eec",
   "metadata": {},
   "source": [
    "H0: Varyanslar Homojendir\n",
    "\n",
    "H1: Varyanslar Homojen Değildir"
   ]
  },
  {
   "cell_type": "code",
   "execution_count": 18,
   "id": "425411a7-26ec-4a75-bf99-caea4e3f4fe0",
   "metadata": {},
   "outputs": [
    {
     "data": {
      "text/plain": [
       "LeveneResult(statistic=1.1101802757158004, pvalue=0.2964124900636569)"
      ]
     },
     "execution_count": 18,
     "metadata": {},
     "output_type": "execute_result"
    }
   ],
   "source": [
    "from scipy import stats # SciPy genel kutuphanedir. stats ise onun icindeki moduldur.\n",
    "stats.levene(A_B.A, A_B.B)"
   ]
  },
  {
   "cell_type": "markdown",
   "id": "5e74bf5c-15f1-4a40-8248-cfa7e5cfb3d8",
   "metadata": {},
   "source": [
    "Burda H0'ı reddedemeyiz yani 'Varyanslar homojendir' varsayımımız sağlanmıştır.\n",
    "\n",
    "Verimizi hazırladık, varsayım testlerimizi gerçekleştirdik. Her şey hazır."
   ]
  },
  {
   "cell_type": "markdown",
   "id": "a65b157a-e771-4e7c-b061-571fff3c81a8",
   "metadata": {},
   "source": [
    "### Hipotez Testi"
   ]
  },
  {
   "cell_type": "code",
   "execution_count": 19,
   "id": "3418f70f-1001-422b-a74c-3c62179a0285",
   "metadata": {},
   "outputs": [
    {
     "data": {
      "text/plain": [
       "TtestResult(statistic=-7.028690967745927, pvalue=2.6233215605475075e-09, df=58.0)"
      ]
     },
     "execution_count": 19,
     "metadata": {},
     "output_type": "execute_result"
    }
   ],
   "source": [
    "stats.ttest_ind(A_B['A'], A_B['B'], equal_var=True)"
   ]
  },
  {
   "cell_type": "markdown",
   "id": "b57aff98-6472-49d6-a262-ab224e5930ff",
   "metadata": {},
   "source": [
    "P value değeri 0.05 ten küçüktür. Bu iki grup birbirinden anlamlı şekilde farklıdır. 'İki grup arasında anlamlı bir fark yoktur' diyen H0 hipotezini reddederiz."
   ]
  },
  {
   "cell_type": "markdown",
   "id": "50629007-1eac-44ab-9d1c-4c2707df54c9",
   "metadata": {},
   "source": [
    "# Nonparametrik Bağımsız İki Örneklem Testi"
   ]
  },
  {
   "cell_type": "markdown",
   "id": "be82a240-138e-4eb8-a059-77dd198d9dc5",
   "metadata": {},
   "source": [
    "Diyelim ki, normallik veya varyans homojenliği varsayımları sağlanmaz ise nonparametrik bağımsız iki örneklem testi kullanılır."
   ]
  },
  {
   "cell_type": "code",
   "execution_count": 20,
   "id": "a29a2077-3957-40e7-a0cb-0e746bbfb1f4",
   "metadata": {},
   "outputs": [
    {
     "data": {
      "text/plain": [
       "MannwhitneyuResult(statistic=89.5, pvalue=9.557950378612535e-08)"
      ]
     },
     "execution_count": 20,
     "metadata": {},
     "output_type": "execute_result"
    }
   ],
   "source": [
    "stats.mannwhitneyu(A_B.A, A_B.B)"
   ]
  },
  {
   "cell_type": "markdown",
   "id": "de5366a0-42f4-47e1-adc1-abc8e4714e91",
   "metadata": {},
   "source": [
    "Bu işlemde de bu iki grup arasında anlamlı bir faklılık olduğunu görmüş olduk."
   ]
  },
  {
   "cell_type": "code",
   "execution_count": null,
   "id": "94b29bc5-e96d-4997-ad0d-2f8a6eb3500c",
   "metadata": {},
   "outputs": [],
   "source": []
  }
 ],
 "metadata": {
  "kernelspec": {
   "display_name": "Python 3 (ipykernel)",
   "language": "python",
   "name": "python3"
  },
  "language_info": {
   "codemirror_mode": {
    "name": "ipython",
    "version": 3
   },
   "file_extension": ".py",
   "mimetype": "text/x-python",
   "name": "python",
   "nbconvert_exporter": "python",
   "pygments_lexer": "ipython3",
   "version": "3.11.5"
  }
 },
 "nbformat": 4,
 "nbformat_minor": 5
}
