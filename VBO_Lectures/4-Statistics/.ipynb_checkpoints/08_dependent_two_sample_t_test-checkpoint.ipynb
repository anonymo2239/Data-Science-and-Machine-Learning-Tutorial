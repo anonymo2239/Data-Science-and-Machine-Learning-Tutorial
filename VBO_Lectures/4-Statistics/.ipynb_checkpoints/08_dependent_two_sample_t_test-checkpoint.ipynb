{
 "cells": [
  {
   "cell_type": "markdown",
   "id": "18a47c0e-40b8-4d63-a6f5-d9cc77b65768",
   "metadata": {},
   "source": [
    "# Bağımlı İki Örneklem T Testi"
   ]
  },
  {
   "cell_type": "markdown",
   "id": "33da367f-4eef-414f-a83c-a39db1834ecf",
   "metadata": {},
   "source": [
    "Bağımlı iki grup ortalaması arasında karşılaştırma yapılmak istenildiğinde kullanılır."
   ]
  },
  {
   "cell_type": "markdown",
   "id": "a4d78ab4-a999-4f42-a458-2cfd95dd31cd",
   "metadata": {},
   "source": [
    "Örneğin bir gruba eğitim verildi. Eğitim verilmeden önceki grup ortalaması ile eğitim verildikten sonraki grup ortalaması karşılaştırılmak istenildiğinde kullanılır."
   ]
  },
  {
   "attachments": {},
   "cell_type": "markdown",
   "id": "688216aa-a77b-4d66-bb60-e31c5acbc193",
   "metadata": {},
   "source": [
    "![image.png](imagee30.png)"
   ]
  },
  {
   "attachments": {},
   "cell_type": "markdown",
   "id": "be97b2bc-b535-4414-88a1-b1fbe37a41c3",
   "metadata": {},
   "source": [
    "![image.png](imagee31.png)"
   ]
  },
  {
   "cell_type": "markdown",
   "id": "44c0946e-0a01-4f4d-a6d0-e59af1b10a58",
   "metadata": {},
   "source": [
    "Buradaki D, A'dan B'yi çıkarıp oluşan yeni örneklemin farkının ortalaması demektir."
   ]
  },
  {
   "cell_type": "markdown",
   "id": "f25ad3fd-d6aa-49cd-9722-ba967c88afd4",
   "metadata": {},
   "source": [
    "### Bu test için varsayımlar:\n",
    "* Normallik\n",
    "* Varyans Homojenliği"
   ]
  },
  {
   "cell_type": "markdown",
   "id": "2c153304-1e70-465f-9f0b-eaff96da3773",
   "metadata": {},
   "source": [
    "## Business Practice"
   ]
  },
  {
   "attachments": {},
   "cell_type": "markdown",
   "id": "e5fdb789-b316-4fdd-95df-96f8be97c0c2",
   "metadata": {},
   "source": [
    "![imageeee](imagee32.png)"
   ]
  },
  {
   "cell_type": "markdown",
   "id": "30a808be-5e8c-41b1-a692-8cedaa21a855",
   "metadata": {},
   "source": [
    "![imageeee](imagee33.png)"
   ]
  },
  {
   "cell_type": "markdown",
   "id": "d8e95a5d-caf9-410d-848f-b24555e4a35c",
   "metadata": {},
   "source": [
    "![imageeee](imagee34.png)"
   ]
  },
  {
   "cell_type": "code",
   "execution_count": 11,
   "id": "c09eda4a-4d97-4882-bc48-e901386199bd",
   "metadata": {},
   "outputs": [],
   "source": [
    "import pandas as pd\n",
    "import numpy as np\n",
    "\n",
    "oncesi = pd.DataFrame([123,119,119,116,123,123,121,120,117,118,121,121,123,119,\n",
    "                       121,118,124,121,125,115,115,119,118,121,117,117,120,120,\n",
    "                       121,117,118,117,123,118,124,121,115,118,125,115])\n",
    "\n",
    "sonrasi = pd.DataFrame([118,127,122,132,129,123,129,132,128,130,128,138,140,130,\n",
    "                        134,134,124,140,134,129,129,138,134,124,126,133,127,\n",
    "                        130,130,130,132,117,130,125,129,133,120,127,123, 120])\n"
   ]
  },
  {
   "cell_type": "code",
   "execution_count": 14,
   "id": "ae9d9851-01db-4f5e-99fd-201562db9fba",
   "metadata": {},
   "outputs": [
    {
     "data": {
      "text/html": [
       "<div>\n",
       "<style scoped>\n",
       "    .dataframe tbody tr th:only-of-type {\n",
       "        vertical-align: middle;\n",
       "    }\n",
       "\n",
       "    .dataframe tbody tr th {\n",
       "        vertical-align: top;\n",
       "    }\n",
       "\n",
       "    .dataframe thead th {\n",
       "        text-align: right;\n",
       "    }\n",
       "</style>\n",
       "<table border=\"1\" class=\"dataframe\">\n",
       "  <thead>\n",
       "    <tr style=\"text-align: right;\">\n",
       "      <th></th>\n",
       "      <th>0</th>\n",
       "    </tr>\n",
       "  </thead>\n",
       "  <tbody>\n",
       "    <tr>\n",
       "      <th>0</th>\n",
       "      <td>123</td>\n",
       "    </tr>\n",
       "    <tr>\n",
       "      <th>1</th>\n",
       "      <td>119</td>\n",
       "    </tr>\n",
       "    <tr>\n",
       "      <th>2</th>\n",
       "      <td>119</td>\n",
       "    </tr>\n",
       "    <tr>\n",
       "      <th>3</th>\n",
       "      <td>116</td>\n",
       "    </tr>\n",
       "    <tr>\n",
       "      <th>4</th>\n",
       "      <td>123</td>\n",
       "    </tr>\n",
       "  </tbody>\n",
       "</table>\n",
       "</div>"
      ],
      "text/plain": [
       "     0\n",
       "0  123\n",
       "1  119\n",
       "2  119\n",
       "3  116\n",
       "4  123"
      ]
     },
     "execution_count": 14,
     "metadata": {},
     "output_type": "execute_result"
    }
   ],
   "source": [
    "oncesi[:5]"
   ]
  },
  {
   "cell_type": "code",
   "execution_count": 15,
   "id": "3cdc9175-d67f-4aa0-bbfc-97a52b80058b",
   "metadata": {},
   "outputs": [
    {
     "data": {
      "text/html": [
       "<div>\n",
       "<style scoped>\n",
       "    .dataframe tbody tr th:only-of-type {\n",
       "        vertical-align: middle;\n",
       "    }\n",
       "\n",
       "    .dataframe tbody tr th {\n",
       "        vertical-align: top;\n",
       "    }\n",
       "\n",
       "    .dataframe thead th {\n",
       "        text-align: right;\n",
       "    }\n",
       "</style>\n",
       "<table border=\"1\" class=\"dataframe\">\n",
       "  <thead>\n",
       "    <tr style=\"text-align: right;\">\n",
       "      <th></th>\n",
       "      <th>0</th>\n",
       "    </tr>\n",
       "  </thead>\n",
       "  <tbody>\n",
       "    <tr>\n",
       "      <th>0</th>\n",
       "      <td>118</td>\n",
       "    </tr>\n",
       "    <tr>\n",
       "      <th>1</th>\n",
       "      <td>127</td>\n",
       "    </tr>\n",
       "    <tr>\n",
       "      <th>2</th>\n",
       "      <td>122</td>\n",
       "    </tr>\n",
       "    <tr>\n",
       "      <th>3</th>\n",
       "      <td>132</td>\n",
       "    </tr>\n",
       "    <tr>\n",
       "      <th>4</th>\n",
       "      <td>129</td>\n",
       "    </tr>\n",
       "  </tbody>\n",
       "</table>\n",
       "</div>"
      ],
      "text/plain": [
       "     0\n",
       "0  118\n",
       "1  127\n",
       "2  122\n",
       "3  132\n",
       "4  129"
      ]
     },
     "execution_count": 15,
     "metadata": {},
     "output_type": "execute_result"
    }
   ],
   "source": [
    "sonrasi[:5]"
   ]
  },
  {
   "cell_type": "code",
   "execution_count": 16,
   "id": "8dc52ed0-5dfc-4fce-8ed0-4d4f5113db73",
   "metadata": {},
   "outputs": [
    {
     "name": "stdout",
     "output_type": "stream",
     "text": [
      "'AYRIK' Veri Seti: \n",
      "\n",
      "     ONCESI  SONRASI\n",
      "0     123      118\n",
      "1     119      127\n",
      "2     119      122\n",
      "3     116      132\n",
      "4     123      129 \n",
      "\n",
      "\n",
      "'BIRLIKTE' Veri Seti Baş: \n",
      "\n",
      "    PERFORMANS ONCESI_SONRASI\n",
      "0         123         ONCESI\n",
      "1         119         ONCESI\n",
      "2         119         ONCESI\n",
      "3         116         ONCESI\n",
      "4         123         ONCESI \n",
      "\n",
      "'BIRLIKTE' Veri Seti Kuyruk: \n",
      "\n",
      "     PERFORMANS ONCESI_SONRASI\n",
      "35         133        SONRASI\n",
      "36         120        SONRASI\n",
      "37         127        SONRASI\n",
      "38         123        SONRASI\n",
      "39         120        SONRASI \n",
      "\n"
     ]
    },
    {
     "name": "stderr",
     "output_type": "stream",
     "text": [
      "C:\\Users\\Alperen Arda\\AppData\\Local\\Temp\\ipykernel_36584\\1208392261.py:11: FutureWarning: Setting an item of incompatible dtype is deprecated and will raise in a future error of pandas. Value 'ONCESI' has dtype incompatible with int32, please explicitly cast to a compatible dtype first.\n",
      "  GRUP_ONCESI[:] = \"ONCESI\"\n",
      "C:\\Users\\Alperen Arda\\AppData\\Local\\Temp\\ipykernel_36584\\1208392261.py:19: FutureWarning: Setting an item of incompatible dtype is deprecated and will raise in a future error of pandas. Value 'SONRASI' has dtype incompatible with int32, please explicitly cast to a compatible dtype first.\n",
      "  GRUP_SONRASI[:] = \"SONRASI\"\n"
     ]
    }
   ],
   "source": [
    "# BIRINCI VERI SETI\n",
    "sonrasi.astype('int64')\n",
    "AYRIK = pd.concat([oncesi, sonrasi], axis = 1)\n",
    "AYRIK.columns = [\"ONCESI\",\"SONRASI\"]\n",
    "print(\"'AYRIK' Veri Seti: \\n\\n \", AYRIK.head(), \"\\n\\n\")\n",
    "\n",
    "# IKINCI VERI SETI\n",
    "# ONCESI FLAG/TAG'INI OLUSTURMA\n",
    "GRUP_ONCESI = np.arange(len(oncesi))\n",
    "GRUP_ONCESI = pd.DataFrame(GRUP_ONCESI)\n",
    "GRUP_ONCESI[:] = \"ONCESI\"\n",
    "\n",
    "# FLAG VE ONCESI DEGERLERINI BIR ARAYA GETIRME\n",
    "A = pd.concat([oncesi, GRUP_ONCESI], axis = 1)\n",
    "\n",
    "# SONRASI FLAG/TAG'INI OLUSTURMA\n",
    "GRUP_SONRASI = np.arange(len(sonrasi))\n",
    "GRUP_SONRASI = pd.DataFrame(GRUP_SONRASI)\n",
    "GRUP_SONRASI[:] = \"SONRASI\"\n",
    "\n",
    "#FLAG VE SONRASI DEĞERLERİNİ BİR ARAYA GETİRME\n",
    "B = pd.concat([sonrasi, GRUP_SONRASI], axis = 1)\n",
    "\n",
    "#TÜM VERİYİ BİR ARAYA GETİRME\n",
    "BIRLIKTE = pd.concat([A,B])\n",
    "BIRLIKTE\n",
    "\n",
    "#İSİMLENDİRME\n",
    "BIRLIKTE.columns = [\"PERFORMANS\",\"ONCESI_SONRASI\"]\n",
    "print(\"'BIRLIKTE' Veri Seti Baş: \\n\\n\", BIRLIKTE.head(), \"\\n\")\n",
    "print(\"'BIRLIKTE' Veri Seti Kuyruk: \\n\\n\", BIRLIKTE.tail(), \"\\n\")"
   ]
  },
  {
   "cell_type": "code",
   "execution_count": 17,
   "id": "9f31f384-029f-4675-846d-f498aaa0add0",
   "metadata": {},
   "outputs": [],
   "source": [
    "import seaborn as sns"
   ]
  },
  {
   "cell_type": "code",
   "execution_count": 18,
   "id": "df8f4f50-b10c-40c7-9fae-f29e1ceba7cb",
   "metadata": {},
   "outputs": [
    {
     "data": {
      "image/png": "[encoded data removed]",
      "text/plain": [
       "<Figure size 640x480 with 1 Axes>"
      ]
     },
     "metadata": {},
     "output_type": "display_data"
    }
   ],
   "source": [
    "sns.boxplot(y=BIRLIKTE.PERFORMANS, x=BIRLIKTE.ONCESI_SONRASI, data=BIRLIKTE);"
   ]
  },
  {
   "cell_type": "markdown",
   "id": "0ab30ddd-3b88-4e22-ad77-219fa5df4864",
   "metadata": {},
   "source": [
    "### Varsayım Kontrolleri"
   ]
  },
  {
   "cell_type": "code",
   "execution_count": 23,
   "id": "abd7e793-7c3c-48b5-942d-2dffdbcdeff0",
   "metadata": {},
   "outputs": [],
   "source": [
    "from scipy.stats import shapiro\n",
    "import scipy.stats as stats"
   ]
  },
  {
   "cell_type": "code",
   "execution_count": 24,
   "id": "616c7093-b57b-4285-96ff-138b538d223a",
   "metadata": {},
   "outputs": [
    {
     "data": {
      "text/plain": [
       "ShapiroResult(statistic=0.9543651286601341, pvalue=0.10722012473424775)"
      ]
     },
     "execution_count": 24,
     "metadata": {},
     "output_type": "execute_result"
    }
   ],
   "source": [
    "shapiro(AYRIK.ONCESI) # Bu grup normal dagilima sahiptir."
   ]
  },
  {
   "cell_type": "code",
   "execution_count": 25,
   "id": "f3ed3ee9-6e1a-4ee9-8646-a7eb2bc61492",
   "metadata": {},
   "outputs": [
    {
     "data": {
      "text/plain": [
       "ShapiroResult(statistic=0.976259100512183, pvalue=0.553197295000534)"
      ]
     },
     "execution_count": 25,
     "metadata": {},
     "output_type": "execute_result"
    }
   ],
   "source": [
    "shapiro(AYRIK.SONRASI) # Birinci varsayimimiz iki grup icin de saglanmaktadir."
   ]
  },
  {
   "cell_type": "code",
   "execution_count": 28,
   "id": "46b3a901-cbc5-4f80-bf6a-9334a45895b8",
   "metadata": {},
   "outputs": [
    {
     "data": {
      "text/plain": [
       "LeveneResult(statistic=8.56677966101695, pvalue=0.004483834917053856)"
      ]
     },
     "execution_count": 28,
     "metadata": {},
     "output_type": "execute_result"
    }
   ],
   "source": [
    "stats.levene(AYRIK.ONCESI, AYRIK.SONRASI) # 'Varyanslar homojendir' hipotezimizi reddettigimiz icin varyanslar homojen degildir."
   ]
  },
  {
   "cell_type": "markdown",
   "id": "51f56567-dc76-42c0-b42f-4b1e869e9010",
   "metadata": {},
   "source": [
    "Bu durumda aykırı gözlem analizi yapılabilir veya bazen bu durumları görmezden gelebiliriz."
   ]
  },
  {
   "cell_type": "markdown",
   "id": "0002e040-76c4-4d87-90bb-93ca7d0dfe83",
   "metadata": {},
   "source": [
    "### Hipotez Testi"
   ]
  },
  {
   "cell_type": "code",
   "execution_count": 29,
   "id": "af25ee36-037e-4329-81fb-1cf8a17e0502",
   "metadata": {},
   "outputs": [
    {
     "data": {
      "text/plain": [
       "TtestResult(statistic=-9.922510628005, pvalue=3.188122159432993e-12, df=39)"
      ]
     },
     "execution_count": 29,
     "metadata": {},
     "output_type": "execute_result"
    }
   ],
   "source": [
    "stats.ttest_rel(AYRIK.ONCESI, AYRIK.SONRASI)"
   ]
  },
  {
   "cell_type": "markdown",
   "id": "d99da3a5-139e-44f4-8d1f-b9c305160e63",
   "metadata": {},
   "source": [
    "Eğitim aldıktan önce ile eğitim aldıktan sonra alınan skorda anlamlı bir farklılık olmuştur. Bu tür analizler genellikle danışmanlık şirketlerinde veya A/B testlerinde performans ölçmek için kullanılır."
   ]
  },
  {
   "cell_type": "markdown",
   "id": "aa34955d-631f-4473-80b0-bf093b35e6c8",
   "metadata": {},
   "source": [
    "## Nonparametrik Bağımlı İki Örneklem Testi"
   ]
  },
  {
   "cell_type": "markdown",
   "id": "28856314-fc6c-4cd8-9649-aa216fe5cf34",
   "metadata": {},
   "source": [
    "Wilcoxon testi, parametrik olmayan bir testtir ve bağımlı iki grup arasındaki farkı test etmek için kullanılır."
   ]
  },
  {
   "cell_type": "code",
   "execution_count": 30,
   "id": "69daca27-fc01-4e87-903f-adb6abbf7250",
   "metadata": {},
   "outputs": [
    {
     "data": {
      "text/plain": [
       "WilcoxonResult(statistic=6.5, pvalue=1.9009538743325262e-07)"
      ]
     },
     "execution_count": 30,
     "metadata": {},
     "output_type": "execute_result"
    }
   ],
   "source": [
    "stats.wilcoxon(AYRIK.ONCESI, AYRIK.SONRASI)"
   ]
  },
  {
   "cell_type": "markdown",
   "id": "1e674574-aab8-4619-a767-ced4730ebbca",
   "metadata": {},
   "source": [
    "Burada da verilen eğitimin performansa etki ettiğini açıkça görebiliyoruz."
   ]
  },
  {
   "cell_type": "markdown",
   "id": "26b15600-2797-4a3f-b627-52bf98e10651",
   "metadata": {},
   "source": [
    "**Önemli Not:**\n",
    "Python dünyasında genelde *eşittir veya eşit değildir* hipotezlerini kullanırız. Yönlü hipotezleri hesaplamayız. Zaten eşit olup olmadığını gördükten sonra elimizde ortalamalar da olduğu için kimin daha büyük veya küçük olduğunu görebiliyoruz. (Hesaplamalar ile veya grafikler ile)"
   ]
  },
  {
   "cell_type": "code",
   "execution_count": null,
   "id": "5118b9cf-907b-49f0-8b85-c6480efcbf41",
   "metadata": {},
   "outputs": [],
   "source": []
  }
 ],
 "metadata": {
  "kernelspec": {
   "display_name": "Python 3 (ipykernel)",
   "language": "python",
   "name": "python3"
  },
  "language_info": {
   "codemirror_mode": {
    "name": "ipython",
    "version": 3
   },
   "file_extension": ".py",
   "mimetype": "text/x-python",
   "name": "python",
   "nbconvert_exporter": "python",
   "pygments_lexer": "ipython3",
   "version": "3.11.5"
  }
 },
 "nbformat": 4,
 "nbformat_minor": 5
}
