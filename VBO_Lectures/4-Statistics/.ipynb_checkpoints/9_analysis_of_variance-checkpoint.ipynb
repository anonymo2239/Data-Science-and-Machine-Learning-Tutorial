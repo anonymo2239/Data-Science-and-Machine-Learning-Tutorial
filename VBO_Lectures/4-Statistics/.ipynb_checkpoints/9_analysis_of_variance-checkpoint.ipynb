{
 "cells": [
  {
   "cell_type": "markdown",
   "id": "6e98e2cb-4f8a-4597-b4a2-bc6b3989141c",
   "metadata": {},
   "source": [
    "# ANOVA"
   ]
  },
  {
   "cell_type": "code",
   "execution_count": null,
   "id": "1e8a0ee7-c8cb-46b1-a7c3-ed7288780912",
   "metadata": {},
   "outputs": [],
   "source": []
  }
 ],
 "metadata": {
  "kernelspec": {
   "display_name": "Python 3 (ipykernel)",
   "language": "python",
   "name": "python3"
  },
  "language_info": {
   "codemirror_mode": {
    "name": "ipython",
    "version": 3
   },
   "file_extension": ".py",
   "mimetype": "text/x-python",
   "name": "python",
   "nbconvert_exporter": "python",
   "pygments_lexer": "ipython3",
   "version": "3.11.5"
  }
 },
 "nbformat": 4,
 "nbformat_minor": 5
}
