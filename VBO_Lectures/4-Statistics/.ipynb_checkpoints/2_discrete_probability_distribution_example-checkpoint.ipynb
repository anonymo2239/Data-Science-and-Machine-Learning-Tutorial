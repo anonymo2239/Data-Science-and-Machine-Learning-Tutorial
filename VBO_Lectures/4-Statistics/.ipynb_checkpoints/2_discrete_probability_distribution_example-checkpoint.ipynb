{
 "cells": [
  {
   "cell_type": "code",
   "execution_count": 1,
   "id": "b4005955-f1cb-459e-ba45-7589905a2759",
   "metadata": {},
   "outputs": [],
   "source": [
    "import numpy as np \n",
    "\n",
    "fiyatlar = np.random.randint(10, 110, 1000)"
   ]
  },
  {
   "cell_type": "code",
   "execution_count": 3,
   "id": "39eb8748-377b-47a5-bc63-e427d66b014d",
   "metadata": {},
   "outputs": [],
   "source": [
    "import pandas as pd \n",
    "fiyat_df = pd.DataFrame(fiyatlar)"
   ]
  },
  {
   "cell_type": "code",
   "execution_count": 5,
   "id": "6b6d1c7a-fb30-4cc1-8b5e-c9c54ab2b4a0",
   "metadata": {},
   "outputs": [
    {
     "data": {
      "text/html": [
       "<div>\n",
       "<style scoped>\n",
       "    .dataframe tbody tr th:only-of-type {\n",
       "        vertical-align: middle;\n",
       "    }\n",
       "\n",
       "    .dataframe tbody tr th {\n",
       "        vertical-align: top;\n",
       "    }\n",
       "\n",
       "    .dataframe thead th {\n",
       "        text-align: right;\n",
       "    }\n",
       "</style>\n",
       "<table border=\"1\" class=\"dataframe\">\n",
       "  <thead>\n",
       "    <tr style=\"text-align: right;\">\n",
       "      <th></th>\n",
       "      <th>count</th>\n",
       "      <th>mean</th>\n",
       "      <th>std</th>\n",
       "      <th>min</th>\n",
       "      <th>25%</th>\n",
       "      <th>50%</th>\n",
       "      <th>75%</th>\n",
       "      <th>max</th>\n",
       "    </tr>\n",
       "  </thead>\n",
       "  <tbody>\n",
       "    <tr>\n",
       "      <th>0</th>\n",
       "      <td>1000.0</td>\n",
       "      <td>59.755</td>\n",
       "      <td>29.412958</td>\n",
       "      <td>10.0</td>\n",
       "      <td>34.0</td>\n",
       "      <td>59.0</td>\n",
       "      <td>86.0</td>\n",
       "      <td>109.0</td>\n",
       "    </tr>\n",
       "  </tbody>\n",
       "</table>\n",
       "</div>"
      ],
      "text/plain": [
       "    count    mean        std   min   25%   50%   75%    max\n",
       "0  1000.0  59.755  29.412958  10.0  34.0  59.0  86.0  109.0"
      ]
     },
     "execution_count": 5,
     "metadata": {},
     "output_type": "execute_result"
    }
   ],
   "source": [
    "fiyat_df.describe().T"
   ]
  },
  {
   "cell_type": "code",
   "execution_count": 6,
   "id": "91590aff-bccb-4d3c-8818-195d54436bd0",
   "metadata": {},
   "outputs": [],
   "source": [
    "import statsmodels.stats.api as sms "
   ]
  },
  {
   "cell_type": "code",
   "execution_count": 7,
   "id": "41072040-7762-4e26-a221-d7d64a6fc42e",
   "metadata": {},
   "outputs": [
    {
     "data": {
      "text/plain": [
       "(array([57.92978814]), array([61.58021186]))"
      ]
     },
     "execution_count": 7,
     "metadata": {},
     "output_type": "execute_result"
    }
   ],
   "source": [
    "sms.DescrStatsW(fiyat_df).tconfint_mean()"
   ]
  },
  {
   "cell_type": "code",
   "execution_count": null,
   "id": "2913d2ae-6451-4bf2-a601-1248e067629a",
   "metadata": {},
   "outputs": [],
   "source": [
    "# secilen orneklemlerin %95 inin ortalaması bu aralıkta olacak. buna gore fiyat bicebiliriz."
   ]
  }
 ],
 "metadata": {
  "kernelspec": {
   "display_name": "Python 3 (ipykernel)",
   "language": "python",
   "name": "python3"
  },
  "language_info": {
   "codemirror_mode": {
    "name": "ipython",
    "version": 3
   },
   "file_extension": ".py",
   "mimetype": "text/x-python",
   "name": "python",
   "nbconvert_exporter": "python",
   "pygments_lexer": "ipython3",
   "version": "3.11.5"
  }
 },
 "nbformat": 4,
 "nbformat_minor": 5
}
