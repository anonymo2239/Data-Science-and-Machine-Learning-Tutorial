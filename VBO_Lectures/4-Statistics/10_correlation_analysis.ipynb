{
 "cells": [
  {
   "cell_type": "markdown",
   "id": "79d7d911-9420-4e99-869a-bfe5e6756b71",
   "metadata": {},
   "source": [
    "# Korelasyon (İlişki) Analizi"
   ]
  },
  {
   "cell_type": "markdown",
   "id": "716c72cb-a54f-45cc-8fdc-09e9e25c1953",
   "metadata": {},
   "source": [
    "Değişkenler arasındaki ilişki, bu ilişkinin yönü ve şiddeti ile ilgili bilgler sağlayan istatistiksel bir yöntemdir."
   ]
  },
  {
   "attachments": {},
   "cell_type": "markdown",
   "id": "663a67c6-871e-4138-8d71-915e8fbdc1eb",
   "metadata": {},
   "source": [
    "![image.png](imagee45.png)"
   ]
  },
  {
   "cell_type": "markdown",
   "id": "cd3b98ff-ca1c-4340-be55-a81293a044dc",
   "metadata": {},
   "source": [
    "Burada eğimler değil, korelasyon değerleri verilmiştir. Projelerde mükemmel durumlar genelde rastlanılmazlar. 0.9 - 0.5 arası durumlarda bu ilişkinin dikkate değer olduğunu düşünürüz.  \n",
    "'İlişki anlamlıdır, ilişkinin yönü pozitif ya da negatiftir, ilişkinin şiddeti şudur.' şeklinde yorumlamalar yapma şansı elde ederiz."
   ]
  },
  {
   "attachments": {},
   "cell_type": "markdown",
   "id": "9c925fb4-816c-48e0-a145-dd4b34047e3a",
   "metadata": {},
   "source": [
    "![image.png](imagee46.png)"
   ]
  },
  {
   "cell_type": "markdown",
   "id": "0db827c4-d00b-4282-b334-3dd731fe5d23",
   "metadata": {},
   "source": [
    "Örneğin reklam harcamaları arttığında ürün satışlarının da arttığını gözlemlersek burada pozitif korelasyon olduğunu anlayabiliriz."
   ]
  },
  {
   "attachments": {},
   "cell_type": "markdown",
   "id": "b3c55282-9ffc-4a2c-87df-5447943f5653",
   "metadata": {},
   "source": [
    "![image.png](imagee47.png)"
   ]
  },
  {
   "attachments": {},
   "cell_type": "markdown",
   "id": "e00bb889-7995-4596-8ae3-36c4d31d760d",
   "metadata": {},
   "source": [
    "![image.png](imagee48.png)"
   ]
  },
  {
   "cell_type": "markdown",
   "id": "28e70c0a-5c53-4f2a-a785-8f6bd19b2698",
   "metadata": {},
   "source": [
    "* H0: 'Değişkenler arası korelasyon yoktur.'\n",
    "* H1: 'Değişkenler arası korelasyon vardır.'  \n",
    " anlamlarına gelir."
   ]
  },
  {
   "attachments": {},
   "cell_type": "markdown",
   "id": "120267e0-433c-4eda-98e5-e4f8f09555df",
   "metadata": {},
   "source": [
    "![image.png](imagee49.png)"
   ]
  },
  {
   "cell_type": "markdown",
   "id": "c69cec7e-129c-4b92-a3af-5ab7aadf7098",
   "metadata": {},
   "source": [
    "Üstteki ifade Pierson Korelasyon katsayısıdır."
   ]
  },
  {
   "cell_type": "markdown",
   "id": "47daccc7-5199-4ac4-8464-2fd84b99ffcc",
   "metadata": {},
   "source": [
    "Anakitle için korelasyon katsayısı -> 𝜌   \n",
    "Örneklem için korelasyon katsayısı -> r"
   ]
  },
  {
   "cell_type": "markdown",
   "id": "36d718cb-5814-4b7a-9fd8-c26fd2972afe",
   "metadata": {},
   "source": [
    "### Varsayımlar"
   ]
  },
  {
   "attachments": {},
   "cell_type": "markdown",
   "id": "102e41e6-4d49-4603-91af-23179616ffbe",
   "metadata": {},
   "source": [
    "![image.png](imagee50.png)"
   ]
  },
  {
   "cell_type": "markdown",
   "id": "ce496900-947b-4e67-b649-5aa9c4719dd6",
   "metadata": {},
   "source": [
    "## Business Practice"
   ]
  },
  {
   "attachments": {},
   "cell_type": "markdown",
   "id": "b0c456c1-9f52-4291-86cf-4fd7cf24cd1e",
   "metadata": {},
   "source": [
    "![image.png](imagee51.png)"
   ]
  },
  {
   "cell_type": "markdown",
   "id": "65fd1e79-b2d0-4c6c-a494-16c5300e328a",
   "metadata": {},
   "source": [
    "Bahşiş veri seti:  \n",
    "total_bill: yemeğin toplam fiyatı (bahşiş ve vergi dahil)  \n",
    "tip: bahşiş  \n",
    "sex: ücreti ödeyen kişinin cinsiyeti (0=male, 1=female)  \n",
    "smoker: grupta sigara içen var mı? (0=No, 1=Yes)  \n",
    "day: gün (3=Thur, 4=Fri, 5=Sat, 6=Sun)  \n",
    "time: ne zaman? (0=Day, 1=Night)  \n",
    "size: grupta kaç kişi var?"
   ]
  },
  {
   "cell_type": "code",
   "execution_count": 1,
   "id": "e4ad1635-2636-4c65-9a4c-c71cf25c6fec",
   "metadata": {},
   "outputs": [
    {
     "data": {
      "text/html": [
       "<div>\n",
       "<style scoped>\n",
       "    .dataframe tbody tr th:only-of-type {\n",
       "        vertical-align: middle;\n",
       "    }\n",
       "\n",
       "    .dataframe tbody tr th {\n",
       "        vertical-align: top;\n",
       "    }\n",
       "\n",
       "    .dataframe thead th {\n",
       "        text-align: right;\n",
       "    }\n",
       "</style>\n",
       "<table border=\"1\" class=\"dataframe\">\n",
       "  <thead>\n",
       "    <tr style=\"text-align: right;\">\n",
       "      <th></th>\n",
       "      <th>total_bill</th>\n",
       "      <th>tip</th>\n",
       "      <th>sex</th>\n",
       "      <th>smoker</th>\n",
       "      <th>day</th>\n",
       "      <th>time</th>\n",
       "      <th>size</th>\n",
       "    </tr>\n",
       "  </thead>\n",
       "  <tbody>\n",
       "    <tr>\n",
       "      <th>0</th>\n",
       "      <td>16.99</td>\n",
       "      <td>1.01</td>\n",
       "      <td>Female</td>\n",
       "      <td>No</td>\n",
       "      <td>Sun</td>\n",
       "      <td>Dinner</td>\n",
       "      <td>2</td>\n",
       "    </tr>\n",
       "    <tr>\n",
       "      <th>1</th>\n",
       "      <td>10.34</td>\n",
       "      <td>1.66</td>\n",
       "      <td>Male</td>\n",
       "      <td>No</td>\n",
       "      <td>Sun</td>\n",
       "      <td>Dinner</td>\n",
       "      <td>3</td>\n",
       "    </tr>\n",
       "    <tr>\n",
       "      <th>2</th>\n",
       "      <td>21.01</td>\n",
       "      <td>3.50</td>\n",
       "      <td>Male</td>\n",
       "      <td>No</td>\n",
       "      <td>Sun</td>\n",
       "      <td>Dinner</td>\n",
       "      <td>3</td>\n",
       "    </tr>\n",
       "    <tr>\n",
       "      <th>3</th>\n",
       "      <td>23.68</td>\n",
       "      <td>3.31</td>\n",
       "      <td>Male</td>\n",
       "      <td>No</td>\n",
       "      <td>Sun</td>\n",
       "      <td>Dinner</td>\n",
       "      <td>2</td>\n",
       "    </tr>\n",
       "    <tr>\n",
       "      <th>4</th>\n",
       "      <td>24.59</td>\n",
       "      <td>3.61</td>\n",
       "      <td>Female</td>\n",
       "      <td>No</td>\n",
       "      <td>Sun</td>\n",
       "      <td>Dinner</td>\n",
       "      <td>4</td>\n",
       "    </tr>\n",
       "  </tbody>\n",
       "</table>\n",
       "</div>"
      ],
      "text/plain": [
       "   total_bill   tip     sex smoker  day    time  size\n",
       "0       16.99  1.01  Female     No  Sun  Dinner     2\n",
       "1       10.34  1.66    Male     No  Sun  Dinner     3\n",
       "2       21.01  3.50    Male     No  Sun  Dinner     3\n",
       "3       23.68  3.31    Male     No  Sun  Dinner     2\n",
       "4       24.59  3.61  Female     No  Sun  Dinner     4"
      ]
     },
     "execution_count": 1,
     "metadata": {},
     "output_type": "execute_result"
    }
   ],
   "source": [
    "import seaborn as sns\n",
    "import pandas as pd\n",
    "import numpy as np\n",
    "tips = sns.load_dataset('tips')\n",
    "df = tips.copy()\n",
    "df.head()"
   ]
  },
  {
   "cell_type": "code",
   "execution_count": 2,
   "id": "13939039-957e-40c6-b186-2758df90337c",
   "metadata": {},
   "outputs": [
    {
     "data": {
      "text/html": [
       "<div>\n",
       "<style scoped>\n",
       "    .dataframe tbody tr th:only-of-type {\n",
       "        vertical-align: middle;\n",
       "    }\n",
       "\n",
       "    .dataframe tbody tr th {\n",
       "        vertical-align: top;\n",
       "    }\n",
       "\n",
       "    .dataframe thead th {\n",
       "        text-align: right;\n",
       "    }\n",
       "</style>\n",
       "<table border=\"1\" class=\"dataframe\">\n",
       "  <thead>\n",
       "    <tr style=\"text-align: right;\">\n",
       "      <th></th>\n",
       "      <th>total_bill</th>\n",
       "      <th>tip</th>\n",
       "      <th>sex</th>\n",
       "      <th>smoker</th>\n",
       "      <th>day</th>\n",
       "      <th>time</th>\n",
       "      <th>size</th>\n",
       "      <th>bill</th>\n",
       "    </tr>\n",
       "  </thead>\n",
       "  <tbody>\n",
       "    <tr>\n",
       "      <th>0</th>\n",
       "      <td>16.99</td>\n",
       "      <td>1.01</td>\n",
       "      <td>Female</td>\n",
       "      <td>No</td>\n",
       "      <td>Sun</td>\n",
       "      <td>Dinner</td>\n",
       "      <td>2</td>\n",
       "      <td>15.98</td>\n",
       "    </tr>\n",
       "    <tr>\n",
       "      <th>1</th>\n",
       "      <td>10.34</td>\n",
       "      <td>1.66</td>\n",
       "      <td>Male</td>\n",
       "      <td>No</td>\n",
       "      <td>Sun</td>\n",
       "      <td>Dinner</td>\n",
       "      <td>3</td>\n",
       "      <td>8.68</td>\n",
       "    </tr>\n",
       "    <tr>\n",
       "      <th>2</th>\n",
       "      <td>21.01</td>\n",
       "      <td>3.50</td>\n",
       "      <td>Male</td>\n",
       "      <td>No</td>\n",
       "      <td>Sun</td>\n",
       "      <td>Dinner</td>\n",
       "      <td>3</td>\n",
       "      <td>17.51</td>\n",
       "    </tr>\n",
       "    <tr>\n",
       "      <th>3</th>\n",
       "      <td>23.68</td>\n",
       "      <td>3.31</td>\n",
       "      <td>Male</td>\n",
       "      <td>No</td>\n",
       "      <td>Sun</td>\n",
       "      <td>Dinner</td>\n",
       "      <td>2</td>\n",
       "      <td>20.37</td>\n",
       "    </tr>\n",
       "    <tr>\n",
       "      <th>4</th>\n",
       "      <td>24.59</td>\n",
       "      <td>3.61</td>\n",
       "      <td>Female</td>\n",
       "      <td>No</td>\n",
       "      <td>Sun</td>\n",
       "      <td>Dinner</td>\n",
       "      <td>4</td>\n",
       "      <td>20.98</td>\n",
       "    </tr>\n",
       "    <tr>\n",
       "      <th>...</th>\n",
       "      <td>...</td>\n",
       "      <td>...</td>\n",
       "      <td>...</td>\n",
       "      <td>...</td>\n",
       "      <td>...</td>\n",
       "      <td>...</td>\n",
       "      <td>...</td>\n",
       "      <td>...</td>\n",
       "    </tr>\n",
       "    <tr>\n",
       "      <th>239</th>\n",
       "      <td>29.03</td>\n",
       "      <td>5.92</td>\n",
       "      <td>Male</td>\n",
       "      <td>No</td>\n",
       "      <td>Sat</td>\n",
       "      <td>Dinner</td>\n",
       "      <td>3</td>\n",
       "      <td>23.11</td>\n",
       "    </tr>\n",
       "    <tr>\n",
       "      <th>240</th>\n",
       "      <td>27.18</td>\n",
       "      <td>2.00</td>\n",
       "      <td>Female</td>\n",
       "      <td>Yes</td>\n",
       "      <td>Sat</td>\n",
       "      <td>Dinner</td>\n",
       "      <td>2</td>\n",
       "      <td>25.18</td>\n",
       "    </tr>\n",
       "    <tr>\n",
       "      <th>241</th>\n",
       "      <td>22.67</td>\n",
       "      <td>2.00</td>\n",
       "      <td>Male</td>\n",
       "      <td>Yes</td>\n",
       "      <td>Sat</td>\n",
       "      <td>Dinner</td>\n",
       "      <td>2</td>\n",
       "      <td>20.67</td>\n",
       "    </tr>\n",
       "    <tr>\n",
       "      <th>242</th>\n",
       "      <td>17.82</td>\n",
       "      <td>1.75</td>\n",
       "      <td>Male</td>\n",
       "      <td>No</td>\n",
       "      <td>Sat</td>\n",
       "      <td>Dinner</td>\n",
       "      <td>2</td>\n",
       "      <td>16.07</td>\n",
       "    </tr>\n",
       "    <tr>\n",
       "      <th>243</th>\n",
       "      <td>18.78</td>\n",
       "      <td>3.00</td>\n",
       "      <td>Female</td>\n",
       "      <td>No</td>\n",
       "      <td>Thur</td>\n",
       "      <td>Dinner</td>\n",
       "      <td>2</td>\n",
       "      <td>15.78</td>\n",
       "    </tr>\n",
       "  </tbody>\n",
       "</table>\n",
       "<p>244 rows × 8 columns</p>\n",
       "</div>"
      ],
      "text/plain": [
       "     total_bill   tip     sex smoker   day    time  size   bill\n",
       "0         16.99  1.01  Female     No   Sun  Dinner     2  15.98\n",
       "1         10.34  1.66    Male     No   Sun  Dinner     3   8.68\n",
       "2         21.01  3.50    Male     No   Sun  Dinner     3  17.51\n",
       "3         23.68  3.31    Male     No   Sun  Dinner     2  20.37\n",
       "4         24.59  3.61  Female     No   Sun  Dinner     4  20.98\n",
       "..          ...   ...     ...    ...   ...     ...   ...    ...\n",
       "239       29.03  5.92    Male     No   Sat  Dinner     3  23.11\n",
       "240       27.18  2.00  Female    Yes   Sat  Dinner     2  25.18\n",
       "241       22.67  2.00    Male    Yes   Sat  Dinner     2  20.67\n",
       "242       17.82  1.75    Male     No   Sat  Dinner     2  16.07\n",
       "243       18.78  3.00  Female     No  Thur  Dinner     2  15.78\n",
       "\n",
       "[244 rows x 8 columns]"
      ]
     },
     "execution_count": 2,
     "metadata": {},
     "output_type": "execute_result"
    }
   ],
   "source": [
    "bill = df['total_bill'] - df['tip']\n",
    "df = pd.concat([df, bill], axis=1)\n",
    "df.rename(columns={0: \"bill\"}, inplace=True)\n",
    "df"
   ]
  },
  {
   "cell_type": "code",
   "execution_count": 3,
   "id": "8110e3cb-457b-4fae-b3c6-ef9b0a1d7267",
   "metadata": {},
   "outputs": [
    {
     "data": {
      "image/png": "[encoded data removed]",
      "text/plain": [
       "<Figure size 640x480 with 1 Axes>"
      ]
     },
     "metadata": {},
     "output_type": "display_data"
    }
   ],
   "source": [
    "df.plot.scatter(\"tip\", \"bill\");"
   ]
  },
  {
   "cell_type": "code",
   "execution_count": 4,
   "id": "9e6e3c0a-bf6d-422e-aef0-a04ea7386b99",
   "metadata": {},
   "outputs": [],
   "source": [
    "# Odenen tutar artikca bahsisin de artigini gormustuk."
   ]
  },
  {
   "cell_type": "markdown",
   "id": "40d5ac3c-6fce-4bed-875e-82b19c4a59a1",
   "metadata": {},
   "source": [
    "## Varsayım Kontrolü"
   ]
  },
  {
   "cell_type": "code",
   "execution_count": 5,
   "id": "c1dff249-fd2a-4f9f-b99d-3e942bf81cbf",
   "metadata": {},
   "outputs": [],
   "source": [
    "from scipy.stats import shapiro"
   ]
  },
  {
   "cell_type": "code",
   "execution_count": 6,
   "id": "ed9bbd59-ea30-4df9-8c46-fb0e98bc5929",
   "metadata": {},
   "outputs": [
    {
     "data": {
      "text/plain": [
       "ShapiroResult(statistic=0.8978110496018736, pvalue=8.200360128656718e-12)"
      ]
     },
     "execution_count": 6,
     "metadata": {},
     "output_type": "execute_result"
    }
   ],
   "source": [
    "shapiro(df['tip'])"
   ]
  },
  {
   "cell_type": "code",
   "execution_count": 7,
   "id": "849e4a36-d687-4b84-9f64-208beae94497",
   "metadata": {},
   "outputs": [
    {
     "data": {
      "text/plain": [
       "ShapiroResult(statistic=0.9197187941346584, pvalue=3.324539186809091e-10)"
      ]
     },
     "execution_count": 7,
     "metadata": {},
     "output_type": "execute_result"
    }
   ],
   "source": [
    "shapiro(df['total_bill'])"
   ]
  },
  {
   "cell_type": "markdown",
   "id": "7f26f236-b58f-4345-ab81-c884b978ee25",
   "metadata": {},
   "source": [
    "İki değişken içinde normallik varsayımlarının sağlanmadığını görüyoruz."
   ]
  },
  {
   "cell_type": "markdown",
   "id": "019139e3-9e4c-4207-97fa-642a081bcd79",
   "metadata": {},
   "source": [
    "### Korelasyon Katsayısı"
   ]
  },
  {
   "cell_type": "code",
   "execution_count": 11,
   "id": "7753fa43-ee2c-46cc-83c6-a49cc58b545b",
   "metadata": {},
   "outputs": [
    {
     "data": {
      "text/plain": [
       "0.5766634471096374"
      ]
     },
     "execution_count": 11,
     "metadata": {},
     "output_type": "execute_result"
    }
   ],
   "source": [
    "df['tip'].corr(df['bill']) # Bu yontem varsayimlar saglandiginda uygulanir. Yani bu islem pierson korelasyon katsayisini verir."
   ]
  },
  {
   "cell_type": "code",
   "execution_count": 14,
   "id": "95516fa6-6536-45db-85d2-5e0ebe68ee2b",
   "metadata": {},
   "outputs": [
    {
     "data": {
      "text/plain": [
       "0.593691939408997"
      ]
     },
     "execution_count": 14,
     "metadata": {},
     "output_type": "execute_result"
    }
   ],
   "source": [
    "df['tip'].corr(df['bill'], method='spearman') # method parametresini ekledigimizde spearman korelasyon katsayisini elde etmis olduk."
   ]
  },
  {
   "cell_type": "markdown",
   "id": "ce5b0f9c-fb1b-42e9-8150-3e82aa850801",
   "metadata": {},
   "source": [
    "Burada pozitif yönlü orta şiddetli bir korelasyon olduğunu görüyoruz."
   ]
  },
  {
   "cell_type": "markdown",
   "id": "42911c95-93d7-411a-a6f3-8ec8b060efa6",
   "metadata": {},
   "source": [
    "### Korelasyon Anlamlılığının Testi"
   ]
  },
  {
   "cell_type": "code",
   "execution_count": 22,
   "id": "9aac5a5e-1e81-40a1-bc9b-51bcb4065387",
   "metadata": {},
   "outputs": [
    {
     "data": {
      "text/plain": [
       "PearsonRResult(statistic=0.5766634471096381, pvalue=5.0182900849486195e-23)"
      ]
     },
     "execution_count": 22,
     "metadata": {},
     "output_type": "execute_result"
    }
   ],
   "source": [
    "from scipy.stats import pearsonr\n",
    "pearsonr(df.tip, df.bill)"
   ]
  },
  {
   "cell_type": "markdown",
   "id": "7889a409-7a18-4ad9-8ac9-7d51dc6723f8",
   "metadata": {},
   "source": [
    "Değişkenler arası anlamlı bir ilişki yoktur diyen H0 hipotezini reddediyoruz. Değişkenler arasında anlamlı bir ilişki vardır diyoruz."
   ]
  },
  {
   "cell_type": "markdown",
   "id": "0d297b59-437c-4067-92e6-8ddd7547d809",
   "metadata": {},
   "source": [
    "## Nonparametrik Korelasyon Testi"
   ]
  },
  {
   "cell_type": "markdown",
   "id": "3d2c51a6-d7c9-46ca-ab62-bf5d69caf351",
   "metadata": {},
   "source": [
    "Varsayımlar sağlanmadığında spearman veya Kendall Tau testleri kullanılır."
   ]
  },
  {
   "cell_type": "code",
   "execution_count": 27,
   "id": "d9966dd6-0ad5-4836-8ea1-06f8a4af5273",
   "metadata": {},
   "outputs": [
    {
     "name": "stdout",
     "output_type": "stream",
     "text": [
      "Korelasyon Katsayisi = 0.5937, p-değeri = 0.0000\n"
     ]
    }
   ],
   "source": [
    "from scipy.stats import spearmanr\n",
    "test_istatistigi, pvalue = spearmanr(df.tip, df.bill)\n",
    "print('Korelasyon Katsayisi = %.4f, p-değeri = %.4f' % (test_istatistigi, pvalue))"
   ]
  },
  {
   "cell_type": "code",
   "execution_count": 28,
   "id": "adb6dac8-9d4c-4b43-ad68-92ac95626e0e",
   "metadata": {},
   "outputs": [],
   "source": [
    "# Buradaki test istatistigi aslinda korelasyon katsayisidir."
   ]
  },
  {
   "cell_type": "code",
   "execution_count": 29,
   "id": "2612ec8e-b345-49b7-8b89-e1141d92a723",
   "metadata": {},
   "outputs": [
    {
     "name": "stdout",
     "output_type": "stream",
     "text": [
      "Korelasyon Katsayisi = 0.4401, p-değeri = 0.0000\n"
     ]
    }
   ],
   "source": [
    "from scipy.stats import kendalltau\n",
    "test_istatistigi, pvalue = kendalltau(df.tip, df.bill)\n",
    "print('Korelasyon Katsayisi = %.4f, p-değeri = %.4f' % (test_istatistigi, pvalue))"
   ]
  },
  {
   "cell_type": "markdown",
   "id": "39673fdf-5e70-47ae-aeeb-e2d845b40e39",
   "metadata": {},
   "source": [
    "Kendall testinde korelasyon katsayısı biraz daha düşük çıktı. Yani daha temkinli bir korelasyon değerine sahip diyebiliriz.  \n",
    "Değişkenler arası anlamlı bir ilişki yoktur diyen H0 hipotezini reddediyoruz. Değişkenler arasında anlamlı bir ilişki vardır diyoruz."
   ]
  },
  {
   "cell_type": "code",
   "execution_count": null,
   "id": "1ad80441-2a2a-43b2-b10a-93e3b3ba851c",
   "metadata": {},
   "outputs": [],
   "source": []
  }
 ],
 "metadata": {
  "kernelspec": {
   "display_name": "Python 3 (ipykernel)",
   "language": "python",
   "name": "python3"
  },
  "language_info": {
   "codemirror_mode": {
    "name": "ipython",
    "version": 3
   },
   "file_extension": ".py",
   "mimetype": "text/x-python",
   "name": "python",
   "nbconvert_exporter": "python",
   "pygments_lexer": "ipython3",
   "version": "3.11.5"
  }
 },
 "nbformat": 4,
 "nbformat_minor": 5
}
