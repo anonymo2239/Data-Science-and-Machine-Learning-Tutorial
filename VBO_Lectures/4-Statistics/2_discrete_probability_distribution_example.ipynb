{
 "cells": [
  {
   "cell_type": "markdown",
   "id": "4a4652d9-7286-49da-8fb9-6443a7ad5fb2",
   "metadata": {},
   "source": [
    "# Bernoulli Dağılımı"
   ]
  },
  {
   "cell_type": "code",
   "execution_count": 1,
   "id": "39eb8748-377b-47a5-bc63-e427d66b014d",
   "metadata": {},
   "outputs": [],
   "source": [
    "from scipy.stats import bernoulli"
   ]
  },
  {
   "cell_type": "code",
   "execution_count": 2,
   "id": "6b6d1c7a-fb30-4cc1-8b5e-c9c54ab2b4a0",
   "metadata": {},
   "outputs": [],
   "source": [
    "p = 0.6"
   ]
  },
  {
   "cell_type": "code",
   "execution_count": 5,
   "id": "4f4e71f6-8147-46db-b633-5f248c33cb19",
   "metadata": {},
   "outputs": [
    {
     "data": {
      "text/plain": [
       "0.4000000000000001"
      ]
     },
     "execution_count": 5,
     "metadata": {},
     "output_type": "execute_result"
    }
   ],
   "source": [
    "rv = bernoulli(p)\n",
    "rv.pmf(k=0)"
   ]
  },
  {
   "cell_type": "code",
   "execution_count": 6,
   "id": "2913d2ae-6451-4bf2-a601-1248e067629a",
   "metadata": {},
   "outputs": [
    {
     "data": {
      "text/plain": [
       "0.6"
      ]
     },
     "execution_count": 6,
     "metadata": {},
     "output_type": "execute_result"
    }
   ],
   "source": [
    "rv.pmf(k=1)"
   ]
  },
  {
   "cell_type": "code",
   "execution_count": null,
   "id": "cc559d4b-fe37-45e5-956c-bde563aae081",
   "metadata": {},
   "outputs": [],
   "source": []
  }
 ],
 "metadata": {
  "kernelspec": {
   "display_name": "Python 3 (ipykernel)",
   "language": "python",
   "name": "python3"
  },
  "language_info": {
   "codemirror_mode": {
    "name": "ipython",
    "version": 3
   },
   "file_extension": ".py",
   "mimetype": "text/x-python",
   "name": "python",
   "nbconvert_exporter": "python",
   "pygments_lexer": "ipython3",
   "version": "3.11.5"
  }
 },
 "nbformat": 4,
 "nbformat_minor": 5
}
