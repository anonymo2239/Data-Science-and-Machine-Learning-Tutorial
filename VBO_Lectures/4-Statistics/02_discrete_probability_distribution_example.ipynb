{
 "cells": [
  {
   "cell_type": "markdown",
   "id": "4a4652d9-7286-49da-8fb9-6443a7ad5fb2",
   "metadata": {},
   "source": [
    "# Bernoulli Distribution"
   ]
  },
  {
   "cell_type": "code",
   "execution_count": 1,
   "id": "39eb8748-377b-47a5-bc63-e427d66b014d",
   "metadata": {},
   "outputs": [],
   "source": [
    "from scipy.stats import bernoulli"
   ]
  },
  {
   "cell_type": "code",
   "execution_count": 2,
   "id": "6b6d1c7a-fb30-4cc1-8b5e-c9c54ab2b4a0",
   "metadata": {},
   "outputs": [],
   "source": [
    "p = 0.6"
   ]
  },
  {
   "cell_type": "code",
   "execution_count": 5,
   "id": "4f4e71f6-8147-46db-b633-5f248c33cb19",
   "metadata": {},
   "outputs": [
    {
     "data": {
      "text/plain": [
       "0.4000000000000001"
      ]
     },
     "execution_count": 5,
     "metadata": {},
     "output_type": "execute_result"
    }
   ],
   "source": [
    "rv = bernoulli(p)\n",
    "rv.pmf(k=0)"
   ]
  },
  {
   "cell_type": "code",
   "execution_count": 6,
   "id": "2913d2ae-6451-4bf2-a601-1248e067629a",
   "metadata": {},
   "outputs": [
    {
     "data": {
      "text/plain": [
       "0.6"
      ]
     },
     "execution_count": 6,
     "metadata": {},
     "output_type": "execute_result"
    }
   ],
   "source": [
    "rv.pmf(k=1)"
   ]
  },
  {
   "cell_type": "markdown",
   "id": "7cb8ea7c-3f79-42be-a93b-ac13488a3558",
   "metadata": {},
   "source": [
    "# Binomial Distribution"
   ]
  },
  {
   "attachments": {},
   "cell_type": "markdown",
   "id": "c863b9d1-6841-497f-8bc0-2a745078789c",
   "metadata": {},
   "source": [
    "![image.png](image1.png)"
   ]
  },
  {
   "cell_type": "markdown",
   "id": "59ad63b2-1007-4a44-874a-da536e277430",
   "metadata": {},
   "source": [
    "Bernoulli dağılımı olarak tıklama veya tıklamama olasılığı %1 iken 100 kişiden 1 kişinin tıklama olasılığı binomial olarak %37 e çıkıyor."
   ]
  },
  {
   "attachments": {},
   "cell_type": "markdown",
   "id": "c1c308cd-eaf4-4109-a27e-70e4e6654537",
   "metadata": {},
   "source": [
    "![image.png](image2.png)"
   ]
  },
  {
   "cell_type": "markdown",
   "id": "b4a718b5-1466-41b5-b99f-83bd9cf1cf49",
   "metadata": {},
   "source": [
    "\"100 reklam verildiğinde 10 kişinin tıklama olasılığı %0.0000007'dir. O halde 100 değil de 100*10^7 reklam verirsek 10 kişinin tıklama olasılığını %70'e çıkarmış oluruz.\"\n",
    "\n",
    "Bu yorum, olayın ölçeğini artırarak (daha fazla reklam göstererek) başarı oranını artırma fikrine dayanıyor, ancak tam 10 kişinin tıklama olasılığı üzerinden yapılan çıkarım hatalıdır. Deneme sayısı artırıldığında, tıklama sayısının beklenen değeri artar ama tam olarak 10 kişinin tıklama olasılığı artmaz."
   ]
  },
  {
   "cell_type": "code",
   "execution_count": 1,
   "id": "70e2ceb1-de04-4273-9fb9-d90cdcd6af6e",
   "metadata": {},
   "outputs": [],
   "source": [
    "from scipy.stats import binom"
   ]
  },
  {
   "cell_type": "code",
   "execution_count": 5,
   "id": "afc9e219-dc7a-4777-bc4d-c7e3712007e7",
   "metadata": {},
   "outputs": [
    {
     "name": "stdout",
     "output_type": "stream",
     "text": [
      "0.36972963764972666\n",
      "0.0028977871237614783\n",
      "7.006035693977194e-08\n",
      "9.900000000000106e-197\n"
     ]
    }
   ],
   "source": [
    "p = 0.01\n",
    "n = 100\n",
    "rv = binom(n, p)\n",
    "print(rv.pmf(1))\n",
    "print(rv.pmf(5))\n",
    "print(rv.pmf(10))\n",
    "print(rv.pmf(99))"
   ]
  },
  {
   "attachments": {},
   "cell_type": "markdown",
   "id": "c4279bac-520b-418f-9b41-1f3f09be211e",
   "metadata": {},
   "source": [
    "![image.png](image3.png)"
   ]
  },
  {
   "cell_type": "code",
   "execution_count": 13,
   "id": "c4410c6d-cce6-44c5-91f5-e2d5a72bc1ef",
   "metadata": {},
   "outputs": [
    {
     "data": {
      "text/plain": [
       "0.9999999999999999"
      ]
     },
     "execution_count": 13,
     "metadata": {},
     "output_type": "execute_result"
    }
   ],
   "source": [
    "rv.expect() # beklenen deger # 100 kisiden 1 kisi cikacagi icin 1"
   ]
  },
  {
   "cell_type": "code",
   "execution_count": 14,
   "id": "04467999-f177-4b26-a73d-cefe447cf7c9",
   "metadata": {},
   "outputs": [
    {
     "data": {
      "text/plain": [
       "0.99"
      ]
     },
     "execution_count": 14,
     "metadata": {},
     "output_type": "execute_result"
    }
   ],
   "source": [
    "rv.var() # varyans = 1, beklenen degerin etrafindaki dagılımın ne kadar genis oldugunu ifade eder"
   ]
  },
  {
   "cell_type": "markdown",
   "id": "d1938479-cdfa-453a-afc4-9f313363d115",
   "metadata": {},
   "source": [
    "# Poisson Distribution"
   ]
  },
  {
   "attachments": {},
   "cell_type": "markdown",
   "id": "de568685-6641-4a04-b162-44447bff3efd",
   "metadata": {},
   "source": [
    "![image.png](image4.png)"
   ]
  },
  {
   "attachments": {},
   "cell_type": "markdown",
   "id": "a0025faa-f914-462f-bf0d-c43eb546009d",
   "metadata": {},
   "source": [
    "![image.png](image5.png)"
   ]
  },
  {
   "cell_type": "code",
   "execution_count": 15,
   "id": "f3321f24-fc0e-4fd6-b6d2-7d05080189a6",
   "metadata": {},
   "outputs": [],
   "source": [
    "from scipy.stats import poisson"
   ]
  },
  {
   "cell_type": "code",
   "execution_count": 27,
   "id": "4cbabb7e-61c5-4552-afdc-2a6aa18e110b",
   "metadata": {},
   "outputs": [
    {
     "name": "stdout",
     "output_type": "stream",
     "text": [
      "0.9048374180359595\n",
      "0.00015080623633932676\n",
      "7.54031181696634e-08\n"
     ]
    }
   ],
   "source": [
    "lambda_ = 0.1\n",
    "rv = poisson(mu=lambda_)\n",
    "print(rv.pmf(k=0))\n",
    "print(rv.pmf(k=3))\n",
    "print(rv.pmf(k=5))"
   ]
  }
 ],
 "metadata": {
  "kernelspec": {
   "display_name": "Python 3 (ipykernel)",
   "language": "python",
   "name": "python3"
  },
  "language_info": {
   "codemirror_mode": {
    "name": "ipython",
    "version": 3
   },
   "file_extension": ".py",
   "mimetype": "text/x-python",
   "name": "python",
   "nbconvert_exporter": "python",
   "pygments_lexer": "ipython3",
   "version": "3.11.5"
  }
 },
 "nbformat": 4,
 "nbformat_minor": 5
}
