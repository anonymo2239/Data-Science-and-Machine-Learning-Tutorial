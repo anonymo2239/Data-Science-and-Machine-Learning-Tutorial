{
 "cells": [
  {
   "cell_type": "markdown",
   "id": "e83dea9b-f4ee-4ae3-bccd-6466743f638c",
   "metadata": {},
   "source": [
    "# Normal Distribution"
   ]
  },
  {
   "cell_type": "markdown",
   "id": "561c9829-3d1a-4012-adc1-0dc05d0bccd6",
   "metadata": {},
   "source": [
    "![image.png](image6.png)"
   ]
  },
  {
   "attachments": {},
   "cell_type": "markdown",
   "id": "4637a85d-e7cc-420a-beb8-ab459526f503",
   "metadata": {},
   "source": [
    "![image.png](image7.png)"
   ]
  },
  {
   "attachments": {},
   "cell_type": "markdown",
   "id": "c653858c-00d1-45b2-b197-66e0be81b76d",
   "metadata": {},
   "source": [
    "![image.png](image8.png)"
   ]
  },
  {
   "attachments": {},
   "cell_type": "markdown",
   "id": "4c63a61e-1e59-466b-bf71-272a65e4aab9",
   "metadata": {},
   "source": [
    "![image.png](image9.png)"
   ]
  },
  {
   "attachments": {},
   "cell_type": "markdown",
   "id": "22f5e753-c7d2-4846-91e5-5e1104f99997",
   "metadata": {},
   "source": [
    "![imagee10.png](imagee10.png)"
   ]
  },
  {
   "cell_type": "code",
   "execution_count": 1,
   "id": "3067aff9-e8ab-4053-a859-41c8b0304321",
   "metadata": {},
   "outputs": [],
   "source": [
    "from scipy.stats import norm"
   ]
  },
  {
   "cell_type": "code",
   "execution_count": 2,
   "id": "9137977a-4b62-4ffe-86b0-8141b4f7bc65",
   "metadata": {},
   "outputs": [
    {
     "data": {
      "text/plain": [
       "0.02275013194817921"
      ]
     },
     "execution_count": 2,
     "metadata": {},
     "output_type": "execute_result"
    }
   ],
   "source": [
    "1 - norm.cdf(90, 80, 5) # hatirlarsak: discrete'te pmf idi, continuous'da ise cdf'tir(cumulative density function).\n",
    "# 90 = hesaplamak istedigimiz deger\n",
    "# 80 = mean \n",
    "# 5 = sd\n",
    "# 1'den cikarma sebebimiz, 90 dan buyuk durumlarin olasiligini hesaplamakti. (Tum alanin integrali - 90)'dan kucuk alanin integrali islemini yapmis olduk. (-sonsuzdan 90'a gibi)"
   ]
  },
  {
   "cell_type": "code",
   "execution_count": 3,
   "id": "13faa615-45aa-4823-a844-80c18affa71d",
   "metadata": {},
   "outputs": [
    {
     "data": {
      "text/plain": [
       "0.9772498680518208"
      ]
     },
     "execution_count": 3,
     "metadata": {},
     "output_type": "execute_result"
    }
   ],
   "source": [
    "1 - norm.cdf(70, 80, 5) # 70'ten fazla olmasi"
   ]
  },
  {
   "cell_type": "code",
   "execution_count": 4,
   "id": "b3c21d0b-3543-4261-b0f1-100fdd30d88f",
   "metadata": {},
   "outputs": [
    {
     "data": {
      "text/plain": [
       "0.08075665923377107"
      ]
     },
     "execution_count": 4,
     "metadata": {},
     "output_type": "execute_result"
    }
   ],
   "source": [
    "norm.cdf(73, 80, 5) # 73'ten kucuk olmasi"
   ]
  },
  {
   "cell_type": "code",
   "execution_count": 5,
   "id": "b85851fa-0772-424c-a26b-69e070e014bf",
   "metadata": {},
   "outputs": [
    {
     "data": {
      "text/plain": [
       "0.13590512198327787"
      ]
     },
     "execution_count": 5,
     "metadata": {},
     "output_type": "execute_result"
    }
   ],
   "source": [
    "norm.cdf(90, 80, 5) - norm.cdf(85, 80, 5)"
   ]
  },
  {
   "cell_type": "code",
   "execution_count": null,
   "id": "4bebf910-61f4-4481-a751-8c31ea0ee02a",
   "metadata": {},
   "outputs": [],
   "source": []
  }
 ],
 "metadata": {
  "kernelspec": {
   "display_name": "Python 3 (ipykernel)",
   "language": "python",
   "name": "python3"
  },
  "language_info": {
   "codemirror_mode": {
    "name": "ipython",
    "version": 3
   },
   "file_extension": ".py",
   "mimetype": "text/x-python",
   "name": "python",
   "nbconvert_exporter": "python",
   "pygments_lexer": "ipython3",
   "version": "3.11.5"
  }
 },
 "nbformat": 4,
 "nbformat_minor": 5
}
