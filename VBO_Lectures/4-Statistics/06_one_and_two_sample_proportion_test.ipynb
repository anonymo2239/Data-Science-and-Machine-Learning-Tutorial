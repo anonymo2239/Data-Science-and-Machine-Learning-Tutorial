{
 "cells": [
  {
   "cell_type": "markdown",
   "id": "629be656-863c-4a6e-938c-bce71f6d9db0",
   "metadata": {},
   "source": [
    "# Tek Örneklem Oran Testi"
   ]
  },
  {
   "cell_type": "markdown",
   "id": "ce5aaf7c-68f6-40c9-b94f-8ac8bc29488a",
   "metadata": {},
   "source": [
    "Anakitle üzerinden oransal bir ifade(a/b) hakkında yapılan yorumu, alınan bir örneklem üzerinden test edilmesi işlemidir."
   ]
  },
  {
   "cell_type": "markdown",
   "id": "ab292701-a73e-4fb7-a60d-0513fc3c5eb6",
   "metadata": {},
   "source": [
    "Oransal bir ifade test edilmek istenildiğinde kullanılır."
   ]
  },
  {
   "attachments": {},
   "cell_type": "markdown",
   "id": "148f4365-9766-4208-a6e4-a722dedb9a2b",
   "metadata": {},
   "source": [
    "![image.png](imagee22.png)"
   ]
  },
  {
   "cell_type": "markdown",
   "id": "7d8babbb-f1b8-43e7-a1fe-86e74ac85edd",
   "metadata": {},
   "source": [
    "Hipotezler"
   ]
  },
  {
   "attachments": {},
   "cell_type": "markdown",
   "id": "1393f32c-5c79-470f-ba0c-2d40518fe137",
   "metadata": {},
   "source": [
    "![image.png](imagee23.png)"
   ]
  },
  {
   "cell_type": "markdown",
   "id": "076942c0-7646-4b36-adfb-cac3f649ca45",
   "metadata": {},
   "source": [
    "Test istatistiği"
   ]
  },
  {
   "attachments": {},
   "cell_type": "markdown",
   "id": "aa0b8d2d-d50b-49d3-9637-7bfab7cab980",
   "metadata": {},
   "source": [
    "Varsayım: n > 30 olması\n",
    "\n",
    "Bu varsayım sağlanıyorsa bu testi gerçekleştirebiliyoruz."
   ]
  },
  {
   "cell_type": "markdown",
   "id": "0f11ed6c-bc41-48dd-a556-595254a4f209",
   "metadata": {},
   "source": [
    "## Business Practice"
   ]
  },
  {
   "cell_type": "markdown",
   "id": "aa615795-e8f0-4e4b-a6df-cfd29e429371",
   "metadata": {},
   "source": [
    "Dönüşüm Oranı: Örneğin 100 kişiye reklam gösterildi. 1 kişi tıkladı. Dönüşüm oranı 1/100'dür."
   ]
  },
  {
   "cell_type": "markdown",
   "id": "b2f72f4f-4e79-4a4d-95f4-896d684f4120",
   "metadata": {},
   "source": [
    "![image.png](imagee24.png)"
   ]
  },
  {
   "cell_type": "markdown",
   "id": "3be36aaf-dbd2-4ef9-98bf-66f396ada8cc",
   "metadata": {},
   "source": [
    "H0: p = 0.125\n",
    "\n",
    "H1: p != 0.125"
   ]
  },
  {
   "cell_type": "code",
   "execution_count": 1,
   "id": "49576ed3-43dc-4408-8e8d-1a5820177e9b",
   "metadata": {},
   "outputs": [],
   "source": [
    "from statsmodels.stats.proportion import proportions_ztest"
   ]
  },
  {
   "cell_type": "code",
   "execution_count": 2,
   "id": "2463d0a0-c7ae-47ce-b020-0b07748c45b4",
   "metadata": {},
   "outputs": [],
   "source": [
    "count = 40 # 40 kere basari yakalamistik\n",
    "nobs = 500 # number of observation = nobs\n",
    "value = 0.125"
   ]
  },
  {
   "cell_type": "code",
   "execution_count": 3,
   "id": "94f60a7a-acd6-40dc-ab9b-52a747b316d4",
   "metadata": {},
   "outputs": [
    {
     "data": {
      "text/plain": [
       "(-3.7090151628513017, 0.0002080669689845979)"
      ]
     },
     "execution_count": 3,
     "metadata": {},
     "output_type": "execute_result"
    }
   ],
   "source": [
    "proportions_ztest(count, nobs, value) # p value < 0.05 oldugu icin 'donusum orani 0.125'ten farklidir.' deriz."
   ]
  },
  {
   "cell_type": "markdown",
   "id": "37264f5f-fb56-4c88-af6b-a5af867fb3ba",
   "metadata": {},
   "source": [
    "# İki Örneklem Oran Testi"
   ]
  },
  {
   "cell_type": "markdown",
   "id": "3e5949c5-0c2f-4c1f-bade-b1c2ee160b36",
   "metadata": {},
   "source": [
    "İki örneklemin oransal değerleri arasında karşılaştırma yapmak için kullanılır."
   ]
  },
  {
   "attachments": {},
   "cell_type": "markdown",
   "id": "c52835d8-d84f-495a-b45b-9d088526afc7",
   "metadata": {},
   "source": [
    "![image.png](imagee35.png)"
   ]
  },
  {
   "attachments": {},
   "cell_type": "markdown",
   "id": "93510a49-b62a-4d4a-be50-f90781feb5f6",
   "metadata": {},
   "source": [
    "![image.png](imagee36.png)"
   ]
  },
  {
   "attachments": {},
   "cell_type": "markdown",
   "id": "a00b7973-f9d4-42d5-863c-ed143d70d669",
   "metadata": {},
   "source": [
    "![image.png](imagee37.png)"
   ]
  },
  {
   "cell_type": "markdown",
   "id": "b06db20e-aab9-492d-90ef-01ead5767820",
   "metadata": {},
   "source": [
    "## Business Practice"
   ]
  },
  {
   "attachments": {},
   "cell_type": "markdown",
   "id": "88171762-af11-48e5-892c-2aad5f69e83c",
   "metadata": {},
   "source": [
    "![image.png](imagee38.png)"
   ]
  },
  {
   "cell_type": "markdown",
   "id": "86551071-0868-44c2-bceb-207a2db97ff1",
   "metadata": {},
   "source": [
    "İki oran arasındaki kıyaslamayı yapacağız. Bu resimde, buton renginden dolayı tıklama oranları karşılaştırılıyor. "
   ]
  },
  {
   "attachments": {},
   "cell_type": "markdown",
   "id": "0b569c31-cacb-4d2e-9a08-91034d2228ad",
   "metadata": {},
   "source": [
    "![image.png](imagee39.png)"
   ]
  },
  {
   "cell_type": "code",
   "execution_count": 1,
   "id": "6bc3dbc4-f1c7-4c33-a5b8-25498636c48b",
   "metadata": {},
   "outputs": [],
   "source": [
    "from statsmodels.stats.proportion import proportions_ztest"
   ]
  },
  {
   "cell_type": "code",
   "execution_count": 4,
   "id": "1a838e0b-0d89-4629-ac46-57f6f7ad3f69",
   "metadata": {},
   "outputs": [],
   "source": [
    "import numpy as np\n",
    "count = np.array([300, 250])\n",
    "nobs = np.array([1000, 1100])\n",
    "# zaten n>30 oldugu icin kontrol saglamamiza gerek kalmadi."
   ]
  },
  {
   "cell_type": "code",
   "execution_count": 5,
   "id": "605a5681-810a-42c9-ba69-891b78a517b3",
   "metadata": {},
   "outputs": [
    {
     "data": {
      "text/plain": [
       "(3.7857863233209255, 0.0001532232957772221)"
      ]
     },
     "execution_count": 5,
     "metadata": {},
     "output_type": "execute_result"
    }
   ],
   "source": [
    "proportions_ztest(count=count, nobs=nobs)"
   ]
  },
  {
   "cell_type": "markdown",
   "id": "7d95b31a-d5e6-466c-918d-58755a8f0ed4",
   "metadata": {},
   "source": [
    "H0 hipotezini reddederiz. Bu iki oran birbiriyle istatistiki olarak eşit değildir. Oransal olarak P1 daha yüksek tıklama oranına sahiptir.(6/20 > 5/22) Bundan dolayı yeşil butonu seçmeliyiz."
   ]
  },
  {
   "cell_type": "code",
   "execution_count": null,
   "id": "2a186ee2-0040-4d81-b11a-52d559121615",
   "metadata": {},
   "outputs": [],
   "source": []
  }
 ],
 "metadata": {
  "kernelspec": {
   "display_name": "Python 3 (ipykernel)",
   "language": "python",
   "name": "python3"
  },
  "language_info": {
   "codemirror_mode": {
    "name": "ipython",
    "version": 3
   },
   "file_extension": ".py",
   "mimetype": "text/x-python",
   "name": "python",
   "nbconvert_exporter": "python",
   "pygments_lexer": "ipython3",
   "version": "3.11.5"
  }
 },
 "nbformat": 4,
 "nbformat_minor": 5
}
