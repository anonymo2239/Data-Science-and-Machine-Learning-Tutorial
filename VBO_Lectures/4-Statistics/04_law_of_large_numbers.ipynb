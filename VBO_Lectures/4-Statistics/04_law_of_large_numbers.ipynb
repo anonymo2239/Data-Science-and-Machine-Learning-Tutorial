{
 "cells": [
  {
   "cell_type": "markdown",
   "id": "39571c1e-bf5e-4d9a-8531-217fe21c9b68",
   "metadata": {},
   "source": [
    "# Büyük Sayılar Yasası"
   ]
  },
  {
   "cell_type": "markdown",
   "id": "63a3ef66-2ebf-44f3-841b-016dd91927f3",
   "metadata": {},
   "source": [
    "Bir rassal değişkenin uzun vadeli kararlılığını tanımlayan olasılık teoremidir."
   ]
  },
  {
   "cell_type": "code",
   "execution_count": 1,
   "id": "9567b5fb-58b4-4a95-bb31-46a4d6b59ef2",
   "metadata": {},
   "outputs": [
    {
     "name": "stdout",
     "output_type": "stream",
     "text": [
      "Atış Sayısı: 2 --- Yazı Olasılığı: 0.00000\n",
      "Atış Sayısı: 4 --- Yazı Olasılığı: 0.75000\n",
      "Atış Sayısı: 8 --- Yazı Olasılığı: 0.25000\n",
      "Atış Sayısı: 16 --- Yazı Olasılığı: 0.43750\n",
      "Atış Sayısı: 32 --- Yazı Olasılığı: 0.59375\n",
      "Atış Sayısı: 64 --- Yazı Olasılığı: 0.43750\n",
      "Atış Sayısı: 128 --- Yazı Olasılığı: 0.58594\n",
      "Atış Sayısı: 256 --- Yazı Olasılığı: 0.49609\n",
      "Atış Sayısı: 512 --- Yazı Olasılığı: 0.50977\n",
      "Atış Sayısı: 1024 --- Yazı Olasılığı: 0.52148\n",
      "Atış Sayısı: 2048 --- Yazı Olasılığı: 0.50244\n",
      "Atış Sayısı: 4096 --- Yazı Olasılığı: 0.50000\n",
      "Atış Sayısı: 8192 --- Yazı Olasılığı: 0.49902\n",
      "Atış Sayısı: 16384 --- Yazı Olasılığı: 0.50055\n",
      "Atış Sayısı: 32768 --- Yazı Olasılığı: 0.50046\n",
      "Atış Sayısı: 65536 --- Yazı Olasılığı: 0.50064\n",
      "Atış Sayısı: 131072 --- Yazı Olasılığı: 0.49751\n",
      "Atış Sayısı: 262144 --- Yazı Olasılığı: 0.49910\n",
      "Atış Sayısı: 524288 --- Yazı Olasılığı: 0.50014\n",
      "Atış Sayısı: 1048576 --- Yazı Olasılığı: 0.50037\n"
     ]
    }
   ],
   "source": [
    "import numpy as np\n",
    "\n",
    "rng = np.random.RandomState(124)\n",
    "for i in np.arange(1, 21):\n",
    "    deney_sayisi = 2**i\n",
    "    yazi_turalar = rng.randint(0, 2, size=deney_sayisi)\n",
    "    yazi_olasiliklari = np.mean(yazi_turalar)\n",
    "    print(\"Atış Sayısı:\", deney_sayisi, \"---\", 'Yazı Olasılığı: %.5f' % (yazi_olasiliklari)) # % isareti, string ifade icerisindeki % isaretini birbirine baglar."
   ]
  },
  {
   "cell_type": "code",
   "execution_count": null,
   "id": "8eaac45e-8bd8-43b3-a416-f2b91567b24f",
   "metadata": {},
   "outputs": [],
   "source": []
  }
 ],
 "metadata": {
  "kernelspec": {
   "display_name": "Python 3 (ipykernel)",
   "language": "python",
   "name": "python3"
  },
  "language_info": {
   "codemirror_mode": {
    "name": "ipython",
    "version": 3
   },
   "file_extension": ".py",
   "mimetype": "text/x-python",
   "name": "python",
   "nbconvert_exporter": "python",
   "pygments_lexer": "ipython3",
   "version": "3.11.5"
  }
 },
 "nbformat": 4,
 "nbformat_minor": 5
}
