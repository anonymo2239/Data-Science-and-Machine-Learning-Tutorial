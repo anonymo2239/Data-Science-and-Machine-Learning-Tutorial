{
 "cells": [
  {
   "cell_type": "markdown",
   "id": "ce4e8472-acc5-45fd-8c05-06f62df2b719",
   "metadata": {},
   "source": [
    "# Büyük Veri Nedir?"
   ]
  },
  {
   "cell_type": "markdown",
   "id": "9acf750f-03ab-4e2a-b70b-c58f6279e748",
   "metadata": {},
   "source": [
    "Geleneksel yöntemlerle işlenemeyen verilere büyük veri denir. İki adet tanımdan bahsedebiliriz."
   ]
  },
  {
   "cell_type": "markdown",
   "id": "9cd8b4c2-a4b0-4777-81ce-986500f72a5c",
   "metadata": {},
   "source": [
    "1) **Büyük Veri bir problemdir.**\n",
    "   Verinin büyüklüğü ve çeşitliliği artmasıyla tutma, saklama, işlemesi ile ilgili problemlerin çıkmasıdır."
   ]
  },
  {
   "cell_type": "markdown",
   "id": "e22821d3-3ced-41cf-be86-cfa8ca7dc937",
   "metadata": {},
   "source": [
    "2. Pazarlama dünyasında her şeyin kurtarıcısı ve çözümcüsü olarak algılanan kısımdır."
   ]
  },
  {
   "cell_type": "markdown",
   "id": "d3a0e96d-e740-40c4-8062-92d32949b631",
   "metadata": {},
   "source": [
    "Büyük Veri de tıpkı yapay zeka gibi zamanında çokça büyütülmüştür abartılmıştır. Biz Büyük Veri'yi, biraz daha geniş bir vizyon ile veriyi incelememize yarayan bir çözüm olarak görmeliyiz."
   ]
  },
  {
   "cell_type": "markdown",
   "id": "3b4d3e1d-a314-4995-b243-642d946d0d41",
   "metadata": {},
   "source": [
    "### Bu bir problem ise çözümü nedir?"
   ]
  },
  {
   "cell_type": "markdown",
   "id": "f61b4dd0-5022-4ed8-aa3e-206ec76eff64",
   "metadata": {},
   "source": [
    "Bu problemin çözümü birden fazla bilgisayarın bir araya gelerek tek bir bilgisayar gibi hareket etmesidir. Yani bir işi yapmak için birden fazla bilgisayarın tek bir bilgisayar gibi davranmasıdır."
   ]
  },
  {
   "cell_type": "markdown",
   "id": "c6ff703c-5e2a-4c6f-a600-effbe4551474",
   "metadata": {},
   "source": [
    "### Bu problemin çözülmesi bize ne kazandırdı?"
   ]
  },
  {
   "cell_type": "markdown",
   "id": "9740600d-0045-41b8-aa0d-6df2dbba27ec",
   "metadata": {},
   "source": [
    "Veri analitiği alanında yeni ufuklar açtı, hesaplama gücünün artmasıyla makine öğrenmesi algoritmalarının performansları arttı. Daha büyük miktar ve çeşitteki verilerin kullanılması ile veriden faydalı bilgi çıkarma süreci için çok önemli bir kaynak sağlanmış oldu."
   ]
  },
  {
   "cell_type": "markdown",
   "id": "55b82814-f5e3-4f27-af9f-6f5a4f12848b",
   "metadata": {},
   "source": [
    "Büyük veri büyük nimettir. Büyük veri, veri odaklı çalışanlar için büyük bir zenginlik, yeni keşifler için zemin ve dünyaya veri penceresinden olan bakış açımızı değiştiren bir vizyondur."
   ]
  },
  {
   "attachments": {},
   "cell_type": "markdown",
   "id": "da9f75fe-7df3-4c8c-a6d3-c0a5c9956a05",
   "metadata": {},
   "source": [
    "![image.png](image01.png)"
   ]
  },
  {
   "cell_type": "markdown",
   "id": "04f2824d-d644-44b1-a50a-587214299ff6",
   "metadata": {},
   "source": [
    "Bir veriyi örneğin MSSQL'de tutamıyorsam büyük veridir. İlla petabayt ve real time olmasına gerek yok. Kısaca, geleneksel yöntemlerle işlenemeyen veri."
   ]
  },
  {
   "cell_type": "markdown",
   "id": "91887119-4800-40b2-b7fd-039af0ea8f0f",
   "metadata": {},
   "source": [
    "Bu 3V normal bir veride de olabilir."
   ]
  }
 ],
 "metadata": {
  "kernelspec": {
   "display_name": "Python 3 (ipykernel)",
   "language": "python",
   "name": "python3"
  },
  "language_info": {
   "codemirror_mode": {
    "name": "ipython",
    "version": 3
   },
   "file_extension": ".py",
   "mimetype": "text/x-python",
   "name": "python",
   "nbconvert_exporter": "python",
   "pygments_lexer": "ipython3",
   "version": "3.11.0"
  }
 },
 "nbformat": 4,
 "nbformat_minor": 5
}
