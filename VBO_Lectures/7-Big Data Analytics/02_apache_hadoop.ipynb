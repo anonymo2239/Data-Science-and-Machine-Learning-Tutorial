{
 "cells": [
  {
   "attachments": {},
   "cell_type": "markdown",
   "id": "ec6edca2-691c-4a53-b023-924c38ef5e1b",
   "metadata": {},
   "source": [
    "![image.png](image02.png)"
   ]
  },
  {
   "attachments": {},
   "cell_type": "markdown",
   "id": "c0b640e1-e31c-4f52-a730-783520f298f0",
   "metadata": {},
   "source": [
    "![image.png](image03.png)"
   ]
  },
  {
   "cell_type": "markdown",
   "id": "bd135955-7514-46e5-8a55-4b8f67ee1a26",
   "metadata": {},
   "source": [
    "![image.png](image04.png)"
   ]
  },
  {
   "attachments": {},
   "cell_type": "markdown",
   "id": "c2f3b3d6-39e7-437f-b508-b2a45e0e25a4",
   "metadata": {},
   "source": [
    "![image.png](image05.png)"
   ]
  },
  {
   "attachments": {},
   "cell_type": "markdown",
   "id": "4c05ad4e-98b7-4e66-8836-425b53238096",
   "metadata": {},
   "source": [
    "![image.png](image06.png)"
   ]
  },
  {
   "cell_type": "markdown",
   "id": "615bcdc9-7002-4f6d-ac48-a68a6dcbef0f",
   "metadata": {},
   "source": []
  },
  {
   "cell_type": "markdown",
   "id": "29e07e33-120b-45f8-b83c-c45abc67e680",
   "metadata": {},
   "source": []
  },
  {
   "cell_type": "markdown",
   "id": "4d56d218-8a03-4e54-b06a-8a94bea9064d",
   "metadata": {},
   "source": []
  }
 ],
 "metadata": {
  "kernelspec": {
   "display_name": "Python 3 (ipykernel)",
   "language": "python",
   "name": "python3"
  },
  "language_info": {
   "codemirror_mode": {
    "name": "ipython",
    "version": 3
   },
   "file_extension": ".py",
   "mimetype": "text/x-python",
   "name": "python",
   "nbconvert_exporter": "python",
   "pygments_lexer": "ipython3",
   "version": "3.11.0"
  }
 },
 "nbformat": 4,
 "nbformat_minor": 5
}
