{
 "cells": [
  {
   "attachments": {},
   "cell_type": "markdown",
   "id": "3190e2cf-5178-41c5-8f64-cb4fcc5eac34",
   "metadata": {},
   "source": [
    "![image.png](image07.png)"
   ]
  },
  {
   "cell_type": "markdown",
   "id": "8c49a942-f81c-4744-a158-04e5530b9d04",
   "metadata": {},
   "source": [
    "Apache Spark; Apache Hadoop framework'ünün bir alternatifi değil, onun üstüne kurulmuş ve map reduce algoritmasından farklı bir algoritma kullanan bir framework'tür."
   ]
  },
  {
   "attachments": {},
   "cell_type": "markdown",
   "id": "0fecf3a6-939b-4b7b-887e-e3ffdfba3410",
   "metadata": {},
   "source": [
    "![image.png](image08.png)"
   ]
  },
  {
   "attachments": {},
   "cell_type": "markdown",
   "id": "e977bcbc-d043-4374-8ac5-0d488339b7cd",
   "metadata": {},
   "source": [
    "![image.png](image10.png)"
   ]
  },
  {
   "attachments": {},
   "cell_type": "markdown",
   "id": "2a59a600-6159-4d46-b545-ca2b34225ff7",
   "metadata": {},
   "source": [
    "![image.png](image11.png)"
   ]
  },
  {
   "cell_type": "markdown",
   "id": "2eab27aa-4e31-4d3b-9423-82fe3635f3c2",
   "metadata": {},
   "source": [
    "### 🔸 **MapReduce**  \n",
    "**Disk tabanlıdır**. Her işlem sonrası sonuçlar diske yazılır, sonraki işlem diskten tekrar okur.  \n",
    "- Örn: M1 → disk → R1  \n",
    "- Bu **yavaş** ve **I/O maliyeti yüksektir**.\n",
    "\n",
    "---\n",
    "\n",
    "### 🔸 **RDD (Resilient Distributed Dataset)**  \n",
    "**Bellek (RAM) tabanlıdır**. Ara sonuçlar bellekte tutulur.  \n",
    "- Yani: MR1 → bellek → MR2 → bellek  \n",
    "- Bu da **daha hızlıdır** çünkü disk okuma-yazma azdır.\n",
    "\n",
    "---\n",
    "\n",
    "### 🔁 Kısaca:  \n",
    "- **MapReduce:** Her adımda diske yaz → diski oku (yavaş)  \n",
    "- **Spark RDD:** Bellekte tut, gerektiğinde tekrar kullan (hızlı)\n",
    "\n",
    "İşte Spark'ın Hadoop’a göre çok daha hızlı olmasının temel nedeni bu."
   ]
  },
  {
   "cell_type": "markdown",
   "id": "1b85969d-07c5-4056-977a-24280811ae8b",
   "metadata": {},
   "source": [
    "Hadoop 3 maddede:  \n",
    "1) Big Data dünyasının temeli olması\n",
    "2) HDFS sistemi\n",
    "3) MapReduce paralel programlama mimarisini kullanması"
   ]
  },
  {
   "cell_type": "markdown",
   "id": "8cf406bc-a972-4241-8a5e-b038d3cf3594",
   "metadata": {},
   "source": [
    "HDFS açılımı: Hadoop Distributed File System\n",
    "\n",
    "Kısaca:\n",
    "\n",
    "📦 Büyük veriyi parçalara bölerek birden fazla makineye dağıtılmış şekilde depolayan dosya sistemidir.\n",
    "\n",
    "🔁 Veriler çoğaltılır (replication) → veri kaybına karşı dayanıklıdır.\n",
    "⚙️ Büyük veri işlemede temel depolama altyapısıdır.\n",
    "\n",
    "Kısaca: \"Büyük veriyi güvenli, dağıtık ve erişilebilir şekilde saklayan Hadoop'un dosya sistemidir.\""
   ]
  },
  {
   "cell_type": "markdown",
   "id": "4bdfbbc1-9eeb-4a8d-8c6d-e8bdcfe1646f",
   "metadata": {},
   "source": [
    "* PySpark, Apache Spark'ın Python API'sidir ve büyük veriyi Python diliyle hızlıca işleyip analiz etmeni sağlar."
   ]
  },
  {
   "cell_type": "markdown",
   "id": "c310d1a9-4b14-4414-bfe7-1bf706033b74",
   "metadata": {},
   "source": []
  },
  {
   "cell_type": "markdown",
   "id": "8467fc64-0527-4116-a58a-29d345ed0a27",
   "metadata": {},
   "source": []
  }
 ],
 "metadata": {
  "kernelspec": {
   "display_name": "Python 3 (ipykernel)",
   "language": "python",
   "name": "python3"
  },
  "language_info": {
   "codemirror_mode": {
    "name": "ipython",
    "version": 3
   },
   "file_extension": ".py",
   "mimetype": "text/x-python",
   "name": "python",
   "nbconvert_exporter": "python",
   "pygments_lexer": "ipython3",
   "version": "3.11.0"
  }
 },
 "nbformat": 4,
 "nbformat_minor": 5
}
