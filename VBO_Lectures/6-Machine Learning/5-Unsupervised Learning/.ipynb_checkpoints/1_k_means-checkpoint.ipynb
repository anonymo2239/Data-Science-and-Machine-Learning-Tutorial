{
 "cells": [
  {
   "cell_type": "markdown",
   "id": "89cd919a-c530-4362-beb3-a5774e556f5c",
   "metadata": {},
   "source": [
    "# Gözetimsiz Öğrenme"
   ]
  },
  {
   "cell_type": "markdown",
   "id": "31d7cfee-5eaf-4f07-b7fb-6c455fe9b177",
   "metadata": {},
   "source": [
    "Makine öğrenmesi modellerinde, bağımlı değişken elimizde olmadığı durumlarda, gözlem birimlerinin bir şekilde anlamlı hale getirilmesi çabasıdır."
   ]
  },
  {
   "cell_type": "markdown",
   "id": "e74db010-a93f-4e9a-b050-f482a5bea567",
   "metadata": {},
   "source": [
    "# K-Means "
   ]
  },
  {
   "cell_type": "markdown",
   "id": "d43c6710-415a-4f25-bb89-2b8f4263933d",
   "metadata": {},
   "source": [
    "## Teori"
   ]
  },
  {
   "cell_type": "markdown",
   "id": "9d0621b6-bdb8-4ecd-b3ae-136169abfd66",
   "metadata": {},
   "source": [
    "Amaç gözlemleri birbirlerine olan benzerliklerine göre kümelere ayırmaktır."
   ]
  },
  {
   "cell_type": "code",
   "execution_count": null,
   "id": "1767b7b6-da14-42f8-b22e-2ca709236b8f",
   "metadata": {},
   "outputs": [],
   "source": []
  }
 ],
 "metadata": {
  "kernelspec": {
   "display_name": "Python 3 (ipykernel)",
   "language": "python",
   "name": "python3"
  },
  "language_info": {
   "codemirror_mode": {
    "name": "ipython",
    "version": 3
   },
   "file_extension": ".py",
   "mimetype": "text/x-python",
   "name": "python",
   "nbconvert_exporter": "python",
   "pygments_lexer": "ipython3",
   "version": "3.13.5"
  }
 },
 "nbformat": 4,
 "nbformat_minor": 5
}
