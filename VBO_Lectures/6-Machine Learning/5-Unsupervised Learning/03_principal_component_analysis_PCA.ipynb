{
 "cells": [
  {
   "cell_type": "markdown",
   "id": "a3a791fd-9f85-4135-bdd6-1ea96f9582ea",
   "metadata": {},
   "source": [
    "# Temel Bileşen Analizi (PCA)"
   ]
  },
  {
   "cell_type": "markdown",
   "id": "6aea9aa2-968c-40fd-bceb-c13fdb0aa0e7",
   "metadata": {},
   "source": [
    "Temel fikir, çok değişkenli verinin ana özelliklerini daha az sayıda değişken/bileşen ile temsil etmektir."
   ]
  },
  {
   "cell_type": "markdown",
   "id": "bc25a901-8f22-4034-88d2-b9486b5717c1",
   "metadata": {},
   "source": [
    "Diğer bir ifade ile, küçük miktarda bir bilgi kaybını göze alıp değişken boyutunu azaltmaktır."
   ]
  },
  {
   "cell_type": "code",
   "execution_count": null,
   "id": "6dceb129-27d2-4753-ad2d-c601ab023da1",
   "metadata": {},
   "outputs": [],
   "source": []
  }
 ],
 "metadata": {
  "kernelspec": {
   "display_name": "Python 3 (ipykernel)",
   "language": "python",
   "name": "python3"
  },
  "language_info": {
   "codemirror_mode": {
    "name": "ipython",
    "version": 3
   },
   "file_extension": ".py",
   "mimetype": "text/x-python",
   "name": "python",
   "nbconvert_exporter": "python",
   "pygments_lexer": "ipython3",
   "version": "3.13.7"
  }
 },
 "nbformat": 4,
 "nbformat_minor": 5
}
