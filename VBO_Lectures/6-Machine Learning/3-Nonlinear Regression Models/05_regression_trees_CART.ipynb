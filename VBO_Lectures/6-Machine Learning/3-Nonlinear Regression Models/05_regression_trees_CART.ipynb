{
 "cells": [
  {
   "cell_type": "markdown",
   "id": "2b73ab46-cb27-4b5e-bfb9-6a85f8edc34b",
   "metadata": {},
   "source": [
    "# Classification and Regression Trees (CART)"
   ]
  },
  {
   "cell_type": "markdown",
   "id": "1f97a3b8-d031-4894-9c75-942ac05d32e4",
   "metadata": {},
   "source": [
    "Amaç, veri seti içerisindeki karmaşık yapıları basit karar yapılarına dönüştürmektir.  \n",
    "Heterojen veri setleri, belirlenmiş bir hedef değişkene göre homojen alt gruplara ayrılır."
   ]
  },
  {
   "cell_type": "markdown",
   "id": "64ce6678-60f3-4479-92e8-dd5b2281c471",
   "metadata": {},
   "source": [
    "Random Forest algoritması da bu algoritmayı temel alır. İki algoritmayı da Leo Breiman icat etmiştir."
   ]
  },
  {
   "attachments": {},
   "cell_type": "markdown",
   "id": "1854d3d8-a4dc-48c8-b8b3-c2def8d0cf00",
   "metadata": {},
   "source": [
    "![image.png](image11.png)"
   ]
  },
  {
   "cell_type": "markdown",
   "id": "f7e34ba8-3271-433d-abc2-83ab2c17c2b7",
   "metadata": {},
   "source": []
  },
  {
   "cell_type": "markdown",
   "id": "b3329c5b-9b2c-41a3-89e1-9466ce7126df",
   "metadata": {},
   "source": []
  },
  {
   "cell_type": "markdown",
   "id": "5c765664-f103-40b5-b0d3-d383430d4295",
   "metadata": {},
   "source": []
  },
  {
   "cell_type": "markdown",
   "id": "fbca6513-1acf-45ef-bf3b-06b698bff2db",
   "metadata": {},
   "source": []
  },
  {
   "cell_type": "markdown",
   "id": "e11e67ec-a45c-441a-8343-358992e12da2",
   "metadata": {},
   "source": []
  }
 ],
 "metadata": {
  "kernelspec": {
   "display_name": "Python 3 (ipykernel)",
   "language": "python",
   "name": "python3"
  },
  "language_info": {
   "codemirror_mode": {
    "name": "ipython",
    "version": 3
   },
   "file_extension": ".py",
   "mimetype": "text/x-python",
   "name": "python",
   "nbconvert_exporter": "python",
   "pygments_lexer": "ipython3",
   "version": "3.13.0"
  }
 },
 "nbformat": 4,
 "nbformat_minor": 5
}
