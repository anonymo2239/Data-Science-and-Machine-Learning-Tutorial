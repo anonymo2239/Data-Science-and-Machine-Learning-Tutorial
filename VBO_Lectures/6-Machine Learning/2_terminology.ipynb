{
 "cells": [
  {
   "cell_type": "markdown",
   "metadata": {},
   "source": [
    "Bağımlı değişken - Bağımsız değişken\n",
    "![image.png](image6.png)"
   ]
  },
  {
   "cell_type": "markdown",
   "metadata": {},
   "source": [
    "Burada y = bağımlı değişken, x = bağımsız değişkendir"
   ]
  },
  {
   "cell_type": "markdown",
   "metadata": {},
   "source": [
    "## Öğrenme Türleri \n",
    "* Gözetimli Öğrenme\n",
    "* Gözetimsiz Öğrenme\n",
    "* Yarı Gözetimli Öğrenme"
   ]
  },
  {
   "cell_type": "markdown",
   "metadata": {},
   "source": [
    "Gözetimli Öğrenme: Eğer bağımsız değişkenlerin birbirleri ile ilişkisi sonucu ortaya y çıkıyorsa bu gözetimli öğrenmedir.(Supervised Learning)"
   ]
  },
  {
   "cell_type": "markdown",
   "metadata": {},
   "source": [
    "Gözetimsiz Öğrenme(Unsupervised Learning):"
   ]
  },
  {
   "cell_type": "markdown",
   "metadata": {},
   "source": []
  }
 ],
 "metadata": {
  "language_info": {
   "name": "python"
  }
 },
 "nbformat": 4,
 "nbformat_minor": 2
}
