{
 "cells": [
  {
   "cell_type": "markdown",
   "id": "d2d70da5-ad44-4860-8e27-b198c5a27551",
   "metadata": {},
   "source": [
    "# Gradient Boosting Machines"
   ]
  },
  {
   "cell_type": "markdown",
   "id": "b384a8d7-f72a-4b05-9b8e-a48a603ab137",
   "metadata": {},
   "source": [
    "AdaBoost'un sınıflandırma ve regresyon problemlerine kolayca uyarlanabilen genelleştirilmiş versiyonudur.  \n",
    "Artıklar üzerine tek bir tahminsel model formunda olan modeller serisi kurulur.  \n",
    "Zayıf öğrenicileri bir araya getirip güçlü bir öğrenici ortaya çıkarmak fikrine dayanır.\n",
    "\n",
    "Daha fazla bilgi için 'Data-Science-and-Machine-Learning-Tutorial/VBO_Lectures/6-Machine Learning/3-Nonlinear Regression Models/08_GBM.ipynb' dosyasını inceleyebilirsin."
   ]
  },
  {
   "cell_type": "code",
   "execution_count": 2,
   "id": "d6e2692b-2676-4cc9-b713-6c55a4cca5ed",
   "metadata": {},
   "outputs": [],
   "source": [
    "import pandas as pd \n",
    "from sklearn.model_selection import train_test_split\n",
    "from sklearn.metrics import accuracy_score\n",
    "import numpy as np\n",
    "from sklearn.model_selection import GridSearchCV\n",
    "\n",
    "diabetes = pd.read_csv('diabetes.csv')\n",
    "df = diabetes.copy()\n",
    "df = df.dropna()\n",
    "y = df['Outcome']\n",
    "X = df.drop('Outcome', axis=1)\n",
    "X_train, X_test, y_train, y_test = train_test_split(X, y,\n",
    "                                                   test_size=0.3,\n",
    "                                                   random_state=238)"
   ]
  },
  {
   "cell_type": "code",
   "execution_count": 3,
   "id": "85aaa29b-10b9-4978-ba23-fcf9492455e9",
   "metadata": {},
   "outputs": [],
   "source": [
    "from sklearn.ensemble import GradientBoostingClassifier"
   ]
  },
  {
   "cell_type": "code",
   "execution_count": 4,
   "id": "02b539cc-f71d-47e0-ad5e-87d7aa1cd5cf",
   "metadata": {},
   "outputs": [],
   "source": [
    "gbm_model = GradientBoostingClassifier().fit(X_train, y_train)"
   ]
  },
  {
   "cell_type": "code",
   "execution_count": 6,
   "id": "5d421844-0b8e-4817-8868-07df96eda996",
   "metadata": {},
   "outputs": [
    {
     "data": {
      "text/plain": [
       "0.9366852886405959"
      ]
     },
     "execution_count": 6,
     "metadata": {},
     "output_type": "execute_result"
    }
   ],
   "source": [
    "y_train_pred = gbm_model.predict(X_train)\n",
    "acc_train = accuracy_score(y_train_pred, y_train)\n",
    "acc_train"
   ]
  },
  {
   "cell_type": "code",
   "execution_count": 8,
   "id": "c06297f2-0487-4c3f-b175-c25a22e38152",
   "metadata": {},
   "outputs": [
    {
     "data": {
      "text/plain": [
       "0.7705627705627706"
      ]
     },
     "execution_count": 8,
     "metadata": {},
     "output_type": "execute_result"
    }
   ],
   "source": [
    "y_test_pred = gbm_model.predict(X_test)\n",
    "acc_test = accuracy_score(y_test_pred, y_test)\n",
    "acc_test"
   ]
  },
  {
   "cell_type": "markdown",
   "id": "5363a3d3-e2af-43bc-9bdc-27b8a289c341",
   "metadata": {},
   "source": [
    "## Model Tuning"
   ]
  },
  {
   "cell_type": "code",
   "execution_count": null,
   "id": "81060959-17e3-4352-aefb-c2303d4e3a78",
   "metadata": {},
   "outputs": [],
   "source": []
  }
 ],
 "metadata": {
  "kernelspec": {
   "display_name": "Python 3 (ipykernel)",
   "language": "python",
   "name": "python3"
  },
  "language_info": {
   "codemirror_mode": {
    "name": "ipython",
    "version": 3
   },
   "file_extension": ".py",
   "mimetype": "text/x-python",
   "name": "python",
   "nbconvert_exporter": "python",
   "pygments_lexer": "ipython3",
   "version": "3.11.0"
  }
 },
 "nbformat": 4,
 "nbformat_minor": 5
}
