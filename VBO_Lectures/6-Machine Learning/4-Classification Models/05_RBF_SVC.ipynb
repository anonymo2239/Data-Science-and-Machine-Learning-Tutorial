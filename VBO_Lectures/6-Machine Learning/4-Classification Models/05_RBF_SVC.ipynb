{
 "cells": [
  {
   "cell_type": "markdown",
   "id": "af17968c-9d6b-422c-896a-756786a4137e",
   "metadata": {},
   "source": [
    "# Doğrusal Olmayan SVC\n",
    "# RBF SVC (Radial Basis Function Support Vector Classifier)"
   ]
  },
  {
   "cell_type": "markdown",
   "id": "f755980a-8f7d-4ade-a57c-c6de9257fb3f",
   "metadata": {},
   "source": [
    "RBF, doğrusal olarak ayrılamayan verileri ayırmak için veriyi daha yüksek boyuta çıkarır (non-linear separation).\n",
    "Böylece SVM, karmaşık sınırlara sahip verileri de başarılı bir şekilde sınıflandırabilir.  \n",
    "RBF kernel'in özelliği:  \n",
    "Her bir noktanın başka bir noktaya olan öklid uzaklığına dayalı bir benzerlik fonksiyonu kullanır."
   ]
  },
  {
   "cell_type": "markdown",
   "id": "d06d0d57-64a0-41c9-a4ca-d8f823e0682a",
   "metadata": {},
   "source": [
    "## Model"
   ]
  },
  {
   "cell_type": "code",
   "execution_count": 1,
   "id": "77abfeeb-4e48-4ebf-a93a-c3335956c276",
   "metadata": {},
   "outputs": [],
   "source": [
    "import pandas as pd \n",
    "from sklearn.model_selection import train_test_split\n",
    "from sklearn.metrics import accuracy_score\n",
    "import numpy as np\n",
    "from sklearn.model_selection import GridSearchCV\n",
    "\n",
    "diabetes = pd.read_csv('diabetes.csv')\n",
    "df = diabetes.copy()\n",
    "df = df.dropna()\n",
    "y = df['Outcome']\n",
    "X = df.drop('Outcome', axis=1)\n",
    "X_train, X_test, y_train, y_test = train_test_split(X, y,\n",
    "                                                   test_size=0.3,\n",
    "                                                   random_state=238)"
   ]
  },
  {
   "cell_type": "code",
   "execution_count": 2,
   "id": "5b854711-597e-4cfa-a1b0-a70c42c09cb2",
   "metadata": {},
   "outputs": [],
   "source": [
    "from sklearn.svm import SVC\n",
    "svc_model = SVC(kernel='rbf').fit(X_train, y_train) # Onceki model de tune ederken rbf'i de dahil etmistim :D ama mantigini ogrenmek icin yine yazdik."
   ]
  },
  {
   "cell_type": "code",
   "execution_count": 3,
   "id": "e3756bc5-82b3-4fae-b27f-0ab83cd7a66e",
   "metadata": {},
   "outputs": [
    {
     "data": {
      "text/plain": [
       "0.7662337662337663"
      ]
     },
     "execution_count": 3,
     "metadata": {},
     "output_type": "execute_result"
    }
   ],
   "source": [
    "y_pred = svc_model.predict(X_test)\n",
    "accuracy_score(y_test, y_pred)"
   ]
  },
  {
   "cell_type": "markdown",
   "id": "3fbedd9e-38f6-4eb7-861d-8fe6c3e4c83d",
   "metadata": {},
   "source": [
    "## Model Tuning"
   ]
  },
  {
   "cell_type": "code",
   "execution_count": null,
   "id": "7831a6b1-5947-4bee-b54d-1efc897486d1",
   "metadata": {},
   "outputs": [],
   "source": []
  }
 ],
 "metadata": {
  "kernelspec": {
   "display_name": "Python 3 (ipykernel)",
   "language": "python",
   "name": "python3"
  },
  "language_info": {
   "codemirror_mode": {
    "name": "ipython",
    "version": 3
   },
   "file_extension": ".py",
   "mimetype": "text/x-python",
   "name": "python",
   "nbconvert_exporter": "python",
   "pygments_lexer": "ipython3",
   "version": "3.11.0"
  }
 },
 "nbformat": 4,
 "nbformat_minor": 5
}
