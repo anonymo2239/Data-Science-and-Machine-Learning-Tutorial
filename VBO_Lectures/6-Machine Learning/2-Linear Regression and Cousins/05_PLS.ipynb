{
 "cells": [
  {
   "cell_type": "markdown",
   "id": "fef224e7-41ab-4181-9c07-bf1bfe492371",
   "metadata": {},
   "source": [
    "# PLS - (Partial Least Squares) (Kısmi En Küçük Kareler)"
   ]
  },
  {
   "cell_type": "markdown",
   "id": "644d9655-9090-4bd4-a8bd-7fe0c60ca440",
   "metadata": {},
   "source": [
    "## Teori"
   ]
  },
  {
   "cell_type": "markdown",
   "id": "3c93aacc-b726-4ff0-b00e-5bfacf34eab8",
   "metadata": {},
   "source": [
    "Değişkenler daha az sayıda ve aralarında çoklu doğrusal bağlantı problemini olmayan bileşenlere indirgenip regresyon modeli kurulması fikrine dayanır.  "
   ]
  },
  {
   "attachments": {},
   "cell_type": "markdown",
   "id": "823aef7b-101f-4b2b-aea7-22cd27f24c16",
   "metadata": {},
   "source": [
    "![image.png](imagee17.png)"
   ]
  },
  {
   "cell_type": "markdown",
   "id": "ef2b5c3e-5fb2-435e-b8f1-8e5556372e7e",
   "metadata": {},
   "source": [
    "PCR'a benzer ama değişkenler arasındaki ilişkiyi de dikkate alarak daha iyi tahmin yapar. Özellikle multicollinearity (çoklu doğrusal bağlantı) varsa PCR'dan daha iyi performans gösterebilir."
   ]
  },
  {
   "attachments": {},
   "cell_type": "markdown",
   "id": "60d1359a-a82a-4242-be48-744e2962926d",
   "metadata": {},
   "source": [
    "![image.png](imagee18.png)"
   ]
  },
  {
   "attachments": {},
   "cell_type": "markdown",
   "id": "74465e63-4073-4282-9290-39a9f27a2813",
   "metadata": {},
   "source": [
    "![image.png](imagee19.png)"
   ]
  },
  {
   "cell_type": "markdown",
   "id": "65695f03-f884-47ad-b9d9-e566d6849cea",
   "metadata": {},
   "source": [
    "## Model"
   ]
  },
  {
   "cell_type": "code",
   "execution_count": 1,
   "id": "fedb1a80-3ceb-4efa-9340-576b7f2aaeef",
   "metadata": {},
   "outputs": [],
   "source": [
    "import pandas as pd \n",
    "from sklearn.model_selection import train_test_split\n",
    "\n",
    "hit = pd.read_csv('Hitters.csv')\n",
    "df = hit.copy()\n",
    "df = df.dropna()\n",
    "ms = pd.get_dummies(df[['League', 'Division', 'NewLeague']])\n",
    "y = df['Salary']\n",
    "X_ = df.drop(['Salary', 'League', 'Division', 'NewLeague'], axis=1).astype('float64')\n",
    "X = pd.concat([X_, ms[['League_N', 'Division_W', 'NewLeague_N']]], axis=1)\n",
    "X_train, X_test, y_train, y_test = train_test_split(X, y, test_size=0.25, random_state=12)"
   ]
  },
  {
   "cell_type": "code",
   "execution_count": 2,
   "id": "3eb6e88c-aece-435f-bd1f-f4eba503af2b",
   "metadata": {},
   "outputs": [],
   "source": [
    "from sklearn.cross_decomposition import PLSRegression, PLSSVD"
   ]
  },
  {
   "cell_type": "code",
   "execution_count": 3,
   "id": "22ca8fdd-ba70-4d5d-9dcb-681be548abce",
   "metadata": {},
   "outputs": [],
   "source": [
    "pls_model = PLSRegression().fit(X_train, y_train)"
   ]
  },
  {
   "cell_type": "code",
   "execution_count": null,
   "id": "a445b694-b170-465e-9cae-a5ef98e8bdd4",
   "metadata": {},
   "outputs": [],
   "source": []
  }
 ],
 "metadata": {
  "kernelspec": {
   "display_name": "Python 3 (ipykernel)",
   "language": "python",
   "name": "python3"
  },
  "language_info": {
   "codemirror_mode": {
    "name": "ipython",
    "version": 3
   },
   "file_extension": ".py",
   "mimetype": "text/x-python",
   "name": "python",
   "nbconvert_exporter": "python",
   "pygments_lexer": "ipython3",
   "version": "3.11.5"
  }
 },
 "nbformat": 4,
 "nbformat_minor": 5
}
