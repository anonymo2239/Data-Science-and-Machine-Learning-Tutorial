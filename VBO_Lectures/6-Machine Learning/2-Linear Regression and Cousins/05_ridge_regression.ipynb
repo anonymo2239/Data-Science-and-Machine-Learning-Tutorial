{
 "cells": [
  {
   "cell_type": "markdown",
   "id": "805d3d79-bcf8-4484-9e93-1a49e5be5107",
   "metadata": {},
   "source": [
    "# Ridge Regression"
   ]
  },
  {
   "cell_type": "markdown",
   "id": "80e100ab-4ae1-4b91-bbb0-8bde3e01c045",
   "metadata": {},
   "source": [
    "Amaç; hata kareler toplamını minimize eden katsayıları, bu katsayılara bir ceza uygulayarak bulmaktır."
   ]
  },
  {
   "attachments": {},
   "cell_type": "markdown",
   "id": "4bd66d26-ee55-48d5-bbba-3df4dda0dcc3",
   "metadata": {},
   "source": [
    "![image.png](imagee22.png)"
   ]
  },
  {
   "cell_type": "markdown",
   "id": "86210d9d-0257-4e3e-82fa-b856f76543cf",
   "metadata": {},
   "source": [
    "Hata kareler toplamı"
   ]
  },
  {
   "attachments": {},
   "cell_type": "markdown",
   "id": "ad1c210c-6b2f-442b-82fe-f70400b4f525",
   "metadata": {},
   "source": [
    "![image.png](imagee23.png)"
   ]
  },
  {
   "cell_type": "markdown",
   "id": "b3586183-b243-4237-8a0b-f587181dca91",
   "metadata": {},
   "source": [
    "Bazı kaynaklarda- Ridge, Lasso, ElasticNet yöntemleri- Düzenlileştirme Yöntemleri olarak da geçer."
   ]
  },
  {
   "cell_type": "markdown",
   "id": "b643e0a0-a845-4af4-a923-ddeb3c7df04c",
   "metadata": {},
   "source": [
    "Lambda parametresi, uygulanacak cezanın şiddetini ayarlamaya yarar. Belli yöntemler ile bu parametreyi belirleyeceğiz. Bazı kaynaklarda Tuning parametresi, daraltma faktörü vs. olarak geçebilir."
   ]
  },
  {
   "cell_type": "code",
   "execution_count": null,
   "id": "1d515d93-3f76-4cc9-875e-94faad6710b2",
   "metadata": {},
   "outputs": [],
   "source": []
  }
 ],
 "metadata": {
  "kernelspec": {
   "display_name": "Python 3 (ipykernel)",
   "language": "python",
   "name": "python3"
  },
  "language_info": {
   "codemirror_mode": {
    "name": "ipython",
    "version": 3
   },
   "file_extension": ".py",
   "mimetype": "text/x-python",
   "name": "python",
   "nbconvert_exporter": "python",
   "pygments_lexer": "ipython3",
   "version": "3.11.5"
  }
 },
 "nbformat": 4,
 "nbformat_minor": 5
}
