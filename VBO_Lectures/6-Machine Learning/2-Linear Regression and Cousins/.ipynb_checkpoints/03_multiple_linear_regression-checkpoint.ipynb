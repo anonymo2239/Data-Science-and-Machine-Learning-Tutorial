{
 "cells": [
  {
   "attachments": {},
   "cell_type": "markdown",
   "id": "973c9394-0393-49e7-96d5-4014a56c140f",
   "metadata": {},
   "source": [
    "![image.png](imagee11.png)"
   ]
  },
  {
   "cell_type": "markdown",
   "id": "8609ab93-fda3-4469-8dfd-80696f999f3f",
   "metadata": {},
   "source": [
    "## Teori"
   ]
  },
  {
   "cell_type": "markdown",
   "id": "a9f9ac6f-37db-4297-a1a6-23221867998b",
   "metadata": {},
   "source": [
    "Nasıl?  \n",
    "Hata Kareler Toplamını minimize edecek şekilde katsayıları bularak.\n",
    "\n",
    "Amaçlar:\n",
    "* Katsayıları bulmak\n",
    "* Hangi bağımsız değişkenin bağımsız değişkeni ne kadar ve ne yönde hesapladığını bulmak."
   ]
  },
  {
   "attachments": {},
   "cell_type": "markdown",
   "id": "3a8c961e-c832-48e5-bdc4-65b5fcc966fa",
   "metadata": {},
   "source": [
    "![image.png](imagee12.png)"
   ]
  },
  {
   "attachments": {},
   "cell_type": "markdown",
   "id": "94980751-b30b-484d-8e00-d44bd9623c8e",
   "metadata": {},
   "source": [
    "![image.png](imagee13.png)"
   ]
  },
  {
   "cell_type": "markdown",
   "id": "3f004910-8ab6-4d59-9682-48baea947de8",
   "metadata": {},
   "source": [
    "Teorik olarak bu kısım çok önemli fakat sektörde çok önemli değil\n",
    "\n",
    "---"
   ]
  },
  {
   "attachments": {},
   "cell_type": "markdown",
   "id": "5f715158-1110-478d-ae6a-bf33207241c9",
   "metadata": {},
   "source": [
    "![image.png](imagee14.png)"
   ]
  },
  {
   "cell_type": "code",
   "execution_count": null,
   "id": "d8c3d7c1-6574-4092-a6c6-dd9b0557c7cc",
   "metadata": {},
   "outputs": [],
   "source": []
  }
 ],
 "metadata": {
  "kernelspec": {
   "display_name": "Python 3 (ipykernel)",
   "language": "python",
   "name": "python3"
  },
  "language_info": {
   "codemirror_mode": {
    "name": "ipython",
    "version": 3
   },
   "file_extension": ".py",
   "mimetype": "text/x-python",
   "name": "python",
   "nbconvert_exporter": "python",
   "pygments_lexer": "ipython3",
   "version": "3.11.5"
  }
 },
 "nbformat": 4,
 "nbformat_minor": 5
}
