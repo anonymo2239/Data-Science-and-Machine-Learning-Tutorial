{
 "cells": [
  {
   "cell_type": "markdown",
   "id": "b0e9e5d7-757a-4f58-a354-6ae12008fda6",
   "metadata": {},
   "source": [
    "# Lasso Regresyon"
   ]
  },
  {
   "cell_type": "markdown",
   "id": "4680455d-d083-42bb-b7fc-c22a4eca24a7",
   "metadata": {},
   "source": [
    "## Teori"
   ]
  },
  {
   "cell_type": "markdown",
   "id": "56dd8c1d-d204-4f13-a501-5f51fe2698c7",
   "metadata": {},
   "source": [
    "Amaç; hata kareler toplamını minimize eden katsayıları, bu katsayılara bir ceza uygulayarak bulmaktır."
   ]
  },
  {
   "cell_type": "markdown",
   "id": "2e7ee560-f466-4e1e-b981-ccb5dfacff7e",
   "metadata": {},
   "source": [
    "Ridge regresyondan farkı, ceza uygulama işlemini abartarak katsayıları sıfıra yaklaştırmak yerine direkt sıfır yapma ihtimali vardır."
   ]
  },
  {
   "attachments": {},
   "cell_type": "markdown",
   "id": "abdcc02d-7434-4b7c-bd75-aa52453fc4ab",
   "metadata": {},
   "source": [
    "![image.png](imagee25.png)"
   ]
  },
  {
   "cell_type": "markdown",
   "id": "6b61dc37-a84a-4314-9d0e-fdca030afe18",
   "metadata": {},
   "source": [
    "L1 düzenleştirme yöntemidir. Bu yöntem, modelin bazı katsayılarını tam olarak sıfıra indirerek özellik seçimi yapar. Yani, Lasso, hem model karmaşıklığını azaltır hem de önemli özellikleri seçer. Burada ceza teriminde ß^2 yerine |ß| kullanılmıştır."
   ]
  },
  {
   "attachments": {},
   "cell_type": "markdown",
   "id": "215c5216-b060-4245-a2c9-f0d3d2689aae",
   "metadata": {},
   "source": [
    "![image.png](imagee26.png)"
   ]
  },
  {
   "attachments": {},
   "cell_type": "markdown",
   "id": "6bdb9964-6f69-41b5-afd1-62e28302f0a3",
   "metadata": {},
   "source": [
    "![image.png](imagee27.png)"
   ]
  },
  {
   "cell_type": "markdown",
   "id": "a7e1858d-2a06-4966-be3d-abcd24d8ddb0",
   "metadata": {},
   "source": [
    "![image.png](imagee28.png)"
   ]
  },
  {
   "cell_type": "code",
   "execution_count": 1,
   "id": "aaabe15f-7939-4fe2-afd2-161ab70f5614",
   "metadata": {},
   "outputs": [
    {
     "ename": "SyntaxError",
     "evalue": "invalid syntax (2461524780.py, line 1)",
     "output_type": "error",
     "traceback": [
      "\u001b[1;36m  Cell \u001b[1;32mIn[1], line 1\u001b[1;36m\u001b[0m\n\u001b[1;33m    ekk hkt ühüüü\u001b[0m\n\u001b[1;37m        ^\u001b[0m\n\u001b[1;31mSyntaxError\u001b[0m\u001b[1;31m:\u001b[0m invalid syntax\n"
     ]
    }
   ],
   "source": [
    "ekk hkt ühüüü"
   ]
  },
  {
   "cell_type": "code",
   "execution_count": null,
   "id": "4e640256-67da-480d-a912-241f538eb16a",
   "metadata": {},
   "outputs": [],
   "source": []
  }
 ],
 "metadata": {
  "kernelspec": {
   "display_name": "Python 3 (ipykernel)",
   "language": "python",
   "name": "python3"
  },
  "language_info": {
   "codemirror_mode": {
    "name": "ipython",
    "version": 3
   },
   "file_extension": ".py",
   "mimetype": "text/x-python",
   "name": "python",
   "nbconvert_exporter": "python",
   "pygments_lexer": "ipython3",
   "version": "3.13.0"
  }
 },
 "nbformat": 4,
 "nbformat_minor": 5
}
