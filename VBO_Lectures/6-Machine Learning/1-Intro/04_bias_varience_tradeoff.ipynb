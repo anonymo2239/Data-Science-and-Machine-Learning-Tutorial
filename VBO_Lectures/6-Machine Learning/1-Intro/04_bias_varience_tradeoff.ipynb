{
 "cells": [
  {
   "cell_type": "markdown",
   "id": "dd8c7a81-3654-4080-b616-5ede315e0db4",
   "metadata": {},
   "source": [
    "# Bias-Variance Trade Off (Yanlılık-Varyans Değiş Tokuşu)"
   ]
  },
  {
   "cell_type": "markdown",
   "id": "fb21a7b3-4c35-4009-9658-ce998b3e086c",
   "metadata": {},
   "source": [
    "Modelleri doğruladık, daha sonra başarısını değerlendirdik. Şimdi de model kurulurken eğitim hatası ve test hatasını dengelememiz gerektiğini anlamalıyız. Bu denge, modelin genelleme yeteneğini belirler. İyi bir model, yanlılık ve varyansı dengede tutarak düşük test hatasına ulaşır.\n",
    "\n",
    "**Eğitim Hatası:** Modeli eğitirken kullanılan veri üzerinde yaptığı hatadır. Model karmaşıklığı arttıkça genellikle azalır.  \n",
    "**Test Hatası:** Modelin eğitilmemiş, yeni veriler üzerinde yaptığı hatadır. Model fazla karmaşık olursa artabilir."
   ]
  },
  {
   "attachments": {},
   "cell_type": "markdown",
   "id": "debd1be2-a794-4eec-92cf-1d30dee96465",
   "metadata": {},
   "source": [
    "![image.png](imagee29.png)"
   ]
  },
  {
   "cell_type": "markdown",
   "id": "7d06ff68-d0bf-47d1-b48e-0b5ef08e6016",
   "metadata": {},
   "source": []
  },
  {
   "cell_type": "markdown",
   "id": "af65b260-e36c-45f6-aa5a-0ff113913889",
   "metadata": {},
   "source": []
  },
  {
   "cell_type": "markdown",
   "id": "99204a20-2b18-4f96-9368-02ee10078896",
   "metadata": {},
   "source": []
  },
  {
   "cell_type": "markdown",
   "id": "56e3d9f7-8039-4702-a536-5677d9a52b56",
   "metadata": {},
   "source": []
  }
 ],
 "metadata": {
  "kernelspec": {
   "display_name": "Python 3 (ipykernel)",
   "language": "python",
   "name": "python3"
  },
  "language_info": {
   "codemirror_mode": {
    "name": "ipython",
    "version": 3
   },
   "file_extension": ".py",
   "mimetype": "text/x-python",
   "name": "python",
   "nbconvert_exporter": "python",
   "pygments_lexer": "ipython3",
   "version": "3.11.5"
  }
 },
 "nbformat": 4,
 "nbformat_minor": 5
}
