{
 "cells": [
  {
   "attachments": {},
   "cell_type": "markdown",
   "id": "b9172450-efe1-428d-bd88-01b5ad50d8cf",
   "metadata": {},
   "source": [
    "Süreci şöyle işletiriz:  \n",
    "1. Model eğitim setiyle eğitilir\n",
    "2. Doğrulama setiyle model performansı izlenir ve hiperparametreler optimize edilir\n",
    "3. Final performans değerlendirmesi test setiyle yapılır\n",
    "   Aşağıdaki model validation türlerinde validation ile test kısmı birbirleri yerine kullanılmıştır. Model doğrularken her zaman validation set kullanırsın.(test değil) Modelin parametreleri ve hiperparametreleri optimize edildiğinde model hazır olur ve test(evaluate) aşamasına geçilir. Ondan sonra test verisi kullanılır."
   ]
  },
  {
   "attachments": {},
   "cell_type": "markdown",
   "id": "79f7efe1-dada-4794-babe-258e39093f8b",
   "metadata": {},
   "source": [
    "![image.png](imagee07.png)"
   ]
  },
  {
   "attachments": {},
   "cell_type": "markdown",
   "id": "a3d60f96-3282-49f3-b5fe-5ad780cf2ea8",
   "metadata": {},
   "source": [
    "![image.png](imagee14.png)"
   ]
  },
  {
   "cell_type": "markdown",
   "id": "d4e6580b-4e83-4bad-98d4-a719618bfd61",
   "metadata": {},
   "source": [
    "![image.png](imagee08.png)"
   ]
  },
  {
   "cell_type": "markdown",
   "id": "3e512398-046f-4630-9971-a9c92ddbf424",
   "metadata": {},
   "source": [
    "![image.png](imagee09.png)"
   ]
  },
  {
   "cell_type": "markdown",
   "id": "8ec53ddd-11b0-4fb6-b7a9-fc6862214508",
   "metadata": {},
   "source": [
    "![image.png](imagee10.png)"
   ]
  },
  {
   "cell_type": "markdown",
   "id": "3f1919b4-ac83-442e-8d22-9f18dbd22379",
   "metadata": {},
   "source": [
    "Her adımda model yeni bir test setiyle değerlendirilir ve sonunda tüm sonuçların ortalaması alınır."
   ]
  },
  {
   "cell_type": "markdown",
   "id": "22d038db-c4de-4e58-8e97-2a6dbd6cb5aa",
   "metadata": {},
   "source": [
    "![image.png](imagee11.png)"
   ]
  },
  {
   "cell_type": "markdown",
   "id": "955dbdf4-f86c-46da-b8c0-82f06565347c",
   "metadata": {},
   "source": [
    "![image.png](imagee12.png)"
   ]
  },
  {
   "cell_type": "markdown",
   "id": "70726ba2-41c0-43ff-884b-2fc75d63262d",
   "metadata": {},
   "source": [
    "![image.png](imagee13.png)"
   ]
  },
  {
   "cell_type": "markdown",
   "id": "b967ae7a-9dbb-45e1-a698-9ec61b7f6e6d",
   "metadata": {},
   "source": [
    "![image.png](imagee15.png)"
   ]
  },
  {
   "cell_type": "markdown",
   "id": "508e968a-3d8a-48ed-9cfc-12403a7923b7",
   "metadata": {},
   "source": [
    "![image.png](imagee16.png)"
   ]
  },
  {
   "cell_type": "markdown",
   "id": "64344929-5047-4b13-a5a1-cfbc30c84480",
   "metadata": {},
   "source": [
    "![image.png](imagee17.png)"
   ]
  },
  {
   "cell_type": "markdown",
   "id": "d2dadd7f-d0c2-41e4-81aa-374f6a5348a5",
   "metadata": {},
   "source": [
    "![image.png](imagee18.png)"
   ]
  },
  {
   "cell_type": "markdown",
   "id": "02f95a40-31ee-41fc-8c56-1bceeb40aaf3",
   "metadata": {},
   "source": [
    "![image.png](imagee19.png)"
   ]
  },
  {
   "attachments": {},
   "cell_type": "markdown",
   "id": "7ea374d6-e580-4b8d-90d8-116959505a4d",
   "metadata": {},
   "source": [
    "![image.png](imagee20.png)"
   ]
  },
  {
   "cell_type": "code",
   "execution_count": null,
   "id": "09ed429a-cc1b-4924-9df4-dc407aea093d",
   "metadata": {},
   "outputs": [],
   "source": []
  }
 ],
 "metadata": {
  "kernelspec": {
   "display_name": "Python 3 (ipykernel)",
   "language": "python",
   "name": "python3"
  },
  "language_info": {
   "codemirror_mode": {
    "name": "ipython",
    "version": 3
   },
   "file_extension": ".py",
   "mimetype": "text/x-python",
   "name": "python",
   "nbconvert_exporter": "python",
   "pygments_lexer": "ipython3",
   "version": "3.11.5"
  }
 },
 "nbformat": 4,
 "nbformat_minor": 5
}
