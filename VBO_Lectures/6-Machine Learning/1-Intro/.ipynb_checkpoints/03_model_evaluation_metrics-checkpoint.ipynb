{
 "cells": [
  {
   "cell_type": "markdown",
   "id": "91c4a943-91b6-40b1-b945-2f313c4e85b0",
   "metadata": {},
   "source": [
    "### Model doğrulama yöntemleri ile model başarı doğrulama yöntemleri arasındaki fark nedir?"
   ]
  },
  {
   "cell_type": "markdown",
   "id": "1315fb11-6562-4ba4-9981-624787d85862",
   "metadata": {},
   "source": [
    "Model doğrulama yöntemleri, modelin teknik olarak doğru olup olmadığını test eder (ör. çapraz doğrulama, overfitting analizi).  \n",
    "Model başarı doğrulama yöntemleri ise modelin gerçek dünyada ne kadar iyi çalıştığını ölçer (ör. doğruluk, F1 skoru, hata oranları).  \n",
    "Yani ilk başta modeli doğruluyorsun (validasyon) sonra hazır olunca değerlendiriyosun"
   ]
  },
  {
   "attachments": {},
   "cell_type": "markdown",
   "id": "008bc00e-d158-4a1f-b2db-230619071af8",
   "metadata": {},
   "source": [
    "![image.png](imagee21.png)"
   ]
  },
  {
   "cell_type": "markdown",
   "id": "4f5d0dca-ab06-478e-ab65-f05ac4dd9908",
   "metadata": {},
   "source": [
    "![image.png](imagee22.png)"
   ]
  },
  {
   "cell_type": "markdown",
   "id": "c8143470-7f52-4f30-8e0d-92b3410eee70",
   "metadata": {},
   "source": [
    "![image.png](imagee23.png)"
   ]
  },
  {
   "attachments": {},
   "cell_type": "markdown",
   "id": "3c1f35ba-e0ce-4afc-9052-9d71b119f92b",
   "metadata": {},
   "source": [
    "![image.png](imagee24.png)"
   ]
  },
  {
   "cell_type": "markdown",
   "id": "78008921-0ef5-41d8-add8-3ef12a32a096",
   "metadata": {},
   "source": [
    "Genel olarak formüllerde karesini almamızın sebebi negatif çıkan farklarda (-0.47 gibi) pozitif ile negatifin birbirini götürmemesi için aynı işaret haline getirip modelin yanlış değerlendirmesinin önüne geçmektir."
   ]
  },
  {
   "attachments": {},
   "cell_type": "markdown",
   "id": "827f369b-c96c-4e1c-a59f-163cbdda6290",
   "metadata": {},
   "source": [
    "![image.png](imagee25.png)"
   ]
  },
  {
   "attachments": {},
   "cell_type": "markdown",
   "id": "f01d350c-5a56-4c54-9cd7-db28b5330d6d",
   "metadata": {},
   "source": [
    "![image.png](imagee26.png)"
   ]
  },
  {
   "attachments": {},
   "cell_type": "markdown",
   "id": "6cfdb583-55eb-4027-9900-e3886c34f880",
   "metadata": {},
   "source": [
    "![image.png](imagee27.png)"
   ]
  },
  {
   "attachments": {},
   "cell_type": "markdown",
   "id": "2bad6eb0-cfeb-4489-9306-f8e44c49a3c6",
   "metadata": {},
   "source": [
    "![image.png](imagee28.png)"
   ]
  }
 ],
 "metadata": {
  "kernelspec": {
   "display_name": "Python 3 (ipykernel)",
   "language": "python",
   "name": "python3"
  },
  "language_info": {
   "codemirror_mode": {
    "name": "ipython",
    "version": 3
   },
   "file_extension": ".py",
   "mimetype": "text/x-python",
   "name": "python",
   "nbconvert_exporter": "python",
   "pygments_lexer": "ipython3",
   "version": "3.11.5"
  }
 },
 "nbformat": 4,
 "nbformat_minor": 5
}
