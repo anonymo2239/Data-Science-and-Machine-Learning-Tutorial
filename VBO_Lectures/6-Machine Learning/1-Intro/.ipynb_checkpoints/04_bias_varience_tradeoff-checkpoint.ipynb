{
 "cells": [
  {
   "cell_type": "markdown",
   "id": "dd8c7a81-3654-4080-b616-5ede315e0db4",
   "metadata": {},
   "source": [
    "# Bias-Variance Trade Off (Yanlılık-Varyans Değiş Tokuşu)"
   ]
  },
  {
   "cell_type": "markdown",
   "id": "fb21a7b3-4c35-4009-9658-ce998b3e086c",
   "metadata": {},
   "source": [
    "Modelleri doğruladık, daha sonra başarısını değerlendirdik. Şimdi de model kurulurken eğitim hatası ve test hatasını dengelememiz gerektiğini anlamalıyız. Bu denge, modelin genelleme yeteneğini belirler. İyi bir model, yanlılık ve varyansı dengede tutarak düşük test hatasına ulaşır.\n",
    "\n",
    "**Eğitim Hatası:** Modeli eğitirken kullanılan veri üzerinde yaptığı hatadır. Model karmaşıklığı arttıkça genellikle azalır.  \n",
    "**Test Hatası:** Modelin eğitilmemiş, yeni veriler üzerinde yaptığı hatadır. Model fazla karmaşık olursa artabilir."
   ]
  },
  {
   "attachments": {},
   "cell_type": "markdown",
   "id": "debd1be2-a794-4eec-92cf-1d30dee96465",
   "metadata": {},
   "source": [
    "![image.png](imagee29.png)"
   ]
  },
  {
   "cell_type": "markdown",
   "id": "7d06ff68-d0bf-47d1-b48e-0b5ef08e6016",
   "metadata": {},
   "source": [
    "Varyans değişkenlik demektir. Değişkenlik ise esneklik demektir. Modelin ne çok ne de az esnek olmasını isteriz.  \n",
    "Resimdeki gibi düşük demek doğru değil.\n",
    "\n",
    "* Belirli gözlemlerin lehine yüksek yanlılığa sahipse, yani yeterince öğrenememişse underfitting durumu meydana gelir.\n",
    "* Tüm gözlemlere göre kendini uyduruyorsa, yüksek esnekliliğe(varyansa) sahipse, yani öğrenme değil ezberleme eylemini geçekleştirdiyse overfitting durumu meydana gelir."
   ]
  },
  {
   "cell_type": "markdown",
   "id": "af65b260-e36c-45f6-aa5a-0ff113913889",
   "metadata": {},
   "source": [
    "   ~ *Eğitim hatası test hatasının kötü bir tahmincisidir.*  \n",
    "Eğitim hatası, modelin sadece eğitim verisi üzerindeki performansını gösterir. Ancak model overfitting yaparsa, test verisi üzerindeki hata çok daha yüksek olabilir. Bu yüzden eğitim hatası, modelin gerçek dünyadaki performansını doğru tahmin edemez."
   ]
  },
  {
   "cell_type": "markdown",
   "id": "99204a20-2b18-4f96-9368-02ee10078896",
   "metadata": {},
   "source": [
    "**Rassallığı bozmadan verinin kendisini değil yapısını öğrenmemiz gerekiyor!!**"
   ]
  },
  {
   "cell_type": "markdown",
   "id": "56e3d9f7-8039-4702-a536-5677d9a52b56",
   "metadata": {},
   "source": [
    "## Parameter, Hyperparameter, Parameter Tuning, Model Tuning"
   ]
  },
  {
   "cell_type": "markdown",
   "id": "0784ec62-3ec9-44a6-83d9-7c7bfc330a62",
   "metadata": {},
   "source": [
    "1. Model Parametreleri:  \n",
    "Modelin öğrenme sürecinde veriden öğrendiği değerlerdir.\n",
    "(örneğin, doğrusal regresyondaki weight, bias).\n",
    "\n",
    "2. Hiperparametreler:  \n",
    "Model eğitilmeden önce bizim tarafımızdan belirlenen, öğrenme sürecini kontrol eden ve en iyi sonucu bulmaya çalışan ayarlardır.  \n",
    "(örneğin, learning rate, tree depth, katman sayısı)"
   ]
  },
  {
   "cell_type": "markdown",
   "id": "1455e70d-3b70-4c0a-9cbb-1dcce57f87d5",
   "metadata": {},
   "source": [
    "3. Parametre Tuning (Parametre Ayarı)  \n",
    "Eğitim sırasında model hiperparametrelerini en iyi değere optimize etme işlemidir.  \n",
    "    Örnek: Gradient Descent algoritması ile ağırlıkların güncellenmesi  \n",
    "\n",
    "4. Model Tuning (Model Ayarı)  \n",
    "Tüm bu işlemlere verdiğimiz genel isimdir.  \n",
    "    Örnek: feature engineering, model seçimi, değişken seçimi, validation, hepsi "
   ]
  }
 ],
 "metadata": {
  "kernelspec": {
   "display_name": "Python 3 (ipykernel)",
   "language": "python",
   "name": "python3"
  },
  "language_info": {
   "codemirror_mode": {
    "name": "ipython",
    "version": 3
   },
   "file_extension": ".py",
   "mimetype": "text/x-python",
   "name": "python",
   "nbconvert_exporter": "python",
   "pygments_lexer": "ipython3",
   "version": "3.11.5"
  }
 },
 "nbformat": 4,
 "nbformat_minor": 5
}
