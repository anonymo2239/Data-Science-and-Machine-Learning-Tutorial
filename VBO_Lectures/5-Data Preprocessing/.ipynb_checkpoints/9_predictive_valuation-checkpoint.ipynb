{
 "cells": [
  {
   "cell_type": "code",
   "execution_count": 1,
   "id": "5d2500a2-8632-41c5-9ef2-dcd59435707a",
   "metadata": {},
   "outputs": [
    {
     "name": "stdout",
     "output_type": "stream",
     "text": [
      "   survived  pclass   age  sibsp  parch     fare\n",
      "0         0       3  22.0      1      0   7.2500\n",
      "1         1       1  38.0      1      0  71.2833\n",
      "2         1       3  26.0      0      0   7.9250\n",
      "3         1       1  35.0      1      0  53.1000\n",
      "4         0       3  35.0      0      0   8.0500\n"
     ]
    },
    {
     "data": {
      "text/plain": [
       "survived      0\n",
       "pclass        0\n",
       "age         177\n",
       "sibsp         0\n",
       "parch         0\n",
       "fare          0\n",
       "dtype: int64"
      ]
     },
     "execution_count": 1,
     "metadata": {},
     "output_type": "execute_result"
    }
   ],
   "source": [
    "import seaborn as sns\n",
    "import missingno as missingno\n",
    "df = sns.load_dataset('titanic')\n",
    "df = df.select_dtypes(include=['float64', 'int64'])\n",
    "print(df.head())\n",
    "df.isnull().sum()"
   ]
  },
  {
   "cell_type": "markdown",
   "id": "aa188985-5fde-4215-bf8d-108b38bd47e3",
   "metadata": {},
   "source": [
    "Makine öğrenmesine dayalı tekniklerle boş gözlemleri doldurabiliriz."
   ]
  },
  {
   "cell_type": "code",
   "execution_count": null,
   "id": "954a6480-5426-4575-81ac-c33acf2dc5fe",
   "metadata": {},
   "outputs": [],
   "source": [
    "!pip install ycimpute --quiet"
   ]
  },
  {
   "cell_type": "code",
   "execution_count": null,
   "id": "17624016-62c4-4887-ab95-336118776542",
   "metadata": {},
   "outputs": [],
   "source": [
    "from ycimpute.imputer import knnimput # burada k en yakın komşuluk ilişkisi algoritmasını kullanacağız."
   ]
  },
  {
   "cell_type": "code",
   "execution_count": null,
   "id": "a6015750-1c16-45cf-b99f-54ba0799c682",
   "metadata": {},
   "outputs": [],
   "source": []
  }
 ],
 "metadata": {
  "kernelspec": {
   "display_name": "Python 3 (ipykernel)",
   "language": "python",
   "name": "python3"
  },
  "language_info": {
   "codemirror_mode": {
    "name": "ipython",
    "version": 3
   },
   "file_extension": ".py",
   "mimetype": "text/x-python",
   "name": "python",
   "nbconvert_exporter": "python",
   "pygments_lexer": "ipython3",
   "version": "3.11.5"
  }
 },
 "nbformat": 4,
 "nbformat_minor": 5
}
