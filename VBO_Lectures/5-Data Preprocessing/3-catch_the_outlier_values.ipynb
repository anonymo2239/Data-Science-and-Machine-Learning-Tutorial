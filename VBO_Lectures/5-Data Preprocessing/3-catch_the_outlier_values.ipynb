{
 "cells": [
  {
   "cell_type": "markdown",
   "id": "cfeeed84-b1c1-48bc-82e1-593145a2a1b1",
   "metadata": {},
   "source": [
    "# Aykırı değeri yakalamak"
   ]
  },
  {
   "cell_type": "code",
   "execution_count": 104,
   "id": "e162d645-11ee-4c99-8b4c-f101aa13482c",
   "metadata": {},
   "outputs": [
    {
     "data": {
      "text/html": [
       "<div>\n",
       "<style scoped>\n",
       "    .dataframe tbody tr th:only-of-type {\n",
       "        vertical-align: middle;\n",
       "    }\n",
       "\n",
       "    .dataframe tbody tr th {\n",
       "        vertical-align: top;\n",
       "    }\n",
       "\n",
       "    .dataframe thead th {\n",
       "        text-align: right;\n",
       "    }\n",
       "</style>\n",
       "<table border=\"1\" class=\"dataframe\">\n",
       "  <thead>\n",
       "    <tr style=\"text-align: right;\">\n",
       "      <th></th>\n",
       "      <th>carat</th>\n",
       "      <th>depth</th>\n",
       "      <th>table</th>\n",
       "      <th>price</th>\n",
       "      <th>x</th>\n",
       "      <th>y</th>\n",
       "      <th>z</th>\n",
       "    </tr>\n",
       "  </thead>\n",
       "  <tbody>\n",
       "    <tr>\n",
       "      <th>0</th>\n",
       "      <td>0.23</td>\n",
       "      <td>61.5</td>\n",
       "      <td>55.0</td>\n",
       "      <td>326.0</td>\n",
       "      <td>3.95</td>\n",
       "      <td>3.98</td>\n",
       "      <td>2.43</td>\n",
       "    </tr>\n",
       "    <tr>\n",
       "      <th>1</th>\n",
       "      <td>0.21</td>\n",
       "      <td>59.8</td>\n",
       "      <td>61.0</td>\n",
       "      <td>326.0</td>\n",
       "      <td>3.89</td>\n",
       "      <td>3.84</td>\n",
       "      <td>2.31</td>\n",
       "    </tr>\n",
       "    <tr>\n",
       "      <th>2</th>\n",
       "      <td>0.23</td>\n",
       "      <td>56.9</td>\n",
       "      <td>65.0</td>\n",
       "      <td>327.0</td>\n",
       "      <td>4.05</td>\n",
       "      <td>4.07</td>\n",
       "      <td>2.31</td>\n",
       "    </tr>\n",
       "    <tr>\n",
       "      <th>3</th>\n",
       "      <td>0.29</td>\n",
       "      <td>62.4</td>\n",
       "      <td>58.0</td>\n",
       "      <td>334.0</td>\n",
       "      <td>4.20</td>\n",
       "      <td>4.23</td>\n",
       "      <td>2.63</td>\n",
       "    </tr>\n",
       "    <tr>\n",
       "      <th>4</th>\n",
       "      <td>0.31</td>\n",
       "      <td>63.3</td>\n",
       "      <td>58.0</td>\n",
       "      <td>335.0</td>\n",
       "      <td>4.34</td>\n",
       "      <td>4.35</td>\n",
       "      <td>2.75</td>\n",
       "    </tr>\n",
       "  </tbody>\n",
       "</table>\n",
       "</div>"
      ],
      "text/plain": [
       "   carat  depth  table  price     x     y     z\n",
       "0   0.23   61.5   55.0  326.0  3.95  3.98  2.43\n",
       "1   0.21   59.8   61.0  326.0  3.89  3.84  2.31\n",
       "2   0.23   56.9   65.0  327.0  4.05  4.07  2.31\n",
       "3   0.29   62.4   58.0  334.0  4.20  4.23  2.63\n",
       "4   0.31   63.3   58.0  335.0  4.34  4.35  2.75"
      ]
     },
     "execution_count": 104,
     "metadata": {},
     "output_type": "execute_result"
    }
   ],
   "source": [
    "import seaborn as sns\n",
    "import pandas as pd\n",
    "df = sns.load_dataset(\"diamonds\")\n",
    "df = df.select_dtypes(include=[\"float64\", \"int64\"])\n",
    "df = df.dropna()\n",
    "df.head()"
   ]
  },
  {
   "cell_type": "code",
   "execution_count": 105,
   "id": "654144e4-0301-4413-b88a-f2b39ab732d2",
   "metadata": {},
   "outputs": [],
   "source": [
    "df_table = df[\"table\"]"
   ]
  },
  {
   "cell_type": "code",
   "execution_count": 106,
   "id": "97d3b6b4-406e-4a44-a676-4bc30bf72c53",
   "metadata": {},
   "outputs": [
    {
     "data": {
      "text/plain": [
       "0    55.0\n",
       "1    61.0\n",
       "2    65.0\n",
       "3    58.0\n",
       "4    58.0\n",
       "Name: table, dtype: float64"
      ]
     },
     "execution_count": 106,
     "metadata": {},
     "output_type": "execute_result"
    }
   ],
   "source": [
    "df_table.head()"
   ]
  },
  {
   "cell_type": "code",
   "execution_count": 107,
   "id": "839e168b-1294-4508-95b1-83de7897414a",
   "metadata": {},
   "outputs": [
    {
     "data": {
      "text/plain": [
       "<Axes: xlabel='table'>"
      ]
     },
     "execution_count": 107,
     "metadata": {},
     "output_type": "execute_result"
    },
    {
     "data": {
      "image/png": "[encoded data removed]",
      "text/plain": [
       "<Figure size 640x480 with 1 Axes>"
      ]
     },
     "metadata": {},
     "output_type": "display_data"
    }
   ],
   "source": [
    "sns.boxplot(x=df_table)"
   ]
  },
  {
   "cell_type": "code",
   "execution_count": 108,
   "id": "a6c8139f-5aeb-4a53-8939-05d9f2bb94f1",
   "metadata": {},
   "outputs": [
    {
     "data": {
      "text/plain": [
       "count    21680.000000\n",
       "mean        57.760078\n",
       "std          2.222104\n",
       "min         43.000000\n",
       "25%         56.000000\n",
       "50%         58.000000\n",
       "75%         59.000000\n",
       "max         70.000000\n",
       "Name: table, dtype: float64"
      ]
     },
     "execution_count": 108,
     "metadata": {},
     "output_type": "execute_result"
    }
   ],
   "source": [
    "df_table.describe()"
   ]
  },
  {
   "cell_type": "code",
   "execution_count": 109,
   "id": "fc9d27c5-f106-4f98-a13d-d08674cb6e4d",
   "metadata": {},
   "outputs": [],
   "source": [
    "Q1 = df_table.quantile(0.25)\n",
    "Q3 = df_table.quantile(0.75)\n",
    "IQR = 1.5 * (Q3 - Q1)"
   ]
  },
  {
   "cell_type": "code",
   "execution_count": 110,
   "id": "6284675e-753c-4a22-9f6a-186519c1a859",
   "metadata": {},
   "outputs": [
    {
     "data": {
      "text/plain": [
       "np.float64(56.0)"
      ]
     },
     "execution_count": 110,
     "metadata": {},
     "output_type": "execute_result"
    }
   ],
   "source": [
    "Q1"
   ]
  },
  {
   "cell_type": "code",
   "execution_count": 111,
   "id": "9f39662f-8eb6-4fdd-aa99-ac5b29a7e412",
   "metadata": {},
   "outputs": [
    {
     "data": {
      "text/plain": [
       "np.float64(59.0)"
      ]
     },
     "execution_count": 111,
     "metadata": {},
     "output_type": "execute_result"
    }
   ],
   "source": [
    "Q3"
   ]
  },
  {
   "cell_type": "code",
   "execution_count": 112,
   "id": "30ce5698-7675-42b8-ba20-4bb89e2b90c8",
   "metadata": {},
   "outputs": [],
   "source": [
    "lower_limit = Q1 - IQR"
   ]
  },
  {
   "cell_type": "code",
   "execution_count": 113,
   "id": "409711bd-7510-42df-adab-30772db611b9",
   "metadata": {},
   "outputs": [],
   "source": [
    "upper_limit = Q3 + IQR"
   ]
  },
  {
   "cell_type": "code",
   "execution_count": 114,
   "id": "55327c41-3b12-4c79-a7b4-31d4230d741a",
   "metadata": {},
   "outputs": [
    {
     "data": {
      "text/plain": [
       "np.float64(51.5)"
      ]
     },
     "execution_count": 114,
     "metadata": {},
     "output_type": "execute_result"
    }
   ],
   "source": [
    "lower_limit"
   ]
  },
  {
   "cell_type": "code",
   "execution_count": 115,
   "id": "d61e1bd8-8315-45f7-8e26-bd0ca8b880df",
   "metadata": {},
   "outputs": [
    {
     "data": {
      "text/plain": [
       "np.float64(63.5)"
      ]
     },
     "execution_count": 115,
     "metadata": {},
     "output_type": "execute_result"
    }
   ],
   "source": [
    "upper_limit"
   ]
  },
  {
   "cell_type": "code",
   "execution_count": 116,
   "id": "3dbea51d-5e6b-4a5d-bdb9-0520b7fc307f",
   "metadata": {},
   "outputs": [
    {
     "data": {
      "text/plain": [
       "0         True\n",
       "1         True\n",
       "2        False\n",
       "3         True\n",
       "4         True\n",
       "         ...  \n",
       "21675     True\n",
       "21676     True\n",
       "21677     True\n",
       "21678     True\n",
       "21679     True\n",
       "Name: table, Length: 21680, dtype: bool"
      ]
     },
     "execution_count": 116,
     "metadata": {},
     "output_type": "execute_result"
    }
   ],
   "source": [
    "(df_table > lower_limit) & (df_table < upper_limit)"
   ]
  },
  {
   "cell_type": "code",
   "execution_count": 117,
   "id": "0b0e86d8-1867-4fa1-8ede-2f33b334c51d",
   "metadata": {},
   "outputs": [],
   "source": [
    "aykiri_tf = (df_table < lower_limit) | (df_table > upper_limit)"
   ]
  },
  {
   "cell_type": "code",
   "execution_count": 118,
   "id": "fce832c2-56dd-41c6-b6c7-402ab5f4cee7",
   "metadata": {},
   "outputs": [
    {
     "data": {
      "text/plain": [
       "0        False\n",
       "1        False\n",
       "2         True\n",
       "3        False\n",
       "4        False\n",
       "         ...  \n",
       "21675    False\n",
       "21676    False\n",
       "21677    False\n",
       "21678    False\n",
       "21679    False\n",
       "Name: table, Length: 21680, dtype: bool"
      ]
     },
     "execution_count": 118,
     "metadata": {},
     "output_type": "execute_result"
    }
   ],
   "source": [
    "aykiri_tf"
   ]
  },
  {
   "cell_type": "code",
   "execution_count": 119,
   "id": "662932fd-ecc4-41ca-a207-7deb9b23e654",
   "metadata": {},
   "outputs": [
    {
     "data": {
      "text/plain": [
       "Index([    2,    91,   145,   219,   227,   239,   296,   314,   356,   359,\n",
       "       ...\n",
       "       20481, 20647, 20675, 20756, 20959, 21156, 21300, 21416, 21558, 21610],\n",
       "      dtype='int64', length=274)"
      ]
     },
     "execution_count": 119,
     "metadata": {},
     "output_type": "execute_result"
    }
   ],
   "source": [
    "df_table[aykiri_tf].index"
   ]
  },
  {
   "cell_type": "code",
   "execution_count": 120,
   "id": "6a472cf3-951e-4cee-9722-8ca6890af49e",
   "metadata": {},
   "outputs": [
    {
     "data": {
      "text/plain": [
       "np.int64(274)"
      ]
     },
     "execution_count": 120,
     "metadata": {},
     "output_type": "execute_result"
    }
   ],
   "source": [
    "df_table[aykiri_tf].count()"
   ]
  },
  {
   "cell_type": "markdown",
   "id": "eabe3a5b-e6c5-4300-937d-260031bfa63c",
   "metadata": {},
   "source": [
    "# Aykırı değer problemini çözmek"
   ]
  },
  {
   "cell_type": "markdown",
   "id": "8881ee53-71e2-4c7b-a24e-d3814755fe3d",
   "metadata": {},
   "source": [
    "### Silme"
   ]
  },
  {
   "cell_type": "code",
   "execution_count": 121,
   "id": "b3db7093-4993-409e-a710-3dee6ad9c411",
   "metadata": {},
   "outputs": [],
   "source": [
    "import pandas as pd"
   ]
  },
  {
   "cell_type": "code",
   "execution_count": 122,
   "id": "8938fb69-12b4-475c-94aa-6683b705a95c",
   "metadata": {},
   "outputs": [
    {
     "data": {
      "text/plain": [
       "pandas.core.series.Series"
      ]
     },
     "execution_count": 122,
     "metadata": {},
     "output_type": "execute_result"
    }
   ],
   "source": [
    "type(df_table)"
   ]
  },
  {
   "cell_type": "code",
   "execution_count": 123,
   "id": "5363dc14-e062-471b-b961-6a151b1d22d7",
   "metadata": {},
   "outputs": [],
   "source": [
    "df_table = pd.DataFrame(df_table)"
   ]
  },
  {
   "cell_type": "code",
   "execution_count": 124,
   "id": "26a13f21-91b2-488c-87e3-a44c4ab953cb",
   "metadata": {},
   "outputs": [
    {
     "data": {
      "text/plain": [
       "(21680, 1)"
      ]
     },
     "execution_count": 124,
     "metadata": {},
     "output_type": "execute_result"
    }
   ],
   "source": [
    "df_table.shape"
   ]
  },
  {
   "cell_type": "code",
   "execution_count": 125,
   "id": "1553db4c-1302-4c32-8c93-c6ec20a33b9d",
   "metadata": {},
   "outputs": [],
   "source": [
    "clean_df = df_table[~((df_table < lower_limit) | (df_table > upper_limit)).any(axis=1)] # ~ isareti, bunun sag tarafindaki kosulun disindakileri getir demek.\n",
    "# any(axis=1) satır bazında kontrol yapıyor. Yani:\n",
    "# axis=1: Satır boyunca işlem yap demek\n",
    "# any(): Herhangi bir değer True"
   ]
  },
  {
   "cell_type": "code",
   "execution_count": 126,
   "id": "39895507-50ba-4bb9-a413-4772b3fec2f6",
   "metadata": {},
   "outputs": [
    {
     "data": {
      "text/plain": [
       "(21406, 1)"
      ]
     },
     "execution_count": 126,
     "metadata": {},
     "output_type": "execute_result"
    }
   ],
   "source": [
    "clean_df.shape"
   ]
  },
  {
   "cell_type": "markdown",
   "id": "8373d501-712f-4ef3-9481-7cde2072f722",
   "metadata": {},
   "source": [
    "### Ortalama ile doldurma"
   ]
  },
  {
   "cell_type": "code",
   "execution_count": 127,
   "id": "7ce30a14-e395-4854-b981-1e1d43a8440f",
   "metadata": {},
   "outputs": [
    {
     "data": {
      "text/plain": [
       "table    57.760078\n",
       "dtype: float64"
      ]
     },
     "execution_count": 127,
     "metadata": {},
     "output_type": "execute_result"
    }
   ],
   "source": [
    "df_table.mean()"
   ]
  },
  {
   "cell_type": "code",
   "execution_count": 128,
   "id": "fa3028df-f56d-49b4-bf0d-0001c07df640",
   "metadata": {},
   "outputs": [],
   "source": [
    "df_table[aykiri_tf] = df_table.mean()"
   ]
  },
  {
   "cell_type": "code",
   "execution_count": 129,
   "id": "2d1a197d-f4b0-494f-86da-d748f862978b",
   "metadata": {},
   "outputs": [
    {
     "data": {
      "text/html": [
       "<div>\n",
       "<style scoped>\n",
       "    .dataframe tbody tr th:only-of-type {\n",
       "        vertical-align: middle;\n",
       "    }\n",
       "\n",
       "    .dataframe tbody tr th {\n",
       "        vertical-align: top;\n",
       "    }\n",
       "\n",
       "    .dataframe thead th {\n",
       "        text-align: right;\n",
       "    }\n",
       "</style>\n",
       "<table border=\"1\" class=\"dataframe\">\n",
       "  <thead>\n",
       "    <tr style=\"text-align: right;\">\n",
       "      <th></th>\n",
       "      <th>table</th>\n",
       "    </tr>\n",
       "  </thead>\n",
       "  <tbody>\n",
       "    <tr>\n",
       "      <th>2</th>\n",
       "      <td>57.760078</td>\n",
       "    </tr>\n",
       "    <tr>\n",
       "      <th>91</th>\n",
       "      <td>57.760078</td>\n",
       "    </tr>\n",
       "    <tr>\n",
       "      <th>145</th>\n",
       "      <td>57.760078</td>\n",
       "    </tr>\n",
       "    <tr>\n",
       "      <th>219</th>\n",
       "      <td>57.760078</td>\n",
       "    </tr>\n",
       "    <tr>\n",
       "      <th>227</th>\n",
       "      <td>57.760078</td>\n",
       "    </tr>\n",
       "    <tr>\n",
       "      <th>...</th>\n",
       "      <td>...</td>\n",
       "    </tr>\n",
       "    <tr>\n",
       "      <th>21156</th>\n",
       "      <td>57.760078</td>\n",
       "    </tr>\n",
       "    <tr>\n",
       "      <th>21300</th>\n",
       "      <td>57.760078</td>\n",
       "    </tr>\n",
       "    <tr>\n",
       "      <th>21416</th>\n",
       "      <td>57.760078</td>\n",
       "    </tr>\n",
       "    <tr>\n",
       "      <th>21558</th>\n",
       "      <td>57.760078</td>\n",
       "    </tr>\n",
       "    <tr>\n",
       "      <th>21610</th>\n",
       "      <td>57.760078</td>\n",
       "    </tr>\n",
       "  </tbody>\n",
       "</table>\n",
       "<p>274 rows × 1 columns</p>\n",
       "</div>"
      ],
      "text/plain": [
       "           table\n",
       "2      57.760078\n",
       "91     57.760078\n",
       "145    57.760078\n",
       "219    57.760078\n",
       "227    57.760078\n",
       "...          ...\n",
       "21156  57.760078\n",
       "21300  57.760078\n",
       "21416  57.760078\n",
       "21558  57.760078\n",
       "21610  57.760078\n",
       "\n",
       "[274 rows x 1 columns]"
      ]
     },
     "execution_count": 129,
     "metadata": {},
     "output_type": "execute_result"
    }
   ],
   "source": [
    "df_table[aykiri_tf]"
   ]
  },
  {
   "cell_type": "markdown",
   "id": "46054b99-bd37-4cc5-b62f-b9a2518277da",
   "metadata": {},
   "source": [
    "### Baskılama Yöntemi ile Doldurma (Suppression Method)"
   ]
  },
  {
   "cell_type": "markdown",
   "id": "8d6e7ef8",
   "metadata": {},
   "source": [
    "Aykırı değerler üst tarafta ise üst eşik değere eşitlenir, alt tarafta ise alt eşik değere eşitlenir. Bazı durumlarda bu yöntem en mantıklısıdır."
   ]
  },
  {
   "cell_type": "code",
   "execution_count": 130,
   "id": "a898a63f",
   "metadata": {},
   "outputs": [],
   "source": [
    "df = sns.load_dataset(\"diamonds\")\n",
    "df = df.select_dtypes(include=[\"float64\", \"int64\"])\n",
    "df = df.dropna()\n",
    "df.head()\n",
    "df_table = df[\"table\"]"
   ]
  },
  {
   "cell_type": "code",
   "execution_count": 131,
   "id": "d6d0a024",
   "metadata": {},
   "outputs": [
    {
     "data": {
      "text/plain": [
       "2        65.0\n",
       "91       69.0\n",
       "145      64.0\n",
       "219      64.0\n",
       "227      67.0\n",
       "         ... \n",
       "21156    66.0\n",
       "21300    64.0\n",
       "21416    65.0\n",
       "21558    64.0\n",
       "21610    64.0\n",
       "Name: table, Length: 274, dtype: float64"
      ]
     },
     "execution_count": 131,
     "metadata": {},
     "output_type": "execute_result"
    }
   ],
   "source": [
    "df_table[aykiri_tf]"
   ]
  },
  {
   "cell_type": "code",
   "execution_count": 132,
   "id": "9da9408a",
   "metadata": {},
   "outputs": [],
   "source": [
    "df_table[aykiri_tf < lower_limit] = lower_limit\n",
    "df_table[aykiri_tf > upper_limit] = upper_limit"
   ]
  },
  {
   "cell_type": "code",
   "execution_count": 133,
   "id": "1ff51e82",
   "metadata": {},
   "outputs": [
    {
     "data": {
      "text/plain": [
       "2        51.5\n",
       "91       51.5\n",
       "145      51.5\n",
       "219      51.5\n",
       "227      51.5\n",
       "         ... \n",
       "21156    51.5\n",
       "21300    51.5\n",
       "21416    51.5\n",
       "21558    51.5\n",
       "21610    51.5\n",
       "Name: table, Length: 274, dtype: float64"
      ]
     },
     "execution_count": 133,
     "metadata": {},
     "output_type": "execute_result"
    }
   ],
   "source": [
    "df_table[aykiri_tf]"
   ]
  },
  {
   "cell_type": "code",
   "execution_count": null,
   "id": "1a118fbc",
   "metadata": {},
   "outputs": [],
   "source": []
  }
 ],
 "metadata": {
  "kernelspec": {
   "display_name": "Python 3",
   "language": "python",
   "name": "python3"
  },
  "language_info": {
   "codemirror_mode": {
    "name": "ipython",
    "version": 3
   },
   "file_extension": ".py",
   "mimetype": "text/x-python",
   "name": "python",
   "nbconvert_exporter": "python",
   "pygments_lexer": "ipython3",
   "version": "3.13.0"
  }
 },
 "nbformat": 4,
 "nbformat_minor": 5
}
