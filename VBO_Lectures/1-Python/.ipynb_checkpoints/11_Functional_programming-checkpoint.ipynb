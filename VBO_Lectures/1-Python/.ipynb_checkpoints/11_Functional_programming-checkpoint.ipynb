{
 "cells": [
  {
   "cell_type": "code",
   "execution_count": 1,
   "metadata": {},
   "outputs": [],
   "source": [
    "# Fonksiyonel programlama, daha esnek ve bizi daha iyi anlayan programlama yaklasimidir"
   ]
  },
  {
   "cell_type": "markdown",
   "metadata": {},
   "source": [
    "**FONKSIYONEL PROGRAMLAMANIN PARADIGMALARI**\n",
    "\n",
    "\n",
    "*Fonksiyonlar (Birinci sınıf nesneler):*\n",
    "\n",
    "Python'da fonksiyonlar değişkenlere atanabilir\n",
    "\n",
    "Diğer fonksiyonlara parametre olarak gönderilebilir\n",
    "\n",
    "Fonksiyonlardan dönüş değeri olarak kullanılabilir\n",
    "\n",
    "\n",
    "*Yan etkisiz fonksiyonlar (stateless):*\n",
    "\n",
    "Aynı girdi için her zaman aynı çıktıyı üretir\n",
    "\n",
    "Global değişkenleri değiştirmez\n",
    "\n",
    "Dış dünyayla etkileşime girmez\n",
    "\n",
    "Örnek: def topla(a, b): return a + b\n",
    "\n",
    "\n",
    "*Yüksek seviye fonksiyonlar:*\n",
    "\n",
    "Diğer fonksiyonları parametre olarak alabilir\n",
    "\n",
    "Fonksiyon döndürebilir\n",
    "\n",
    "Örnek: map(), filter(), reduce()\n",
    "\n",
    "\n",
    "*Vektörel operasyonlar:*\n",
    "\n",
    "Diziler üzerinde toplu işlemler yapılabilir\n",
    "\n",
    "NumPy gibi kütüphanelerle verimli hesaplamalar\n",
    "\n",
    "Örnek: numpy.array([1,2,3]) * 2 -> [2,4,6]"
   ]
  },
  {
   "cell_type": "markdown",
   "metadata": {
    "vscode": {
     "languageId": "powershell"
    }
   },
   "source": [
    "![](image2.png)"
   ]
  },
  {
   "cell_type": "code",
   "execution_count": null,
   "metadata": {},
   "outputs": [],
   "source": [
    "A = 5\n",
    "\n",
    "def impure_sum(b): # fonksiyonun bir sekilde disardan bir bagimliligi var. A'yi degistirirsem fonksiyon sonucu da degismis olur. O yuzden saf (yan etkisiz) degildir\n",
    "    return b + A\n",
    "\n",
    "def pure_sum(a, b):\n",
    "    return a + b"
   ]
  },
  {
   "cell_type": "code",
   "execution_count": null,
   "metadata": {},
   "outputs": [
    {
     "data": {
      "text/plain": [
       "11"
      ]
     },
     "execution_count": 7,
     "metadata": {},
     "output_type": "execute_result"
    }
   ],
   "source": [
    "impure_sum(6) # yan etkili, bagimli"
   ]
  },
  {
   "cell_type": "code",
   "execution_count": null,
   "metadata": {},
   "outputs": [
    {
     "data": {
      "text/plain": [
       "7"
      ]
     },
     "execution_count": 8,
     "metadata": {},
     "output_type": "execute_result"
    }
   ],
   "source": [
    "pure_sum(3, 4) # yan etkisiz, bagimsiz, saf"
   ]
  },
  {
   "cell_type": "code",
   "execution_count": null,
   "metadata": {},
   "outputs": [],
   "source": []
  }
 ],
 "metadata": {
  "kernelspec": {
   "display_name": "Python 3",
   "language": "python",
   "name": "python3"
  },
  "language_info": {
   "codemirror_mode": {
    "name": "ipython",
    "version": 3
   },
   "file_extension": ".py",
   "mimetype": "text/x-python",
   "name": "python",
   "nbconvert_exporter": "python",
   "pygments_lexer": "ipython3",
   "version": "3.11.5"
  }
 },
 "nbformat": 4,
 "nbformat_minor": 2
}
