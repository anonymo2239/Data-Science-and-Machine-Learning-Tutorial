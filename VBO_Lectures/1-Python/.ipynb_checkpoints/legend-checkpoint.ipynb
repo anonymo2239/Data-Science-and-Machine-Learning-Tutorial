{
 "cells": [
  {
   "cell_type": "code",
   "execution_count": 7,
   "id": "fc0e38b1-1ba2-41c3-95b8-7a550506a027",
   "metadata": {},
   "outputs": [],
   "source": [
    "tuples = (2, 3.14, 23, 4, 'alperen')"
   ]
  },
  {
   "cell_type": "code",
   "execution_count": 8,
   "id": "7cd4bed4-8bf5-4d4c-a0dd-89e64a430938",
   "metadata": {},
   "outputs": [
    {
     "data": {
      "text/plain": [
       "tuple"
      ]
     },
     "execution_count": 8,
     "metadata": {},
     "output_type": "execute_result"
    }
   ],
   "source": [
    "type(tuples)"
   ]
  },
  {
   "cell_type": "code",
   "execution_count": 9,
   "id": "c951898f-7658-4e6f-bcde-573d26b2c779",
   "metadata": {},
   "outputs": [
    {
     "data": {
      "text/plain": [
       "(2, 3.14, 23, 4, 'alperen')"
      ]
     },
     "execution_count": 9,
     "metadata": {},
     "output_type": "execute_result"
    }
   ],
   "source": [
    "tuples"
   ]
  },
  {
   "cell_type": "code",
   "execution_count": 14,
   "id": "d486c46f-49d0-4307-b586-4f3022a894ac",
   "metadata": {},
   "outputs": [],
   "source": [
    "sets = (2, 5, 3, 12, 'ali', 'veli')"
   ]
  },
  {
   "cell_type": "code",
   "execution_count": 15,
   "id": "54d8add0-e7ae-4b02-a0ee-d5dc98794646",
   "metadata": {},
   "outputs": [
    {
     "data": {
      "text/plain": [
       "tuple"
      ]
     },
     "execution_count": 15,
     "metadata": {},
     "output_type": "execute_result"
    }
   ],
   "source": [
    "type(sets)"
   ]
  },
  {
   "cell_type": "code",
   "execution_count": 16,
   "id": "27216db9-6bcc-4df1-a896-c093a963ce1f",
   "metadata": {},
   "outputs": [],
   "source": [
    "sets = set(sets)"
   ]
  },
  {
   "cell_type": "code",
   "execution_count": 18,
   "id": "c09cc99d-10d6-4b69-906d-7e34217cd841",
   "metadata": {},
   "outputs": [
    {
     "data": {
      "text/plain": [
       "{12, 2, 3, 5, 'ali', 'veli'}"
      ]
     },
     "execution_count": 18,
     "metadata": {},
     "output_type": "execute_result"
    }
   ],
   "source": [
    "sets"
   ]
  },
  {
   "cell_type": "code",
   "execution_count": 19,
   "id": "7446868d-aa6a-4cf4-83df-5b58ce0baaed",
   "metadata": {},
   "outputs": [
    {
     "data": {
      "text/plain": [
       "set"
      ]
     },
     "execution_count": 19,
     "metadata": {},
     "output_type": "execute_result"
    }
   ],
   "source": [
    "type(sets)"
   ]
  },
  {
   "cell_type": "code",
   "execution_count": 20,
   "id": "1b36f03b-ba90-4a76-bc73-61daca0ff67b",
   "metadata": {},
   "outputs": [
    {
     "data": {
      "text/plain": [
       "{'a', 'm', 'n', 'o', 's'}"
      ]
     },
     "execution_count": 20,
     "metadata": {},
     "output_type": "execute_result"
    }
   ],
   "source": [
    "letters = set(\"osman\")\n",
    "letters"
   ]
  },
  {
   "cell_type": "code",
   "execution_count": 52,
   "id": "0d7a1e8d-132e-4f14-839a-f9e8bb731f71",
   "metadata": {},
   "outputs": [],
   "source": [
    "class Students():\n",
    "    age = 14 \n",
    "    grade = 8 \n",
    "    def __init__(self, age, gpa):\n",
    "        self.age = age\n",
    "        self.gpa = gpa"
   ]
  },
  {
   "cell_type": "code",
   "execution_count": 53,
   "id": "a9c9a37c-521e-4f56-b75a-760888059806",
   "metadata": {},
   "outputs": [],
   "source": [
    "alperen = Students(age=15, gpa=85)"
   ]
  },
  {
   "cell_type": "code",
   "execution_count": 54,
   "id": "8a943f55-a4f6-4b1d-9fb4-3ef679dd35b7",
   "metadata": {},
   "outputs": [
    {
     "data": {
      "text/plain": [
       "15"
      ]
     },
     "execution_count": 54,
     "metadata": {},
     "output_type": "execute_result"
    }
   ],
   "source": [
    "alperen.age"
   ]
  },
  {
   "cell_type": "code",
   "execution_count": 55,
   "id": "c648639e-3f5a-4057-88ae-3c5cc7f3be9e",
   "metadata": {},
   "outputs": [
    {
     "data": {
      "text/plain": [
       "8"
      ]
     },
     "execution_count": 55,
     "metadata": {},
     "output_type": "execute_result"
    }
   ],
   "source": [
    "alperen.grade"
   ]
  },
  {
   "cell_type": "code",
   "execution_count": 58,
   "id": "ae7985fc-56b9-4eb8-83db-220948596070",
   "metadata": {},
   "outputs": [
    {
     "ename": "TypeError",
     "evalue": "Students.__init__() missing 1 required positional argument: 'gpa'",
     "output_type": "error",
     "traceback": [
      "\u001b[1;31m---------------------------------------------------------------------------\u001b[0m",
      "\u001b[1;31mTypeError\u001b[0m                                 Traceback (most recent call last)",
      "Cell \u001b[1;32mIn[58], line 1\u001b[0m\n\u001b[1;32m----> 1\u001b[0m emirhan \u001b[38;5;241m=\u001b[39m \u001b[43mStudents\u001b[49m\u001b[43m(\u001b[49m\u001b[38;5;241;43m90\u001b[39;49m\u001b[43m)\u001b[49m\n",
      "\u001b[1;31mTypeError\u001b[0m: Students.__init__() missing 1 required positional argument: 'gpa'"
     ]
    }
   ],
   "source": [
    "emirhan = Students(90)"
   ]
  },
  {
   "cell_type": "code",
   "execution_count": 57,
   "id": "93b24c16-8321-43b0-98c2-ec57a4515c34",
   "metadata": {},
   "outputs": [
    {
     "data": {
      "text/plain": [
       "12"
      ]
     },
     "execution_count": 57,
     "metadata": {},
     "output_type": "execute_result"
    }
   ],
   "source": [
    "emirhan.age"
   ]
  },
  {
   "cell_type": "code",
   "execution_count": 59,
   "id": "27955931-ba33-4f9f-ac98-de9709f62603",
   "metadata": {},
   "outputs": [],
   "source": [
    "listem = [12, 24, 12, 45]"
   ]
  },
  {
   "cell_type": "code",
   "execution_count": 76,
   "id": "dbf5a041-46b4-495e-a385-ea87f76550ac",
   "metadata": {},
   "outputs": [],
   "source": [
    "new_list = list(map(lambda x: x + 10, listem))"
   ]
  },
  {
   "cell_type": "code",
   "execution_count": 77,
   "id": "4f5563a4-b29b-4f61-ad45-e1e0c428bda0",
   "metadata": {},
   "outputs": [
    {
     "data": {
      "text/plain": [
       "[22, 34, 22, 55]"
      ]
     },
     "execution_count": 77,
     "metadata": {},
     "output_type": "execute_result"
    }
   ],
   "source": [
    "new_list"
   ]
  },
  {
   "cell_type": "code",
   "execution_count": 78,
   "id": "7948633a-c470-4d2a-95cc-a2465fdd58a7",
   "metadata": {},
   "outputs": [],
   "source": [
    "new_state_list = list(filter(lambda x: x < 20, listem))"
   ]
  },
  {
   "cell_type": "code",
   "execution_count": 80,
   "id": "f60729da-f58b-44dc-985a-156a40781b01",
   "metadata": {},
   "outputs": [
    {
     "data": {
      "text/plain": [
       "[12, 12]"
      ]
     },
     "execution_count": 80,
     "metadata": {},
     "output_type": "execute_result"
    }
   ],
   "source": [
    "new_state_list"
   ]
  },
  {
   "cell_type": "code",
   "execution_count": null,
   "id": "c919014e-22d6-4eec-8304-45f4cf31e37d",
   "metadata": {},
   "outputs": [],
   "source": []
  }
 ],
 "metadata": {
  "kernelspec": {
   "display_name": "Python 3 (ipykernel)",
   "language": "python",
   "name": "python3"
  },
  "language_info": {
   "codemirror_mode": {
    "name": "ipython",
    "version": 3
   },
   "file_extension": ".py",
   "mimetype": "text/x-python",
   "name": "python",
   "nbconvert_exporter": "python",
   "pygments_lexer": "ipython3",
   "version": "3.11.0"
  }
 },
 "nbformat": 4,
 "nbformat_minor": 5
}
