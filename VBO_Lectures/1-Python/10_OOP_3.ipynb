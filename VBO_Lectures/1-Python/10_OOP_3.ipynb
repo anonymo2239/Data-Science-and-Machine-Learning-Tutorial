{
 "cells": [
  {
   "cell_type": "code",
   "execution_count": 2,
   "metadata": {},
   "outputs": [],
   "source": [
    "# Miras yapilari (inheritance)"
   ]
  },
  {
   "cell_type": "code",
   "execution_count": null,
   "metadata": {},
   "outputs": [],
   "source": [
    "class Employees():\n",
    "    def __init__(self):\n",
    "        self.FirstName = \"\"\n",
    "        self.LastName = \"\"\n",
    "        self.Address = \"\"\n",
    "\n",
    "class DataScience(Employees): # Miras aldi ve boylece datascience sinifina ozellik girmeden tek bir siniftan ozellikleri cekmis olduk\n",
    "    def __init__(self):\n",
    "        self.Programming = \"\"\n",
    "    \n",
    "class Marketing(Employees):\n",
    "    def __init__(self):\n",
    "        self.StoryTelling = \"\""
   ]
  },
  {
   "cell_type": "code",
   "execution_count": 5,
   "metadata": {},
   "outputs": [],
   "source": [
    "veribilimci1 = DataScience()\n",
    "veribilimci1.FirstName = \"Alperen\"\n",
    "veribilimci1.LastName = \"Arda\" # Goruldugu gibi employees sinifi ozelligi buraya geldi\n",
    "\n",
    "mar1 = Marketing()\n",
    "mar1.Address = \"Abdurrahman\""
   ]
  },
  {
   "cell_type": "code",
   "execution_count": 6,
   "metadata": {},
   "outputs": [],
   "source": [
    "# Parametrik olarak almak icin:\n",
    "\n",
    "class EmployeesNew():\n",
    "    def __init__(self, FirstName, LastName, Address):\n",
    "        self.FirstName = FirstName\n",
    "        self.LastName = LastName\n",
    "        self.Address = Address\n",
    "\n",
    "alperen = EmployeesNew(\"Alperen\", \"Arda\", \"Abdurrahman\")"
   ]
  },
  {
   "cell_type": "code",
   "execution_count": 7,
   "metadata": {},
   "outputs": [
    {
     "data": {
      "text/plain": [
       "'Alperen'"
      ]
     },
     "execution_count": 7,
     "metadata": {},
     "output_type": "execute_result"
    }
   ],
   "source": [
    "alperen.FirstName"
   ]
  },
  {
   "cell_type": "code",
   "execution_count": 8,
   "metadata": {},
   "outputs": [
    {
     "data": {
      "text/plain": [
       "'Arda'"
      ]
     },
     "execution_count": 8,
     "metadata": {},
     "output_type": "execute_result"
    }
   ],
   "source": [
    "alperen.LastName"
   ]
  },
  {
   "cell_type": "code",
   "execution_count": 9,
   "metadata": {},
   "outputs": [
    {
     "data": {
      "text/plain": [
       "'Abdurrahman'"
      ]
     },
     "execution_count": 9,
     "metadata": {},
     "output_type": "execute_result"
    }
   ],
   "source": [
    "alperen.Address"
   ]
  },
  {
   "cell_type": "code",
   "execution_count": null,
   "metadata": {},
   "outputs": [],
   "source": [
    "# Fonksiyon parametresi biciminde nesne degerlerini almis olduk"
   ]
  }
 ],
 "metadata": {
  "kernelspec": {
   "display_name": "Python 3 (ipykernel)",
   "language": "python",
   "name": "python3"
  },
  "language_info": {
   "codemirror_mode": {
    "name": "ipython",
    "version": 3
   },
   "file_extension": ".py",
   "mimetype": "text/x-python",
   "name": "python",
   "nbconvert_exporter": "python",
   "pygments_lexer": "ipython3",
   "version": "3.11.0"
  }
 },
 "nbformat": 4,
 "nbformat_minor": 4
}
