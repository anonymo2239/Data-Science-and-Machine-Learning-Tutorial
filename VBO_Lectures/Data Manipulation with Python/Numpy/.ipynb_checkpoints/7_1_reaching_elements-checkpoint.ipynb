{
 "cells": [
  {
   "cell_type": "markdown",
   "id": "df0b5e4c-ead0-43f4-aafc-2d37d09ebe06",
   "metadata": {},
   "source": [
    "# Reaching elements with indexes"
   ]
  },
  {
   "cell_type": "code",
   "execution_count": 1,
   "id": "89f6f3b5-b815-437f-a796-ae388cebb923",
   "metadata": {},
   "outputs": [],
   "source": [
    "import numpy as np"
   ]
  },
  {
   "cell_type": "code",
   "execution_count": 2,
   "id": "9bd7849d-a483-44e3-8557-081ac776a8aa",
   "metadata": {},
   "outputs": [],
   "source": [
    "a = np.random.randint(10, size=10)"
   ]
  },
  {
   "cell_type": "code",
   "execution_count": 3,
   "id": "4fdd27e0-3941-4eb5-8938-ad34864c0e6f",
   "metadata": {},
   "outputs": [
    {
     "data": {
      "text/plain": [
       "array([0, 8, 6, 0, 6, 2, 9, 9, 5, 3])"
      ]
     },
     "execution_count": 3,
     "metadata": {},
     "output_type": "execute_result"
    }
   ],
   "source": [
    "a"
   ]
  },
  {
   "cell_type": "code",
   "execution_count": 4,
   "id": "3d0d4ed1-1878-4de9-af43-340fb095ee22",
   "metadata": {},
   "outputs": [],
   "source": [
    "a[0] = 100"
   ]
  },
  {
   "cell_type": "code",
   "execution_count": 5,
   "id": "287f3cc6-f755-4f5c-992e-fd2facf1520e",
   "metadata": {},
   "outputs": [
    {
     "data": {
      "text/plain": [
       "array([100,   8,   6,   0,   6,   2,   9,   9,   5,   3])"
      ]
     },
     "execution_count": 5,
     "metadata": {},
     "output_type": "execute_result"
    }
   ],
   "source": [
    "a"
   ]
  },
  {
   "cell_type": "code",
   "execution_count": 6,
   "id": "d488a2d3-f3dd-4625-b82c-21fa4afc5946",
   "metadata": {},
   "outputs": [
    {
     "data": {
      "text/plain": [
       "array([[7, 5, 8, 6, 9],\n",
       "       [9, 0, 1, 3, 8],\n",
       "       [4, 2, 7, 1, 7]])"
      ]
     },
     "execution_count": 6,
     "metadata": {},
     "output_type": "execute_result"
    }
   ],
   "source": [
    "m = np.random.randint(10, size=[3, 5])\n",
    "m"
   ]
  },
  {
   "cell_type": "code",
   "execution_count": 7,
   "id": "f2137e02-7a1d-4063-937f-d4d862ea183e",
   "metadata": {},
   "outputs": [
    {
     "data": {
      "text/plain": [
       "7"
      ]
     },
     "execution_count": 7,
     "metadata": {},
     "output_type": "execute_result"
    }
   ],
   "source": [
    "m[2, 4]"
   ]
  },
  {
   "cell_type": "code",
   "execution_count": 8,
   "id": "2a76b596-011c-4808-a590-5a16dd6040c4",
   "metadata": {},
   "outputs": [],
   "source": [
    "m[0, 4] = 3.14"
   ]
  },
  {
   "cell_type": "code",
   "execution_count": 9,
   "id": "940d1c77-e49f-402d-8600-6afdb2e77341",
   "metadata": {},
   "outputs": [
    {
     "data": {
      "text/plain": [
       "3"
      ]
     },
     "execution_count": 9,
     "metadata": {},
     "output_type": "execute_result"
    }
   ],
   "source": [
    "m[0, 4]"
   ]
  },
  {
   "cell_type": "markdown",
   "id": "214406a5-eff0-40ab-ab72-9aa9ea3fb76f",
   "metadata": {},
   "source": [
    "# Reaching elements with slicing"
   ]
  },
  {
   "cell_type": "code",
   "execution_count": 10,
   "id": "a87ab09c-964a-441c-9f8c-b18acbf15686",
   "metadata": {},
   "outputs": [
    {
     "data": {
      "text/plain": [
       "array([20, 21, 22, 23, 24, 25, 26, 27, 28, 29])"
      ]
     },
     "execution_count": 10,
     "metadata": {},
     "output_type": "execute_result"
    }
   ],
   "source": [
    "a = np.arange(20, 30)\n",
    "a"
   ]
  },
  {
   "cell_type": "code",
   "execution_count": 11,
   "id": "cbf62991-9330-4dfe-9f56-880d8505989b",
   "metadata": {},
   "outputs": [
    {
     "data": {
      "text/plain": [
       "array([20, 21, 22])"
      ]
     },
     "execution_count": 11,
     "metadata": {},
     "output_type": "execute_result"
    }
   ],
   "source": [
    "a[0:3]"
   ]
  },
  {
   "cell_type": "code",
   "execution_count": 12,
   "id": "4ddb4b56-b386-4d30-8c07-46c137e8f82a",
   "metadata": {},
   "outputs": [
    {
     "data": {
      "text/plain": [
       "array([27, 28, 29])"
      ]
     },
     "execution_count": 12,
     "metadata": {},
     "output_type": "execute_result"
    }
   ],
   "source": [
    "a[-3:]"
   ]
  },
  {
   "cell_type": "code",
   "execution_count": 13,
   "id": "98bb2074-39e4-4589-949c-8650037e27fb",
   "metadata": {},
   "outputs": [
    {
     "data": {
      "text/plain": [
       "array([23, 24, 25, 26, 27, 28, 29])"
      ]
     },
     "execution_count": 13,
     "metadata": {},
     "output_type": "execute_result"
    }
   ],
   "source": [
    "a[3:]"
   ]
  },
  {
   "cell_type": "code",
   "execution_count": 14,
   "id": "38c36de5-a531-45a8-a96d-ef1e63f37c56",
   "metadata": {},
   "outputs": [
    {
     "data": {
      "text/plain": [
       "array([20, 23, 26, 29])"
      ]
     },
     "execution_count": 14,
     "metadata": {},
     "output_type": "execute_result"
    }
   ],
   "source": [
    "a[0::3] # birinci indeksten baslayip ucer ucer gitsin"
   ]
  },
  {
   "cell_type": "code",
   "execution_count": 15,
   "id": "2cff5e07-720a-41eb-9b06-24b5b7445112",
   "metadata": {},
   "outputs": [],
   "source": [
    "# iki boyutlu slice islemleri"
   ]
  },
  {
   "cell_type": "code",
   "execution_count": 16,
   "id": "71595638-69c5-4de0-9332-39560946e455",
   "metadata": {},
   "outputs": [
    {
     "data": {
      "text/plain": [
       "array([[3, 9, 8, 6, 0],\n",
       "       [2, 3, 0, 8, 3],\n",
       "       [2, 8, 7, 5, 9],\n",
       "       [0, 7, 0, 1, 7],\n",
       "       [4, 7, 5, 3, 4]])"
      ]
     },
     "execution_count": 16,
     "metadata": {},
     "output_type": "execute_result"
    }
   ],
   "source": [
    "m = np.random.randint(10, size=[5, 5])\n",
    "m"
   ]
  },
  {
   "cell_type": "code",
   "execution_count": 17,
   "id": "f5b21dca-2187-4ab0-b7a1-739de0863fbc",
   "metadata": {},
   "outputs": [
    {
     "data": {
      "text/plain": [
       "array([3, 2, 2, 0, 4])"
      ]
     },
     "execution_count": 17,
     "metadata": {},
     "output_type": "execute_result"
    }
   ],
   "source": [
    "m[:, 0]  # satirlardan hepsini sec, sutunlardan 0. sutunu sec"
   ]
  },
  {
   "cell_type": "code",
   "execution_count": 18,
   "id": "3d54b5a4-12c3-4f98-9d2d-4236aa226fe0",
   "metadata": {},
   "outputs": [
    {
     "data": {
      "text/plain": [
       "array([3, 9, 8])"
      ]
     },
     "execution_count": 18,
     "metadata": {},
     "output_type": "execute_result"
    }
   ],
   "source": [
    "m[0, :3]"
   ]
  },
  {
   "cell_type": "code",
   "execution_count": 19,
   "id": "3b51029d-4e0c-406e-ad65-696516df2342",
   "metadata": {},
   "outputs": [
    {
     "data": {
      "text/plain": [
       "array([8, 6, 0])"
      ]
     },
     "execution_count": 19,
     "metadata": {},
     "output_type": "execute_result"
    }
   ],
   "source": [
    "m[0, -3:]"
   ]
  },
  {
   "cell_type": "code",
   "execution_count": 20,
   "id": "58fbc88c-2ef8-4aeb-8adf-c68eed856696",
   "metadata": {},
   "outputs": [
    {
     "data": {
      "text/plain": [
       "array([[3, 9, 8],\n",
       "       [2, 3, 0]])"
      ]
     },
     "execution_count": 20,
     "metadata": {},
     "output_type": "execute_result"
    }
   ],
   "source": [
    "m[0:2, 0:3]"
   ]
  },
  {
   "cell_type": "code",
   "execution_count": 21,
   "id": "bef32774-15d8-43ce-ae89-85bc741e5c4e",
   "metadata": {},
   "outputs": [
    {
     "data": {
      "text/plain": [
       "array([[3, 9],\n",
       "       [2, 3],\n",
       "       [2, 8],\n",
       "       [0, 7],\n",
       "       [4, 7]])"
      ]
     },
     "execution_count": 21,
     "metadata": {},
     "output_type": "execute_result"
    }
   ],
   "source": [
    "m[:, 0:2]"
   ]
  },
  {
   "cell_type": "code",
   "execution_count": 22,
   "id": "863e2e0f-09d9-47ba-9587-602b0ebaed79",
   "metadata": {},
   "outputs": [
    {
     "data": {
      "text/plain": [
       "array([[2, 3],\n",
       "       [2, 8]])"
      ]
     },
     "execution_count": 22,
     "metadata": {},
     "output_type": "execute_result"
    }
   ],
   "source": [
    "m[1:3, 0:2]"
   ]
  },
  {
   "cell_type": "code",
   "execution_count": null,
   "id": "b6f1c225-6807-4fbe-a8b8-bc1975c47a74",
   "metadata": {},
   "outputs": [],
   "source": []
  }
 ],
 "metadata": {
  "kernelspec": {
   "display_name": "Python 3 (ipykernel)",
   "language": "python",
   "name": "python3"
  },
  "language_info": {
   "codemirror_mode": {
    "name": "ipython",
    "version": 3
   },
   "file_extension": ".py",
   "mimetype": "text/x-python",
   "name": "python",
   "nbconvert_exporter": "python",
   "pygments_lexer": "ipython3",
   "version": "3.11.5"
  }
 },
 "nbformat": 4,
 "nbformat_minor": 5
}
