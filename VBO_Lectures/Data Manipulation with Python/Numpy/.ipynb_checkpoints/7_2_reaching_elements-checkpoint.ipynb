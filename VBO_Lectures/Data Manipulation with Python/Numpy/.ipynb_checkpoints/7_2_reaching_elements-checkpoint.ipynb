{
 "cells": [
  {
   "cell_type": "markdown",
   "id": "dad1de78-987f-4641-838e-d9747f9660e5",
   "metadata": {},
   "source": [
    "# Subset operations"
   ]
  },
  {
   "cell_type": "code",
   "execution_count": 1,
   "id": "b9ffc102-e2a7-4020-8656-623b550e10c6",
   "metadata": {},
   "outputs": [],
   "source": [
    "import numpy as np"
   ]
  },
  {
   "cell_type": "code",
   "execution_count": 2,
   "id": "03303350-781c-4e8f-be45-a65707d1680e",
   "metadata": {},
   "outputs": [
    {
     "data": {
      "text/plain": [
       "array([[6, 4, 6, 0, 9],\n",
       "       [6, 6, 9, 2, 8],\n",
       "       [4, 5, 9, 2, 4],\n",
       "       [8, 3, 7, 1, 5],\n",
       "       [8, 4, 4, 0, 1]])"
      ]
     },
     "execution_count": 2,
     "metadata": {},
     "output_type": "execute_result"
    }
   ],
   "source": [
    "a = np.random.randint(10, size=[5, 5])\n",
    "a"
   ]
  },
  {
   "cell_type": "code",
   "execution_count": 3,
   "id": "6ca05c0d-c843-405f-85d0-0eb283c6e98c",
   "metadata": {},
   "outputs": [
    {
     "data": {
      "text/plain": [
       "array([[6, 4],\n",
       "       [6, 6],\n",
       "       [4, 5]])"
      ]
     },
     "execution_count": 3,
     "metadata": {},
     "output_type": "execute_result"
    }
   ],
   "source": [
    "sub_a = a[0:3, 0:2]\n",
    "sub_a"
   ]
  },
  {
   "cell_type": "code",
   "execution_count": 4,
   "id": "31f8795a-3416-48df-ba75-f060cf57cb7d",
   "metadata": {},
   "outputs": [
    {
     "data": {
      "text/plain": [
       "array([[   6, 9999],\n",
       "       [   6,    6],\n",
       "       [   4, 8888]])"
      ]
     },
     "execution_count": 4,
     "metadata": {},
     "output_type": "execute_result"
    }
   ],
   "source": [
    "sub_a[0, 1] = 9999\n",
    "sub_a[2, 1] = 8888\n",
    "sub_a"
   ]
  },
  {
   "cell_type": "code",
   "execution_count": 5,
   "id": "9c6f51fe-5323-41e8-9527-8ba4275194be",
   "metadata": {},
   "outputs": [
    {
     "data": {
      "text/plain": [
       "array([[   6, 9999,    6,    0,    9],\n",
       "       [   6,    6,    9,    2,    8],\n",
       "       [   4, 8888,    9,    2,    4],\n",
       "       [   8,    3,    7,    1,    5],\n",
       "       [   8,    4,    4,    0,    1]])"
      ]
     },
     "execution_count": 5,
     "metadata": {},
     "output_type": "execute_result"
    }
   ],
   "source": [
    "a # GORULDUGU UZERE ALT GRUBU DEGISTIRSEK BILE ANA GRUP DEGISMIS OLDU"
   ]
  },
  {
   "cell_type": "code",
   "execution_count": 6,
   "id": "85f657b8-574a-4272-ac8b-7b83755476e7",
   "metadata": {},
   "outputs": [
    {
     "data": {
      "text/plain": [
       "array([[3, 1, 5, 1, 7],\n",
       "       [6, 1, 4, 3, 4],\n",
       "       [9, 6, 7, 9, 1],\n",
       "       [9, 9, 0, 8, 6],\n",
       "       [7, 1, 7, 9, 4]])"
      ]
     },
     "execution_count": 6,
     "metadata": {},
     "output_type": "execute_result"
    }
   ],
   "source": [
    "m = np.random.randint(10, size=[5, 5])\n",
    "m"
   ]
  },
  {
   "cell_type": "code",
   "execution_count": 7,
   "id": "4cb6236b-750b-4214-a493-33bf8d760905",
   "metadata": {},
   "outputs": [
    {
     "data": {
      "text/plain": [
       "array([[3, 1],\n",
       "       [6, 1],\n",
       "       [9, 6]])"
      ]
     },
     "execution_count": 7,
     "metadata": {},
     "output_type": "execute_result"
    }
   ],
   "source": [
    "alt_m = m[0:3, 0:2].copy() # copy ekledigimiz zaman bu alt kume artik ana kumeden bagimsiz olacak\n",
    "alt_m"
   ]
  },
  {
   "cell_type": "code",
   "execution_count": 8,
   "id": "b193ede2-4fa3-4d93-8867-145bbaac0ddf",
   "metadata": {},
   "outputs": [
    {
     "data": {
      "text/plain": [
       "array([[123123,      1],\n",
       "       [     6,      1],\n",
       "       [     9,      6]])"
      ]
     },
     "execution_count": 8,
     "metadata": {},
     "output_type": "execute_result"
    }
   ],
   "source": [
    "alt_m[0, 0] = 123123\n",
    "alt_m"
   ]
  },
  {
   "cell_type": "code",
   "execution_count": 9,
   "id": "040109dd-1bb6-47dc-831e-8760c9a02630",
   "metadata": {},
   "outputs": [
    {
     "data": {
      "text/plain": [
       "array([[3, 1, 5, 1, 7],\n",
       "       [6, 1, 4, 3, 4],\n",
       "       [9, 6, 7, 9, 1],\n",
       "       [9, 9, 0, 8, 6],\n",
       "       [7, 1, 7, 9, 4]])"
      ]
     },
     "execution_count": 9,
     "metadata": {},
     "output_type": "execute_result"
    }
   ],
   "source": [
    "m"
   ]
  },
  {
   "cell_type": "markdown",
   "id": "edf31715-0ed4-4409-8e8f-6d944f5262f7",
   "metadata": {},
   "source": [
    "# Reaching index with Fancy Index"
   ]
  },
  {
   "cell_type": "code",
   "execution_count": 10,
   "id": "d7164198-13b9-45b3-ad54-c6c21d838ab2",
   "metadata": {},
   "outputs": [
    {
     "data": {
      "text/plain": [
       "array([ 0,  3,  6,  9, 12, 15, 18, 21, 24, 27])"
      ]
     },
     "execution_count": 10,
     "metadata": {},
     "output_type": "execute_result"
    }
   ],
   "source": [
    "v = np.arange(0, 30, 3)\n",
    "v"
   ]
  },
  {
   "cell_type": "code",
   "execution_count": 11,
   "id": "5a1b1075-eeca-43a2-9988-c646a6b3b64c",
   "metadata": {},
   "outputs": [
    {
     "data": {
      "text/plain": [
       "3"
      ]
     },
     "execution_count": 11,
     "metadata": {},
     "output_type": "execute_result"
    }
   ],
   "source": [
    "v[1]"
   ]
  },
  {
   "cell_type": "code",
   "execution_count": 12,
   "id": "addb5d0e-6ab0-49e0-b10c-36fe47909475",
   "metadata": {},
   "outputs": [
    {
     "data": {
      "text/plain": [
       "9"
      ]
     },
     "execution_count": 12,
     "metadata": {},
     "output_type": "execute_result"
    }
   ],
   "source": [
    "v[3]"
   ]
  },
  {
   "cell_type": "code",
   "execution_count": 13,
   "id": "380194fe-ea5c-4af2-a301-a0f9cb9f3936",
   "metadata": {},
   "outputs": [
    {
     "data": {
      "text/plain": [
       "15"
      ]
     },
     "execution_count": 13,
     "metadata": {},
     "output_type": "execute_result"
    }
   ],
   "source": [
    "v[5]"
   ]
  },
  {
   "cell_type": "code",
   "execution_count": 14,
   "id": "58fca91f-fa8a-4a11-a317-5a524019202b",
   "metadata": {},
   "outputs": [
    {
     "data": {
      "text/plain": [
       "[3, 9, 15]"
      ]
     },
     "execution_count": 14,
     "metadata": {},
     "output_type": "execute_result"
    }
   ],
   "source": [
    "[v[1], v[3], v[5]]"
   ]
  },
  {
   "cell_type": "code",
   "execution_count": 15,
   "id": "182683cc-4e98-4e9c-bf36-3aee16162c52",
   "metadata": {},
   "outputs": [],
   "source": [
    "al_getir = [1, 3, 5]"
   ]
  },
  {
   "cell_type": "code",
   "execution_count": 16,
   "id": "d675761f-0cda-4be9-ab54-d92c55264653",
   "metadata": {},
   "outputs": [
    {
     "data": {
      "text/plain": [
       "array([ 0,  3,  6,  9, 12, 15, 18, 21, 24, 27])"
      ]
     },
     "execution_count": 16,
     "metadata": {},
     "output_type": "execute_result"
    }
   ],
   "source": [
    "v"
   ]
  },
  {
   "cell_type": "code",
   "execution_count": 17,
   "id": "b9f7e740-da14-4a0d-9134-7a30ee329d63",
   "metadata": {},
   "outputs": [
    {
     "data": {
      "text/plain": [
       "array([ 3,  9, 15])"
      ]
     },
     "execution_count": 17,
     "metadata": {},
     "output_type": "execute_result"
    }
   ],
   "source": [
    "v[al_getir] # Bu yonteme fancy index denir"
   ]
  },
  {
   "cell_type": "code",
   "execution_count": 18,
   "id": "deac9e23-10d5-4463-92ac-f0668389fea7",
   "metadata": {},
   "outputs": [
    {
     "data": {
      "text/plain": [
       "array([[ 0,  1,  2,  3,  4,  5],\n",
       "       [ 6,  7,  8,  9, 10, 11],\n",
       "       [12, 13, 14, 15, 16, 17],\n",
       "       [18, 19, 20, 21, 22, 23],\n",
       "       [24, 25, 26, 27, 28, 29],\n",
       "       [30, 31, 32, 33, 34, 35]])"
      ]
     },
     "execution_count": 18,
     "metadata": {},
     "output_type": "execute_result"
    }
   ],
   "source": [
    "z = np.arange(36).reshape(6, 6)\n",
    "z"
   ]
  },
  {
   "cell_type": "code",
   "execution_count": 19,
   "id": "66200021-ae27-4839-a3e6-dfc550534071",
   "metadata": {},
   "outputs": [],
   "source": [
    "satir = np.array([0, 1])\n",
    "sutun = np.array([1, 2])"
   ]
  },
  {
   "cell_type": "code",
   "execution_count": 20,
   "id": "3fa5369e-136f-4a0e-ab72-45e4fb2e025a",
   "metadata": {},
   "outputs": [
    {
     "data": {
      "text/plain": [
       "array([1, 8])"
      ]
     },
     "execution_count": 20,
     "metadata": {},
     "output_type": "execute_result"
    }
   ],
   "source": [
    "z[satir, sutun]"
   ]
  },
  {
   "cell_type": "code",
   "execution_count": 21,
   "id": "8c6989c1-495e-4749-b971-ce2fef798ba8",
   "metadata": {},
   "outputs": [],
   "source": [
    "# Basic index and Fancy index"
   ]
  },
  {
   "cell_type": "code",
   "execution_count": 22,
   "id": "67a2cf6f-be74-4ad8-a85c-a1a111db9859",
   "metadata": {},
   "outputs": [
    {
     "data": {
      "text/plain": [
       "array([[3, 1, 5, 1, 7],\n",
       "       [6, 1, 4, 3, 4],\n",
       "       [9, 6, 7, 9, 1],\n",
       "       [9, 9, 0, 8, 6],\n",
       "       [7, 1, 7, 9, 4]])"
      ]
     },
     "execution_count": 22,
     "metadata": {},
     "output_type": "execute_result"
    }
   ],
   "source": [
    "m"
   ]
  },
  {
   "cell_type": "code",
   "execution_count": 23,
   "id": "15bd4384-9f82-476f-a059-1348043207c4",
   "metadata": {},
   "outputs": [
    {
     "data": {
      "text/plain": [
       "array([1, 5])"
      ]
     },
     "execution_count": 23,
     "metadata": {},
     "output_type": "execute_result"
    }
   ],
   "source": [
    "m[0, [1, 2]]"
   ]
  },
  {
   "cell_type": "code",
   "execution_count": 24,
   "id": "5013f746-f763-46c4-95d9-c7212d274e48",
   "metadata": {},
   "outputs": [],
   "source": [
    "# slice ile fancy"
   ]
  },
  {
   "cell_type": "code",
   "execution_count": 25,
   "id": "68cb36fc-54b2-473e-90a8-fe967d6905d0",
   "metadata": {},
   "outputs": [
    {
     "data": {
      "text/plain": [
       "array([[1, 5],\n",
       "       [1, 4],\n",
       "       [6, 7],\n",
       "       [9, 0],\n",
       "       [1, 7]])"
      ]
     },
     "execution_count": 25,
     "metadata": {},
     "output_type": "execute_result"
    }
   ],
   "source": [
    "m[0:, [1, 2]]"
   ]
  },
  {
   "cell_type": "code",
   "execution_count": null,
   "id": "cebecb10-91ba-4701-8ca0-54f94b3fe1f2",
   "metadata": {},
   "outputs": [],
   "source": []
  }
 ],
 "metadata": {
  "kernelspec": {
   "display_name": "Python 3 (ipykernel)",
   "language": "python",
   "name": "python3"
  },
  "language_info": {
   "codemirror_mode": {
    "name": "ipython",
    "version": 3
   },
   "file_extension": ".py",
   "mimetype": "text/x-python",
   "name": "python",
   "nbconvert_exporter": "python",
   "pygments_lexer": "ipython3",
   "version": "3.11.5"
  }
 },
 "nbformat": 4,
 "nbformat_minor": 5
}
