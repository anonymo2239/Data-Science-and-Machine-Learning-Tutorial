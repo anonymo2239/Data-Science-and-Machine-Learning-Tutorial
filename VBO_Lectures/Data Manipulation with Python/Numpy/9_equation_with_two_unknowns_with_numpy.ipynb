{
 "cells": [
  {
   "cell_type": "code",
   "execution_count": 1,
   "id": "50f79643-bfe5-4ff2-bb20-4983ac3d7991",
   "metadata": {},
   "outputs": [],
   "source": [
    "import numpy as np "
   ]
  },
  {
   "cell_type": "markdown",
   "id": "9c95f4eb-8e5e-4fe7-bd7c-3ec0e88b2ebb",
   "metadata": {},
   "source": [
    "5*x0 + x1 = 12\n",
    "\n",
    "x0 + 3*x1 = 10"
   ]
  },
  {
   "cell_type": "code",
   "execution_count": 2,
   "id": "f7b820cd-8e5c-425b-b2d7-ba844036ccf2",
   "metadata": {},
   "outputs": [],
   "source": [
    "a = np.array([[5, 1], [1, 3]]) # once bilinmeyen denklemlerin katsayilarini yaziyoruz (iki boyutlu)"
   ]
  },
  {
   "cell_type": "code",
   "execution_count": 3,
   "id": "4a76ea63-bd0a-4207-917a-72c2f7a8c83b",
   "metadata": {},
   "outputs": [
    {
     "data": {
      "text/plain": [
       "array([[5, 1],\n",
       "       [1, 3]])"
      ]
     },
     "execution_count": 3,
     "metadata": {},
     "output_type": "execute_result"
    }
   ],
   "source": [
    "a"
   ]
  },
  {
   "cell_type": "code",
   "execution_count": 4,
   "id": "a2ba3803-2497-4dc5-9496-e3bf4209f2d2",
   "metadata": {},
   "outputs": [],
   "source": [
    "b = np.array([12, 10]) # sonra esitligin karsi tarafindaki sayilari diger numpy dizisine aktariyoruz."
   ]
  },
  {
   "cell_type": "code",
   "execution_count": 5,
   "id": "96b480ef-cd2e-4cd9-9ebf-a381b1e028aa",
   "metadata": {},
   "outputs": [
    {
     "data": {
      "text/plain": [
       "array([12, 10])"
      ]
     },
     "execution_count": 5,
     "metadata": {},
     "output_type": "execute_result"
    }
   ],
   "source": [
    "b"
   ]
  },
  {
   "cell_type": "code",
   "execution_count": 6,
   "id": "d0125572-61cf-41ba-b935-3c5704f52e88",
   "metadata": {},
   "outputs": [],
   "source": [
    "x = np.linalg.solve(a, b) # bu fonksiyonla da numpy kendi kendine cozuyor"
   ]
  },
  {
   "cell_type": "code",
   "execution_count": 7,
   "id": "d01ecfa4-8505-430d-8270-957df55c2595",
   "metadata": {},
   "outputs": [
    {
     "data": {
      "text/plain": [
       "array([1.85714286, 2.71428571])"
      ]
     },
     "execution_count": 7,
     "metadata": {},
     "output_type": "execute_result"
    }
   ],
   "source": [
    "x"
   ]
  },
  {
   "cell_type": "code",
   "execution_count": 11,
   "id": "1aa2d03b-2a72-4013-b4c9-5c07b6cc8612",
   "metadata": {},
   "outputs": [
    {
     "ename": "ValueError",
     "evalue": "low >= high",
     "output_type": "error",
     "traceback": [
      "\u001b[1;31m---------------------------------------------------------------------------\u001b[0m",
      "\u001b[1;31mValueError\u001b[0m                                Traceback (most recent call last)",
      "Cell \u001b[1;32mIn[11], line 3\u001b[0m\n\u001b[0;32m      1\u001b[0m \u001b[38;5;28;01mimport\u001b[39;00m \u001b[38;5;21;01mnumpy\u001b[39;00m \u001b[38;5;28;01mas\u001b[39;00m \u001b[38;5;21;01mnp\u001b[39;00m\n\u001b[1;32m----> 3\u001b[0m vector \u001b[38;5;241m=\u001b[39m \u001b[43mnp\u001b[49m\u001b[38;5;241;43m.\u001b[39;49m\u001b[43mrandom\u001b[49m\u001b[38;5;241;43m.\u001b[39;49m\u001b[43mrandint\u001b[49m\u001b[43m(\u001b[49m\u001b[38;5;241;43m10\u001b[39;49m\u001b[43m,\u001b[49m\u001b[43m \u001b[49m\u001b[43m(\u001b[49m\u001b[38;5;241;43m3\u001b[39;49m\u001b[43m,\u001b[49m\u001b[43m \u001b[49m\u001b[38;5;241;43m2\u001b[39;49m\u001b[43m)\u001b[49m\u001b[43m)\u001b[49m\n\u001b[0;32m      5\u001b[0m np\u001b[38;5;241m.\u001b[39mtranspose(vector) \n",
      "File \u001b[1;32mmtrand.pyx:779\u001b[0m, in \u001b[0;36mnumpy.random.mtrand.RandomState.randint\u001b[1;34m()\u001b[0m\n",
      "File \u001b[1;32m_bounded_integers.pyx:1440\u001b[0m, in \u001b[0;36mnumpy.random._bounded_integers._rand_int32\u001b[1;34m()\u001b[0m\n",
      "File \u001b[1;32m_bounded_integers.pyx:411\u001b[0m, in \u001b[0;36mnumpy.random._bounded_integers._rand_int32_broadcast\u001b[1;34m()\u001b[0m\n",
      "\u001b[1;31mValueError\u001b[0m: low >= high"
     ]
    }
   ],
   "source": [
    "import numpy as np\n",
    "\n",
    "vector = np.random.randint(10, (3, 2))\n",
    "\n",
    "np.transpose(vector) "
   ]
  },
  {
   "cell_type": "code",
   "execution_count": null,
   "id": "377544f6-39f5-4930-a636-bdbbe45607ba",
   "metadata": {},
   "outputs": [],
   "source": []
  }
 ],
 "metadata": {
  "kernelspec": {
   "display_name": "Python 3 (ipykernel)",
   "language": "python",
   "name": "python3"
  },
  "language_info": {
   "codemirror_mode": {
    "name": "ipython",
    "version": 3
   },
   "file_extension": ".py",
   "mimetype": "text/x-python",
   "name": "python",
   "nbconvert_exporter": "python",
   "pygments_lexer": "ipython3",
   "version": "3.11.5"
  }
 },
 "nbformat": 4,
 "nbformat_minor": 5
}
