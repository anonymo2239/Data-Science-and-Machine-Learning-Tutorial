{
 "cells": [
  {
   "cell_type": "code",
   "execution_count": 3,
   "id": "a91878fb-1075-4038-b568-95f5a1cad7ce",
   "metadata": {},
   "outputs": [
    {
     "data": {
      "text/plain": [
       "0      1\n",
       "1      2\n",
       "2     33\n",
       "3    444\n",
       "4     75\n",
       "dtype: int32"
      ]
     },
     "execution_count": 3,
     "metadata": {},
     "output_type": "execute_result"
    }
   ],
   "source": [
    "import numpy as np\n",
    "import pandas as pd\n",
    "a = np.array([1, 2, 33, 444, 75])\n",
    "seri = pd.Series(a)\n",
    "seri"
   ]
  },
  {
   "cell_type": "code",
   "execution_count": 4,
   "id": "c3d1afa6-2439-4d97-a53c-959e3904ad2a",
   "metadata": {},
   "outputs": [
    {
     "data": {
      "text/plain": [
       "0     1\n",
       "1     2\n",
       "2    33\n",
       "dtype: int32"
      ]
     },
     "execution_count": 4,
     "metadata": {},
     "output_type": "execute_result"
    }
   ],
   "source": [
    "seri[0:3]"
   ]
  },
  {
   "cell_type": "code",
   "execution_count": 5,
   "id": "66a94155-741f-4c46-a0a7-23ac0151efe1",
   "metadata": {},
   "outputs": [
    {
     "data": {
      "text/plain": [
       "RangeIndex(start=0, stop=5, step=1)"
      ]
     },
     "execution_count": 5,
     "metadata": {},
     "output_type": "execute_result"
    }
   ],
   "source": [
    "seri.index"
   ]
  },
  {
   "cell_type": "code",
   "execution_count": 10,
   "id": "b1156b1d-694f-47d0-b445-fe0867ba8c6e",
   "metadata": {},
   "outputs": [
    {
     "data": {
      "text/plain": [
       "[(0, 1), (1, 2), (2, 33), (3, 444), (4, 75)]"
      ]
     },
     "execution_count": 10,
     "metadata": {},
     "output_type": "execute_result"
    }
   ],
   "source": [
    "list(seri.items()) # anahtar-deger ciftlerini liste olarak dondurur."
   ]
  },
  {
   "cell_type": "code",
   "execution_count": 11,
   "id": "9eeb39e8-5c59-480e-9051-5b9f88afa029",
   "metadata": {},
   "outputs": [
    {
     "data": {
      "text/plain": [
       "True"
      ]
     },
     "execution_count": 11,
     "metadata": {},
     "output_type": "execute_result"
    }
   ],
   "source": [
    "# eleman sorgulama\n",
    "3 in seri"
   ]
  },
  {
   "cell_type": "code",
   "execution_count": 12,
   "id": "c112ee3a-5d47-4e98-8caf-8fdff67d8af3",
   "metadata": {},
   "outputs": [
    {
     "data": {
      "text/plain": [
       "True"
      ]
     },
     "execution_count": 12,
     "metadata": {},
     "output_type": "execute_result"
    }
   ],
   "source": [
    "2 in seri"
   ]
  },
  {
   "cell_type": "code",
   "execution_count": 13,
   "id": "37108c98-49b8-4bd7-9588-ea167d159639",
   "metadata": {},
   "outputs": [],
   "source": [
    "# fancy eleman"
   ]
  },
  {
   "cell_type": "code",
   "execution_count": 14,
   "id": "fd9bc3de-be5c-4f2a-b99b-257f429db93f",
   "metadata": {},
   "outputs": [
    {
     "data": {
      "text/plain": [
       "2    33\n",
       "4    75\n",
       "dtype: int32"
      ]
     },
     "execution_count": 14,
     "metadata": {},
     "output_type": "execute_result"
    }
   ],
   "source": [
    "seri[[2, 4]]"
   ]
  },
  {
   "cell_type": "code",
   "execution_count": 15,
   "id": "079b90e6-a83f-4550-93b0-83a22a75e11b",
   "metadata": {},
   "outputs": [],
   "source": [
    "seri[2] = 130"
   ]
  },
  {
   "cell_type": "code",
   "execution_count": 16,
   "id": "7bd33717-2bc1-495b-9088-6e2b38951760",
   "metadata": {},
   "outputs": [
    {
     "data": {
      "text/plain": [
       "0      1\n",
       "1      2\n",
       "2    130\n",
       "3    444\n",
       "4     75\n",
       "dtype: int32"
      ]
     },
     "execution_count": 16,
     "metadata": {},
     "output_type": "execute_result"
    }
   ],
   "source": [
    "seri"
   ]
  },
  {
   "cell_type": "code",
   "execution_count": null,
   "id": "aa635cb7-521d-4ce1-8c63-40a6ada289bf",
   "metadata": {},
   "outputs": [],
   "source": []
  },
  {
   "cell_type": "code",
   "execution_count": null,
   "id": "e731a4ca-85f4-4f3b-8586-cd552155c473",
   "metadata": {},
   "outputs": [],
   "source": []
  }
 ],
 "metadata": {
  "kernelspec": {
   "display_name": "Python 3 (ipykernel)",
   "language": "python",
   "name": "python3"
  },
  "language_info": {
   "codemirror_mode": {
    "name": "ipython",
    "version": 3
   },
   "file_extension": ".py",
   "mimetype": "text/x-python",
   "name": "python",
   "nbconvert_exporter": "python",
   "pygments_lexer": "ipython3",
   "version": "3.11.5"
  }
 },
 "nbformat": 4,
 "nbformat_minor": 5
}
