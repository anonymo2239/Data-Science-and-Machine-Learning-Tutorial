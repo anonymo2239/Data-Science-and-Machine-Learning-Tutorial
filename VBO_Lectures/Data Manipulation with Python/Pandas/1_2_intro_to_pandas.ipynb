{
 "cells": [
  {
   "cell_type": "markdown",
   "id": "db094bc1-464a-4f1d-b103-ea1d42ef76a4",
   "metadata": {},
   "source": [
    "# Pandas = Panel Data"
   ]
  },
  {
   "cell_type": "markdown",
   "id": "e85771d5-9881-41eb-852d-586a093f8526",
   "metadata": {},
   "source": [
    "* Veri manipülasyonu ve veri analizi için yazılmış açık kaynak kodlu bir Python kütüphanesidir.\n",
    "* Ekonometrik ve finansal çalışmalar için doğmuştur.\n",
    "* Temeli 2008 yılında atılmıştır.\n",
    "* R DataFrame yapısını Python dünyasına taşımış ve DataFrame'ler üzerinde hızlı ve etkili çalışabilme imkanı sağlamıştır.\n",
    "* Bir çok farklı veri tipini okuma ve yazma imkanı sağlar."
   ]
  },
  {
   "cell_type": "markdown",
   "id": "3312e183-015b-4ed9-bc41-b5f8472415d0",
   "metadata": {},
   "source": [
    "Pandas Series"
   ]
  },
  {
   "cell_type": "code",
   "execution_count": 1,
   "id": "e0c2b0ce-33fd-4146-b516-6558ad8badb7",
   "metadata": {},
   "outputs": [
    {
     "data": {
      "text/plain": [
       "0    30\n",
       "1    40\n",
       "2    50\n",
       "3    60\n",
       "dtype: int64"
      ]
     },
     "execution_count": 1,
     "metadata": {},
     "output_type": "execute_result"
    }
   ],
   "source": [
    "import pandas as pd\n",
    "pd.Series([30, 40, 50, 60])"
   ]
  },
  {
   "cell_type": "code",
   "execution_count": 2,
   "id": "a2281fd4-8f3f-4ee6-b43b-77e739f0b829",
   "metadata": {},
   "outputs": [],
   "source": [
    "# numpy array lerinden farki, indeksler ile beraber tutulmasidir. index ayri bir bilesendir."
   ]
  },
  {
   "cell_type": "code",
   "execution_count": 3,
   "id": "02c20f09-3152-45b8-8447-ffda57e64b0c",
   "metadata": {},
   "outputs": [],
   "source": [
    "seri = pd.Series([30, 40, 50, 60])"
   ]
  },
  {
   "cell_type": "code",
   "execution_count": 4,
   "id": "9c8fcdb7-449a-492e-8e3c-8f772f73d67b",
   "metadata": {},
   "outputs": [
    {
     "data": {
      "text/plain": [
       "pandas.core.series.Series"
      ]
     },
     "execution_count": 4,
     "metadata": {},
     "output_type": "execute_result"
    }
   ],
   "source": [
    "type(seri)"
   ]
  },
  {
   "cell_type": "code",
   "execution_count": 5,
   "id": "8e812f1f-21dc-4a8d-ac34-a9514ff68fe4",
   "metadata": {},
   "outputs": [
    {
     "data": {
      "text/plain": [
       "[RangeIndex(start=0, stop=4, step=1)]"
      ]
     },
     "execution_count": 5,
     "metadata": {},
     "output_type": "execute_result"
    }
   ],
   "source": [
    "seri.axes # serinin index bilgilerini veriyor. sifirdan baslayip 5'E KADAR giden bir seri ama 5 dahil degil"
   ]
  },
  {
   "cell_type": "code",
   "execution_count": 6,
   "id": "15494503-94aa-454d-9d5e-c5e3f2994b2b",
   "metadata": {},
   "outputs": [],
   "source": [
    "seri = pd.Series([1, \"sdfsd\", 3.14])"
   ]
  },
  {
   "cell_type": "code",
   "execution_count": 7,
   "id": "6a51359c-858b-471e-92bd-0be5992350d5",
   "metadata": {},
   "outputs": [
    {
     "data": {
      "text/plain": [
       "0        1\n",
       "1    sdfsd\n",
       "2     3.14\n",
       "dtype: object"
      ]
     },
     "execution_count": 7,
     "metadata": {},
     "output_type": "execute_result"
    }
   ],
   "source": [
    "seri"
   ]
  },
  {
   "cell_type": "code",
   "execution_count": 8,
   "id": "fa850218-4f69-46e3-9fc7-917e2f695547",
   "metadata": {},
   "outputs": [
    {
     "data": {
      "text/plain": [
       "dtype('O')"
      ]
     },
     "execution_count": 8,
     "metadata": {},
     "output_type": "execute_result"
    }
   ],
   "source": [
    "seri.dtype"
   ]
  },
  {
   "cell_type": "code",
   "execution_count": 9,
   "id": "b3892fac-6333-4314-89b3-6371ba932217",
   "metadata": {},
   "outputs": [
    {
     "data": {
      "text/plain": [
       "3"
      ]
     },
     "execution_count": 9,
     "metadata": {},
     "output_type": "execute_result"
    }
   ],
   "source": [
    "seri.size"
   ]
  },
  {
   "cell_type": "code",
   "execution_count": 10,
   "id": "8e955234-cf9e-4598-810f-77bf7d7555f1",
   "metadata": {},
   "outputs": [
    {
     "data": {
      "text/plain": [
       "[RangeIndex(start=0, stop=3, step=1)]"
      ]
     },
     "execution_count": 10,
     "metadata": {},
     "output_type": "execute_result"
    }
   ],
   "source": [
    "seri.axes"
   ]
  },
  {
   "cell_type": "code",
   "execution_count": 11,
   "id": "816500a0-2377-465f-a1ed-e0bb6be2a6a5",
   "metadata": {},
   "outputs": [
    {
     "data": {
      "text/plain": [
       "1"
      ]
     },
     "execution_count": 11,
     "metadata": {},
     "output_type": "execute_result"
    }
   ],
   "source": [
    "seri.ndim # tek boyutlu array"
   ]
  },
  {
   "cell_type": "code",
   "execution_count": 12,
   "id": "3f931012-63e8-47a9-ad5a-56a36d394cfb",
   "metadata": {},
   "outputs": [
    {
     "data": {
      "text/plain": [
       "array([1, 'sdfsd', 3.14], dtype=object)"
      ]
     },
     "execution_count": 12,
     "metadata": {},
     "output_type": "execute_result"
    }
   ],
   "source": [
    "seri.values"
   ]
  },
  {
   "cell_type": "code",
   "execution_count": 13,
   "id": "68e7d352-2492-4fdc-bc9e-ebd6b1e2140a",
   "metadata": {},
   "outputs": [
    {
     "data": {
      "text/plain": [
       "0        1\n",
       "1    sdfsd\n",
       "dtype: object"
      ]
     },
     "execution_count": 13,
     "metadata": {},
     "output_type": "execute_result"
    }
   ],
   "source": [
    "seri.head(2)"
   ]
  },
  {
   "cell_type": "code",
   "execution_count": 14,
   "id": "eafd175d-c162-4334-a619-94a791e0a088",
   "metadata": {},
   "outputs": [
    {
     "data": {
      "text/plain": [
       "0     99\n",
       "1     22\n",
       "2    332\n",
       "3     32\n",
       "dtype: int64"
      ]
     },
     "execution_count": 14,
     "metadata": {},
     "output_type": "execute_result"
    }
   ],
   "source": [
    "# index isimlendirme\n",
    "pd.Series([99, 22, 332, 32])"
   ]
  },
  {
   "cell_type": "code",
   "execution_count": 15,
   "id": "993dd77f-013e-42a5-8168-a53d9e7626de",
   "metadata": {},
   "outputs": [],
   "source": [
    "serie = pd.Series([99, 22, 332, 32], index=[1, 'sa', 'as', 3.14])['sa']"
   ]
  },
  {
   "cell_type": "code",
   "execution_count": 16,
   "id": "5fb3da3f-1c98-4957-9c75-22b503e6acb4",
   "metadata": {},
   "outputs": [],
   "source": [
    "serie = pd.Series([99, 22, 332, 32], index=[1, 'sa', 'as', 3.14])"
   ]
  },
  {
   "cell_type": "code",
   "execution_count": 17,
   "id": "acf95f97-ac63-4730-86ca-600aec4a67f7",
   "metadata": {},
   "outputs": [
    {
     "data": {
      "text/plain": [
       "sa     22\n",
       "as    332\n",
       "dtype: int64"
      ]
     },
     "execution_count": 17,
     "metadata": {},
     "output_type": "execute_result"
    }
   ],
   "source": [
    "serie['sa':'as']"
   ]
  },
  {
   "cell_type": "code",
   "execution_count": 24,
   "id": "c3558476-43a4-4a5f-b066-162ccf6ed0f0",
   "metadata": {},
   "outputs": [
    {
     "data": {
      "text/plain": [
       "[Index([1, 'sa', 'as', 3.14], dtype='object')]"
      ]
     },
     "execution_count": 24,
     "metadata": {},
     "output_type": "execute_result"
    }
   ],
   "source": [
    "serie.axes"
   ]
  },
  {
   "cell_type": "code",
   "execution_count": 18,
   "id": "5cedb55d-9de5-4d1d-8f29-111793f8f513",
   "metadata": {},
   "outputs": [],
   "source": [
    "# sozluk uzerinden liste olusturma"
   ]
  },
  {
   "cell_type": "code",
   "execution_count": 19,
   "id": "dfaf02fd-a48c-4e11-ae9d-3c352b13b328",
   "metadata": {},
   "outputs": [],
   "source": [
    "my_dict = {'reg': 10, 12: 32}"
   ]
  },
  {
   "cell_type": "code",
   "execution_count": 20,
   "id": "36135db1-44a8-45b4-aa10-041e40acc9a3",
   "metadata": {},
   "outputs": [],
   "source": [
    "sozlugum = pd.Series(my_dict)"
   ]
  },
  {
   "cell_type": "code",
   "execution_count": 21,
   "id": "cf0746de-bf0a-4461-b887-e536b40559ea",
   "metadata": {},
   "outputs": [
    {
     "data": {
      "text/plain": [
       "reg    10\n",
       "12     32\n",
       "dtype: int64"
      ]
     },
     "execution_count": 21,
     "metadata": {},
     "output_type": "execute_result"
    }
   ],
   "source": [
    "sozlugum"
   ]
  },
  {
   "cell_type": "code",
   "execution_count": 22,
   "id": "86d6d78a-c8ce-4c19-adb1-87db6c5badb2",
   "metadata": {},
   "outputs": [],
   "source": [
    "# iki seriyi birlestirerek seri olusturma"
   ]
  },
  {
   "cell_type": "code",
   "execution_count": 23,
   "id": "2ad48f91-0524-4c9e-9b83-4c120238b07b",
   "metadata": {},
   "outputs": [
    {
     "data": {
      "text/plain": [
       "reg    10\n",
       "12     32\n",
       "reg    10\n",
       "12     32\n",
       "dtype: int64"
      ]
     },
     "execution_count": 23,
     "metadata": {},
     "output_type": "execute_result"
    }
   ],
   "source": [
    "pd.concat([sozlugum, sozlugum])"
   ]
  },
  {
   "cell_type": "code",
   "execution_count": null,
   "id": "1c3da14a-d331-4ade-80b3-4bcedb1b7d11",
   "metadata": {},
   "outputs": [],
   "source": []
  }
 ],
 "metadata": {
  "kernelspec": {
   "display_name": "Python 3 (ipykernel)",
   "language": "python",
   "name": "python3"
  },
  "language_info": {
   "codemirror_mode": {
    "name": "ipython",
    "version": 3
   },
   "file_extension": ".py",
   "mimetype": "text/x-python",
   "name": "python",
   "nbconvert_exporter": "python",
   "pygments_lexer": "ipython3",
   "version": "3.11.5"
  }
 },
 "nbformat": 4,
 "nbformat_minor": 5
}
