{
 "cells": [
  {
   "cell_type": "code",
   "execution_count": 1,
   "id": "9f1df3bd-6380-4757-977e-a06be10dabfd",
   "metadata": {},
   "outputs": [],
   "source": [
    "import numpy as np"
   ]
  },
  {
   "cell_type": "code",
   "execution_count": 2,
   "id": "dcb7ae00-0380-482a-bcb0-939e998820db",
   "metadata": {},
   "outputs": [
    {
     "data": {
      "text/plain": [
       "array([1, 2, 3, 4, 5])"
      ]
     },
     "execution_count": 2,
     "metadata": {},
     "output_type": "execute_result"
    }
   ],
   "source": [
    "np.array([1, 2, 3, 4, 5])"
   ]
  },
  {
   "cell_type": "code",
   "execution_count": 3,
   "id": "0c57e3e2-12ff-45e6-971e-742233773b30",
   "metadata": {},
   "outputs": [],
   "source": [
    "a = np.array([1, 2, 3, 4, 5])"
   ]
  },
  {
   "cell_type": "code",
   "execution_count": 4,
   "id": "668bd7d8-2435-490c-9f49-0a643d6d531c",
   "metadata": {},
   "outputs": [
    {
     "data": {
      "text/plain": [
       "numpy.ndarray"
      ]
     },
     "execution_count": 4,
     "metadata": {},
     "output_type": "execute_result"
    }
   ],
   "source": [
    "type(a)"
   ]
  },
  {
   "cell_type": "markdown",
   "id": "c73d4305-99f7-428c-89f0-1f37c5908c12",
   "metadata": {},
   "source": [
    "numpy.ndarray (N-dimensional array) çok boyutlu dizi demektir."
   ]
  },
  {
   "cell_type": "code",
   "execution_count": 5,
   "id": "f4e97ff4-ebe9-4a0b-b498-fd15e59cf675",
   "metadata": {},
   "outputs": [
    {
     "data": {
      "text/plain": [
       "array(['3.14', '4', '2', '13'], dtype='<U32')"
      ]
     },
     "execution_count": 5,
     "metadata": {},
     "output_type": "execute_result"
    }
   ],
   "source": [
    "np.array([3.14,\"4\", 2, 13]) # tum veriler string'e donustu"
   ]
  },
  {
   "cell_type": "markdown",
   "id": "476ebb94-d16c-4598-bf78-11eff9511ed9",
   "metadata": {},
   "source": [
    "numpy'ın veri saklama tekniğinin bedeli olarak, ne kadar verimli yer kullansa bile np.array komutunda birden fazla farklı veri tipi tutulamaz."
   ]
  },
  {
   "cell_type": "code",
   "execution_count": 6,
   "id": "ed00dbad-f242-4b46-85aa-4617a8d8a327",
   "metadata": {},
   "outputs": [
    {
     "data": {
      "text/plain": [
       "array([ 3,  1,  2, 32, 12])"
      ]
     },
     "execution_count": 6,
     "metadata": {},
     "output_type": "execute_result"
    }
   ],
   "source": [
    "np.array([3.14, 1, 2, \"32\", 12], dtype=\"int\") # tum tipleri belirleyebiliriz."
   ]
  },
  {
   "cell_type": "code",
   "execution_count": 7,
   "id": "d00eb139-1056-432c-9d6c-78f6d28691ba",
   "metadata": {},
   "outputs": [],
   "source": [
    "# sifirdan array olusturma"
   ]
  },
  {
   "cell_type": "code",
   "execution_count": 8,
   "id": "651b2685-e7d6-438e-96da-76d71a521e70",
   "metadata": {},
   "outputs": [
    {
     "data": {
      "text/plain": [
       "array([0, 0, 0, 0, 0, 0, 0, 0, 0, 0])"
      ]
     },
     "execution_count": 8,
     "metadata": {},
     "output_type": "execute_result"
    }
   ],
   "source": [
    "np.zeros(10, dtype=int)"
   ]
  },
  {
   "cell_type": "code",
   "execution_count": 9,
   "id": "6d1e5d67-87a1-4235-abb8-9581c08429c0",
   "metadata": {},
   "outputs": [
    {
     "data": {
      "text/plain": [
       "array([[1., 1., 1., 1., 1.],\n",
       "       [1., 1., 1., 1., 1.],\n",
       "       [1., 1., 1., 1., 1.]])"
      ]
     },
     "execution_count": 9,
     "metadata": {},
     "output_type": "execute_result"
    }
   ],
   "source": [
    "np.ones((3, 5))"
   ]
  },
  {
   "cell_type": "code",
   "execution_count": 10,
   "id": "5deb7d27-4e53-429a-b5c8-3c8c52a80c70",
   "metadata": {},
   "outputs": [
    {
     "data": {
      "text/plain": [
       "array([[3, 3, 3, 3, 3],\n",
       "       [3, 3, 3, 3, 3],\n",
       "       [3, 3, 3, 3, 3]])"
      ]
     },
     "execution_count": 10,
     "metadata": {},
     "output_type": "execute_result"
    }
   ],
   "source": [
    "np.full((3, 5), 3)"
   ]
  },
  {
   "cell_type": "code",
   "execution_count": 11,
   "id": "c17fbadc-bf4b-41e1-9958-3e664ffd531f",
   "metadata": {},
   "outputs": [
    {
     "data": {
      "text/plain": [
       "array([ 0,  3,  6,  9, 12, 15, 18, 21, 24, 27, 30])"
      ]
     },
     "execution_count": 11,
     "metadata": {},
     "output_type": "execute_result"
    }
   ],
   "source": [
    "np.arange(0, 31, 3) # sifir ile 31 arasi rasgele ucer ucer sayi olustur"
   ]
  },
  {
   "cell_type": "code",
   "execution_count": 12,
   "id": "429782d6-1ed0-4cb2-8b76-46233dedb33c",
   "metadata": {},
   "outputs": [
    {
     "data": {
      "text/plain": [
       "array([0.        , 0.11111111, 0.22222222, 0.33333333, 0.44444444,\n",
       "       0.55555556, 0.66666667, 0.77777778, 0.88888889, 1.        ])"
      ]
     },
     "execution_count": 12,
     "metadata": {},
     "output_type": "execute_result"
    }
   ],
   "source": [
    "np.linspace(0, 1, 10) # 0 ile 1 arasinda esit aralikli 10 sayi olustur."
   ]
  },
  {
   "cell_type": "code",
   "execution_count": 16,
   "id": "93d251f2-afab-463a-be42-979495ec1c47",
   "metadata": {},
   "outputs": [
    {
     "data": {
      "text/plain": [
       "array([[ 7.99518201,  7.25719472,  9.90899855,  7.31974904],\n",
       "       [ 8.8008088 ,  7.73399911, 20.92368676,  7.29356017],\n",
       "       [11.09349969,  7.25379959, 11.39828477,  9.56567541]])"
      ]
     },
     "execution_count": 16,
     "metadata": {},
     "output_type": "execute_result"
    }
   ],
   "source": [
    "np.random.normal(10, 4, (3, 4)) # mean = 10, sd = 4 olacak sekilde 3'e 4'luk rasgele dizi olustur"
   ]
  },
  {
   "cell_type": "code",
   "execution_count": 14,
   "id": "00b3334d-5c2d-4a44-a84d-795ae15dff91",
   "metadata": {
    "editable": true,
    "slideshow": {
     "slide_type": ""
    },
    "tags": []
   },
   "outputs": [
    {
     "data": {
      "text/plain": [
       "array([[2, 0, 2],\n",
       "       [9, 1, 5],\n",
       "       [7, 4, 7]])"
      ]
     },
     "execution_count": 14,
     "metadata": {},
     "output_type": "execute_result"
    }
   ],
   "source": [
    "np.random.randint(0, 10, (3, 3)) # 3'e 3'luk 0-10 rasgele matris olustur."
   ]
  }
 ],
 "metadata": {
  "kernelspec": {
   "display_name": "Python 3 (ipykernel)",
   "language": "python",
   "name": "python3"
  },
  "language_info": {
   "codemirror_mode": {
    "name": "ipython",
    "version": 3
   },
   "file_extension": ".py",
   "mimetype": "text/x-python",
   "name": "python",
   "nbconvert_exporter": "python",
   "pygments_lexer": "ipython3",
   "version": "3.11.5"
  }
 },
 "nbformat": 4,
 "nbformat_minor": 5
}
