{
 "cells": [
  {
   "cell_type": "markdown",
   "id": "bf7f026b-56b9-4ac8-a4be-e92a0faf3613",
   "metadata": {},
   "source": [
    "# JupyterLab, Jupyter Notebook'un gelişmiş versiyonu olarak düşünülebilir ve Jupyter projesinin geleceği olarak görülmektedir."
   ]
  },
  {
   "cell_type": "markdown",
   "id": "a9307eb9-e647-4eec-84d8-234b11d399fb",
   "metadata": {},
   "source": [
    "**NumPy (Numerical Python):**\n",
    "\n",
    "* Bilimsel hesaplamalar için kullanılır.\n",
    "* Arrayler / çok boyutlu arrayler ve matrisler üzerinde yüksek performanslı çalışma imkanı sağlar.\n",
    "* Temelleri 1995'te (matrix-sig, Guido Van Rossum) atılmış nihai olarak 2005 (Travis Oliphant) yılında hayata geçmiştir.\n",
    "* Listelere benzerdir, farkı; verimli veri saklama ve vektörel operasyonlardır."
   ]
  },
  {
   "cell_type": "markdown",
   "id": "b4a32336-097d-4b98-b64f-3a09d5c110b2",
   "metadata": {},
   "source": [
    "**Neden Numpy**"
   ]
  },
  {
   "cell_type": "code",
   "execution_count": 1,
   "id": "15f1d599-2891-48ed-a8d1-038f992a08c0",
   "metadata": {
    "editable": true,
    "slideshow": {
     "slide_type": ""
    },
    "tags": []
   },
   "outputs": [],
   "source": [
    "a = [1, 2, 3, 4]\n",
    "b = [2, 3, 4, 5]"
   ]
  },
  {
   "cell_type": "code",
   "execution_count": 2,
   "id": "9aef1723-091c-431f-8641-04e4ed5104f8",
   "metadata": {},
   "outputs": [
    {
     "data": {
      "text/plain": [
       "[2, 6, 12, 20]"
      ]
     },
     "execution_count": 2,
     "metadata": {},
     "output_type": "execute_result"
    }
   ],
   "source": [
    "ab = []\n",
    "for i in range(0, len(a)):\n",
    "    ab.append(a[i] * b[i])\n",
    "ab"
   ]
  },
  {
   "cell_type": "code",
   "execution_count": 3,
   "id": "cd1bccb6-b249-4e84-a07f-794b73f33293",
   "metadata": {},
   "outputs": [],
   "source": [
    "import numpy as np"
   ]
  },
  {
   "cell_type": "code",
   "execution_count": 8,
   "id": "5f9fed15-e3f0-45b9-ab67-829c075122f1",
   "metadata": {
    "editable": true,
    "slideshow": {
     "slide_type": ""
    },
    "tags": []
   },
   "outputs": [],
   "source": [
    "a = np.array([1, 2, 3, 4])\n",
    "b = np.array([2, 3, 4, 5])"
   ]
  },
  {
   "cell_type": "code",
   "execution_count": 9,
   "id": "84148265-b1e2-4860-982c-41ccbda25624",
   "metadata": {},
   "outputs": [
    {
     "data": {
      "text/plain": [
       "array([ 2,  6, 12, 20])"
      ]
     },
     "execution_count": 9,
     "metadata": {},
     "output_type": "execute_result"
    }
   ],
   "source": [
    "a * b"
   ]
  },
  {
   "cell_type": "code",
   "execution_count": null,
   "id": "098fa400-7ed1-42de-b506-27c54ba09785",
   "metadata": {
    "editable": true,
    "slideshow": {
     "slide_type": ""
    },
    "tags": []
   },
   "outputs": [],
   "source": []
  }
 ],
 "metadata": {
  "kernelspec": {
   "display_name": "Python 3 (ipykernel)",
   "language": "python",
   "name": "python3"
  },
  "language_info": {
   "codemirror_mode": {
    "name": "ipython",
    "version": 3
   },
   "file_extension": ".py",
   "mimetype": "text/x-python",
   "name": "python",
   "nbconvert_exporter": "python",
   "pygments_lexer": "ipython3",
   "version": "3.11.5"
  }
 },
 "nbformat": 4,
 "nbformat_minor": 5
}
