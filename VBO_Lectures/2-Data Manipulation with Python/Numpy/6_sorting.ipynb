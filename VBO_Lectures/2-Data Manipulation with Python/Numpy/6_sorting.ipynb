{
 "cells": [
  {
   "cell_type": "code",
   "execution_count": 1,
   "id": "c4f4a25c-63b0-4226-ae80-8aaafca30dc9",
   "metadata": {},
   "outputs": [],
   "source": [
    "import numpy as np"
   ]
  },
  {
   "cell_type": "code",
   "execution_count": 2,
   "id": "eafc758a-a4bd-4e97-b6cd-02b513e793fd",
   "metadata": {},
   "outputs": [],
   "source": [
    "v = np.array([2, 1, 4, 3, 5])"
   ]
  },
  {
   "cell_type": "code",
   "execution_count": 3,
   "id": "1edcb953-303c-4237-a976-6b159f4b8590",
   "metadata": {},
   "outputs": [
    {
     "data": {
      "text/plain": [
       "array([2, 1, 4, 3, 5])"
      ]
     },
     "execution_count": 3,
     "metadata": {},
     "output_type": "execute_result"
    }
   ],
   "source": [
    "v"
   ]
  },
  {
   "cell_type": "code",
   "execution_count": 4,
   "id": "f1d698c7-8557-4964-aa1c-62200ae42b65",
   "metadata": {},
   "outputs": [
    {
     "data": {
      "text/plain": [
       "array([1, 2, 3, 4, 5])"
      ]
     },
     "execution_count": 4,
     "metadata": {},
     "output_type": "execute_result"
    }
   ],
   "source": [
    "np.sort(v) # yan etkisiz metoddur. bagimsiz"
   ]
  },
  {
   "cell_type": "code",
   "execution_count": 5,
   "id": "45012fc0-3b8a-4807-b098-244f679f5c2d",
   "metadata": {},
   "outputs": [
    {
     "data": {
      "text/plain": [
       "array([2, 1, 4, 3, 5])"
      ]
     },
     "execution_count": 5,
     "metadata": {},
     "output_type": "execute_result"
    }
   ],
   "source": [
    "v"
   ]
  },
  {
   "cell_type": "code",
   "execution_count": 6,
   "id": "1f21dca6-35de-4219-9548-322579ed9b85",
   "metadata": {},
   "outputs": [],
   "source": [
    "v.sort() # bu metod ise yan etkili metoddur"
   ]
  },
  {
   "cell_type": "code",
   "execution_count": 7,
   "id": "1791bbee-71c2-42a7-9202-1fb79ca6feca",
   "metadata": {},
   "outputs": [
    {
     "data": {
      "text/plain": [
       "array([1, 2, 3, 4, 5])"
      ]
     },
     "execution_count": 7,
     "metadata": {},
     "output_type": "execute_result"
    }
   ],
   "source": [
    "v"
   ]
  },
  {
   "cell_type": "code",
   "execution_count": 8,
   "id": "9098178b-85fb-468d-8cd3-33e881f0bab6",
   "metadata": {},
   "outputs": [],
   "source": [
    "# iki boyutlu array siralama"
   ]
  },
  {
   "cell_type": "code",
   "execution_count": 9,
   "id": "fa252516-da0d-4cfa-a218-da8bb95d87ce",
   "metadata": {},
   "outputs": [],
   "source": [
    "m = np.random.normal(20, 5, (3, 3))"
   ]
  },
  {
   "cell_type": "code",
   "execution_count": 10,
   "id": "1be179c1-6a3d-4d5b-9866-a2fcc3fe38b3",
   "metadata": {},
   "outputs": [
    {
     "data": {
      "text/plain": [
       "array([[15.77872697, 16.02682975, 32.0418355 ],\n",
       "       [18.941593  , 26.31408848, 18.15136632],\n",
       "       [ 6.58205089, 17.08804747, 17.67323536]])"
      ]
     },
     "execution_count": 10,
     "metadata": {},
     "output_type": "execute_result"
    }
   ],
   "source": [
    "m"
   ]
  },
  {
   "cell_type": "code",
   "execution_count": 11,
   "id": "98c37ee8-3f7b-4a31-af05-550e4dfc5541",
   "metadata": {},
   "outputs": [
    {
     "data": {
      "text/plain": [
       "array([[15.77872697, 16.02682975, 32.0418355 ],\n",
       "       [18.15136632, 18.941593  , 26.31408848],\n",
       "       [ 6.58205089, 17.08804747, 17.67323536]])"
      ]
     },
     "execution_count": 11,
     "metadata": {},
     "output_type": "execute_result"
    }
   ],
   "source": [
    "np.sort(m, axis=1) # her bir satiri kendi icinde siraladi"
   ]
  },
  {
   "cell_type": "code",
   "execution_count": 13,
   "id": "fb7be18a-b2a1-4ea4-b5e8-788496bd5900",
   "metadata": {},
   "outputs": [
    {
     "data": {
      "text/plain": [
       "array([[ 6.58205089, 16.02682975, 17.67323536],\n",
       "       [15.77872697, 17.08804747, 18.15136632],\n",
       "       [18.941593  , 26.31408848, 32.0418355 ]])"
      ]
     },
     "execution_count": 13,
     "metadata": {},
     "output_type": "execute_result"
    }
   ],
   "source": [
    "np.sort(m, axis=0)"
   ]
  },
  {
   "cell_type": "code",
   "execution_count": null,
   "id": "89fe31e6-c236-4b72-b1ec-4c0d63937948",
   "metadata": {},
   "outputs": [],
   "source": []
  }
 ],
 "metadata": {
  "kernelspec": {
   "display_name": "Python 3 (ipykernel)",
   "language": "python",
   "name": "python3"
  },
  "language_info": {
   "codemirror_mode": {
    "name": "ipython",
    "version": 3
   },
   "file_extension": ".py",
   "mimetype": "text/x-python",
   "name": "python",
   "nbconvert_exporter": "python",
   "pygments_lexer": "ipython3",
   "version": "3.11.5"
  }
 },
 "nbformat": 4,
 "nbformat_minor": 5
}
