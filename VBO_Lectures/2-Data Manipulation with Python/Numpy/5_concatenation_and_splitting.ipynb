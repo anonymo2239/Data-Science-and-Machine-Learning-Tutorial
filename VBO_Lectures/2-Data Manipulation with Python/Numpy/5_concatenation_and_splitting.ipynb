{
 "cells": [
  {
   "cell_type": "markdown",
   "id": "2742f358-d142-463c-b202-e7483e481e29",
   "metadata": {},
   "source": [
    "# Concatenation"
   ]
  },
  {
   "cell_type": "code",
   "execution_count": 1,
   "id": "466cae2d-64d2-4bb6-a191-a4c5f6b99792",
   "metadata": {},
   "outputs": [],
   "source": [
    "import numpy as np"
   ]
  },
  {
   "cell_type": "code",
   "execution_count": 2,
   "id": "1317830f-e1f5-46d3-823c-4d3bd7f7ddce",
   "metadata": {},
   "outputs": [],
   "source": [
    "x = np.array([1, 2, 4])\n",
    "y = np.array([4, 5, 6])"
   ]
  },
  {
   "cell_type": "code",
   "execution_count": 3,
   "id": "6930d7c5-b017-497b-95ae-f7fa1c63d839",
   "metadata": {},
   "outputs": [
    {
     "data": {
      "text/plain": [
       "array([1, 2, 4, 4, 5, 6])"
      ]
     },
     "execution_count": 3,
     "metadata": {},
     "output_type": "execute_result"
    }
   ],
   "source": [
    "np.concatenate([x, y])"
   ]
  },
  {
   "cell_type": "code",
   "execution_count": 4,
   "id": "1d295fb5-a8fc-4551-bf34-d543a5a465af",
   "metadata": {},
   "outputs": [],
   "source": [
    "z = np.array([7, 8, 9])"
   ]
  },
  {
   "cell_type": "code",
   "execution_count": 5,
   "id": "f1d1110b-8500-4f0b-ae4e-544e06a7ee20",
   "metadata": {},
   "outputs": [
    {
     "data": {
      "text/plain": [
       "array([1, 2, 4, 4, 5, 6, 7, 8, 9])"
      ]
     },
     "execution_count": 5,
     "metadata": {},
     "output_type": "execute_result"
    }
   ],
   "source": [
    "np.concatenate([x, y, z])"
   ]
  },
  {
   "cell_type": "code",
   "execution_count": 6,
   "id": "17612864-5963-4935-8db6-9d024ee00402",
   "metadata": {},
   "outputs": [],
   "source": [
    "# iki boyut"
   ]
  },
  {
   "cell_type": "code",
   "execution_count": 7,
   "id": "de400133-af9a-4bad-af5a-c1b6545746aa",
   "metadata": {},
   "outputs": [],
   "source": [
    "a = np.array([[1, 2, 3], [4, 5, 6]])"
   ]
  },
  {
   "cell_type": "code",
   "execution_count": 8,
   "id": "cb4a53ea-e059-47aa-b0a7-52c97c8a1f74",
   "metadata": {},
   "outputs": [
    {
     "data": {
      "text/plain": [
       "array([[1, 2, 3],\n",
       "       [4, 5, 6]])"
      ]
     },
     "execution_count": 8,
     "metadata": {},
     "output_type": "execute_result"
    }
   ],
   "source": [
    "a"
   ]
  },
  {
   "cell_type": "code",
   "execution_count": 9,
   "id": "e0e8ffde-a6d3-4d43-965e-0f19e369561b",
   "metadata": {},
   "outputs": [
    {
     "data": {
      "text/plain": [
       "array([[1, 2, 3],\n",
       "       [4, 5, 6],\n",
       "       [1, 2, 3],\n",
       "       [4, 5, 6]])"
      ]
     },
     "execution_count": 9,
     "metadata": {},
     "output_type": "execute_result"
    }
   ],
   "source": [
    "np.concatenate([a, a], axis=0) # axis=0 iken satir bazinda birlestirme yapiliyor."
   ]
  },
  {
   "cell_type": "code",
   "execution_count": 10,
   "id": "772c5322-1de0-45ab-bd48-1a68f42479df",
   "metadata": {},
   "outputs": [
    {
     "data": {
      "text/plain": [
       "array([[1, 2, 3, 1, 2, 3],\n",
       "       [4, 5, 6, 4, 5, 6]])"
      ]
     },
     "execution_count": 10,
     "metadata": {},
     "output_type": "execute_result"
    }
   ],
   "source": [
    "np.concatenate([a, a], axis=1)"
   ]
  },
  {
   "cell_type": "markdown",
   "id": "e0299170-122b-4395-8843-526e5a4eb121",
   "metadata": {},
   "source": [
    "# Splitting"
   ]
  },
  {
   "cell_type": "code",
   "execution_count": 11,
   "id": "1825b74d-7dc3-4c28-9827-82b6eecb1b8d",
   "metadata": {},
   "outputs": [],
   "source": [
    "x = np.array([1, 2, 3, 99, 99, 3, 2, 1])"
   ]
  },
  {
   "cell_type": "code",
   "execution_count": 12,
   "id": "c3268fe4-5e56-430f-a54e-ccad842073b8",
   "metadata": {},
   "outputs": [
    {
     "data": {
      "text/plain": [
       "[array([1, 2, 3]), array([99, 99]), array([3, 2, 1])]"
      ]
     },
     "execution_count": 12,
     "metadata": {},
     "output_type": "execute_result"
    }
   ],
   "source": [
    "np.split(x, [3, 5]) # ucuncu eleman'a kadar olan sayilari alir. Sonra besinci eleman'a kadar olan sayilari ayri bir dizi yapar."
   ]
  },
  {
   "cell_type": "code",
   "execution_count": 13,
   "id": "273a931e-d9ff-4c8b-93ed-5b7cbe5578e7",
   "metadata": {},
   "outputs": [],
   "source": [
    "a, b, c = np.split(x, [3, 5]) # olusan ayri array'leri sirasiyla tanimla"
   ]
  },
  {
   "cell_type": "code",
   "execution_count": 14,
   "id": "c80fdf7e-8828-42f9-8910-a3a032722239",
   "metadata": {},
   "outputs": [
    {
     "data": {
      "text/plain": [
       "array([1, 2, 3])"
      ]
     },
     "execution_count": 14,
     "metadata": {},
     "output_type": "execute_result"
    }
   ],
   "source": [
    "a"
   ]
  },
  {
   "cell_type": "code",
   "execution_count": 15,
   "id": "e7ca23f4-f774-426b-bc9b-31c055eef5a0",
   "metadata": {},
   "outputs": [
    {
     "data": {
      "text/plain": [
       "array([99, 99])"
      ]
     },
     "execution_count": 15,
     "metadata": {},
     "output_type": "execute_result"
    }
   ],
   "source": [
    "b"
   ]
  },
  {
   "cell_type": "code",
   "execution_count": 16,
   "id": "eb0a52a9-13f1-4ad2-b9ca-20337d9b03b6",
   "metadata": {},
   "outputs": [],
   "source": [
    "# iki boyutlu ayirma"
   ]
  },
  {
   "cell_type": "code",
   "execution_count": 26,
   "id": "71e2004d-6382-4c51-8b4d-5e5aded53de8",
   "metadata": {},
   "outputs": [],
   "source": [
    "m = np.arange(64).reshape(8, 8)"
   ]
  },
  {
   "cell_type": "code",
   "execution_count": 27,
   "id": "03e23ef5-8565-4da3-b78d-1361436094ad",
   "metadata": {},
   "outputs": [
    {
     "data": {
      "text/plain": [
       "array([[ 0,  1,  2,  3,  4,  5,  6,  7],\n",
       "       [ 8,  9, 10, 11, 12, 13, 14, 15],\n",
       "       [16, 17, 18, 19, 20, 21, 22, 23],\n",
       "       [24, 25, 26, 27, 28, 29, 30, 31],\n",
       "       [32, 33, 34, 35, 36, 37, 38, 39],\n",
       "       [40, 41, 42, 43, 44, 45, 46, 47],\n",
       "       [48, 49, 50, 51, 52, 53, 54, 55],\n",
       "       [56, 57, 58, 59, 60, 61, 62, 63]])"
      ]
     },
     "execution_count": 27,
     "metadata": {},
     "output_type": "execute_result"
    }
   ],
   "source": [
    "m"
   ]
  },
  {
   "cell_type": "code",
   "execution_count": 36,
   "id": "d5d41b1e-ae23-4640-826e-bfd0b328c28c",
   "metadata": {},
   "outputs": [
    {
     "data": {
      "text/plain": [
       "[array([[ 0,  1,  2,  3,  4,  5,  6,  7],\n",
       "        [ 8,  9, 10, 11, 12, 13, 14, 15],\n",
       "        [16, 17, 18, 19, 20, 21, 22, 23],\n",
       "        [24, 25, 26, 27, 28, 29, 30, 31],\n",
       "        [32, 33, 34, 35, 36, 37, 38, 39]]),\n",
       " array([[40, 41, 42, 43, 44, 45, 46, 47],\n",
       "        [48, 49, 50, 51, 52, 53, 54, 55],\n",
       "        [56, 57, 58, 59, 60, 61, 62, 63]])]"
      ]
     },
     "execution_count": 36,
     "metadata": {},
     "output_type": "execute_result"
    }
   ],
   "source": [
    "np.vsplit(m, [5]) # vertical olarak ortadan ikiye boler"
   ]
  },
  {
   "cell_type": "code",
   "execution_count": 37,
   "id": "ae8b2fc0-8178-49cf-980e-d590f05ec498",
   "metadata": {},
   "outputs": [],
   "source": [
    "ust, alt = np.vsplit(m, [2])"
   ]
  },
  {
   "cell_type": "code",
   "execution_count": 38,
   "id": "c8988a78-0e75-4e44-ad6a-328d649fa047",
   "metadata": {},
   "outputs": [
    {
     "data": {
      "text/plain": [
       "array([[ 0,  1,  2,  3,  4,  5,  6,  7],\n",
       "       [ 8,  9, 10, 11, 12, 13, 14, 15]])"
      ]
     },
     "execution_count": 38,
     "metadata": {},
     "output_type": "execute_result"
    }
   ],
   "source": [
    "ust"
   ]
  },
  {
   "cell_type": "code",
   "execution_count": 39,
   "id": "b97e2a27-2b8f-4bcc-9bff-58b3508df527",
   "metadata": {},
   "outputs": [
    {
     "data": {
      "text/plain": [
       "array([[16, 17, 18, 19, 20, 21, 22, 23],\n",
       "       [24, 25, 26, 27, 28, 29, 30, 31],\n",
       "       [32, 33, 34, 35, 36, 37, 38, 39],\n",
       "       [40, 41, 42, 43, 44, 45, 46, 47],\n",
       "       [48, 49, 50, 51, 52, 53, 54, 55],\n",
       "       [56, 57, 58, 59, 60, 61, 62, 63]])"
      ]
     },
     "execution_count": 39,
     "metadata": {},
     "output_type": "execute_result"
    }
   ],
   "source": [
    "alt"
   ]
  },
  {
   "cell_type": "code",
   "execution_count": 40,
   "id": "365a64b4-a64b-451f-866b-f689d98a3b53",
   "metadata": {},
   "outputs": [
    {
     "data": {
      "text/plain": [
       "[array([[ 0,  1],\n",
       "        [ 8,  9],\n",
       "        [16, 17],\n",
       "        [24, 25],\n",
       "        [32, 33],\n",
       "        [40, 41],\n",
       "        [48, 49],\n",
       "        [56, 57]]),\n",
       " array([[ 2,  3,  4,  5,  6,  7],\n",
       "        [10, 11, 12, 13, 14, 15],\n",
       "        [18, 19, 20, 21, 22, 23],\n",
       "        [26, 27, 28, 29, 30, 31],\n",
       "        [34, 35, 36, 37, 38, 39],\n",
       "        [42, 43, 44, 45, 46, 47],\n",
       "        [50, 51, 52, 53, 54, 55],\n",
       "        [58, 59, 60, 61, 62, 63]])]"
      ]
     },
     "execution_count": 40,
     "metadata": {},
     "output_type": "execute_result"
    }
   ],
   "source": [
    "np.hsplit(m, [2]) # horizontal olarak ortadan ikiye boler"
   ]
  },
  {
   "cell_type": "code",
   "execution_count": null,
   "id": "b9cd739c-3d1a-4ef5-b8d6-91d5d33f3402",
   "metadata": {},
   "outputs": [],
   "source": []
  }
 ],
 "metadata": {
  "kernelspec": {
   "display_name": "Python 3 (ipykernel)",
   "language": "python",
   "name": "python3"
  },
  "language_info": {
   "codemirror_mode": {
    "name": "ipython",
    "version": 3
   },
   "file_extension": ".py",
   "mimetype": "text/x-python",
   "name": "python",
   "nbconvert_exporter": "python",
   "pygments_lexer": "ipython3",
   "version": "3.11.5"
  }
 },
 "nbformat": 4,
 "nbformat_minor": 5
}
