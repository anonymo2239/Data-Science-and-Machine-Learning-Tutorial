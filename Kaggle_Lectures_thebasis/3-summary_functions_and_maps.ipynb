{
 "cells": [
  {
   "cell_type": "code",
   "execution_count": 2,
   "metadata": {},
   "outputs": [],
   "source": [
    "import pandas as pd"
   ]
  },
  {
   "cell_type": "code",
   "execution_count": 3,
   "metadata": {},
   "outputs": [],
   "source": [
    "cats = pd.read_csv(\"C:/Users/Alperen Arda/OneDrive/Desktop/GitHub/Data-Science-and-Machine-Learning-Tutorial/Datasets/cats_dataset.csv\")"
   ]
  },
  {
   "cell_type": "code",
   "execution_count": 4,
   "metadata": {},
   "outputs": [
    {
     "data": {
      "text/html": [
       "<div>\n",
       "<style scoped>\n",
       "    .dataframe tbody tr th:only-of-type {\n",
       "        vertical-align: middle;\n",
       "    }\n",
       "\n",
       "    .dataframe tbody tr th {\n",
       "        vertical-align: top;\n",
       "    }\n",
       "\n",
       "    .dataframe thead th {\n",
       "        text-align: right;\n",
       "    }\n",
       "</style>\n",
       "<table border=\"1\" class=\"dataframe\">\n",
       "  <thead>\n",
       "    <tr style=\"text-align: right;\">\n",
       "      <th></th>\n",
       "      <th>Breed</th>\n",
       "      <th>Age (Years)</th>\n",
       "      <th>Weight (kg)</th>\n",
       "      <th>Color</th>\n",
       "      <th>Gender</th>\n",
       "    </tr>\n",
       "  </thead>\n",
       "  <tbody>\n",
       "    <tr>\n",
       "      <th>0</th>\n",
       "      <td>Russian Blue</td>\n",
       "      <td>19</td>\n",
       "      <td>7</td>\n",
       "      <td>Tortoiseshell</td>\n",
       "      <td>Female</td>\n",
       "    </tr>\n",
       "    <tr>\n",
       "      <th>1</th>\n",
       "      <td>Norwegian Forest</td>\n",
       "      <td>19</td>\n",
       "      <td>9</td>\n",
       "      <td>Tortoiseshell</td>\n",
       "      <td>Female</td>\n",
       "    </tr>\n",
       "    <tr>\n",
       "      <th>2</th>\n",
       "      <td>Chartreux</td>\n",
       "      <td>3</td>\n",
       "      <td>3</td>\n",
       "      <td>Brown</td>\n",
       "      <td>Female</td>\n",
       "    </tr>\n",
       "    <tr>\n",
       "      <th>3</th>\n",
       "      <td>Persian</td>\n",
       "      <td>13</td>\n",
       "      <td>6</td>\n",
       "      <td>Sable</td>\n",
       "      <td>Female</td>\n",
       "    </tr>\n",
       "    <tr>\n",
       "      <th>4</th>\n",
       "      <td>Ragdoll</td>\n",
       "      <td>10</td>\n",
       "      <td>8</td>\n",
       "      <td>Tabby</td>\n",
       "      <td>Male</td>\n",
       "    </tr>\n",
       "    <tr>\n",
       "      <th>...</th>\n",
       "      <td>...</td>\n",
       "      <td>...</td>\n",
       "      <td>...</td>\n",
       "      <td>...</td>\n",
       "      <td>...</td>\n",
       "    </tr>\n",
       "    <tr>\n",
       "      <th>995</th>\n",
       "      <td>British Shorthair</td>\n",
       "      <td>19</td>\n",
       "      <td>5</td>\n",
       "      <td>Gray</td>\n",
       "      <td>Female</td>\n",
       "    </tr>\n",
       "    <tr>\n",
       "      <th>996</th>\n",
       "      <td>British Shorthair</td>\n",
       "      <td>11</td>\n",
       "      <td>2</td>\n",
       "      <td>Bicolor</td>\n",
       "      <td>Female</td>\n",
       "    </tr>\n",
       "    <tr>\n",
       "      <th>997</th>\n",
       "      <td>Savannah</td>\n",
       "      <td>12</td>\n",
       "      <td>5</td>\n",
       "      <td>Bicolor</td>\n",
       "      <td>Female</td>\n",
       "    </tr>\n",
       "    <tr>\n",
       "      <th>998</th>\n",
       "      <td>American Shorthair</td>\n",
       "      <td>8</td>\n",
       "      <td>3</td>\n",
       "      <td>Tortoiseshell</td>\n",
       "      <td>Female</td>\n",
       "    </tr>\n",
       "    <tr>\n",
       "      <th>999</th>\n",
       "      <td>Chartreux</td>\n",
       "      <td>11</td>\n",
       "      <td>4</td>\n",
       "      <td>Sable</td>\n",
       "      <td>Female</td>\n",
       "    </tr>\n",
       "  </tbody>\n",
       "</table>\n",
       "<p>1000 rows × 5 columns</p>\n",
       "</div>"
      ],
      "text/plain": [
       "                  Breed  Age (Years)  Weight (kg)          Color  Gender\n",
       "0          Russian Blue           19            7  Tortoiseshell  Female\n",
       "1      Norwegian Forest           19            9  Tortoiseshell  Female\n",
       "2             Chartreux            3            3          Brown  Female\n",
       "3               Persian           13            6          Sable  Female\n",
       "4               Ragdoll           10            8          Tabby    Male\n",
       "..                  ...          ...          ...            ...     ...\n",
       "995   British Shorthair           19            5           Gray  Female\n",
       "996   British Shorthair           11            2        Bicolor  Female\n",
       "997            Savannah           12            5        Bicolor  Female\n",
       "998  American Shorthair            8            3  Tortoiseshell  Female\n",
       "999           Chartreux           11            4          Sable  Female\n",
       "\n",
       "[1000 rows x 5 columns]"
      ]
     },
     "execution_count": 4,
     "metadata": {},
     "output_type": "execute_result"
    }
   ],
   "source": [
    "cats"
   ]
  },
  {
   "cell_type": "code",
   "execution_count": 5,
   "metadata": {},
   "outputs": [
    {
     "data": {
      "text/plain": [
       "count    1000.000000\n",
       "mean       10.210000\n",
       "std         5.535751\n",
       "min         1.000000\n",
       "25%         5.000000\n",
       "50%        10.000000\n",
       "75%        15.000000\n",
       "max        19.000000\n",
       "Name: Age (Years), dtype: float64"
      ]
     },
     "execution_count": 5,
     "metadata": {},
     "output_type": "execute_result"
    }
   ],
   "source": [
    "cats[\"Age (Years)\"].describe()"
   ]
  },
  {
   "cell_type": "code",
   "execution_count": 6,
   "metadata": {},
   "outputs": [
    {
     "data": {
      "text/plain": [
       "count     1000\n",
       "unique       2\n",
       "top       Male\n",
       "freq       505\n",
       "Name: Gender, dtype: object"
      ]
     },
     "execution_count": 6,
     "metadata": {},
     "output_type": "execute_result"
    }
   ],
   "source": [
    "cats[\"Gender\"].describe()"
   ]
  },
  {
   "cell_type": "code",
   "execution_count": 7,
   "metadata": {},
   "outputs": [
    {
     "data": {
      "text/plain": [
       "5.55"
      ]
     },
     "execution_count": 7,
     "metadata": {},
     "output_type": "execute_result"
    }
   ],
   "source": [
    "# daha özel ve kısa istatistikler için\n",
    "cats[\"Weight (kg)\"].mean()"
   ]
  },
  {
   "cell_type": "code",
   "execution_count": 8,
   "metadata": {},
   "outputs": [
    {
     "data": {
      "text/plain": [
       "array(['Russian Blue', 'Norwegian Forest', 'Chartreux', 'Persian',\n",
       "       'Ragdoll', 'Ocicat', 'Abyssinian', 'Oriental', 'Egyptian Mau',\n",
       "       'American Shorthair', 'Bengal', 'Cornish Rex', 'British Shorthair',\n",
       "       'Burmese', 'Singapura', 'Maine Coon', 'Turkish Angora',\n",
       "       'Himalayan', 'Sphynx', 'Manx', 'Siberian', 'Birman', 'Balinese',\n",
       "       'Devon Rex', 'Exotic Shorthair', 'Scottish Fold', 'Savannah',\n",
       "       'Munchkin', 'Siamese', 'Tonkinese'], dtype=object)"
      ]
     },
     "execution_count": 8,
     "metadata": {},
     "output_type": "execute_result"
    }
   ],
   "source": [
    "cats.Breed.unique()"
   ]
  },
  {
   "cell_type": "code",
   "execution_count": 10,
   "metadata": {},
   "outputs": [
    {
     "data": {
      "text/plain": [
       "Breed\n",
       "Ragdoll               51\n",
       "American Shorthair    40\n",
       "Egyptian Mau          39\n",
       "Persian               37\n",
       "Oriental              37\n",
       "British Shorthair     36\n",
       "Burmese               36\n",
       "Balinese              35\n",
       "Bengal                35\n",
       "Siberian              34\n",
       "Birman                33\n",
       "Manx                  33\n",
       "Maine Coon            33\n",
       "Abyssinian            33\n",
       "Ocicat                33\n",
       "Chartreux             33\n",
       "Singapura             32\n",
       "Munchkin              32\n",
       "Sphynx                32\n",
       "Siamese               32\n",
       "Exotic Shorthair      31\n",
       "Turkish Angora        31\n",
       "Savannah              31\n",
       "Scottish Fold         31\n",
       "Tonkinese             30\n",
       "Himalayan             30\n",
       "Cornish Rex           29\n",
       "Devon Rex             28\n",
       "Russian Blue          28\n",
       "Norwegian Forest      25\n",
       "Name: count, dtype: int64"
      ]
     },
     "execution_count": 10,
     "metadata": {},
     "output_type": "execute_result"
    }
   ],
   "source": [
    "cats.Breed.value_counts() # o sütundaki her farklı özellikten kaç tane olduğunu gösterir."
   ]
  },
  {
   "cell_type": "code",
   "execution_count": null,
   "metadata": {},
   "outputs": [
    {
     "data": {
      "text/plain": [
       "Gender\n",
       "Male      505\n",
       "Female    495\n",
       "Name: count, dtype: int64"
      ]
     },
     "execution_count": 21,
     "metadata": {},
     "output_type": "execute_result"
    }
   ],
   "source": [
    "cats.Gender.value_counts()"
   ]
  },
  {
   "cell_type": "code",
   "execution_count": null,
   "metadata": {},
   "outputs": [],
   "source": [
    "# map, Pandas DataFrame ve Series üzerinde eleman bazında dönüşümler yapmak için kullanılan bir yöntemdir. \n",
    "# map yöntemi, bir fonksiyonu veya bir eşleme (mapping) dizisini, Series'in her bir elemanına uygulayarak yeni bir Series oluşturur."
   ]
  },
  {
   "cell_type": "code",
   "execution_count": null,
   "metadata": {},
   "outputs": [],
   "source": [
    "cats_weight_mean = cats[\"Weight (kg)\"].mean()"
   ]
  },
  {
   "cell_type": "code",
   "execution_count": null,
   "metadata": {},
   "outputs": [],
   "source": [
    "cats_result = cats[\"Weight (kg)\"].map(lambda p : p - cats_weight_mean)"
   ]
  },
  {
   "cell_type": "code",
   "execution_count": null,
   "metadata": {},
   "outputs": [],
   "source": [
    "######### önemli #########\n",
    "positive = cats_result[cats_result > 0]"
   ]
  },
  {
   "cell_type": "code",
   "execution_count": null,
   "metadata": {},
   "outputs": [
    {
     "data": {
      "text/plain": [
       "0      1.45\n",
       "1      3.45\n",
       "3      0.45\n",
       "4      2.45\n",
       "5      2.45\n",
       "       ... \n",
       "988    3.45\n",
       "989    3.45\n",
       "990    0.45\n",
       "991    3.45\n",
       "992    1.45\n",
       "Name: Weight (kg), Length: 504, dtype: float64"
      ]
     },
     "execution_count": 40,
     "metadata": {},
     "output_type": "execute_result"
    }
   ],
   "source": [
    "positive"
   ]
  },
  {
   "cell_type": "code",
   "execution_count": null,
   "metadata": {},
   "outputs": [],
   "source": [
    "positive = cats_result.loc[cats_result > 0]"
   ]
  },
  {
   "cell_type": "code",
   "execution_count": null,
   "metadata": {},
   "outputs": [
    {
     "data": {
      "text/plain": [
       "0      1.45\n",
       "1      3.45\n",
       "3      0.45\n",
       "4      2.45\n",
       "5      2.45\n",
       "       ... \n",
       "988    3.45\n",
       "989    3.45\n",
       "990    0.45\n",
       "991    3.45\n",
       "992    1.45\n",
       "Name: Weight (kg), Length: 504, dtype: float64"
      ]
     },
     "execution_count": 42,
     "metadata": {},
     "output_type": "execute_result"
    }
   ],
   "source": [
    "positive"
   ]
  },
  {
   "cell_type": "code",
   "execution_count": null,
   "metadata": {},
   "outputs": [
    {
     "data": {
      "text/html": [
       "<div>\n",
       "<style scoped>\n",
       "    .dataframe tbody tr th:only-of-type {\n",
       "        vertical-align: middle;\n",
       "    }\n",
       "\n",
       "    .dataframe tbody tr th {\n",
       "        vertical-align: top;\n",
       "    }\n",
       "\n",
       "    .dataframe thead th {\n",
       "        text-align: right;\n",
       "    }\n",
       "</style>\n",
       "<table border=\"1\" class=\"dataframe\">\n",
       "  <thead>\n",
       "    <tr style=\"text-align: right;\">\n",
       "      <th></th>\n",
       "      <th>Breed</th>\n",
       "      <th>Age (Years)</th>\n",
       "      <th>Weight (kg)</th>\n",
       "      <th>Color</th>\n",
       "      <th>Gender</th>\n",
       "    </tr>\n",
       "  </thead>\n",
       "  <tbody>\n",
       "    <tr>\n",
       "      <th>0</th>\n",
       "      <td>Russian Blue</td>\n",
       "      <td>19</td>\n",
       "      <td>1.45</td>\n",
       "      <td>Tortoiseshell</td>\n",
       "      <td>Female</td>\n",
       "    </tr>\n",
       "    <tr>\n",
       "      <th>1</th>\n",
       "      <td>Norwegian Forest</td>\n",
       "      <td>19</td>\n",
       "      <td>3.45</td>\n",
       "      <td>Tortoiseshell</td>\n",
       "      <td>Female</td>\n",
       "    </tr>\n",
       "    <tr>\n",
       "      <th>2</th>\n",
       "      <td>Chartreux</td>\n",
       "      <td>3</td>\n",
       "      <td>-2.55</td>\n",
       "      <td>Brown</td>\n",
       "      <td>Female</td>\n",
       "    </tr>\n",
       "    <tr>\n",
       "      <th>3</th>\n",
       "      <td>Persian</td>\n",
       "      <td>13</td>\n",
       "      <td>0.45</td>\n",
       "      <td>Sable</td>\n",
       "      <td>Female</td>\n",
       "    </tr>\n",
       "    <tr>\n",
       "      <th>4</th>\n",
       "      <td>Ragdoll</td>\n",
       "      <td>10</td>\n",
       "      <td>2.45</td>\n",
       "      <td>Tabby</td>\n",
       "      <td>Male</td>\n",
       "    </tr>\n",
       "    <tr>\n",
       "      <th>...</th>\n",
       "      <td>...</td>\n",
       "      <td>...</td>\n",
       "      <td>...</td>\n",
       "      <td>...</td>\n",
       "      <td>...</td>\n",
       "    </tr>\n",
       "    <tr>\n",
       "      <th>995</th>\n",
       "      <td>British Shorthair</td>\n",
       "      <td>19</td>\n",
       "      <td>-0.55</td>\n",
       "      <td>Gray</td>\n",
       "      <td>Female</td>\n",
       "    </tr>\n",
       "    <tr>\n",
       "      <th>996</th>\n",
       "      <td>British Shorthair</td>\n",
       "      <td>11</td>\n",
       "      <td>-3.55</td>\n",
       "      <td>Bicolor</td>\n",
       "      <td>Female</td>\n",
       "    </tr>\n",
       "    <tr>\n",
       "      <th>997</th>\n",
       "      <td>Savannah</td>\n",
       "      <td>12</td>\n",
       "      <td>-0.55</td>\n",
       "      <td>Bicolor</td>\n",
       "      <td>Female</td>\n",
       "    </tr>\n",
       "    <tr>\n",
       "      <th>998</th>\n",
       "      <td>American Shorthair</td>\n",
       "      <td>8</td>\n",
       "      <td>-2.55</td>\n",
       "      <td>Tortoiseshell</td>\n",
       "      <td>Female</td>\n",
       "    </tr>\n",
       "    <tr>\n",
       "      <th>999</th>\n",
       "      <td>Chartreux</td>\n",
       "      <td>11</td>\n",
       "      <td>-1.55</td>\n",
       "      <td>Sable</td>\n",
       "      <td>Female</td>\n",
       "    </tr>\n",
       "  </tbody>\n",
       "</table>\n",
       "<p>1000 rows × 5 columns</p>\n",
       "</div>"
      ],
      "text/plain": [
       "                  Breed  Age (Years)  Weight (kg)          Color  Gender\n",
       "0          Russian Blue           19         1.45  Tortoiseshell  Female\n",
       "1      Norwegian Forest           19         3.45  Tortoiseshell  Female\n",
       "2             Chartreux            3        -2.55          Brown  Female\n",
       "3               Persian           13         0.45          Sable  Female\n",
       "4               Ragdoll           10         2.45          Tabby    Male\n",
       "..                  ...          ...          ...            ...     ...\n",
       "995   British Shorthair           19        -0.55           Gray  Female\n",
       "996   British Shorthair           11        -3.55        Bicolor  Female\n",
       "997            Savannah           12        -0.55        Bicolor  Female\n",
       "998  American Shorthair            8        -2.55  Tortoiseshell  Female\n",
       "999           Chartreux           11        -1.55          Sable  Female\n",
       "\n",
       "[1000 rows x 5 columns]"
      ]
     },
     "execution_count": 50,
     "metadata": {},
     "output_type": "execute_result"
    }
   ],
   "source": [
    "def remean_weights(row):\n",
    "    row[\"Weight (kg)\"] = row[\"Weight (kg)\"] - cats_weight_mean\n",
    "    return row\n",
    "\n",
    "cats.apply(remean_weights, axis=\"columns\")\n",
    "\n",
    "# apply fonksiyonu, DataFrame'in her bir satır veya sütununa belirli bir fonksiyonu uygulamak için kullanılır; \n",
    "# axis=\"columns\" ifadesi, fonksiyonun satır bazında uygulanacağını belirtir.\n",
    "#\n",
    "# Reviews.apply() işlevini axis='index' ile çağırmış olsaydık, her satırı dönüştürmek için bir işlev iletmek yerine, her sütunu dönüştürmek için bir işlev vermemiz gerekirdi.\n",
    "# ve ayrıca weight parametresi yerine SÜTUN parametresi vermeliydik.\n",
    "# axis=0(index) sütunlara göre, axis=1(columns) ise satırlara göre işlem yapar.\n",
    "# lambda daha basit fonksiyonlar için kullanılır."
   ]
  },
  {
   "cell_type": "code",
   "execution_count": null,
   "metadata": {},
   "outputs": [],
   "source": [
    "# Note that map ve apply fonksiyonları orijinal veriyi değiştirmez."
   ]
  },
  {
   "cell_type": "code",
   "execution_count": null,
   "metadata": {},
   "outputs": [
    {
     "data": {
      "text/html": [
       "<div>\n",
       "<style scoped>\n",
       "    .dataframe tbody tr th:only-of-type {\n",
       "        vertical-align: middle;\n",
       "    }\n",
       "\n",
       "    .dataframe tbody tr th {\n",
       "        vertical-align: top;\n",
       "    }\n",
       "\n",
       "    .dataframe thead th {\n",
       "        text-align: right;\n",
       "    }\n",
       "</style>\n",
       "<table border=\"1\" class=\"dataframe\">\n",
       "  <thead>\n",
       "    <tr style=\"text-align: right;\">\n",
       "      <th></th>\n",
       "      <th>Breed</th>\n",
       "      <th>Age (Years)</th>\n",
       "      <th>Weight (kg)</th>\n",
       "      <th>Color</th>\n",
       "      <th>Gender</th>\n",
       "    </tr>\n",
       "  </thead>\n",
       "  <tbody>\n",
       "    <tr>\n",
       "      <th>0</th>\n",
       "      <td>Russian Blue</td>\n",
       "      <td>19</td>\n",
       "      <td>7</td>\n",
       "      <td>Tortoiseshell</td>\n",
       "      <td>Female</td>\n",
       "    </tr>\n",
       "  </tbody>\n",
       "</table>\n",
       "</div>"
      ],
      "text/plain": [
       "          Breed  Age (Years)  Weight (kg)          Color  Gender\n",
       "0  Russian Blue           19            7  Tortoiseshell  Female"
      ]
     },
     "execution_count": 52,
     "metadata": {},
     "output_type": "execute_result"
    }
   ],
   "source": [
    "cats.head(1)"
   ]
  },
  {
   "cell_type": "code",
   "execution_count": null,
   "metadata": {},
   "outputs": [
    {
     "data": {
      "text/plain": [
       "0      1.45\n",
       "1      3.45\n",
       "2     -2.55\n",
       "3      0.45\n",
       "4      2.45\n",
       "       ... \n",
       "995   -0.55\n",
       "996   -3.55\n",
       "997   -0.55\n",
       "998   -2.55\n",
       "999   -1.55\n",
       "Name: Weight (kg), Length: 1000, dtype: float64"
      ]
     },
     "execution_count": 55,
     "metadata": {},
     "output_type": "execute_result"
    }
   ],
   "source": [
    "cats_weight_mean = cats[\"Weight (kg)\"].mean()\n",
    "cats[\"Weight (kg)\"] - cats_weight_mean # burada pandas tüm verilerden(cats) - tek bir veriyi(cats_weight_mean) çıkarmamız gerektiğini anlar."
   ]
  },
  {
   "cell_type": "code",
   "execution_count": null,
   "metadata": {},
   "outputs": [
    {
     "data": {
      "text/plain": [
       "0            Russian Blue - Tortoiseshell\n",
       "1        Norwegian Forest - Tortoiseshell\n",
       "2                       Chartreux - Brown\n",
       "3                         Persian - Sable\n",
       "4                         Ragdoll - Tabby\n",
       "                      ...                \n",
       "995              British Shorthair - Gray\n",
       "996           British Shorthair - Bicolor\n",
       "997                    Savannah - Bicolor\n",
       "998    American Shorthair - Tortoiseshell\n",
       "999                     Chartreux - Sable\n",
       "Length: 1000, dtype: object"
      ]
     },
     "execution_count": 56,
     "metadata": {},
     "output_type": "execute_result"
    }
   ],
   "source": [
    "cats.Breed + \" - \" + cats.Color"
   ]
  },
  {
   "cell_type": "code",
   "execution_count": null,
   "metadata": {},
   "outputs": [],
   "source": [
    "# \"Built-in\" terimi, bir yazılım veya kütüphaneye önceden dahil edilmiş ve varsayılan olarak kullanılabilen özellikleri ve fonksiyonları ifade eder. \n",
    "# Bu terim, yazılım geliştiricilerin özel bir kurulum veya ek yapılandırma yapmadan doğrudan kullanabileceği işlevselliği belirtir."
   ]
  }
 ],
 "metadata": {
  "kernelspec": {
   "display_name": "Python 3",
   "language": "python",
   "name": "python3"
  },
  "language_info": {
   "codemirror_mode": {
    "name": "ipython",
    "version": 3
   },
   "file_extension": ".py",
   "mimetype": "text/x-python",
   "name": "python",
   "nbconvert_exporter": "python",
   "pygments_lexer": "ipython3",
   "version": "3.11.5"
  }
 },
 "nbformat": 4,
 "nbformat_minor": 2
}
