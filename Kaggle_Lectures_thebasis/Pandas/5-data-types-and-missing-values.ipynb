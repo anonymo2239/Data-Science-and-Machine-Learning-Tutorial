{
 "cells": [
  {
   "cell_type": "code",
   "execution_count": 1,
   "metadata": {},
   "outputs": [],
   "source": [
    "import pandas as pd "
   ]
  },
  {
   "cell_type": "code",
   "execution_count": 2,
   "metadata": {},
   "outputs": [],
   "source": [
    "my_data = pd.read_csv(\"C:/Users/Alperen Arda/OneDrive/Desktop/GitHub/Data-Science-and-Machine-Learning-Tutorial/Datasets/cats_dataset.csv\")"
   ]
  },
  {
   "cell_type": "code",
   "execution_count": 3,
   "metadata": {},
   "outputs": [],
   "source": [
    "# You can use the dtype property to grab(almak) the type of a specific column."
   ]
  },
  {
   "cell_type": "code",
   "execution_count": 10,
   "metadata": {},
   "outputs": [
    {
     "data": {
      "text/plain": [
       "dtype('int64')"
      ]
     },
     "execution_count": 10,
     "metadata": {},
     "output_type": "execute_result"
    }
   ],
   "source": [
    "my_data[\"Age (Years)\"].dtype"
   ]
  },
  {
   "cell_type": "code",
   "execution_count": 9,
   "metadata": {},
   "outputs": [
    {
     "data": {
      "text/plain": [
       "Breed          object\n",
       "Age (Years)     int64\n",
       "Weight (kg)     int64\n",
       "Color          object\n",
       "Gender         object\n",
       "dtype: object"
      ]
     },
     "execution_count": 9,
     "metadata": {},
     "output_type": "execute_result"
    }
   ],
   "source": [
    "my_data.dtypes"
   ]
  },
  {
   "cell_type": "code",
   "execution_count": 11,
   "metadata": {},
   "outputs": [],
   "source": [
    "# Data types tell us something about how pandas is storing the data internally\n",
    "# Veri türleri bize pandaların verileri dahili olarak nasıl sakladıkları hakkında bir şeyler anlatır."
   ]
  },
  {
   "cell_type": "code",
   "execution_count": 12,
   "metadata": {},
   "outputs": [
    {
     "data": {
      "text/plain": [
       "0      19.0\n",
       "1      19.0\n",
       "2       3.0\n",
       "3      13.0\n",
       "4      10.0\n",
       "       ... \n",
       "995    19.0\n",
       "996    11.0\n",
       "997    12.0\n",
       "998     8.0\n",
       "999    11.0\n",
       "Name: Age (Years), Length: 1000, dtype: Float64"
      ]
     },
     "execution_count": 12,
     "metadata": {},
     "output_type": "execute_result"
    }
   ],
   "source": [
    "my_data[\"Age (Years)\"].astype(\"Float64\")\n",
    "# Bu kod, 'my_data' DataFrame'indeki 'age' sütununu tam sayı (int64) tipinden ondalıklı sayı (float64) tipine dönüştürür."
   ]
  },
  {
   "cell_type": "code",
   "execution_count": 14,
   "metadata": {},
   "outputs": [
    {
     "data": {
      "text/plain": [
       "dtype('int64')"
      ]
     },
     "execution_count": 14,
     "metadata": {},
     "output_type": "execute_result"
    }
   ],
   "source": [
    "my_data.index.dtype"
   ]
  },
  {
   "cell_type": "code",
   "execution_count": 15,
   "metadata": {},
   "outputs": [],
   "source": [
    "# Pandas ayrıca kategorik veri ve zaman serisi verisi gibi daha egzotik veri tiplerini de destekler.\n",
    "# Bu veri tipleri daha nadir kullanıldığı için, bu eğitimin çok daha ileri bir bölümüne kadar onları atlayacağız.\n",
    "# \"Egzotik veri tipleri\" ifadesi, yaygın olmayan veya daha özel amaçlı veri tiplerini ifade eder."
   ]
  },
  {
   "cell_type": "code",
   "execution_count": 16,
   "metadata": {},
   "outputs": [],
   "source": [
    "# MISSING DATA\n",
    "# Entries missing values are given the value NaN, short for \"Not a Number\". For technical reasons these NaN values are always of the float64 dtype."
   ]
  },
  {
   "cell_type": "code",
   "execution_count": 18,
   "metadata": {},
   "outputs": [
    {
     "data": {
      "text/html": [
       "<div>\n",
       "<style scoped>\n",
       "    .dataframe tbody tr th:only-of-type {\n",
       "        vertical-align: middle;\n",
       "    }\n",
       "\n",
       "    .dataframe tbody tr th {\n",
       "        vertical-align: top;\n",
       "    }\n",
       "\n",
       "    .dataframe thead th {\n",
       "        text-align: right;\n",
       "    }\n",
       "</style>\n",
       "<table border=\"1\" class=\"dataframe\">\n",
       "  <thead>\n",
       "    <tr style=\"text-align: right;\">\n",
       "      <th></th>\n",
       "      <th>Breed</th>\n",
       "      <th>Age (Years)</th>\n",
       "      <th>Weight (kg)</th>\n",
       "      <th>Color</th>\n",
       "      <th>Gender</th>\n",
       "    </tr>\n",
       "  </thead>\n",
       "  <tbody>\n",
       "  </tbody>\n",
       "</table>\n",
       "</div>"
      ],
      "text/plain": [
       "Empty DataFrame\n",
       "Columns: [Breed, Age (Years), Weight (kg), Color, Gender]\n",
       "Index: []"
      ]
     },
     "execution_count": 18,
     "metadata": {},
     "output_type": "execute_result"
    }
   ],
   "source": [
    "my_data[pd.isnull(my_data.Breed)] # burada eksik veri yok :p ama olsaydı Breed sütununda NaN olanları dataframe olarak döndürürdü."
   ]
  },
  {
   "cell_type": "code",
   "execution_count": 19,
   "metadata": {},
   "outputs": [],
   "source": [
    "# fillna() provides a few different strategies for mitigating such data. For example, we can simply replace each NaN with an \"Unknown\":"
   ]
  },
  {
   "cell_type": "code",
   "execution_count": 20,
   "metadata": {},
   "outputs": [
    {
     "data": {
      "text/plain": [
       "0            Russian Blue\n",
       "1        Norwegian Forest\n",
       "2               Chartreux\n",
       "3                 Persian\n",
       "4                 Ragdoll\n",
       "              ...        \n",
       "995     British Shorthair\n",
       "996     British Shorthair\n",
       "997              Savannah\n",
       "998    American Shorthair\n",
       "999             Chartreux\n",
       "Name: Breed, Length: 1000, dtype: object"
      ]
     },
     "execution_count": 20,
     "metadata": {},
     "output_type": "execute_result"
    }
   ],
   "source": [
    "my_data.Breed.fillna(\"Unknown\")"
   ]
  },
  {
   "cell_type": "code",
   "execution_count": 21,
   "metadata": {},
   "outputs": [],
   "source": [
    "# Veya eksik olan her değeri, veri tabanındaki kayıttan bir süre sonra ortaya çıkan boş olmayan ilk değerle doldurabiliriz.\n",
    "# Bu, dolgu stratejisi(backfill strategy) olarak bilinir.\n",
    "# Diyelim ki şöyle bir veri setimiz var:\n",
    "\n",
    "'''\n",
    "1. NaN\n",
    "2. NaN\n",
    "3. A\n",
    "4. B\n",
    "5. NaN\n",
    "6. C\n",
    "Backfill stratejisi uygulandığında sonuç şöyle olur:\n",
    "less\n",
    "\n",
    "Copy\n",
    "1. A    (3. satırdaki 'A' ile dolduruldu)\n",
    "2. A    (3. satırdaki 'A' ile dolduruldu)\n",
    "3. A\n",
    "4. B\n",
    "5. C    (6. satırdaki 'C' ile dolduruldu)\n",
    "6. C'''"
   ]
  },
  {
   "cell_type": "code",
   "execution_count": 25,
   "metadata": {},
   "outputs": [],
   "source": [
    "# Alternatif olarak, değiştirmek istediğimiz boş olmayan bir değere de sahip olabiliriz. Bunun için:\n",
    "my_data[\"Breed\"] = my_data[\"Breed\"].replace(\"Turkish Angora\", \"Ankara Kedisi\")"
   ]
  },
  {
   "cell_type": "code",
   "execution_count": 29,
   "metadata": {},
   "outputs": [
    {
     "data": {
      "text/html": [
       "<div>\n",
       "<style scoped>\n",
       "    .dataframe tbody tr th:only-of-type {\n",
       "        vertical-align: middle;\n",
       "    }\n",
       "\n",
       "    .dataframe tbody tr th {\n",
       "        vertical-align: top;\n",
       "    }\n",
       "\n",
       "    .dataframe thead th {\n",
       "        text-align: right;\n",
       "    }\n",
       "</style>\n",
       "<table border=\"1\" class=\"dataframe\">\n",
       "  <thead>\n",
       "    <tr style=\"text-align: right;\">\n",
       "      <th></th>\n",
       "      <th>Breed</th>\n",
       "      <th>Age (Years)</th>\n",
       "      <th>Weight (kg)</th>\n",
       "      <th>Color</th>\n",
       "      <th>Gender</th>\n",
       "    </tr>\n",
       "  </thead>\n",
       "  <tbody>\n",
       "    <tr>\n",
       "      <th>23</th>\n",
       "      <td>Ankara Kedisi</td>\n",
       "      <td>16</td>\n",
       "      <td>6</td>\n",
       "      <td>Sable</td>\n",
       "      <td>Female</td>\n",
       "    </tr>\n",
       "    <tr>\n",
       "      <th>47</th>\n",
       "      <td>Ankara Kedisi</td>\n",
       "      <td>11</td>\n",
       "      <td>5</td>\n",
       "      <td>Bicolor</td>\n",
       "      <td>Male</td>\n",
       "    </tr>\n",
       "    <tr>\n",
       "      <th>87</th>\n",
       "      <td>Ankara Kedisi</td>\n",
       "      <td>9</td>\n",
       "      <td>3</td>\n",
       "      <td>Orange</td>\n",
       "      <td>Male</td>\n",
       "    </tr>\n",
       "    <tr>\n",
       "      <th>91</th>\n",
       "      <td>Ankara Kedisi</td>\n",
       "      <td>5</td>\n",
       "      <td>4</td>\n",
       "      <td>Brown</td>\n",
       "      <td>Male</td>\n",
       "    </tr>\n",
       "    <tr>\n",
       "      <th>109</th>\n",
       "      <td>Ankara Kedisi</td>\n",
       "      <td>6</td>\n",
       "      <td>6</td>\n",
       "      <td>Brown</td>\n",
       "      <td>Female</td>\n",
       "    </tr>\n",
       "    <tr>\n",
       "      <th>155</th>\n",
       "      <td>Ankara Kedisi</td>\n",
       "      <td>19</td>\n",
       "      <td>3</td>\n",
       "      <td>Gray</td>\n",
       "      <td>Male</td>\n",
       "    </tr>\n",
       "    <tr>\n",
       "      <th>161</th>\n",
       "      <td>Ankara Kedisi</td>\n",
       "      <td>14</td>\n",
       "      <td>3</td>\n",
       "      <td>Brown</td>\n",
       "      <td>Male</td>\n",
       "    </tr>\n",
       "    <tr>\n",
       "      <th>179</th>\n",
       "      <td>Ankara Kedisi</td>\n",
       "      <td>15</td>\n",
       "      <td>8</td>\n",
       "      <td>Red</td>\n",
       "      <td>Male</td>\n",
       "    </tr>\n",
       "    <tr>\n",
       "      <th>205</th>\n",
       "      <td>Ankara Kedisi</td>\n",
       "      <td>7</td>\n",
       "      <td>7</td>\n",
       "      <td>Sable</td>\n",
       "      <td>Male</td>\n",
       "    </tr>\n",
       "    <tr>\n",
       "      <th>222</th>\n",
       "      <td>Ankara Kedisi</td>\n",
       "      <td>10</td>\n",
       "      <td>4</td>\n",
       "      <td>Tabby</td>\n",
       "      <td>Female</td>\n",
       "    </tr>\n",
       "    <tr>\n",
       "      <th>293</th>\n",
       "      <td>Ankara Kedisi</td>\n",
       "      <td>18</td>\n",
       "      <td>8</td>\n",
       "      <td>Gray</td>\n",
       "      <td>Male</td>\n",
       "    </tr>\n",
       "    <tr>\n",
       "      <th>305</th>\n",
       "      <td>Ankara Kedisi</td>\n",
       "      <td>11</td>\n",
       "      <td>3</td>\n",
       "      <td>Calico</td>\n",
       "      <td>Female</td>\n",
       "    </tr>\n",
       "    <tr>\n",
       "      <th>384</th>\n",
       "      <td>Ankara Kedisi</td>\n",
       "      <td>1</td>\n",
       "      <td>9</td>\n",
       "      <td>Cream</td>\n",
       "      <td>Male</td>\n",
       "    </tr>\n",
       "    <tr>\n",
       "      <th>411</th>\n",
       "      <td>Ankara Kedisi</td>\n",
       "      <td>19</td>\n",
       "      <td>9</td>\n",
       "      <td>Brown</td>\n",
       "      <td>Male</td>\n",
       "    </tr>\n",
       "    <tr>\n",
       "      <th>431</th>\n",
       "      <td>Ankara Kedisi</td>\n",
       "      <td>1</td>\n",
       "      <td>2</td>\n",
       "      <td>Blue</td>\n",
       "      <td>Female</td>\n",
       "    </tr>\n",
       "    <tr>\n",
       "      <th>459</th>\n",
       "      <td>Ankara Kedisi</td>\n",
       "      <td>6</td>\n",
       "      <td>6</td>\n",
       "      <td>Tortoiseshell</td>\n",
       "      <td>Male</td>\n",
       "    </tr>\n",
       "    <tr>\n",
       "      <th>644</th>\n",
       "      <td>Ankara Kedisi</td>\n",
       "      <td>14</td>\n",
       "      <td>3</td>\n",
       "      <td>Blue</td>\n",
       "      <td>Male</td>\n",
       "    </tr>\n",
       "    <tr>\n",
       "      <th>658</th>\n",
       "      <td>Ankara Kedisi</td>\n",
       "      <td>6</td>\n",
       "      <td>8</td>\n",
       "      <td>Calico</td>\n",
       "      <td>Male</td>\n",
       "    </tr>\n",
       "    <tr>\n",
       "      <th>703</th>\n",
       "      <td>Ankara Kedisi</td>\n",
       "      <td>2</td>\n",
       "      <td>7</td>\n",
       "      <td>Pointed</td>\n",
       "      <td>Male</td>\n",
       "    </tr>\n",
       "    <tr>\n",
       "      <th>731</th>\n",
       "      <td>Ankara Kedisi</td>\n",
       "      <td>4</td>\n",
       "      <td>5</td>\n",
       "      <td>Orange</td>\n",
       "      <td>Male</td>\n",
       "    </tr>\n",
       "    <tr>\n",
       "      <th>739</th>\n",
       "      <td>Ankara Kedisi</td>\n",
       "      <td>18</td>\n",
       "      <td>7</td>\n",
       "      <td>Pointed</td>\n",
       "      <td>Male</td>\n",
       "    </tr>\n",
       "    <tr>\n",
       "      <th>765</th>\n",
       "      <td>Ankara Kedisi</td>\n",
       "      <td>19</td>\n",
       "      <td>9</td>\n",
       "      <td>Bicolor</td>\n",
       "      <td>Female</td>\n",
       "    </tr>\n",
       "    <tr>\n",
       "      <th>803</th>\n",
       "      <td>Ankara Kedisi</td>\n",
       "      <td>4</td>\n",
       "      <td>6</td>\n",
       "      <td>Calico</td>\n",
       "      <td>Male</td>\n",
       "    </tr>\n",
       "    <tr>\n",
       "      <th>814</th>\n",
       "      <td>Ankara Kedisi</td>\n",
       "      <td>8</td>\n",
       "      <td>2</td>\n",
       "      <td>Tricolor</td>\n",
       "      <td>Female</td>\n",
       "    </tr>\n",
       "    <tr>\n",
       "      <th>830</th>\n",
       "      <td>Ankara Kedisi</td>\n",
       "      <td>13</td>\n",
       "      <td>2</td>\n",
       "      <td>Calico</td>\n",
       "      <td>Female</td>\n",
       "    </tr>\n",
       "    <tr>\n",
       "      <th>849</th>\n",
       "      <td>Ankara Kedisi</td>\n",
       "      <td>16</td>\n",
       "      <td>4</td>\n",
       "      <td>Black</td>\n",
       "      <td>Female</td>\n",
       "    </tr>\n",
       "    <tr>\n",
       "      <th>854</th>\n",
       "      <td>Ankara Kedisi</td>\n",
       "      <td>17</td>\n",
       "      <td>5</td>\n",
       "      <td>Blue</td>\n",
       "      <td>Male</td>\n",
       "    </tr>\n",
       "    <tr>\n",
       "      <th>862</th>\n",
       "      <td>Ankara Kedisi</td>\n",
       "      <td>8</td>\n",
       "      <td>3</td>\n",
       "      <td>Black</td>\n",
       "      <td>Male</td>\n",
       "    </tr>\n",
       "    <tr>\n",
       "      <th>870</th>\n",
       "      <td>Ankara Kedisi</td>\n",
       "      <td>12</td>\n",
       "      <td>8</td>\n",
       "      <td>Cream</td>\n",
       "      <td>Male</td>\n",
       "    </tr>\n",
       "    <tr>\n",
       "      <th>875</th>\n",
       "      <td>Ankara Kedisi</td>\n",
       "      <td>19</td>\n",
       "      <td>8</td>\n",
       "      <td>Gray</td>\n",
       "      <td>Male</td>\n",
       "    </tr>\n",
       "    <tr>\n",
       "      <th>897</th>\n",
       "      <td>Ankara Kedisi</td>\n",
       "      <td>13</td>\n",
       "      <td>8</td>\n",
       "      <td>Gray</td>\n",
       "      <td>Male</td>\n",
       "    </tr>\n",
       "  </tbody>\n",
       "</table>\n",
       "</div>"
      ],
      "text/plain": [
       "             Breed  Age (Years)  Weight (kg)          Color  Gender\n",
       "23   Ankara Kedisi           16            6          Sable  Female\n",
       "47   Ankara Kedisi           11            5        Bicolor    Male\n",
       "87   Ankara Kedisi            9            3         Orange    Male\n",
       "91   Ankara Kedisi            5            4          Brown    Male\n",
       "109  Ankara Kedisi            6            6          Brown  Female\n",
       "155  Ankara Kedisi           19            3           Gray    Male\n",
       "161  Ankara Kedisi           14            3          Brown    Male\n",
       "179  Ankara Kedisi           15            8            Red    Male\n",
       "205  Ankara Kedisi            7            7          Sable    Male\n",
       "222  Ankara Kedisi           10            4          Tabby  Female\n",
       "293  Ankara Kedisi           18            8           Gray    Male\n",
       "305  Ankara Kedisi           11            3         Calico  Female\n",
       "384  Ankara Kedisi            1            9          Cream    Male\n",
       "411  Ankara Kedisi           19            9          Brown    Male\n",
       "431  Ankara Kedisi            1            2           Blue  Female\n",
       "459  Ankara Kedisi            6            6  Tortoiseshell    Male\n",
       "644  Ankara Kedisi           14            3           Blue    Male\n",
       "658  Ankara Kedisi            6            8         Calico    Male\n",
       "703  Ankara Kedisi            2            7        Pointed    Male\n",
       "731  Ankara Kedisi            4            5         Orange    Male\n",
       "739  Ankara Kedisi           18            7        Pointed    Male\n",
       "765  Ankara Kedisi           19            9        Bicolor  Female\n",
       "803  Ankara Kedisi            4            6         Calico    Male\n",
       "814  Ankara Kedisi            8            2       Tricolor  Female\n",
       "830  Ankara Kedisi           13            2         Calico  Female\n",
       "849  Ankara Kedisi           16            4          Black  Female\n",
       "854  Ankara Kedisi           17            5           Blue    Male\n",
       "862  Ankara Kedisi            8            3          Black    Male\n",
       "870  Ankara Kedisi           12            8          Cream    Male\n",
       "875  Ankara Kedisi           19            8           Gray    Male\n",
       "897  Ankara Kedisi           13            8           Gray    Male"
      ]
     },
     "execution_count": 29,
     "metadata": {},
     "output_type": "execute_result"
    }
   ],
   "source": [
    "my_data.loc[my_data.Breed == \"Ankara Kedisi\"]"
   ]
  },
  {
   "cell_type": "code",
   "execution_count": null,
   "metadata": {},
   "outputs": [],
   "source": []
  }
 ],
 "metadata": {
  "kernelspec": {
   "display_name": "Python 3",
   "language": "python",
   "name": "python3"
  },
  "language_info": {
   "codemirror_mode": {
    "name": "ipython",
    "version": 3
   },
   "file_extension": ".py",
   "mimetype": "text/x-python",
   "name": "python",
   "nbconvert_exporter": "python",
   "pygments_lexer": "ipython3",
   "version": "3.11.5"
  }
 },
 "nbformat": 4,
 "nbformat_minor": 2
}
