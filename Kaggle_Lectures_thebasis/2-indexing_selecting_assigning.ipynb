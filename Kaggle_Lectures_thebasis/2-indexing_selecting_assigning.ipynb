{
 "cells": [
  {
   "cell_type": "code",
   "execution_count": 2,
   "metadata": {},
   "outputs": [],
   "source": [
    "import pandas as pd"
   ]
  },
  {
   "cell_type": "code",
   "execution_count": 3,
   "metadata": {},
   "outputs": [],
   "source": [
    "reviews = pd.read_csv(\"C:/Users/Alperen Arda/OneDrive/Desktop/GitHub/Data-Science-and-Machine-Learning-Tutorial/Datasets/cats_dataset.csv\")"
   ]
  },
  {
   "cell_type": "code",
   "execution_count": 4,
   "metadata": {},
   "outputs": [
    {
     "data": {
      "text/html": [
       "<div>\n",
       "<style scoped>\n",
       "    .dataframe tbody tr th:only-of-type {\n",
       "        vertical-align: middle;\n",
       "    }\n",
       "\n",
       "    .dataframe tbody tr th {\n",
       "        vertical-align: top;\n",
       "    }\n",
       "\n",
       "    .dataframe thead th {\n",
       "        text-align: right;\n",
       "    }\n",
       "</style>\n",
       "<table border=\"1\" class=\"dataframe\">\n",
       "  <thead>\n",
       "    <tr style=\"text-align: right;\">\n",
       "      <th></th>\n",
       "      <th>Breed</th>\n",
       "      <th>Age (Years)</th>\n",
       "      <th>Weight (kg)</th>\n",
       "      <th>Color</th>\n",
       "      <th>Gender</th>\n",
       "    </tr>\n",
       "  </thead>\n",
       "  <tbody>\n",
       "    <tr>\n",
       "      <th>0</th>\n",
       "      <td>Russian Blue</td>\n",
       "      <td>19</td>\n",
       "      <td>7</td>\n",
       "      <td>Tortoiseshell</td>\n",
       "      <td>Female</td>\n",
       "    </tr>\n",
       "    <tr>\n",
       "      <th>1</th>\n",
       "      <td>Norwegian Forest</td>\n",
       "      <td>19</td>\n",
       "      <td>9</td>\n",
       "      <td>Tortoiseshell</td>\n",
       "      <td>Female</td>\n",
       "    </tr>\n",
       "    <tr>\n",
       "      <th>2</th>\n",
       "      <td>Chartreux</td>\n",
       "      <td>3</td>\n",
       "      <td>3</td>\n",
       "      <td>Brown</td>\n",
       "      <td>Female</td>\n",
       "    </tr>\n",
       "    <tr>\n",
       "      <th>3</th>\n",
       "      <td>Persian</td>\n",
       "      <td>13</td>\n",
       "      <td>6</td>\n",
       "      <td>Sable</td>\n",
       "      <td>Female</td>\n",
       "    </tr>\n",
       "    <tr>\n",
       "      <th>4</th>\n",
       "      <td>Ragdoll</td>\n",
       "      <td>10</td>\n",
       "      <td>8</td>\n",
       "      <td>Tabby</td>\n",
       "      <td>Male</td>\n",
       "    </tr>\n",
       "    <tr>\n",
       "      <th>...</th>\n",
       "      <td>...</td>\n",
       "      <td>...</td>\n",
       "      <td>...</td>\n",
       "      <td>...</td>\n",
       "      <td>...</td>\n",
       "    </tr>\n",
       "    <tr>\n",
       "      <th>995</th>\n",
       "      <td>British Shorthair</td>\n",
       "      <td>19</td>\n",
       "      <td>5</td>\n",
       "      <td>Gray</td>\n",
       "      <td>Female</td>\n",
       "    </tr>\n",
       "    <tr>\n",
       "      <th>996</th>\n",
       "      <td>British Shorthair</td>\n",
       "      <td>11</td>\n",
       "      <td>2</td>\n",
       "      <td>Bicolor</td>\n",
       "      <td>Female</td>\n",
       "    </tr>\n",
       "    <tr>\n",
       "      <th>997</th>\n",
       "      <td>Savannah</td>\n",
       "      <td>12</td>\n",
       "      <td>5</td>\n",
       "      <td>Bicolor</td>\n",
       "      <td>Female</td>\n",
       "    </tr>\n",
       "    <tr>\n",
       "      <th>998</th>\n",
       "      <td>American Shorthair</td>\n",
       "      <td>8</td>\n",
       "      <td>3</td>\n",
       "      <td>Tortoiseshell</td>\n",
       "      <td>Female</td>\n",
       "    </tr>\n",
       "    <tr>\n",
       "      <th>999</th>\n",
       "      <td>Chartreux</td>\n",
       "      <td>11</td>\n",
       "      <td>4</td>\n",
       "      <td>Sable</td>\n",
       "      <td>Female</td>\n",
       "    </tr>\n",
       "  </tbody>\n",
       "</table>\n",
       "<p>1000 rows × 5 columns</p>\n",
       "</div>"
      ],
      "text/plain": [
       "                  Breed  Age (Years)  Weight (kg)          Color  Gender\n",
       "0          Russian Blue           19            7  Tortoiseshell  Female\n",
       "1      Norwegian Forest           19            9  Tortoiseshell  Female\n",
       "2             Chartreux            3            3          Brown  Female\n",
       "3               Persian           13            6          Sable  Female\n",
       "4               Ragdoll           10            8          Tabby    Male\n",
       "..                  ...          ...          ...            ...     ...\n",
       "995   British Shorthair           19            5           Gray  Female\n",
       "996   British Shorthair           11            2        Bicolor  Female\n",
       "997            Savannah           12            5        Bicolor  Female\n",
       "998  American Shorthair            8            3  Tortoiseshell  Female\n",
       "999           Chartreux           11            4          Sable  Female\n",
       "\n",
       "[1000 rows x 5 columns]"
      ]
     },
     "execution_count": 4,
     "metadata": {},
     "output_type": "execute_result"
    }
   ],
   "source": [
    "reviews"
   ]
  },
  {
   "cell_type": "code",
   "execution_count": 12,
   "metadata": {},
   "outputs": [
    {
     "data": {
      "text/plain": [
       "19"
      ]
     },
     "execution_count": 12,
     "metadata": {},
     "output_type": "execute_result"
    }
   ],
   "source": [
    "reviews[\"Age (Years)\"].max()"
   ]
  },
  {
   "cell_type": "code",
   "execution_count": 14,
   "metadata": {},
   "outputs": [
    {
     "data": {
      "text/plain": [
       "0      Tortoiseshell\n",
       "1      Tortoiseshell\n",
       "2              Brown\n",
       "3              Sable\n",
       "4              Tabby\n",
       "           ...      \n",
       "995             Gray\n",
       "996          Bicolor\n",
       "997          Bicolor\n",
       "998    Tortoiseshell\n",
       "999            Sable\n",
       "Name: Color, Length: 1000, dtype: object"
      ]
     },
     "execution_count": 14,
     "metadata": {},
     "output_type": "execute_result"
    }
   ],
   "source": [
    "# Pandas'ta özelliklere erişmek için \"tablo_adi.ozellik_ismi\" şeklinde yazabiliriz.\n",
    "reviews.Color"
   ]
  },
  {
   "cell_type": "code",
   "execution_count": 15,
   "metadata": {},
   "outputs": [
    {
     "data": {
      "text/plain": [
       "0      Tortoiseshell\n",
       "1      Tortoiseshell\n",
       "2              Brown\n",
       "3              Sable\n",
       "4              Tabby\n",
       "           ...      \n",
       "995             Gray\n",
       "996          Bicolor\n",
       "997          Bicolor\n",
       "998    Tortoiseshell\n",
       "999            Sable\n",
       "Name: Color, Length: 1000, dtype: object"
      ]
     },
     "execution_count": 15,
     "metadata": {},
     "output_type": "execute_result"
    }
   ],
   "source": [
    "# Sözlük tarzında kullanarak da aynı şekilde verilere erişebiliriz. \"tablo_adi[ozellik_ismi]\"\n",
    "reviews[\"Color\"]"
   ]
  },
  {
   "cell_type": "code",
   "execution_count": 16,
   "metadata": {},
   "outputs": [],
   "source": [
    "# Bunlar bir DataFrame'den belirli bir Seriyi seçmenin iki yoludur. \n",
    "# İkisi de sözdizimsel olarak diğerinden daha fazla veya daha az geçerli değildir, ancak indeksleme operatörü [], \n",
    "# içinde ayrılmış karakterlerin bulunduğu sütun adlarını işleyebilme avantajına sahiptir."
   ]
  },
  {
   "cell_type": "code",
   "execution_count": 21,
   "metadata": {},
   "outputs": [
    {
     "data": {
      "text/plain": [
       "'Tortoiseshell'"
      ]
     },
     "execution_count": 21,
     "metadata": {},
     "output_type": "execute_result"
    }
   ],
   "source": [
    "reviews[\"Color\"][0]"
   ]
  },
  {
   "cell_type": "code",
   "execution_count": null,
   "metadata": {},
   "outputs": [],
   "source": []
  }
 ],
 "metadata": {
  "kernelspec": {
   "display_name": "Python 3",
   "language": "python",
   "name": "python3"
  },
  "language_info": {
   "codemirror_mode": {
    "name": "ipython",
    "version": 3
   },
   "file_extension": ".py",
   "mimetype": "text/x-python",
   "name": "python",
   "nbconvert_exporter": "python",
   "pygments_lexer": "ipython3",
   "version": "3.11.5"
  }
 },
 "nbformat": 4,
 "nbformat_minor": 2
}
