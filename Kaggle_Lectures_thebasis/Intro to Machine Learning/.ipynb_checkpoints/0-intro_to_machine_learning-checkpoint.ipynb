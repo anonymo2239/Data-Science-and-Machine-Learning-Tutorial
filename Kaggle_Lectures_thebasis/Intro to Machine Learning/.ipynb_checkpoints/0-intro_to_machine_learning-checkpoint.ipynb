{
 "cells": [
  {
   "cell_type": "markdown",
   "metadata": {},
   "source": [
    "MACHINE LEARNING"
   ]
  },
  {
   "cell_type": "markdown",
   "metadata": {},
   "source": [
    "Kuzeninizin emlak spekülasyonuyla milyonlar kazandığı ve sizin veri bilimine olan ilginiz nedeniyle sizinle iş ortaklığı yapmak istediği anlatılıyor. Kuzeniniz parayı sağlayacak, siz ise evlerin değerini tahmin eden modeller geliştireceksiniz.\n",
    "\n",
    "Kuzeninizin emlak değerlerini geçmişte nasıl tahmin ettiğini sorduğunuzda, sadece sezgiye dayandığını söyler. Ancak, daha fazla sorguladığınızda, geçmişte gördüğü evlerden fiyat kalıpları belirlediğini ve yeni evler için bu kalıpları kullanarak tahminler yaptığını öğrenirsiniz. Makine öğrenimi de aynı şekilde çalışır.\n",
    "İlk olarak, karar ağacı adı verilen bir modelle başlanacaktır. Karar ağaçları, anlaşılması kolay ve veri bilimindeki en iyi modellerin temel yapı taşıdır. En basit karar ağacı, evleri iki kategoriye ayırır ve her kategori için geçmiş ortalama fiyatı kullanarak tahmin yapar. Modelin eğitilmesi süreci, verilerden kalıpları yakalama adımıdır. Bu işlem, modelin eğitimi veya uyarlanması olarak adlandırılır ve kullanılan veriler, (train data)eğitim verisi olarak bilinir.\n",
    "\n",
    "Modelin nasıl uyarlanacağı (örneğin, verilerin nasıl bölüneceği) daha karmaşık bir konudur ve bu konu ileride ele alınacaktır. Model eğitildikten sonra, yeni verilerle ev fiyatlarını tahmin etmek için kullanılabilir."
   ]
  },
  {
   "cell_type": "markdown",
   "metadata": {},
   "source": [
    "![Alt Metin](image1.png)"
   ]
  },
  {
   "cell_type": "markdown",
   "metadata": {},
   "source": [
    "Karar ağacının daha fazla faktörü dikkate alabilmesi için daha fazla \"bölünme\" (split) içerebilir. Bu tür ağaçlar deeper trees olarak adlandırılır. Örneğin, bir karar ağacı her evin arsasının toplam büyüklüğünü de dikkate alırsa, bu karar ağacı daha derin bir yapı kazanır ve daha fazla faktörü göz önünde bulundurabilir."
   ]
  },
  {
   "cell_type": "markdown",
   "metadata": {},
   "source": [
    "![Alt Metin](image2.png)"
   ]
  }
 ],
 "metadata": {
  "kernelspec": {
   "display_name": "Python 3 (ipykernel)",
   "language": "python",
   "name": "python3"
  },
  "language_info": {
   "codemirror_mode": {
    "name": "ipython",
    "version": 3
   },
   "file_extension": ".py",
   "mimetype": "text/x-python",
   "name": "python",
   "nbconvert_exporter": "python",
   "pygments_lexer": "ipython3",
   "version": "3.11.5"
  }
 },
 "nbformat": 4,
 "nbformat_minor": 4
}
