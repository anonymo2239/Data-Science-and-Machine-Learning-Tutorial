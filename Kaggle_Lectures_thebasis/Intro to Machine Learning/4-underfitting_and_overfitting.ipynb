{
 "cells": [
  {
   "cell_type": "markdown",
   "metadata": {},
   "source": [
    "At the end of this step, you will understand the concepts of underfitting and overfitting, and you will be able to apply these ideas to make your models more accurate."
   ]
  },
  {
   "cell_type": "markdown",
   "metadata": {},
   "source": [
    "bir sürü karar ağacı çeşidi vardır. en önemlileri deriniği belirleyenlerdir. bir ağacın derinliği, bir tahmine ulaşmadan önce kaç bölme yaptığına dair bir ölçüdür.\n",
    "bir ağaç her bölündüğünde daha çok leaf ve her birinin içinde daha az ev bulunur. örneğin 10 split uygulanan bir ağaçta 2^10 = 1024 leaf meydana gelir."
   ]
  },
  {
   "cell_type": "markdown",
   "metadata": {},
   "source": [
    "Evleri birçok yaprak arasında böldüğümüzde, her yaprakta daha az sayıda ev kalır. \n",
    "Az sayıda ev içeren yapraklar, bu evlerin gerçek değerlerine çok yakın tahminler yapabilir, \n",
    "ancak yeni veriler için bu tahminler oldukça güvensiz olabilir (çünkü her tahmin yalnızca birkaç eve dayanır)."
   ]
  },
  {
   "cell_type": "markdown",
   "metadata": {},
   "source": [
    "kendi eğitildiği verilerle harika çalışan ama başka verilerle çok kötü çalışan modellerin oluşturduğu duruma overfitting(aşırı uyum) denir.\n",
    "Fakat diğer yandan ağacımızı az split edersek sığ(shallow) bir ağaç oluşur ve yeterince gruplama yapılamaz."
   ]
  },
  {
   "cell_type": "markdown",
   "metadata": {},
   "source": [
    "sığ bir ağaç oluşturulursa her bir leaf te çok fazla ev bulunur ve oluşan model hem train data ile hem de validation data ile kötü tahminler yapar.\n",
    "Bir model, verideki önemli ayrımları ve desenleri yakalayamadığında ve bu yüzden eğitim verilerinde bile kötü performans gösterdiğinde, \n",
    "buna underfitting (aşırı basitleştirme) denir."
   ]
  },
  {
   "cell_type": "markdown",
   "metadata": {},
   "source": [
    "![Alt Metin](image.png)"
   ]
  },
  {
   "cell_type": "markdown",
   "metadata": {},
   "source": [
    "Sweet Spot (Tatlı Nokta): Grafikte sarı bir uyarı işareti ile gösterilen orta bölge, modelin ne underfitting ne de overfitting yaptığı noktadır. Burada doğrulama hatası en düşük seviyededir. Model bu noktada genel olarak en iyi performansı gösterir.\n",
    "\n",
    "Bu grafikteki temel amaç, modelin doğrulama verilerinde en düşük hatayı yaptığı \"sweet spot\"u bulmaktır. Bu, modelin verideki desenleri yeterince iyi yakaladığı ve yeni verilere genelleme yapabildiği noktadır."
   ]
  },
  {
   "cell_type": "markdown",
   "metadata": {},
   "source": [
    "Ağaç derinliğini kontrol etmek için birkaç alternatif vardır ve bunların çoğu, ağacın bazı dallarının diğerlerinden daha derin olmasına izin verir. Ancak, max_leaf_nodes argümanı, aşırı uyum (overfitting) ve yetersiz uyum (underfitting) arasında denge kurmanın çok mantıklı bir yolunu sunar. Modele daha fazla yaprak oluşturmasına izin verdikçe, yukarıdaki grafikte yetersiz uyum bölgesinden aşırı uyum bölgesine doğru ilerleriz.\n",
    "\n",
    "max_leaf_nodes için farklı değerler kullanarak MAE (Ortalama Mutlak Hata) puanlarını karşılaştırmaya yardımcı olmak için bir yardımcı işlev kullanabiliriz."
   ]
  },
  {
   "cell_type": "code",
   "execution_count": 16,
   "metadata": {},
   "outputs": [],
   "source": [
    "from sklearn.metrics import mean_absolute_error\n",
    "from sklearn.tree import DecisionTreeRegressor\n",
    "\n",
    "import pandas as pd\n",
    "from sklearn.model_selection import train_test_split"
   ]
  },
  {
   "cell_type": "code",
   "execution_count": 17,
   "metadata": {},
   "outputs": [],
   "source": [
    "def getmae(max_leaf_nodes, train_X, train_y, val_X, val_y):\n",
    "    model = DecisionTreeRegressor(max_leaf_nodes=max_leaf_nodes, random_state=1)\n",
    "    model.fit(train_X, train_y)\n",
    "    preds_val = model.predict(val_X)\n",
    "    mae = mean_absolute_error(val_y, preds_val)\n",
    "    return mae"
   ]
  },
  {
   "cell_type": "code",
   "execution_count": 18,
   "metadata": {},
   "outputs": [],
   "source": [
    "melbourneData = \"C:/Users/Alperen Arda/OneDrive/Desktop/GitHub/Data-Science-and-Machine-Learning-Tutorial/Datasets/melb_data.csv\"\n",
    "houses_data = pd.read_csv(melbourneData)\n",
    "\n",
    "filtered_melbourne_data = houses_data.dropna(axis=0)\n",
    "\n",
    "y = filtered_melbourne_data.Price\n",
    "\n",
    "melbourne_features = ['Rooms', 'Bathroom', 'Landsize', 'BuildingArea', \n",
    "                        'YearBuilt', 'Lattitude', 'Longtitude']\n",
    "\n",
    "X = filtered_melbourne_data[melbourne_features]\n",
    "\n",
    "train_X, train_y, val_X, val_y = train_test_split(X, y, random_state=0)"
   ]
  },
  {
   "cell_type": "code",
   "execution_count": 24,
   "metadata": {},
   "outputs": [
    {
     "name": "stdout",
     "output_type": "stream",
     "text": [
      "Max leaf nodes: 5 \t\t Mean Absolute Error:  347380\n",
      "Max leaf nodes: 50 \t\t Mean Absolute Error:  258171\n",
      "Max leaf nodes: 500 \t\t Mean Absolute Error:  246793\n",
      "Max leaf nodes: 5000 \t\t Mean Absolute Error:  261451\n"
     ]
    }
   ],
   "source": [
    "for max_leaf_nodes in [5, 50, 500, 5000]:\n",
    "    my_mae = getmae(max_leaf_nodes, train_X, val_X, train_y, val_y)\n",
    "    print(\"Max leaf nodes: %d \\t\\t Mean Absolute Error:  %d\" %(max_leaf_nodes, my_mae))"
   ]
  },
  {
   "cell_type": "markdown",
   "metadata": {},
   "source": [
    "Of the options listed, 500 is the optimal number of leaves."
   ]
  },
  {
   "cell_type": "code",
   "execution_count": null,
   "metadata": {},
   "outputs": [],
   "source": [
    "final_model = DecisionTreeRegressor(max_leaf_nodes=500, random_state=1)\n",
    "\n",
    "final_model.fit(X, y)"
   ]
  },
  {
   "cell_type": "markdown",
   "metadata": {},
   "source": [
    "Neden train_X ve train_y Kullanılmıyor?\n",
    "\n",
    "Modelin Son Şekli: best_tree_size'ı belirledikten sonra, modelinizi optimize etmek için tüm veri setini kullanmanız gerekir. Bu, modelin eğitimi için en iyi sonucu sağlayabilir.\n",
    "\n",
    "Doğrulama Verisi Ayrımı: Modelin eğitiminde artık doğrulama verisini kullanmanıza gerek kalmaz çünkü doğrulama süreci tamamlanmıştır. Bu nedenle, modelinizi tüm veri seti üzerinde eğitmek mantıklıdır.\n",
    "\n",
    "Sonuç olarak, best_tree_size'ı belirledikten sonra, modeli en iyi performans için tüm verilerle eğitmek iyi bir uygulamadır."
   ]
  },
  {
   "cell_type": "markdown",
   "metadata": {},
   "source": [
    "_İşte özet_:\n",
    "\n",
    "Modeller şu sorunlarla karşılaşabilir:\n",
    "\n",
    "Aşırı Uydurma (Overfitting): Geçici desenleri yakalayıp gelecekte tekrar etmeyecek olanları öğrenir, bu da daha az doğru tahminler yapmasına yol açar.\n",
    "\n",
    "Yetersiz Uydurma (Underfitting): İlgili desenleri yakalayamaz, bu da yine daha az doğru tahminler yapmasına yol açar.\n",
    "Model eğitimi sırasında kullanılmayan validation dataları kullanarak candidate modelin doğruluğunu ölçeriz. Bu, birçok aday modeli denememize ve en iyisini seçmemize olanak tanır."
   ]
  },
  {
   "cell_type": "code",
   "execution_count": 23,
   "metadata": {},
   "outputs": [
    {
     "name": "stdout",
     "output_type": "stream",
     "text": [
      "Validation MAE: 6,482,943\n"
     ]
    }
   ],
   "source": [
    "val_mae = 6482942.527\n",
    "print(\"Validation MAE: {:,.0f}\".format(val_mae))\n",
    "# Burada , sayıları binlik ayrıcı (thousands separator) ile ayırır."
   ]
  },
  {
   "cell_type": "markdown",
   "metadata": {},
   "source": [
    "En iyi ağaç boyutunu biliyorsunuz. Bu modeli pratikte kullanacak olsanız, tüm verileri kullanarak ve bu ağaç boyutunu koruyarak modeli daha da doğru hale getirirsiniz. Yani, tüm modelleme kararlarınızı verdikten sonra doğrulama verisini artık saklamanıza gerek yok."
   ]
  },
  {
   "cell_type": "markdown",
   "metadata": {},
   "source": [
    "~HALA ANLAMADIYSAN~\n",
    "\n",
    "max_leaf_nodes parametresi, karar ağaçlarında kullanılan bir hiperparametredir ve ağacın yapısını kontrol etmek için kullanılır. Şimdi açıklamaya çalışayım:\n",
    "\n",
    "max_leaf_nodes Nedir?\n",
    "max_leaf_nodes: Karar ağacındaki maksimum yaprak (leaf) sayısını sınırlar. Bir yaprak, ağacın son düğümüdür ve modelin nihai tahminlerini yapar. Bu parametre, ağacın toplamda kaç yaprak içerebileceğini belirler.\n",
    "Nasıl Çalışır?\n",
    "Daha Küçük max_leaf_nodes: Eğer max_leaf_nodes değeri küçükse, ağaç daha basit olur çünkü daha az yaprağa sahiptir. Bu durum:\n",
    "\n",
    "Yetersiz Uydurma (Underfitting): Model, verilerdeki karmaşık desenleri öğrenemez ve dolayısıyla düşük doğruluk sağlar. Veriyi yeterince iyi modellemediği için eğitim verisine uyum sağlamaz.\n",
    "Daha Büyük max_leaf_nodes: Eğer max_leaf_nodes değeri büyükse, ağaç daha karmaşık hale gelir ve daha fazla yaprak içerir. Bu durum:\n",
    "\n",
    "Aşırı Uydurma (Overfitting): Model, eğitim verisindeki küçük varyasyonları öğrenir ve veriye fazla uyum sağlar. Bu, test verileri veya yeni veriler üzerinde kötü performansa yol açabilir çünkü model eğitim verisindeki gürültüyü öğrenmiş olabilir.\n",
    "Denge Kurma\n",
    "Denge Kurma: max_leaf_nodes değerini ayarlayarak, modelin karmaşıklığını kontrol edebilir ve aşırı uyum ile yetersiz uyum arasında bir denge kurabilirsiniz.\n",
    "Eğer max_leaf_nodes çok düşükse, model yetersiz uyum sağlar.\n",
    "Eğer max_leaf_nodes çok yüksekse, model aşırı uyum sağlar.\n",
    "Grafik ve Uygulama\n",
    "Grafikteki Denge: Grafik üzerinde, max_leaf_nodes değerini arttırdığınızda, modelin yetersiz uyum bölgesinden aşırı uyum bölgesine geçiş yaptığını görebilirsiniz. Bu, modelin başlangıçta daha basit ve genelleştirilmiş olduğunu, ancak daha karmaşık hale geldikçe eğitim verisine daha fazla uyum sağladığını gösterir.\n",
    "Kısacası, max_leaf_nodes parametresi, ağacın ne kadar karmaşık olabileceğini kontrol eder ve bu, modelin performansını ve genelleme yeteneğini etkiler."
   ]
  },
  {
   "cell_type": "markdown",
   "metadata": {},
   "source": []
  }
 ],
 "metadata": {
  "kernelspec": {
   "display_name": "Python 3",
   "language": "python",
   "name": "python3"
  },
  "language_info": {
   "codemirror_mode": {
    "name": "ipython",
    "version": 3
   },
   "file_extension": ".py",
   "mimetype": "text/x-python",
   "name": "python",
   "nbconvert_exporter": "python",
   "pygments_lexer": "ipython3",
   "version": "3.11.5"
  }
 },
 "nbformat": 4,
 "nbformat_minor": 2
}
