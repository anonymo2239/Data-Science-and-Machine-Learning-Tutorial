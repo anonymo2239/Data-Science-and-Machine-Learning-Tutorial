{
 "cells": [
  {
   "cell_type": "markdown",
   "metadata": {},
   "source": [
    "At the end of this step, you will understand the concepts of underfitting and overfitting, and you will be able to apply these ideas to make your models more accurate."
   ]
  },
  {
   "cell_type": "markdown",
   "metadata": {},
   "source": [
    "bir sürü karar ağacı çeşidi vardır. en önemlileri deriniği belirleyenlerdir. bir ağacın derinliği, bir tahmine ulaşmadan önce kaç bölme yaptığına dair bir ölçüdür.\n",
    "bir ağaç her bölündüğünde daha çok leaf ve her birinin içinde daha az ev bulunur. örneğin 10 split uygulanan bir ağaçta 2^10 = 1024 leaf meydana gelir."
   ]
  },
  {
   "cell_type": "markdown",
   "metadata": {},
   "source": [
    "Evleri birçok yaprak arasında böldüğümüzde, her yaprakta daha az sayıda ev kalır. \n",
    "Az sayıda ev içeren yapraklar, bu evlerin gerçek değerlerine çok yakın tahminler yapabilir, \n",
    "ancak yeni veriler için bu tahminler oldukça güvensiz olabilir (çünkü her tahmin yalnızca birkaç eve dayanır)."
   ]
  },
  {
   "cell_type": "markdown",
   "metadata": {},
   "source": [
    "kendi eğitildiği verilerle harika çalışan ama başka verilerle çok kötü çalışan modellerin oluşturduğu duruma overfitting(aşırı uyum) denir.\n",
    "Fakat diğer yandan ağacımızı az split edersek sığ(shallow) bir ağaç oluşur ve yeterince gruplama yapılamaz."
   ]
  },
  {
   "cell_type": "markdown",
   "metadata": {},
   "source": [
    "sığ bir ağaç oluşturulursa her bir leaf te çok fazla ev bulunur ve oluşan model hem train data da hem de validation data da kötü tahminler yapar.\n",
    "Bir model, verideki önemli ayrımları ve desenleri yakalayamadığında ve bu yüzden eğitim verilerinde bile kötü performans gösterdiğinde, \n",
    "buna underfitting (aşırı basitleştirme) denir."
   ]
  },
  {
   "cell_type": "markdown",
   "metadata": {},
   "source": [
    "![Alt Metin](image.png)"
   ]
  },
  {
   "cell_type": "markdown",
   "metadata": {},
   "source": [
    "Sweet Spot (Tatlı Nokta): Grafikte sarı bir uyarı işareti ile gösterilen orta bölge, modelin ne underfitting ne de overfitting yaptığı noktadır. Burada doğrulama hatası en düşük seviyededir. Model bu noktada genel olarak en iyi performansı gösterir.\n",
    "\n",
    "Bu grafikteki temel amaç, modelin doğrulama verilerinde en düşük hatayı yaptığı \"sweet spot\"u bulmaktır. Bu, modelin verideki desenleri yeterince iyi yakaladığı ve yeni verilere genelleme yapabildiği noktadır."
   ]
  },
  {
   "cell_type": "markdown",
   "metadata": {},
   "source": [
    "Ağaç derinliğini kontrol etmek için birkaç alternatif vardır ve bunların çoğu, ağacın bazı dallarının diğerlerinden daha derin olmasına izin verir. Ancak, max_leaf_nodes argümanı, aşırı uyum (overfitting) ve yetersiz uyum (underfitting) arasında denge kurmanın çok mantıklı bir yolunu sunar. Modele daha fazla yaprak oluşturmasına izin verdikçe, yukarıdaki grafikte yetersiz uyum bölgesinden aşırı uyum bölgesine doğru ilerleriz.\n",
    "\n",
    "max_leaf_nodes için farklı değerler kullanarak MAE (Ortalama Mutlak Hata) puanlarını karşılaştırmaya yardımcı olmak için bir yardımcı işlev kullanabiliriz."
   ]
  },
  {
   "cell_type": "code",
   "execution_count": 16,
   "metadata": {},
   "outputs": [],
   "source": [
    "from sklearn.metrics import mean_absolute_error\n",
    "from sklearn.tree import DecisionTreeRegressor\n",
    "\n",
    "import pandas as pd\n",
    "from sklearn.model_selection import train_test_split"
   ]
  },
  {
   "cell_type": "code",
   "execution_count": 17,
   "metadata": {},
   "outputs": [],
   "source": [
    "def getmae(max_leaf_nodes, train_X, train_y, val_X, val_y):\n",
    "    model = DecisionTreeRegressor(max_leaf_nodes=max_leaf_nodes, random_state=1)\n",
    "    model.fit(train_X, train_y)\n",
    "    preds_val = model.predict(val_X)\n",
    "    mae = mean_absolute_error(val_y, preds_val)\n",
    "    return mae"
   ]
  },
  {
   "cell_type": "code",
   "execution_count": 18,
   "metadata": {},
   "outputs": [],
   "source": [
    "melbourneData = \"C:/Users/Alperen Arda/OneDrive/Desktop/GitHub/Data-Science-and-Machine-Learning-Tutorial/Datasets/melb_data.csv\"\n",
    "houses_data = pd.read_csv(melbourneData)\n",
    "\n",
    "filtered_melbourne_data = houses_data.dropna(axis=0)\n",
    "\n",
    "y = filtered_melbourne_data.Price\n",
    "\n",
    "melbourne_features = ['Rooms', 'Bathroom', 'Landsize', 'BuildingArea', \n",
    "                        'YearBuilt', 'Lattitude', 'Longtitude']\n",
    "\n",
    "X = filtered_melbourne_data[melbourne_features]\n",
    "\n",
    "train_X, train_y, val_X, val_y = train_test_split(X, y, random_state=0)"
   ]
  },
  {
   "cell_type": "code",
   "execution_count": null,
   "metadata": {},
   "outputs": [
    {
     "name": "stdout",
     "output_type": "stream",
     "text": [
      "Max leaf nodes: 5 \t\t Mean Absolute Error: 347380\n",
      "Max leaf nodes: 50 \t\t Mean Absolute Error: 258171\n",
      "Max leaf nodes: 500 \t\t Mean Absolute Error: 246793\n",
      "Max leaf nodes: 5000 \t\t Mean Absolute Error: 261451\n"
     ]
    }
   ],
   "source": [
    "for max_leaf_nodes in [5, 50, 500, 5000]:\n",
    "    my_mae = getmae(max_leaf_nodes, train_X, val_X, train_y, val_y)\n",
    "    print(\"Max leaf nodes: %d \\t\\t Mean Absolute Error: %d\" %(max_leaf_nodes, my_mae))"
   ]
  },
  {
   "cell_type": "markdown",
   "metadata": {},
   "source": [
    "Of the options listed, 500 is the optimal number of leaves."
   ]
  },
  {
   "cell_type": "markdown",
   "metadata": {},
   "source": [
    "İşte özet:\n",
    "\n",
    "Modeller şu sorunlarla karşılaşabilir:\n",
    "\n",
    "Aşırı Uydurma (Overfitting): Geçici desenleri yakalayıp gelecekte tekrar etmeyecek olanları öğrenir, bu da daha az doğru tahminler yapmasına yol açar.\n",
    "Yetersiz Uydurma (Underfitting): İlgili desenleri yakalayamaz, bu da yine daha az doğru tahminler yapmasına yol açar.\n",
    "Model eğitimi sırasında kullanılmayan doğrulama verilerini kullanarak aday modellerin doğruluğunu ölçeriz. Bu, birçok aday modeli denememize ve en iyisini seçmemize olanak tanır."
   ]
  },
  {
   "cell_type": "code",
   "execution_count": 22,
   "metadata": {},
   "outputs": [
    {
     "name": "stdout",
     "output_type": "stream",
     "text": [
      "Validation MAE: 6,482,943\n"
     ]
    }
   ],
   "source": [
    "val_mae = 6482942.527\n",
    "print(\"Validation MAE: {:,.0f}\".format(val_mae))\n",
    "# Burada , sayıları binlik ayrıcı (thousands separator) ile ayırır."
   ]
  }
 ],
 "metadata": {
  "kernelspec": {
   "display_name": "Python 3",
   "language": "python",
   "name": "python3"
  },
  "language_info": {
   "codemirror_mode": {
    "name": "ipython",
    "version": 3
   },
   "file_extension": ".py",
   "mimetype": "text/x-python",
   "name": "python",
   "nbconvert_exporter": "python",
   "pygments_lexer": "ipython3",
   "version": "3.11.5"
  }
 },
 "nbformat": 4,
 "nbformat_minor": 2
}
