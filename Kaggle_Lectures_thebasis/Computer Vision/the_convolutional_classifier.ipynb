{
 "cells": [
  {
   "cell_type": "markdown",
   "metadata": {},
   "source": [
    "Bu kursun içeriği:\n",
    "1. Bilgisayarların **görmeyi öğrenmesini öğretmeyi** öğrenmek\n",
    "2. Modern deep-learning ağlarını kullanarak Keras ile resim sınıflandırıcı inşaa etmeyi\n",
    "4. Yeniden kullanılabilir bloklarla kendi özel konvolüsyon ağınızı (convnet) tasarlayacaksınız\n",
    "5. Görsel özellik çıkarımının temel fikirlerini öğreneceksiniz\n",
    "6. Modellerinizi güçlendirmek için transfer öğreniminin sanatında ustalaşacaksınız\n",
    "7. Veri kümenizi genişletmek için veri artırma (data augmentation) tekniklerini kullanacaksınız\n",
    "\n",
    "Convnet: \"ConvNet\" veya Convolutional Neural Network (CNN), derin öğrenmede özellikle görüntü işleme görevlerinde yaygın olarak kullanılan bir sinir ağı türüdür. CNN'ler, görüntülerdeki uzaysal hiyerarşiyi anlamak için konvolüsyon katmanlarını kullanır. Bu katmanlar, bir görüntüdeki özellikleri (örneğin kenarlar, köşeler) tanımlayarak ve daha sonra daha karmaşık desenlere doğru ilerleyerek özellik çıkarımı(feature extraction) yapar."
   ]
  },
  {
   "cell_type": "markdown",
   "metadata": {},
   "source": [
    "\n",
    "\n",
    "Bu alandaki en başarılı sinir ağları konvolüsyonel sinir ağlarıdır (ConvNet veya CNN). Konvolüsyon, bu ağların katmanlarına özgü yapıyı kazandıran matematiksel işlemdir ve bilgisayarla görme sorunlarını çözmede oldukça etkilidir.\n",
    "\n",
    "Kurs, bu fikirleri görüntü sınıflandırma problemlerine uygulayacak; yani, bir fotoğrafın ne olduğunu bir bilgisayara öğretmeyi hedefleyecek. Örneğin, bir bitki türünü fotoğraftan tanımlayabilen uygulamalar, birer görüntü sınıflandırıcıdır. Kurs sonunda, profesyonel uygulamalarda kullanılan kadar güçlü sınıflandırıcılar yapmayı öğreneceksiniz.\n",
    "\n",
    "Bu kurs esas olarak görüntü sınıflandırmaya odaklanacak olsa da, öğreneceğiniz bilgiler bilgisayarla görme problemlerinin her türü için geçerlidir. Kurs bitiminde, daha ileri seviyedeki üretici adversarial ağlar (GAN) ve görüntü segmentasyonu gibi uygulamalara hazır olacaksınız."
   ]
  },
  {
   "cell_type": "markdown",
   "metadata": {},
   "source": [
    "Konvolüsyon(evrişim), görüntülerdeki özellikleri çıkarmak için kullanılan bir matematiksel işlemdir. Küçük filtreler, görüntü üzerinde kaydırılarak yerel özellikler (kenarlar, desenler) yakalanır. Bu sayede sinir ağları, görüntünün önemli detaylarını öğrenir."
   ]
  },
  {
   "cell_type": "markdown",
   "metadata": {},
   "source": [
    "Resim sınıflandırma için kullanılan convnet iki parçadan oluşur:\n",
    "1. a convolutional base\n",
    "2. a dense head."
   ]
  },
  {
   "cell_type": "markdown",
   "metadata": {},
   "source": [
    "![ad](image1.png)"
   ]
  },
  {
   "cell_type": "markdown",
   "metadata": {},
   "source": [
    "Taban (base): Bir görüntüden özellikleri çıkarmak için kullanılır. Genellikle evrişim işlemi yapan katmanlardan oluşur, ancak başka türde katmanlar da içerebilir.\n",
    "\n",
    "Baş (head): Görüntünün sınıfını belirlemek için kullanılır. Genellikle yoğun (dense) katmanlardan oluşur, ancak dropout gibi başka katmanları da içerebilir.\n",
    "\n",
    "Görsel özellik: Bir çizgi, renk, doku, şekil, desen ya da daha karmaşık bir kombinasyon olabilir."
   ]
  },
  {
   "cell_type": "markdown",
   "metadata": {},
   "source": [
    "The whole process goes something like this:"
   ]
  },
  {
   "cell_type": "markdown",
   "metadata": {},
   "source": [
    "![](image2.png)"
   ]
  },
  {
   "cell_type": "markdown",
   "metadata": {},
   "source": []
  }
 ],
 "metadata": {
  "language_info": {
   "name": "python"
  }
 },
 "nbformat": 4,
 "nbformat_minor": 2
}
