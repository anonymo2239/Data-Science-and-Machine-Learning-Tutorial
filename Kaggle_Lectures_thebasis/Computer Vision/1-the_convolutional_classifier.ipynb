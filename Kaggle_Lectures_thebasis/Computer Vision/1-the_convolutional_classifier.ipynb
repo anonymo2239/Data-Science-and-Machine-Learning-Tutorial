{
 "cells": [
  {
   "cell_type": "markdown",
   "metadata": {},
   "source": [
    "Bu kursun içeriği:\n",
    "1. Bilgisayarların **görmeyi öğrenmesini öğretmeyi** öğrenmek\n",
    "2. Modern deep-learning ağlarını kullanarak Keras ile resim sınıflandırıcı inşaa etmeyi\n",
    "4. Yeniden kullanılabilir bloklarla kendi özel konvolüsyon ağınızı (convnet) tasarlayacaksınız\n",
    "5. Görsel özellik çıkarımının temel fikirlerini öğreneceksiniz\n",
    "6. Modellerinizi güçlendirmek için transfer öğreniminin sanatında ustalaşacaksınız\n",
    "7. Veri kümenizi genişletmek için veri artırma (data augmentation) tekniklerini kullanacaksınız\n",
    "\n",
    "Convnet: \"ConvNet\" veya Convolutional Neural Network (CNN), derin öğrenmede özellikle görüntü işleme görevlerinde yaygın olarak kullanılan bir sinir ağı türüdür. CNN'ler, görüntülerdeki uzaysal hiyerarşiyi anlamak için konvolüsyon katmanlarını kullanır. Bu katmanlar, bir görüntüdeki özellikleri (örneğin kenarlar, köşeler) tanımlayarak ve daha sonra daha karmaşık desenlere doğru ilerleyerek özellik çıkarımı(feature extraction) yapar."
   ]
  },
  {
   "cell_type": "markdown",
   "metadata": {},
   "source": [
    "\n",
    "\n",
    "Bu alandaki en başarılı sinir ağları konvolüsyonel sinir ağlarıdır (ConvNet veya CNN). Konvolüsyon, bu ağların katmanlarına özgü yapıyı kazandıran matematiksel işlemdir ve bilgisayarla görme sorunlarını çözmede oldukça etkilidir.\n",
    "\n",
    "Kurs, bu fikirleri görüntü sınıflandırma problemlerine uygulayacak; yani, bir fotoğrafın ne olduğunu bir bilgisayara öğretmeyi hedefleyecek. Örneğin, bir bitki türünü fotoğraftan tanımlayabilen uygulamalar, birer görüntü sınıflandırıcıdır. Kurs sonunda, profesyonel uygulamalarda kullanılan kadar güçlü sınıflandırıcılar yapmayı öğreneceksiniz.\n",
    "\n",
    "Bu kurs esas olarak görüntü sınıflandırmaya odaklanacak olsa da, öğreneceğiniz bilgiler bilgisayarla görme problemlerinin her türü için geçerlidir. Kurs bitiminde, daha ileri seviyedeki üretici adversarial ağlar (GAN) ve görüntü segmentasyonu gibi uygulamalara hazır olacaksınız."
   ]
  },
  {
   "cell_type": "markdown",
   "metadata": {},
   "source": [
    "Konvolüsyon(evrişim), görüntülerdeki özellikleri çıkarmak için kullanılan bir matematiksel işlemdir. Küçük filtreler, görüntü üzerinde kaydırılarak yerel özellikler (kenarlar, desenler) yakalanır. Bu sayede sinir ağları, görüntünün önemli detaylarını öğrenir."
   ]
  },
  {
   "cell_type": "markdown",
   "metadata": {},
   "source": [
    "Resim sınıflandırma için kullanılan CNN iki parçadan oluşur:\n",
    "1. a convolutional base\n",
    "2. a dense head."
   ]
  },
  {
   "cell_type": "markdown",
   "metadata": {},
   "source": [
    "![ad](image1.png)"
   ]
  },
  {
   "cell_type": "markdown",
   "metadata": {},
   "source": [
    "Taban (base): Bir görüntüden özellikleri çıkarmak için kullanılır. Genellikle evrişim işlemi yapan katmanlardan oluşur, ancak başka türde katmanlar da içerebilir.\n",
    "\n",
    "Baş (head): Görüntünün sınıfını belirlemek için kullanılır. Genellikle yoğun (dense) katmanlardan oluşur, ancak dropout gibi başka katmanları da içerebilir.\n",
    "\n",
    "Görsel özellik: Bir çizgi, renk, doku, şekil, desen ya da daha karmaşık bir kombinasyon olabilir."
   ]
  },
  {
   "cell_type": "markdown",
   "metadata": {},
   "source": [
    "The whole process goes something like this:"
   ]
  },
  {
   "cell_type": "markdown",
   "metadata": {},
   "source": [
    "![](image2.png)"
   ]
  },
  {
   "cell_type": "markdown",
   "metadata": {},
   "source": [
    "**Training the Classifier**\n",
    "\n",
    "Eğitim sırasında ağın amacı iki şeyi öğrenmektir:\n",
    "\n",
    "1. bir görüntüden (base) hangi özelliklerin çıkarılacağı,\n",
    "2. hangi sınıf hangi özelliklerle (head) uyumludur."
   ]
  },
  {
   "cell_type": "markdown",
   "metadata": {},
   "source": [
    "Günümüzde, convnet'ler nadiren sıfırdan eğitiliyor.(These days, convnets are rarely trained from scratch.) Daha çok, önceden eğitilmiş bir modelin base'i yeniden kullanılıyor. Bu önceden eğitilmiş base'e, eğitilmemiş yeni katmanlar ekleniyor. **Yani, 1. Özellik çıkarma işlemini yapmayı öğrenmiş olan ağın bir kısmını kullanıyor, ardından 2. Sınıflandırmayı öğrenmek için yeni katmanlar ekliyoruz.**"
   ]
  },
  {
   "cell_type": "markdown",
   "metadata": {},
   "source": [
    "![](image3.png)"
   ]
  },
  {
   "cell_type": "markdown",
   "metadata": {},
   "source": [
    "Head kısmı genellikle sadece birkaç dense katmandan oluştuğu için, nispeten az veriyle oldukça doğru sınıflandırıcılar oluşturulabilir.\n",
    "\n",
    "Önceden eğitilmiş bir modeli yeniden kullanma tekniğine transfer öğrenimi (transfer learning) denir. Bu yöntem o kadar etkilidir ki, günümüzde neredeyse her görüntü sınıflandırıcısı bunu kullanır."
   ]
  },
  {
   "cell_type": "markdown",
   "metadata": {},
   "source": [
    "**Örnek - Bir Convnet Sınıflandırıcı Eğitme**\n",
    "\n",
    "Throughout this course, we're going to be creating classifiers that attempt to solve the following problem: is this a picture of a Car or of a Truck? Our dataset is about 10,000 pictures of various automobiles, around half cars and half trucks."
   ]
  },
  {
   "cell_type": "code",
   "execution_count": 18,
   "metadata": {},
   "outputs": [
    {
     "name": "stdout",
     "output_type": "stream",
     "text": [
      "Found 5117 files belonging to 2 classes.\n",
      "Found 5117 files belonging to 2 classes.\n"
     ]
    }
   ],
   "source": [
    "# Imports\n",
    "import os, warnings\n",
    "import matplotlib.pyplot as plt\n",
    "from matplotlib import gridspec\n",
    "\n",
    "import numpy as np\n",
    "import tensorflow as tf\n",
    "from tensorflow.keras.preprocessing import image_dataset_from_directory\n",
    "\n",
    "# Reproducability\n",
    "def set_seed(seed=31415):\n",
    "    np.random.seed(seed)\n",
    "    tf.random.set_seed(seed)\n",
    "    os.environ['PYTHONHASHSEED'] = str(seed)\n",
    "    os.environ['TF_DETERMINISTIC_OPS'] = '1'\n",
    "set_seed(31415)\n",
    "\n",
    "# Set Matplotlib defaults\n",
    "plt.rc('figure', autolayout=True)\n",
    "plt.rc('axes', labelweight='bold', labelsize='large',\n",
    "       titleweight='bold', titlesize=18, titlepad=10)\n",
    "plt.rc('image', cmap='magma')\n",
    "warnings.filterwarnings(\"ignore\") # to clean up output cells\n",
    "\n",
    "\n",
    "# Load training and validation sets\n",
    "ds_train_ = image_dataset_from_directory(\n",
    "    'C:/Users/Alperen Arda/OneDrive/Desktop/GitHub/Data-Science-and-Machine-Learning-Tutorial/Datasets/archive/train',\n",
    "    labels='inferred',\n",
    "    label_mode='binary',\n",
    "    image_size=[128, 128],\n",
    "    interpolation='nearest',\n",
    "    batch_size=64,\n",
    "    shuffle=True,\n",
    ")\n",
    "ds_valid_ = image_dataset_from_directory(\n",
    "    'C:/Users/Alperen Arda/OneDrive/Desktop/GitHub/Data-Science-and-Machine-Learning-Tutorial/Datasets/archive/train',\n",
    "    labels='inferred',\n",
    "    label_mode='binary',\n",
    "    image_size=[128, 128],\n",
    "    interpolation='nearest',\n",
    "    batch_size=64,\n",
    "    shuffle=False,\n",
    ")\n",
    "\n",
    "# Data Pipeline\n",
    "def convert_to_float(image, label):\n",
    "    image = tf.image.convert_image_dtype(image, dtype=tf.float32)\n",
    "    return image, label\n",
    "\n",
    "AUTOTUNE = tf.data.experimental.AUTOTUNE\n",
    "ds_train = (\n",
    "    ds_train_\n",
    "    .map(convert_to_float)\n",
    "    .cache()\n",
    "    .prefetch(buffer_size=AUTOTUNE)\n",
    ")\n",
    "ds_valid = (\n",
    "    ds_valid_\n",
    "    .map(convert_to_float)\n",
    "    .cache()\n",
    "    .prefetch(buffer_size=AUTOTUNE)\n",
    ")"
   ]
  },
  {
   "cell_type": "code",
   "execution_count": 19,
   "metadata": {},
   "outputs": [],
   "source": [
    "import matplotlib.pyplot as plt"
   ]
  },
  {
   "cell_type": "markdown",
   "metadata": {},
   "source": [
    "Ön eğitim için en sık kullanılan veri seti, birçok türde doğal görüntüler içeren büyük bir veri seti olan ImageNet’tir. Keras, uygulamalar modülünde ImageNet üzerinde önceden eğitilmiş çeşitli modeller içerir. Kullanacağımız önceden eğitilmiş model ise VGG16 olarak adlandırılır."
   ]
  },
  {
   "cell_type": "code",
   "execution_count": 20,
   "metadata": {},
   "outputs": [],
   "source": [
    "from tensorflow.keras.applications import VGG16\n",
    "\n",
    "# Pretrained model yükleniyor\n",
    "pretrained_base = VGG16(weights='imagenet', include_top=False, input_shape=(224, 224, 3))\n",
    "\n",
    "# Modelin ağırlıkları eğitilmeyecek (dondurulacak)\n",
    "pretrained_base.trainable = False\n",
    "# Transfer learning yaparken, genellikle tüm base'i yeniden eğitmek iyi bir fikir değildir - en azından dikkatli olmadan. \n",
    "# Bunun nedeni, head'deki rastgele weight'lerin başlangıçta büyük gradient güncellemeleri oluşturmasıdır. \n",
    "# Bu güncellemeler base layer'lara geri yayılarak önceki eğitimin çoğunu bozabilir. \n",
    "# Fine tuning olarak bilinen tekniklerle base'i yeni verilerle daha fazla eğitmek mümkündür, ancak bunu iyi yapmak için dikkatli olmak gerekir."
   ]
  },
  {
   "cell_type": "markdown",
   "metadata": {},
   "source": [
    "Sonraki adımda, sınıflandırıcı kısmını (classifier head) ekleyeceğiz. Bu örnekte, önce gizli birimler (ilk Dense katman) içeren bir katman, ardından çıktıları class 1 (Kamyon) için bir olasılık skoruna dönüştürecek bir katman kullanacağız. Flatten katmanı, tabanın iki boyutlu çıktısını, sınıflandırıcı kısmının ihtiyacı olan tek boyutlu girdiye dönüştürür."
   ]
  },
  {
   "cell_type": "code",
   "execution_count": 21,
   "metadata": {},
   "outputs": [],
   "source": [
    "from tensorflow.keras import layers, models\n",
    "\n",
    "# Yeni modelimizi oluşturuyoruz\n",
    "model = models.Sequential([\n",
    "    pretrained_base,                # Önceden eğitilmiş VGG16 tabanı\n",
    "    layers.Flatten(),               # Çıktıları tek boyuta düzleştirir\n",
    "    layers.Dense(128, activation='relu'),  # Gizli katman\n",
    "    layers.Dense(1, activation='sigmoid')  # Son katman: Kamyon olasılığı\n",
    "])\n",
    "\n",
    "# Modeli derleyin\n",
    "\n",
    "# Keras'ta bir model eğitmeden önce, gradient descent'i gerçekleştirecek bir optimizer, \n",
    "# minimize edilecek bir loss function ve (isteğe bağlı olarak) performans metric'leri belirlemeniz gerekir. \n",
    "# Bu kurs için kullanacağımız optimization algoritması \"Adam\"dır ve genellikle problem türünden bağımsız olarak iyi performans gösterir.\n",
    "# Ancak loss ve metric'ler, çözmeye çalıştığınız problem türüne uygun olmalıdır. \n",
    "# Bizim problemimiz bir binary classification problemidir: Araba 0, Kamyon 1 olarak kodlanmıştır. \n",
    "# Binary classification için uygun bir loss ve uygun bir accuracy metric seçin.\n",
    "model.compile(optimizer='adam', loss='binary_crossentropy', metrics=['binary_accuracy']) # veya binary_accuracy"
   ]
  },
  {
   "cell_type": "markdown",
   "metadata": {},
   "source": [
    "Son olarak, modeli eğitelim. İki sınıflı bir problem olduğu için, binary crossentropy ve accuracy metriklerini kullanacağız. Adam optimizasyonu genellikle iyi sonuçlar verdiği için onu tercih edeceğiz."
   ]
  },
  {
   "cell_type": "code",
   "execution_count": 22,
   "metadata": {},
   "outputs": [
    {
     "name": "stdout",
     "output_type": "stream",
     "text": [
      "Epoch 1/2\n",
      "80/80 - 727s - 9s/step - binary_accuracy: 0.7428 - loss: 0.6421 - val_binary_accuracy: 0.8949 - val_loss: 0.3039\n",
      "Epoch 2/2\n",
      "80/80 - 731s - 9s/step - binary_accuracy: 0.8978 - loss: 0.2768 - val_binary_accuracy: 0.9361 - val_loss: 0.2118\n"
     ]
    }
   ],
   "source": [
    "import tensorflow as tf\n",
    "\n",
    "# Görüntüleri 224x224 boyutuna yeniden boyutlandıran bir fonksiyon\n",
    "def resize_images(image, label):\n",
    "    image = tf.image.resize(image, (224, 224))\n",
    "    return image, label\n",
    "\n",
    "# Eğitim ve doğrulama veri setlerini yeniden boyutlandırma\n",
    "ds_train = ds_train.map(resize_images)\n",
    "ds_valid = ds_valid.map(resize_images)\n",
    "\n",
    "# Modeli eğitme\n",
    "history = model.fit(\n",
    "    ds_train,\n",
    "    validation_data=ds_valid,\n",
    "    epochs=2, # burda 50 gibi yüksek sayılar yazmalı\n",
    "    verbose=2,\n",
    ")"
   ]
  },
  {
   "cell_type": "markdown",
   "metadata": {},
   "source": [
    "Bir sinir ağı eğitirken, kayıp ve metrik grafikleri incelemek her zaman iyi bir fikirdir. history nesnesi, bu bilgileri içeren bir sözlük olan history.history'yi barındırır. Bu sözlüğü Pandas kullanarak bir DataFrame'e dönüştürebilir ve yerleşik bir yöntemle grafik olarak çizebiliriz."
   ]
  },
  {
   "cell_type": "code",
   "execution_count": 23,
   "metadata": {},
   "outputs": [
    {
     "data": {
      "image/png": "[encoded data removed]",
      "text/plain": [
       "<Figure size 640x480 with 1 Axes>"
      ]
     },
     "metadata": {},
     "output_type": "display_data"
    },
    {
     "data": {
      "image/png": "[encoded data removed]",
      "text/plain": [
       "<Figure size 640x480 with 1 Axes>"
      ]
     },
     "metadata": {},
     "output_type": "display_data"
    }
   ],
   "source": [
    "import pandas as pd\n",
    "\n",
    "history_frame = pd.DataFrame(history.history)\n",
    "history_frame.loc[:, ['loss', 'val_loss']].plot()\n",
    "history_frame.loc[:, ['binary_accuracy', 'val_binary_accuracy']].plot();"
   ]
  },
  {
   "cell_type": "markdown",
   "metadata": {},
   "source": [
    "Bu derste, bir convnet sınıflandırıcısının yapısını öğrendik: özellik çıkarımı yapan bir tabanın üzerinde sınıflandırıcı olarak görev yapan bir baş kısmı.\n",
    "\n",
    "Baş kısmı, temelde tanıtım kursunda öğrendiğin sıradan bir sınıflandırıcıdır. Özellikler için, tabanın çıkardığı özellikleri kullanır. Konvolüsyonel sınıflandırıcıların temel fikri budur: özellik mühendisliği yapan bir birimi doğrudan sınıflandırıcıya ekleyebilmek.\n",
    "\n",
    "Bu, derin sinir ağlarının geleneksel makine öğrenimi modellerine göre sahip olduğu büyük avantajlardan biridir: doğru ağ yapısı ile derin sinir ağı, sorununu çözmek için ihtiyaç duyduğu özellikleri mühendislik yapmayı öğrenebilir.\n",
    "\n",
    "Sonraki birkaç derste, konvolüsyonel tabanın nasıl özellik çıkarımı gerçekleştirdiğine bakacağız. Ardından, bu fikirleri uygulamayı ve kendi sınıflandırıcılarını tasarlamayı öğreneceksin."
   ]
  },
  {
   "cell_type": "markdown",
   "metadata": {},
   "source": [
    "Bu derste, önceden eğitilmiş bir base'e dense layer'lardan oluşan bir head ekleyerek bir image classifier oluşturmayı gördük. Kullandığımız base, VGG16 adlı bir modeldendi. VGG16 mimarisinin bu dataset için overfitting'e eğilimli olduğunu gördük. Bu kurs boyunca, bu ilk denemeyi iyileştirmenin çeşitli yollarını öğreneceksiniz.\n",
    "\n",
    "Göreceğiniz ilk yol, dataset'e daha uygun bir base kullanmak olacak. Bu modelin geldiği base, InceptionV1 (GoogLeNet olarak da bilinir) olarak adlandırılır. InceptionV1, ImageNet yarışmasının ilk kazananlarından biriydi. Ardıllarından biri olan InceptionV4, bugün state of the art'lar arasındadır."
   ]
  },
  {
   "cell_type": "markdown",
   "metadata": {},
   "source": [
    "# Conclusion"
   ]
  },
  {
   "cell_type": "markdown",
   "metadata": {},
   "source": [
    "Bu ilk derste, convolutional image classifier'ların temellerini öğrendiniz. Bunların, görüntülerden feature'lar çıkaran bir base ve bu feature'ları kullanarak görüntünün sınıfını belirleyen bir head'den oluştuğunu gördünüz. Ayrıca, önceden eğitilmiş bir base üzerinde transfer learning kullanarak nasıl bir classifier oluşturulacağını da gördünüz."
   ]
  },
  {
   "cell_type": "markdown",
   "metadata": {},
   "source": []
  }
 ],
 "metadata": {
  "kernelspec": {
   "display_name": "Python 3",
   "language": "python",
   "name": "python3"
  },
  "language_info": {
   "codemirror_mode": {
    "name": "ipython",
    "version": 3
   },
   "file_extension": ".py",
   "mimetype": "text/x-python",
   "name": "python",
   "nbconvert_exporter": "python",
   "pygments_lexer": "ipython3",
   "version": "3.11.5"
  }
 },
 "nbformat": 4,
 "nbformat_minor": 2
}
