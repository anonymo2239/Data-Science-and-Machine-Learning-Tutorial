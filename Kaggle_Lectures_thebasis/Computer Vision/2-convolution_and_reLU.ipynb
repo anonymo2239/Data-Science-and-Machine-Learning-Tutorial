{
 "cells": [
  {
   "cell_type": "markdown",
   "metadata": {},
   "source": [
    "Over the next few lessons, we're going to learn about the two most important types of layers that you'll usually find in the base of a convolutional image classifier.\n",
    "These are the convolutional layer with ReLU activation, and the maximum pooling layer. In Lesson 5, you'll learn how to design your own convnet by composing these layers into blocks that perform the feature extraction.\n",
    "\n",
    "This lesson is about the convolutional layer with its ReLU activation function.\n",
    "\n",
    "The feature extraction performed by the base consists of three basic operations:\n",
    "\n",
    "1. Bir görüntüyü belirli bir özellik için filtreleyin (konvolüsyon)\n",
    "2. Filtrelenmiş görüntüdeki bu özelliği tespit edin (ReLU)\n",
    "3. Özellikleri geliştirmek için görüntüyü yoğunlaştırın (maksimum havuzlama)\n",
    "\n",
    "Sonraki şekil bu süreci göstermektedir. Bu üç işlemin orijinal görüntünün belirli bir özelliğini (bu durumda yatay çizgiler) nasıl izole edebildiğini görebilirsiniz."
   ]
  },
  {
   "cell_type": "markdown",
   "metadata": {},
   "source": [
    "![](image4.png)"
   ]
  },
  {
   "cell_type": "markdown",
   "metadata": {},
   "source": [
    "Tipik olarak, ağ tek bir görüntü üzerinde birkaç çıkarımı paralel olarak gerçekleştirir. Modern konvolüsyonel ağlarda, temelin son katmanının 1000'den fazla benzersiz görsel özellik üretmesi nadir değildir."
   ]
  },
  {
   "cell_type": "code",
   "execution_count": 1,
   "metadata": {},
   "outputs": [],
   "source": [
    "from tensorflow import keras\n",
    "from tensorflow.keras import layers\n",
    "\n",
    "model = keras.Sequential([\n",
    "    layers.Conv2D(filters=64, kernel_size=3), # activation is None\n",
    "    # More layers follow\n",
    "])"
   ]
  },
  {
   "cell_type": "markdown",
   "metadata": {},
   "source": [
    "Bu parametreleri, katmanın ağırlıkları ve aktivasyonlarıyla olan ilişkilerine bakarak anlayabiliriz. Şimdi bunu yapalım."
   ]
  },
  {
   "cell_type": "markdown",
   "metadata": {},
   "source": [
    "**Weights**\n",
    "\n",
    "Bir konvolüsyonel ağın eğitim sırasında öğrendiği ağırlıklar, esas olarak konvolüsyonel katmanlarında bulunur. Bu ağırlıklara çekirdek (kernel) diyoruz. Bunları küçük diziler olarak temsil edebiliriz:\n",
    "\n",
    "Bir çekirdek, bir görüntü üzerinde tarama yaparak ve piksel değerlerinin ağırlıklı toplamını üreterek çalışır. Bu şekilde, bir çekirdek bir tür polarize lens gibi davranarak belirli bilgi kalıplarını vurgular veya önemsizleştirir."
   ]
  },
  {
   "cell_type": "markdown",
   "metadata": {},
   "source": [
    "![](image5.png)"
   ]
  },
  {
   "cell_type": "markdown",
   "metadata": {},
   "source": [
    "Bir çekirdek bir tür lens gibi davranır."
   ]
  },
  {
   "cell_type": "markdown",
   "metadata": {},
   "source": [
    "Çekirdekler, bir konvolüsyonel katmanın kendisini takip eden katmana nasıl bağlandığını tanımlar. Yukarıdaki çekirdek, çıkıştaki her nöronu girişteki dokuz nörona bağlayacaktır. kernel_size ile çekirdeklerin boyutlarını ayarlayarak, konvolüsyonel ağa bu bağlantıları nasıl oluşturacağını söylemiş olursunuz. Çoğu zaman, bir çekirdeğin tek sayılı boyutları olur -- kernel_size=(3, 3) veya (5, 5) gibi -- böylece merkezde tek bir piksel bulunur, ancak bu bir gereklilik değildir.\n",
    "\n",
    "Bir konvolüsyonel katmandaki çekirdekler, ne tür özellikler oluşturacağını belirler. Eğitim sırasında, bir konvolüsyonel ağ, sınıflandırma problemini çözmek için hangi özelliklere ihtiyacı olduğunu öğrenmeye çalışır. Bu, çekirdekleri için en iyi değerleri bulmak anlamına gelir."
   ]
  },
  {
   "cell_type": "markdown",
   "metadata": {},
   "source": []
  }
 ],
 "metadata": {
  "kernelspec": {
   "display_name": "Python 3",
   "language": "python",
   "name": "python3"
  },
  "language_info": {
   "codemirror_mode": {
    "name": "ipython",
    "version": 3
   },
   "file_extension": ".py",
   "mimetype": "text/x-python",
   "name": "python",
   "nbconvert_exporter": "python",
   "pygments_lexer": "ipython3",
   "version": "3.11.5"
  }
 },
 "nbformat": 4,
 "nbformat_minor": 2
}
