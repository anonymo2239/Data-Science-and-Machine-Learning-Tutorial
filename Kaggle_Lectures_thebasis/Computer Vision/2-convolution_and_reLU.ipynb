{
 "cells": [
  {
   "cell_type": "markdown",
   "metadata": {},
   "source": [
    "Over the next few lessons, we're going to learn about the two most important types of layers that you'll usually find in the base of a convolutional image classifier.\n",
    "These are the convolutional layer with ReLU activation, and the maximum pooling layer. In Lesson 5, you'll learn how to design your own convnet by composing these layers into blocks that perform the feature extraction.\n",
    "\n",
    "This lesson is about the convolutional layer with its ReLU activation function.\n",
    "\n",
    "The feature extraction performed by the base consists of three basic operations:\n",
    "\n",
    "1. Bir görüntüyü belirli bir özellik için filtreleyin (konvolüsyon)\n",
    "2. Filtrelenmiş görüntüdeki bu özelliği tespit edin (ReLU)\n",
    "3. Özellikleri geliştirmek için görüntüyü yoğunlaştırın (maksimum havuzlama)\n",
    "\n",
    "Sonraki şekil bu süreci göstermektedir. Bu üç işlemin orijinal görüntünün belirli bir özelliğini (bu durumda yatay çizgiler) nasıl izole edebildiğini görebilirsiniz."
   ]
  },
  {
   "cell_type": "markdown",
   "metadata": {},
   "source": [
    "![](image4.png)"
   ]
  },
  {
   "cell_type": "markdown",
   "metadata": {},
   "source": [
    "Tipik olarak, ağ tek bir görüntü üzerinde birkaç çıkarımı paralel olarak gerçekleştirir. Modern konvolüsyonel ağlarda, temelin son katmanının 1000'den fazla benzersiz görsel özellik üretmesi nadir değildir."
   ]
  },
  {
   "cell_type": "code",
   "execution_count": 1,
   "metadata": {},
   "outputs": [],
   "source": [
    "from tensorflow import keras\n",
    "from tensorflow.keras import layers\n",
    "\n",
    "model = keras.Sequential([\n",
    "    layers.Conv2D(filters=64, kernel_size=3), # activation is None\n",
    "    # More layers follow\n",
    "])"
   ]
  },
  {
   "cell_type": "markdown",
   "metadata": {},
   "source": [
    "Bu parametreleri, katmanın ağırlıkları ve aktivasyonlarıyla olan ilişkilerine bakarak anlayabiliriz. Şimdi bunu yapalım."
   ]
  },
  {
   "cell_type": "markdown",
   "metadata": {},
   "source": [
    "**Weights**\n",
    "\n",
    "Konvolüsyonel ağlar, görüntülerdeki desenleri tanımak için kullanılır. Bu tanıma işini \"çekirdek\"(kernel) dediğimiz küçük matrislerle yaparlar. Çekirdek, görüntü üzerindeki piksel gruplarını dolaşır ve her pikselin değerini kendi ağırlıklarıyla çarparak bir sonuç üretir. Bu işlem, görüntüdeki belirli özellikleri (kenarlar, köşeler gibi) ortaya çıkarır. Eğitim sırasında ağ, bu çekirdeklerin ağırlıklarını öğrenir ve bu sayede farklı desenleri tanıyabilir hale gelir."
   ]
  },
  {
   "cell_type": "markdown",
   "metadata": {},
   "source": [
    "![](image5.png)"
   ]
  },
  {
   "cell_type": "markdown",
   "metadata": {},
   "source": [
    "Bir çekirdek bir tür lens gibi davranır."
   ]
  },
  {
   "cell_type": "markdown",
   "metadata": {},
   "source": [
    "Konvolüsyonel katmanlar, giriş görüntüsünü işlemek için çekirdekler (kernels) kullanır. Bu çekirdekler, görüntü üzerinde tarama yaparak belirli desenleri yakalar. Çekirdek boyutları genellikle 3x3 veya 5x5 gibi küçük matrislerdir. Çekirdekler, görüntüdeki her pikselin çevresindeki piksel grubuyla etkileşime geçer ve yeni bir çıktı üretir.\n",
    "\n",
    "Eğitim sırasında ağ, bu çekirdeklerin hangi değerlerde olması gerektiğini öğrenir. Bu sayede görüntüdeki önemli özellikleri yakalayabilir ve sınıflandırma yapabilir. \"kernel_size\" ile çekirdek boyutunu ayarlayarak, ağı ne kadar detaylı inceleyeceğini belirlemiş olursunuz."
   ]
  },
  {
   "cell_type": "markdown",
   "metadata": {},
   "source": [
    "**Activation**\n",
    "\n",
    "Ağdaki aktivasyonlara \"feature maps\" diyoruz. Bunlar, bir filtreyi bir görüntüye uyguladığımızda ortaya çıkan sonuçlardır. Bu haritalar, çekirdeğin (kernel) çıkardığı görsel özellikleri içerir. İşte birkaç çekirdek ve bunların ürettiği özellik haritalarının görselleri."
   ]
  },
  {
   "cell_type": "markdown",
   "metadata": {},
   "source": [
    "![](image6.png)"
   ]
  },
  {
   "cell_type": "markdown",
   "metadata": {},
   "source": [
    "Kerneldeki sayıların düzeninden, ne tür özellik haritaları oluşturacağını anlayabilirsin. Genelde, bir convolution'un girdilerinde vurguladığı şey, kerneldeki pozitif sayıların şekliyle eşleşir. Yukarıdaki sol ve orta kerneller ikisi de yatay şekilleri süzecek.\n",
    "\n",
    "Filters parametresiyle, convolutional layer'a output olarak kaç tane feature map oluşturmasını istediğini söylüyorsun."
   ]
  },
  {
   "cell_type": "markdown",
   "metadata": {},
   "source": [
    "**Detect with ReLU**\n",
    "\n",
    "![image.png](image7.png)"
   ]
  },
  {
   "cell_type": "markdown",
   "metadata": {},
   "source": [
    "Bir rectifier'e bağlı nörona \"rectified linear unit\" denir. Bu nedenle, rectifier fonksiyonuna ReLU aktivasyonu veya hatta ReLU fonksiyonu da diyebiliriz.\n",
    "\n",
    "ReLU aktivasyonu kendi Activation katmanında tanımlanabilir, ama çoğunlukla onu sadece Conv2D'nin aktivasyon fonksiyonu olarak ekleriz."
   ]
  },
  {
   "cell_type": "code",
   "execution_count": 1,
   "metadata": {},
   "outputs": [],
   "source": [
    "from tensorflow import keras\n",
    "from tensorflow.keras import layers\n",
    "\n",
    "model = keras.Sequential([\n",
    "    layers.Conv2D(filters=64, kernel_size=3, activation='relu')\n",
    "    # can add more layers\n",
    "])"
   ]
  },
  {
   "cell_type": "markdown",
   "metadata": {},
   "source": [
    "Activation function'ı, pixel değerlerini bir çeşit önem ölçüsüne göre puanlayan bir şey olarak düşünebilirsin. ReLU activation, negatif değerlerin önemli olmadığını söyler ve onları 0'a eşitler. (\"Önemsiz olan her şey eşit derecede önemsizdir.\")\n",
    "\n",
    "İşte yukarıdaki feature map'lere uygulanmış ReLU. Feature'ları nasıl başarıyla izole ettiğine dikkat et."
   ]
  },
  {
   "cell_type": "markdown",
   "metadata": {},
   "source": [
    "![image.png](image8.png)"
   ]
  },
  {
   "cell_type": "markdown",
   "metadata": {},
   "source": [
    "Diğer aktivasyon fonksiyonları gibi, ReLU fonksiyonu da doğrusal değildir. Temel olarak bu, ağdaki tüm katmanların toplam etkisinin, etkileri sadece toplamakla elde edeceğiniz şeyden farklı olduğu anlamına gelir -- ki bu, sadece tek bir katmanla elde edebileceğiniz şeyle aynı olurdu. Doğrusal olmama özelliği, özelliklerin ağın derinliklerine ilerledikçe ilginç şekillerde birleşeceğini garantiler. (Bu \"özellik birleşimi\"ni 5. Derste daha fazla inceleyeceğiz.)"
   ]
  },
  {
   "cell_type": "markdown",
   "metadata": {},
   "source": [
    "# Example\n",
    "\n",
    "Burada çıktıları gösteremiycem çünkü dataset çok büyük. Kaggle daki görüntü işleme kursunun 2. dersine bakabilirsin."
   ]
  },
  {
   "cell_type": "markdown",
   "metadata": {},
   "source": []
  }
 ],
 "metadata": {
  "kernelspec": {
   "display_name": "Python 3",
   "language": "python",
   "name": "python3"
  },
  "language_info": {
   "codemirror_mode": {
    "name": "ipython",
    "version": 3
   },
   "file_extension": ".py",
   "mimetype": "text/x-python",
   "name": "python",
   "nbconvert_exporter": "python",
   "pygments_lexer": "ipython3",
   "version": "3.11.5"
  }
 },
 "nbformat": 4,
 "nbformat_minor": 2
}
