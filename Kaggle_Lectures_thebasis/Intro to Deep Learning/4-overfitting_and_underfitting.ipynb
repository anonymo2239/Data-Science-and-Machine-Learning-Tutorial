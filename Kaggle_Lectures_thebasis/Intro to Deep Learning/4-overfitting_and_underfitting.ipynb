{
 "cells": [
  {
   "cell_type": "markdown",
   "metadata": {},
   "source": [
    "Keras, model eğitimi sırasında training ve validation loss'ları kaydeder. Bu derste, bu learning curve'leri yorumlamayı ve model geliştirmede kullanmayı öğreneceğiz. Underfitting ve overfitting belirtilerini inceleyip, bu sorunları çözmek için stratejiler üzerinde duracağız."
   ]
  },
  {
   "cell_type": "markdown",
   "metadata": {},
   "source": [
    "**Learning Curve'leri Yorumlama**\n",
    "\n",
    "Training datadaki bilgiyi iki türde düşünebilirsiniz: signal ve noise. Signal, genelleşebilen ve modelin yeni verilerden tahmin yapmasına yardımcı olan kısımdır. Noise ise sadece training dataya özgü olan, gerçek dünyadaki rastgele dalgalanmalardan veya aslında yararlı olmayan ancak öyle görünen bilgilerden oluşan kısımdır.\n",
    "\n",
    "Bir modeli, training set üzerindeki loss'u minimize edecek weight'leri veya parametreleri seçerek eğitiriz. Ancak, bir modelin performansını doğru değerlendirmek için yeni bir veri seti olan validation data üzerinde değerlendirme yapmamız gerektiğini biliyorsunuz. (Bu konuyu gözden geçirmek için Introduction to Machine Learning dersindeki model validation bölümüne bakabilirsiniz.)"
   ]
  },
  {
   "cell_type": "markdown",
   "metadata": {},
   "source": [
    "When we train a model we've been plotting the loss on the training set epoch by epoch. To this we'll add a plot the validation data too. These plots we call the learning curves. Derin öğrenme modellerini etkili bir şekilde eğitmek için onları yorumlayabilmemiz gerekir."
   ]
  },
  {
   "cell_type": "markdown",
   "metadata": {},
   "source": [
    "![](image14.png)"
   ]
  },
  {
   "cell_type": "markdown",
   "metadata": {},
   "source": [
    "Training loss; model, signal veya noise öğrendiğinde düşer. Ancak validation loss sadece model, signal öğrendiğinde düşer. (Training set'ten öğrenilen noise yeni veriye genelleşmez.) Yani; model, signal öğrendiğinde her iki eğri de düşer, ancak noise öğrendiğinde eğriler arasında bir boşluk oluşur. Bu boşluğun büyüklüğü, modelin ne kadar noise öğrendiğini gösterir. --The size of the gap tells you how much noise the model has learned."
   ]
  },
  {
   "cell_type": "markdown",
   "metadata": {},
   "source": [
    "İdeal olarak, tüm signal'i öğrenen ve hiç noise öğrenmeyen modeller oluşturmak isteriz. Bu pratikte neredeyse imkansızdır. Bunun yerine bir denge kurarız. Modele daha fazla noise öğrenme pahasına daha fazla signal öğretebiliriz. Bu denge lehimize olduğu sürece, validation loss düşmeye devam eder. Ancak belli bir noktadan sonra, bu denge aleyhimize dönebilir, maliyet faydayı aşar ve validation loss yükselmeye başlar."
   ]
  },
  {
   "cell_type": "markdown",
   "metadata": {},
   "source": [
    "![](image15.png)"
   ]
  },
  {
   "cell_type": "markdown",
   "metadata": {},
   "source": [
    "Bu denge, model eğitiminde iki sorun olabileceğini gösterir: yetersiz signal veya aşırı noise. Underfitting, model yeterince signal öğrenmediği için loss'un olması gerektiği kadar düşük olmadığı durumdur. Overfitting ise model çok fazla noise öğrendiği için loss'un olması gerektiği kadar düşük olmadığı durumdur. **Deep learning modellerini eğitmenin püf noktası, bu ikisi arasında en iyi dengeyi bulmaktır.**\n",
    "\n",
    "Training data'dan daha fazla signal elde ederken noise miktarını azaltmanın birkaç yolunu inceleyeceğiz."
   ]
  },
  {
   "cell_type": "markdown",
   "metadata": {},
   "source": [
    "**Capacity**\n",
    "\n",
    "Bir modelin capacity'si, öğrenebileceği pattern'ların boyutunu ve karmaşıklığını ifade eder. Neural network'ler için bu, büyük ölçüde sahip olduğu neuron sayısına ve bunların nasıl bağlandığına bağlıdır. Eğer network'ünüz underfitting yapıyorsa, capacity'sini artırmayı denemelisiniz.\n",
    "\n",
    "Bir network'ün capacity'sini, onu daha geniş (mevcut layer'lara daha fazla unit ekleyerek) veya daha derin (daha fazla layer ekleyerek) yaparak artırabilirsiniz. Geniş network'ler daha linear ilişkileri, derin network'ler ise daha nonlinear ilişkileri öğrenmekte daha iyidir. Hangisinin daha iyi olduğu dataset'e bağlıdır."
   ]
  },
  {
   "cell_type": "code",
   "execution_count": 7,
   "metadata": {},
   "outputs": [],
   "source": [
    "from tensorflow import keras\n",
    "from tensorflow.keras import layers"
   ]
  },
  {
   "cell_type": "code",
   "execution_count": 8,
   "metadata": {},
   "outputs": [],
   "source": [
    "model = keras.Sequential([\n",
    "    layers.Dense(units=16, activation='relu'),\n",
    "    layers.Dense(units=1),\n",
    "])\n",
    "\n",
    "deeper = keras.Sequential([\n",
    "    layers.Dense(units=16, activation='relu'),\n",
    "    layers.Dense(units=16, activation='relu'),\n",
    "    layers.Dense(units=1),\n",
    "])\n",
    "\n",
    "wider = keras.Sequential([\n",
    "    layers.Dense(units=32, activation='relu'),\n",
    "    layers.Dense(units=1),\n",
    "])"
   ]
  },
  {
   "cell_type": "markdown",
   "metadata": {},
   "source": [
    "**Early Stopping**\n",
    "\n",
    "Bir model noise'u çok hevesle öğrendiğinde, validation loss eğitim sırasında artmaya başlayabilir. Bunu önlemek için, validation loss'un artık düşmediği görüldüğünde eğitimi durdurabiliriz. Eğitimi bu şekilde kesintiye uğratmaya early stopping denir."
   ]
  },
  {
   "cell_type": "markdown",
   "metadata": {},
   "source": [
    "![](image16.png)"
   ]
  },
  {
   "cell_type": "markdown",
   "metadata": {},
   "source": [
    "Validation loss'un tekrar yükselmeye başladığını tespit ettiğimizde, weight'leri minimum noktasına geri döndürebiliriz. Bu, modelin noise öğrenmeye devam etmesini ve data'yı overfit etmesini engeller.\n",
    "\n",
    "Early stopping ile eğitim, network signal öğrenmeyi bitirmeden eğitimi çok erken durdurma tehlikesini de azaltır. Yani early stopping, çok uzun süre eğitimden kaynaklanan overfitting'i önlemenin yanı sıra, yetersiz eğitimden kaynaklanan underfitting'i de önleyebilir. Eğitim epoch'larını büyük bir sayıya ayarlayın (ihtiyacınızdan fazla) ve early stopping gerisini halledecektir."
   ]
  },
  {
   "cell_type": "markdown",
   "metadata": {},
   "source": [
    "Keras'ta, erken durdurma için bir callback kullanılır. Bu callback, her epoch sonunda çalışarak modelin durmasını gerektiren bir koşul olup olmadığını kontrol eder."
   ]
  },
  {
   "cell_type": "code",
   "execution_count": 9,
   "metadata": {},
   "outputs": [],
   "source": [
    "from tensorflow.keras.callbacks import EarlyStopping\n",
    "\n",
    "early_stopping = EarlyStopping(\n",
    "    min_delta=0.001,\n",
    "    patience=20,\n",
    "    restore_best_weights=True,\n",
    ")"
   ]
  },
  {
   "cell_type": "markdown",
   "metadata": {},
   "source": [
    "Bu parametreler, \"Eğer önceki 20 epoch boyunca doğrulama kaybında en az 0.001'lik bir iyileşme olmadıysa, eğitimi durdur ve bulduğun en iyi modeli sakla\" anlamına gelir. Doğrulama kaybının aşırı öğrenmeden mi yoksa rastgele batch dalgalanmalarından mı arttığını anlamak bazen zor olabilir. Bu parametreler, eğitimi ne zaman durduracağımız konusunda bize esneklik sağlar.\n",
    "\n",
    "Örneğimizde, bu callback'i loss ve optimizer ile birlikte fit metoduna ileteceğiz."
   ]
  },
  {
   "cell_type": "markdown",
   "metadata": {},
   "source": [
    "**ÖRNEK**"
   ]
  },
  {
   "cell_type": "markdown",
   "metadata": {},
   "source": [
    "Let's continue developing the model from the example in the last tutorial. We'll increase the capacity of that network but also add an early-stopping callback to prevent overfitting.\n",
    "\n",
    "Here's the data prep again."
   ]
  },
  {
   "cell_type": "code",
   "execution_count": 10,
   "metadata": {},
   "outputs": [
    {
     "data": {
      "text/html": [
       "<div>\n",
       "<style scoped>\n",
       "    .dataframe tbody tr th:only-of-type {\n",
       "        vertical-align: middle;\n",
       "    }\n",
       "\n",
       "    .dataframe tbody tr th {\n",
       "        vertical-align: top;\n",
       "    }\n",
       "\n",
       "    .dataframe thead th {\n",
       "        text-align: right;\n",
       "    }\n",
       "</style>\n",
       "<table border=\"1\" class=\"dataframe\">\n",
       "  <thead>\n",
       "    <tr style=\"text-align: right;\">\n",
       "      <th></th>\n",
       "      <th>fixed acidity</th>\n",
       "      <th>volatile acidity</th>\n",
       "      <th>citric acid</th>\n",
       "      <th>residual sugar</th>\n",
       "      <th>chlorides</th>\n",
       "      <th>free sulfur dioxide</th>\n",
       "      <th>total sulfur dioxide</th>\n",
       "      <th>density</th>\n",
       "      <th>pH</th>\n",
       "      <th>sulphates</th>\n",
       "      <th>alcohol</th>\n",
       "      <th>quality</th>\n",
       "    </tr>\n",
       "  </thead>\n",
       "  <tbody>\n",
       "    <tr>\n",
       "      <th>1109</th>\n",
       "      <td>10.8</td>\n",
       "      <td>0.470</td>\n",
       "      <td>0.43</td>\n",
       "      <td>2.10</td>\n",
       "      <td>0.171</td>\n",
       "      <td>27.0</td>\n",
       "      <td>66.0</td>\n",
       "      <td>0.99820</td>\n",
       "      <td>3.17</td>\n",
       "      <td>0.76</td>\n",
       "      <td>10.8</td>\n",
       "      <td>6</td>\n",
       "    </tr>\n",
       "    <tr>\n",
       "      <th>1032</th>\n",
       "      <td>8.1</td>\n",
       "      <td>0.820</td>\n",
       "      <td>0.00</td>\n",
       "      <td>4.10</td>\n",
       "      <td>0.095</td>\n",
       "      <td>5.0</td>\n",
       "      <td>14.0</td>\n",
       "      <td>0.99854</td>\n",
       "      <td>3.36</td>\n",
       "      <td>0.53</td>\n",
       "      <td>9.6</td>\n",
       "      <td>5</td>\n",
       "    </tr>\n",
       "    <tr>\n",
       "      <th>1002</th>\n",
       "      <td>9.1</td>\n",
       "      <td>0.290</td>\n",
       "      <td>0.33</td>\n",
       "      <td>2.05</td>\n",
       "      <td>0.063</td>\n",
       "      <td>13.0</td>\n",
       "      <td>27.0</td>\n",
       "      <td>0.99516</td>\n",
       "      <td>3.26</td>\n",
       "      <td>0.84</td>\n",
       "      <td>11.7</td>\n",
       "      <td>7</td>\n",
       "    </tr>\n",
       "    <tr>\n",
       "      <th>487</th>\n",
       "      <td>10.2</td>\n",
       "      <td>0.645</td>\n",
       "      <td>0.36</td>\n",
       "      <td>1.80</td>\n",
       "      <td>0.053</td>\n",
       "      <td>5.0</td>\n",
       "      <td>14.0</td>\n",
       "      <td>0.99820</td>\n",
       "      <td>3.17</td>\n",
       "      <td>0.42</td>\n",
       "      <td>10.0</td>\n",
       "      <td>6</td>\n",
       "    </tr>\n",
       "  </tbody>\n",
       "</table>\n",
       "</div>"
      ],
      "text/plain": [
       "      fixed acidity  volatile acidity  citric acid  residual sugar  chlorides  \\\n",
       "1109           10.8             0.470         0.43            2.10      0.171   \n",
       "1032            8.1             0.820         0.00            4.10      0.095   \n",
       "1002            9.1             0.290         0.33            2.05      0.063   \n",
       "487            10.2             0.645         0.36            1.80      0.053   \n",
       "\n",
       "      free sulfur dioxide  total sulfur dioxide  density    pH  sulphates  \\\n",
       "1109                 27.0                  66.0  0.99820  3.17       0.76   \n",
       "1032                  5.0                  14.0  0.99854  3.36       0.53   \n",
       "1002                 13.0                  27.0  0.99516  3.26       0.84   \n",
       "487                   5.0                  14.0  0.99820  3.17       0.42   \n",
       "\n",
       "      alcohol  quality  \n",
       "1109     10.8        6  \n",
       "1032      9.6        5  \n",
       "1002     11.7        7  \n",
       "487      10.0        6  "
      ]
     },
     "metadata": {},
     "output_type": "display_data"
    }
   ],
   "source": [
    "import pandas as pd\n",
    "from IPython.display import display\n",
    "\n",
    "red_wine = pd.read_csv('C:/Users/Alperen Arda/OneDrive/Desktop/GitHub/Data-Science-and-Machine-Learning-Tutorial/Datasets/red-wine.csv')\n",
    "\n",
    "# Create training and validation splits\n",
    "df_train = red_wine.sample(frac=0.7, random_state=0)\n",
    "df_valid = red_wine.drop(df_train.index)\n",
    "display(df_train.head(4))\n",
    "\n",
    "# Scale to [0, 1]\n",
    "max_ = df_train.max(axis=0)\n",
    "min_ = df_train.min(axis=0)\n",
    "df_train = (df_train - min_) / (max_ - min_)\n",
    "df_valid = (df_valid - min_) / (max_ - min_)\n",
    "\n",
    "# Split features and target\n",
    "X_train = df_train.drop('quality', axis=1)\n",
    "X_valid = df_valid.drop('quality', axis=1)\n",
    "y_train = df_train['quality']\n",
    "y_valid = df_valid['quality']"
   ]
  },
  {
   "cell_type": "markdown",
   "metadata": {},
   "source": [
    "Şimdi ağın kapasitesini artıracağız. Oldukça büyük bir ağ oluşturacağız, ancak doğrulama kaybı artış belirtileri gösterdiğinde eğitimi durdurmak için callback'e güveneceğiz."
   ]
  },
  {
   "cell_type": "code",
   "execution_count": 11,
   "metadata": {},
   "outputs": [
    {
     "name": "stderr",
     "output_type": "stream",
     "text": [
      "c:\\Users\\Alperen Arda\\AppData\\Local\\Programs\\Python\\Python311\\Lib\\site-packages\\keras\\src\\layers\\core\\dense.py:87: UserWarning: Do not pass an `input_shape`/`input_dim` argument to a layer. When using Sequential models, prefer using an `Input(shape)` object as the first layer in the model instead.\n",
      "  super().__init__(activity_regularizer=activity_regularizer, **kwargs)\n"
     ]
    }
   ],
   "source": [
    "early_stopping = EarlyStopping(\n",
    "    min_delta=0.001, # minimium amount of change to count as an improvement\n",
    "    patience=20, # how many epochs to wait before stopping\n",
    "    restore_best_weights=True,\n",
    ")\n",
    "\n",
    "model = keras.Sequential([\n",
    "    layers.Dense(512, activation='relu', input_shape=[11]),\n",
    "    layers.Dense(512, activation='relu'),\n",
    "    layers.Dense(512, activation='relu'),\n",
    "    layers.Dense(1),\n",
    "])\n",
    "\n",
    "model.compile(\n",
    "    optimizer='adam',\n",
    "    loss='mae',\n",
    ")"
   ]
  },
  {
   "cell_type": "markdown",
   "metadata": {},
   "source": [
    "Callback'ı tanımladıktan sonra, onu fit fonksiyonuna argüman olarak ekleyin (birden fazla callback ekleyebilirsiniz, bu yüzden bir liste içinde yerleştirin). Early stopping kullanırken, ihtiyacınızdan daha fazla epoch seçin."
   ]
  },
  {
   "cell_type": "code",
   "execution_count": 12,
   "metadata": {},
   "outputs": [
    {
     "name": "stdout",
     "output_type": "stream",
     "text": [
      "Minimum validation loss: 0.09427440911531448\n"
     ]
    },
    {
     "data": {
      "image/png": "[encoded data removed]",
      "text/plain": [
       "<Figure size 640x480 with 1 Axes>"
      ]
     },
     "metadata": {},
     "output_type": "display_data"
    }
   ],
   "source": [
    "history = model.fit(\n",
    "    X_train, y_train,\n",
    "    validation_data=(X_valid, y_valid),\n",
    "    batch_size=256,\n",
    "    epochs=500,\n",
    "    callbacks=[early_stopping],\n",
    "    verbose=0,\n",
    ")\n",
    "\n",
    "history_df = pd.DataFrame(history.history)\n",
    "history_df.loc[:, ['loss', 'val_loss']].plot();\n",
    "print(\"Minimum validation loss: {}\".format(history_df['val_loss'].min()))"
   ]
  },
  {
   "cell_type": "markdown",
   "metadata": {},
   "source": [
    "Ve tabii ki Keras, eğitimi tam 500 epochsun çok öncesinde durdurdu!"
   ]
  },
  {
   "cell_type": "markdown",
   "metadata": {},
   "source": []
  }
 ],
 "metadata": {
  "kernelspec": {
   "display_name": "Python 3",
   "language": "python",
   "name": "python3"
  },
  "language_info": {
   "codemirror_mode": {
    "name": "ipython",
    "version": 3
   },
   "file_extension": ".py",
   "mimetype": "text/x-python",
   "name": "python",
   "nbconvert_exporter": "python",
   "pygments_lexer": "ipython3",
   "version": "3.11.5"
  }
 },
 "nbformat": 4,
 "nbformat_minor": 2
}
