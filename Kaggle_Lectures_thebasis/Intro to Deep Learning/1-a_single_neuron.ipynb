{
 "cells": [
  {
   "cell_type": "markdown",
   "metadata": {},
   "source": [
    "Kaggle'ın Derin Öğrenmeye Giriş kursuna hoş geldiniz! Kendi derin sinir ağlarınızı oluşturmaya başlamak için ihtiyacınız olan her şeyi öğrenmek üzeresiniz. Keras ve TensorFlow kullanarak şunları öğreneceksiniz:\n",
    "\n",
    "Tam bağlantılı (fully-connected) bir sinir ağı mimarisi oluşturmak.\n",
    "\n",
    "Sinir ağlarını iki klasik makine öğrenimi problemine uygulamak: regresyon ve sınıflandırma.\n",
    "\n",
    "Sinir ağlarını stokastik gradyan inişi (stochastic gradient descent) ile eğitmek.\n",
    "\n",
    "Performansı dropout, batch normalization ve diğer tekniklerle iyileştirmek."
   ]
  },
  {
   "cell_type": "markdown",
   "metadata": {},
   "source": [
    "Son yıllardaki yapay zeka ile ilgili gelişmeler deep learning'de gerçekleşti. Doğal dil işleme, görüntü işleme, oyun oynama yapay zekanın insanoğlu zekasına yaklaştığı hatta geçtiği alanlardır."
   ]
  },
  {
   "cell_type": "markdown",
   "metadata": {},
   "source": [
    "Peki, derin öğrenme nedir? \n",
    "\n",
    "Derin öğrenme, derin hesaplama yığınlarıyla (deep stacks of computations) karakterize edilen bir makine öğrenimi yaklaşımıdır."
   ]
  },
  {
   "cell_type": "markdown",
   "metadata": {},
   "source": [
    "\n",
    "Bu derin hesaplama, derin öğrenme modellerinin, en zorlu gerçek dünya veri setlerinde bulunan karmaşık ve hiyerarşik desenleri çözmesini sağlayan şeydir."
   ]
  },
  {
   "cell_type": "markdown",
   "metadata": {},
   "source": [
    "So what is deep learning? Deep learning is an approach to machine learning characterized by deep stacks of computations. This depth of computation is what has enabled deep learning models to disentangle the kinds of complex and hierarchical patterns found in the most challenging real-world datasets."
   ]
  },
  {
   "cell_type": "markdown",
   "metadata": {},
   "source": [
    "Through their power and scalability neural networks have become the defining model of deep learning. Neural networks are composed of neurons, where each neuron individually performs only a simple computation. The power of a neural network comes instead from the complexity of the connections these neurons can form."
   ]
  },
  {
   "cell_type": "markdown",
   "metadata": {},
   "source": [
    "THE LINEAR UNIT(DOĞRUSAL BİRİM)\n",
    "\n",
    "Sinir ağlarının temel bileşenleriyle başlayalım: Bireysel Nöron. Bireysel nöron aşağıdaki gibidir;"
   ]
  },
  {
   "cell_type": "markdown",
   "metadata": {},
   "source": [
    "![Alt Metin](image1.png)"
   ]
  },
  {
   "cell_type": "markdown",
   "metadata": {},
   "source": [
    "Burada 'x'e girdi(input) denir. Nörona olan bağlantısı 'w' adı verilen bir ağırlığa sahiptir.\n",
    "\n",
    "'x' değeri için nörona ulaşan şey 'w * x'tir. _Bir sinir ağı, w'nin değerine göre yani ağırlığa göre öğrenir._"
   ]
  },
  {
   "cell_type": "markdown",
   "metadata": {},
   "source": [
    "'b' ise özel bir ağırlık türü olan 'bias' olarak nitelendirilir. in dl and ml, the meaning of bias is bias. but in turkish, bias = önyargı, sapma\n",
    "\n",
    "Bias'ın kendisiyle ilişkili herhangi bir girdi verisi yoktur; bunun yerine, diyagramda bir 1 koyarız, böylece nörona ulaşan değer sadece b olur (çünkü 1 * b = b). Bias, nöronun çıkışını girdilerden bağımsız olarak değiştirmesini sağlar."
   ]
  },
  {
   "cell_type": "markdown",
   "metadata": {},
   "source": [
    "'y' nihai çıktıdır. Çıktıyı elde etmek için nöron, bağlantıları üzerinden aldığı tüm değerleri toplar(To get the output, the neuron sums up all the values it receives through its connections.). \n",
    "\n",
    "Bu formül tanıdık geliyor mu? y = wx + b\n",
    "\n",
    "Bu bir doğrunun denklemi! Bu, eğim-kesim noktasını gösteren bir denklemdir; burada w eğimi ve b y-kesim noktasını temsil eder.\n",
    "(It's an equation of a line! It's the slope-intercept equation, where  w is the slope and b is the y-intercept.)"
   ]
  },
  {
   "cell_type": "markdown",
   "metadata": {},
   "source": [
    "\n",
    "\n",
    "Example - The Linear Unit as a Model"
   ]
  },
  {
   "cell_type": "markdown",
   "metadata": {},
   "source": [
    "Bireysel nöronlar genellikle yalnızca daha büyük bir ağın parçası olarak işlev görse de, temel olarak tek bir nöron modeliyle başlamak genellikle faydalıdır. Tek nöron modelleri doğrusal modellerdir."
   ]
  },
  {
   "cell_type": "markdown",
   "metadata": {},
   "source": [
    "![image.png](image2.png)"
   ]
  },
  {
   "cell_type": "markdown",
   "metadata": {},
   "source": [
    "![image.png](image3.png)"
   ]
  },
  {
   "cell_type": "markdown",
   "metadata": {},
   "source": [
    "Sadece şeker değil, başka tahılları da eklemek istersek birden fazla input gireceğiz. hepsini kendi ağırlıyla çarpıp toplayacağız."
   ]
  },
  {
   "cell_type": "markdown",
   "metadata": {},
   "source": [
    "![image.png](image4.png)"
   ]
  },
  {
   "cell_type": "markdown",
   "metadata": {},
   "source": [
    "Bu formül, iki veya daha fazla girdi değişkeni ile bir çıktı değişkeni arasındaki ilişkiyi modellemeyi amaçlar.\n",
    "\n",
    "Bir lineer birim (unit), iki girdi ile çalışıyorsa, bu birim bir düzlem (plane) oluşturur.\n",
    "\n",
    "Örneğin, iki bağımsız değişken (örneğin, şeker ve protein miktarı) kullanarak kaloriyi tahmin edersen, bu tahminler iki boyutlu bir düzlem üzerinde yer alır.\n",
    "\n",
    "Daha fazla girdi olduğunda ise, model bir hiperdüzlem (hyperplane) oluşturur.\n",
    "\n",
    "Hiperdüzlem, üçten fazla boyutlu uzaylarda düzlemin genelleştirilmiş halidir. Örneğin, üç veya daha fazla besin değeri ile kaloriyi tahmin etmek, üçten fazla boyutlu bir uzayda bir yüzey oluşturur.\n",
    "\n",
    "Özet:\n",
    "Bu ifade, lineer regresyonun nasıl çalıştığını ve daha fazla girdi olduğunda modelin geometrik olarak nasıl genişlediğini anlatıyor. İki girdi olduğunda model bir düzlem oluşturur, daha fazla girdi olduğunda ise bir hiperdüzlem (yani daha yüksek boyutlu bir yüzey) oluşturur."
   ]
  },
  {
   "cell_type": "markdown",
   "metadata": {},
   "source": [
    "_Linear Units in Keras_"
   ]
  },
  {
   "cell_type": "markdown",
   "metadata": {},
   "source": [
    "Keras'ta model oluşturmanın en kolay yolu, katman yığını olarak bir sinir ağı oluşturan keras.Sequential'tır. Yoğun bir katman kullanarak yukarıdakine benzer modeller oluşturabiliriz (bunun hakkında daha fazlasını bir sonraki derste öğreneceğiz).\n",
    "\n",
    "Üç girdi özelliğini ('şekerler', 'lif',\n",
    "ve 'protein') ve şöyle tek bir çıktı ('kalori') üretiyor:"
   ]
  },
  {
   "cell_type": "code",
   "execution_count": 10,
   "metadata": {},
   "outputs": [],
   "source": [
    "from tensorflow import keras\n",
    "from tensorflow.keras import layers"
   ]
  },
  {
   "cell_type": "code",
   "execution_count": 13,
   "metadata": {},
   "outputs": [
    {
     "name": "stderr",
     "output_type": "stream",
     "text": [
      "c:\\Users\\Alperen Arda\\AppData\\Local\\Programs\\Python\\Python311\\Lib\\site-packages\\keras\\src\\layers\\core\\dense.py:87: UserWarning: Do not pass an `input_shape`/`input_dim` argument to a layer. When using Sequential models, prefer using an `Input(shape)` object as the first layer in the model instead.\n",
      "  super().__init__(activity_regularizer=activity_regularizer, **kwargs)\n"
     ]
    }
   ],
   "source": [
    "# Create a network with 1 linear unit\n",
    "model = keras.Sequential([\n",
    "    layers.Dense(units=1, input_shape=[3])\n",
    "])"
   ]
  },
  {
   "cell_type": "markdown",
   "metadata": {},
   "source": [
    "İlk argümanlanla(units), kaç tane çıktı istediğimizi yazarız. Burada 1 çıktı (kalories) istediğimiz için 1 yazdık."
   ]
  },
  {
   "cell_type": "markdown",
   "metadata": {},
   "source": [
    "İkinci argümanda girdilerimizin kaç boyutlu olduğunu keras'a belirtiyoruz. Böylelikle üç özelliği ('sugars', 'fiber', and 'protein') modelimiz kabul edecektir. \n",
    "\n",
    "Artık bu model training_data ile eğitilmeye hazırdır."
   ]
  },
  {
   "cell_type": "markdown",
   "metadata": {},
   "source": [
    "Neden input_shape bir Python listesi?\n",
    "\n",
    "Bu kursta kullanacağımız veriler, Pandas dataframe gibi tabular (tablo şeklinde) veriler olacak. Veri setindeki her bir özellik (feature) için bir girişimiz olacak. Özellikler sütunlar halinde düzenlendiğinden, input_shape her zaman [sütun_sayısı] şeklinde olacak. Keras'ın burada bir liste kullanmasının nedeni, daha karmaşık veri setlerinin kullanımına izin vermektir. Örneğin, görüntü verileri üç boyuta ihtiyaç duyabilir: [yükseklik, genişlik, kanallar]."
   ]
  }
 ],
 "metadata": {
  "kernelspec": {
   "display_name": "Python 3",
   "language": "python",
   "name": "python3"
  },
  "language_info": {
   "codemirror_mode": {
    "name": "ipython",
    "version": 3
   },
   "file_extension": ".py",
   "mimetype": "text/x-python",
   "name": "python",
   "nbconvert_exporter": "python",
   "pygments_lexer": "ipython3",
   "version": "3.11.5"
  }
 },
 "nbformat": 4,
 "nbformat_minor": 2
}
