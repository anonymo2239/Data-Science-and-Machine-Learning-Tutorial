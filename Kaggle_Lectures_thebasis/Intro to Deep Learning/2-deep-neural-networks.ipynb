{
 "cells": [
  {
   "cell_type": "markdown",
   "metadata": {},
   "source": [
    "Bu derste, derin sinir ağlarının ünlü olduğu karmaşık ilişkileri öğrenebilen sinir ağları nasıl oluşturabileceğimizi göreceğiz.\n",
    "\n",
    "Buradaki temel fikir, modülerliktir; bu, basit fonksiyonel birimlerden karmaşık bir ağ inşa etmeyi içerir. Doğrusal bir birimin doğrusal bir fonksiyonu nasıl hesapladığını gördük -- şimdi bu tekil birimleri nasıl birleştirip değiştirebileceğimizi ve daha karmaşık ilişkileri nasıl modelleyebileceğimizi göreceğiz."
   ]
  },
  {
   "cell_type": "markdown",
   "metadata": {},
   "source": []
  }
 ],
 "metadata": {
  "language_info": {
   "name": "python"
  }
 },
 "nbformat": 4,
 "nbformat_minor": 2
}
