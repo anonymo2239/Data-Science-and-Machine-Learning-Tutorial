{
 "cells": [
  {
   "cell_type": "markdown",
   "metadata": {},
   "source": [
    "# Dropout and Batch Normalization"
   ]
  },
  {
   "cell_type": "markdown",
   "metadata": {},
   "source": [
    "Deep learning dünyası sadece dense layer'lardan ibaret değil. Bir modele ekleyebileceğiniz düzinelerce layer türü var. (Örnek için Keras dokümanlarına göz atabilirsiniz!) Bazıları dense layer'lar gibi neuron'lar arasındaki bağlantıları tanımlarken, diğerleri preprocessing veya başka türde dönüşümler yapabilir.\n",
    "\n",
    "Bu derste, kendi içlerinde neuron içermeyen, ancak bir modele çeşitli şekillerde fayda sağlayabilen iki özel layer türünü öğreneceğiz. Her ikisi de modern mimarilerde yaygın olarak kullanılmaktadır."
   ]
  },
  {
   "cell_type": "markdown",
   "metadata": {},
   "source": [
    "Bunlardan ilki, overfitting'i düzeltmeye yardımcı olabilen \"dropout layer\"dır.\n",
    "\n",
    "Geçen derste overfitting'in, network'ün training data'daki sahte pattern'ları öğrenmesinden kaynaklandığından bahsetmiştik. Bu sahte pattern'ları tanımak için network genellikle çok spesifik weight kombinasyonlarına, bir tür weight \"conspiracy\"sine güvenir. Bu kadar spesifik oldukları için kırılgandırlar: birini kaldırırsanız conspiracy çöker.\n",
    "\n",
    "Dropout'un arkasındaki fikir budur. Bu conspiracy'leri (komplo) bozmak için, eğitimin her adımında bir layer'ın input unit'lerinin bir kısmını rastgele düşürürüz. Bu, network'ün training data'daki sahte pattern'ları öğrenmesini zorlaştırır. Bunun yerine, weight pattern'ları daha sağlam olan geniş, genel pattern'lar aramak zorunda kalır."
   ]
  },
  {
   "cell_type": "markdown",
   "metadata": {},
   "source": [
    "![](image17.png)"
   ]
  },
  {
   "cell_type": "markdown",
   "metadata": {},
   "source": [
    "Dropout'u bir tür network ensemble'ı oluşturma olarak da düşünebilirsiniz. Tahminler artık tek bir büyük network tarafından değil, daha küçük network'lerden oluşan bir komite tarafından yapılır. Komitedeki bireyler genellikle farklı türde hatalar yapar, ancak aynı zamanda doğru olurlar. Bu da komiteyi bir bütün olarak herhangi bir bireyden daha iyi yapar. (Eğer random forest'ların decision tree'lerin bir ensemble'ı olduğu fikrine aşinaysanız, aynı fikirdir.)\n",
    "\n",
    "Eng.\n",
    "\n",
    "You could also think about dropout as creating a kind of ensemble of networks. The predictions will no longer be made by one big network, but instead by a committee of smaller networks. Individuals in the committee tend to make different kinds of mistakes, but be right at the same time, making the committee as a whole better than any individual. (If you're familiar with random forests as an ensemble of decision trees, it's the same idea.)"
   ]
  },
  {
   "cell_type": "markdown",
   "metadata": {},
   "source": [
    "Keras'ta, dropout rate argümanı rate, kapatılacak input unit'lerinin yüzdesini tanımlar. Dropout layer'ı, dropout'un uygulanmasını istediğiniz layer'dan hemen önce yerleştirin:"
   ]
  },
  {
   "cell_type": "code",
   "execution_count": 1,
   "metadata": {},
   "outputs": [
    {
     "data": {
      "text/plain": [
       "'keras.Sequential([\\n    # ...\\n    layers.Dropout(rate=0.3),\\n    layers.Dense(16),\\n    # ...\\n])'"
      ]
     },
     "execution_count": 1,
     "metadata": {},
     "output_type": "execute_result"
    }
   ],
   "source": [
    "'''keras.Sequential([\n",
    "    # ...\n",
    "    layers.Dropout(rate=0.3),\n",
    "    layers.Dense(16),\n",
    "    # ...\n",
    "])'''"
   ]
  },
  {
   "cell_type": "markdown",
   "metadata": {},
   "source": [
    "Bu örnekte, Dense layer'a giden input'ların %30'u rastgele kapatılacaktır. Dropout genellikle %20 ile %50 arasında ayarlanır, ancak en iyi değer probleme ve modele bağlı olarak değişebilir."
   ]
  },
  {
   "cell_type": "markdown",
   "metadata": {},
   "source": [
    "Verilerin normalize edilmesi neden önemli? Neural network'lerde, verileri ortak bir ölçeğe getirmek, modelin daha iyi ve dengeli bir şekilde öğrenmesini sağlar. Örneğin, StandardScaler veya MinMaxScaler gibi araçlar, verileri network'e girmeden önce normalleştirir, yani her bir özelliği (feature) belli bir ölçeğe getirir. Bu, özellikle Stokastik Gradyan İnişi (SGD) algoritmasının ağırlıkları daha tutarlı bir şekilde güncellemesi için önemlidir. Eğer veriler çok farklı büyüklüklerde olursa, model dengesiz bir şekilde öğrenebilir.\n",
    "\n",
    "Batch normalization nedir? Verileri network'e girmeden önce normalize etmek iyi bir uygulamadır. Ancak, batch normalization (batchnorm) bunu modelin içinde yapar. Yani model, her bir batch (küçük veri grubu) için verileri kendi ortalaması ve standart sapmasına göre normalize eder. Sonrasında, bu verileri iki tane öğrenilebilir parametre kullanarak yeni bir ölçeğe koyar. Bu da modelin içindeki her aşamada verilerin dengeli kalmasını sağlar.\n",
    "\n",
    "Batch normalization'ın faydaları:\n",
    "\n",
    "Eğitim sürecini hızlandırabilir. Batch normalization içeren modeller genellikle daha az epoch (döngü) ile eğitimi tamamlar.\n",
    "Eğitim sırasında oluşabilecek sorunları çözebilir. Özellikle modelin takıldığı veya öğrenmekte zorlandığı durumlarda batch normalization kullanmak faydalı olabilir.\n",
    "Özetle, batch normalization hem eğitim sürecini optimize eder hem de modelin daha dengeli ve tutarlı bir şekilde öğrenmesine yardımcı olur. Eğer modelini eğitirken yavaşlama veya sorunlarla karşılaşıyorsan, batch normalization eklemeyi düşünebilirsin."
   ]
  },
  {
   "cell_type": "markdown",
   "metadata": {},
   "source": [
    "**Adding Batch Normalization**\n",
    "\n",
    "Bir katmandan hemen sonra eklenebilir:"
   ]
  },
  {
   "cell_type": "code",
   "execution_count": 2,
   "metadata": {},
   "outputs": [],
   "source": [
    "# layers.Dense(16, activation='relu'),\n",
    "# layers.BatchNormalization(),"
   ]
  },
  {
   "cell_type": "markdown",
   "metadata": {},
   "source": [
    "veya katman ve aktivasyon fonksiyonunun arasına eklenebilir."
   ]
  },
  {
   "cell_type": "code",
   "execution_count": 3,
   "metadata": {},
   "outputs": [],
   "source": [
    "# layers.Dense(16),\n",
    "# layers.BatchNormalization(),\n",
    "# layers.Activation('relu'),"
   ]
  },
  {
   "cell_type": "markdown",
   "metadata": {},
   "source": [
    "Ve eğer bunu ağınızın ilk katmanı olarak eklerseniz, Sci-Kit Learn'in StandardScaler'ı gibi bir şeyin yerini alarak bir tür uyarlanabilir ön işlemci olarak işlev görebilir."
   ]
  },
  {
   "cell_type": "markdown",
   "metadata": {},
   "source": [
    "# ÖRNEK"
   ]
  },
  {
   "cell_type": "code",
   "execution_count": 6,
   "metadata": {},
   "outputs": [],
   "source": [
    "# Setup plotting\n",
    "import matplotlib.pyplot as plt\n",
    "\n",
    "plt.style.use('default')  # Bu varsayılan stili kullanır\n",
    "# Matplotlib varsayılan ayarları\n",
    "plt.rc('figure', autolayout=True)\n",
    "plt.rc('axes', labelweight='bold', labelsize='large',\n",
    "       titleweight='bold', titlesize=18, titlepad=10)\n",
    "\n",
    "\n",
    "import pandas as pd\n",
    "red_wine = pd.read_csv('C:/Users/Alperen Arda/OneDrive/Desktop/GitHub/Data-Science-and-Machine-Learning-Tutorial/Datasets/red-wine.csv')\n",
    "\n",
    "# Create training and validation splits\n",
    "df_train = red_wine.sample(frac=0.7, random_state=0)\n",
    "df_valid = red_wine.drop(df_train.index)\n",
    "\n",
    "# Split features and target\n",
    "X_train = df_train.drop('quality', axis=1)\n",
    "X_valid = df_valid.drop('quality', axis=1)\n",
    "y_train = df_train['quality']\n",
    "y_valid = df_valid['quality']"
   ]
  },
  {
   "cell_type": "markdown",
   "metadata": {},
   "source": [
    "When adding dropout, you may need to increase the number of units in your Dense layers."
   ]
  },
  {
   "cell_type": "code",
   "execution_count": 7,
   "metadata": {},
   "outputs": [
    {
     "name": "stderr",
     "output_type": "stream",
     "text": [
      "c:\\Users\\Alperen Arda\\AppData\\Local\\Programs\\Python\\Python311\\Lib\\site-packages\\keras\\src\\layers\\core\\dense.py:87: UserWarning: Do not pass an `input_shape`/`input_dim` argument to a layer. When using Sequential models, prefer using an `Input(shape)` object as the first layer in the model instead.\n",
      "  super().__init__(activity_regularizer=activity_regularizer, **kwargs)\n"
     ]
    }
   ],
   "source": [
    "from tensorflow import keras\n",
    "from tensorflow.keras import layers\n",
    "\n",
    "model = keras.Sequential([\n",
    "    layers.Dense(1024, activation='relu', input_shape=[11]),\n",
    "    layers.Dropout(0.3),\n",
    "    layers.BatchNormalization(),\n",
    "    layers.Dense(1024, activation='relu'),\n",
    "    layers.Dropout(0.3),\n",
    "    layers.BatchNormalization(),\n",
    "    layers.Dense(1024, activation='relu'),\n",
    "    layers.Dropout(0.3),\n",
    "    layers.BatchNormalization(),\n",
    "    layers.Dense(1),\n",
    "])"
   ]
  },
  {
   "cell_type": "code",
   "execution_count": 8,
   "metadata": {},
   "outputs": [
    {
     "data": {
      "image/png": "[encoded data removed]",
      "text/plain": [
       "<Figure size 640x480 with 1 Axes>"
      ]
     },
     "metadata": {},
     "output_type": "display_data"
    }
   ],
   "source": [
    "model.compile(\n",
    "    optimizer='adam',\n",
    "    loss='mae',\n",
    ")\n",
    "\n",
    "history = model.fit(\n",
    "    X_train, y_train,\n",
    "    validation_data=(X_valid, y_valid),\n",
    "    batch_size=256,\n",
    "    epochs=100,\n",
    "    verbose=0,\n",
    ")\n",
    "\n",
    "\n",
    "# Show the learning curves\n",
    "history_df = pd.DataFrame(history.history)\n",
    "history_df.loc[:, ['loss', 'val_loss']].plot();"
   ]
  },
  {
   "cell_type": "markdown",
   "metadata": {},
   "source": [
    "Öğrenme eğrilerinden görebileceğiniz gibi, training loss azalmaya devam etse de validation loss neredeyse sabit bir minimumda kalıyor. Bu, dropout eklemenin bu sefer overfitting'i engellediğini gösteriyor. Dahası, network'ün sahte pattern'lara uyum sağlamasını zorlaştırarak, dropout network'ü daha fazla gerçek pattern aramaya teşvik etmiş olabilir. Bu da validation loss'u bir miktar iyileştirmiş olabilir."
   ]
  },
  {
   "cell_type": "markdown",
   "metadata": {},
   "source": [
    "Verilerinizi standardize ettiğinizde genellikle daha iyi performans elde edersiniz. Ancak ham verileri kullanabiliyor olmamız, batch normalization'ın daha zorlayıcı veri setlerinde ne kadar etkili olabileceğini gösteriyor.\n",
    "\n",
    "Bu gözlem birkaç önemli noktayı vurguluyor:\n",
    "\n",
    "1. Veri ön işleme: Verileri standardize etmek (örneğin, ortalama 0 ve standart sapma 1 olacak şekilde) genellikle model performansını artırır.\n",
    "2. Batch normalization'ın gücü: Ham verilerle bile makul sonuçlar elde edilebilmesi, batch normalization'ın veri ölçeklendirme konusundaki etkinliğini gösterir.\n",
    "3. Model dayanıklılığı: Batch normalization, modelin farklı ölçeklerdeki verilere adapte olmasına yardımcı olur.\n",
    "4. İyi uygulama: İdeal olarak, hem veri ön işleme hem de batch normalization kullanılmalıdır. Bu, modelin daha hızlı ve daha iyi öğrenmesini sağlar.\n",
    "5. Deneysel yaklaşım: Farklı veri hazırlama ve model mimarisi kombinasyonlarını denemek, en iyi performansı elde etmek için önemlidir."
   ]
  },
  {
   "cell_type": "markdown",
   "metadata": {},
   "source": [
    "# Ek Bilgi"
   ]
  },
  {
   "cell_type": "markdown",
   "metadata": {},
   "source": [
    "Verileri standardize etmek, veri biliminde yaygın bir ön işleme tekniğidir. İşte bu konuyla ilgili açıklama:\n",
    "\n",
    "Tanım: Standardizasyon, veri noktalarını ortalama 0 ve standart sapma 1 olacak şekilde dönüştürme işlemidir.\n",
    "Formül: Her veri noktası (x) için: (x - ortalama) / standart sapma\n",
    "\n",
    "Neden önemli:\n",
    "\n",
    "1. Farklı ölçeklerdeki özellikleri karşılaştırılabilir hale getirir.\n",
    "2. Gradient descent gibi optimizasyon algoritmalarının daha hızlı ve kararlı çalışmasını sağlar.\n",
    "3. Bazı makine öğrenmesi algoritmalarının performansını artırır.\n",
    "\n",
    "Örnek:\n",
    "\n",
    "Ham veri: [0, 50, 100]\n",
    "\n",
    "Standardize edilmiş: [-1.22, 0, 1.22]\n",
    "\n",
    "Batch normalization ile ilişkisi:\n",
    "\n",
    "Batch normalization, ağ içinde benzer bir işlem yapar.\n",
    "Ancak, giriş verilerini standardize etmek hala faydalıdır çünkü ağın başlangıç katmanlarına yardımcı olur.\n",
    "\n",
    "Uygulama:\n",
    "Genellikle scikit-learn'ün StandardScaler'ı gibi araçlarla yapılır.\n",
    "Eğitim verilerine uygulanan aynı dönüşüm, test verilerine de uygulanmalıdır.\n",
    "\n",
    "Standardizasyon, modelin daha hızlı öğrenmesine ve potansiyel olarak daha iyi performans göstermesine yardımcı olur."
   ]
  },
  {
   "cell_type": "markdown",
   "metadata": {},
   "source": [
    "# Ek Bilgi 2"
   ]
  },
  {
   "cell_type": "markdown",
   "metadata": {},
   "source": [
    "![](image18.png)"
   ]
  },
  {
   "cell_type": "markdown",
   "metadata": {},
   "source": [
    "Boş bir grafik mi elde ettiniz? Bu ağı bu veri seti üzerinde eğitmeye çalışmak genellikle başarısız olur. Yakınsadığında bile (şanslı bir ağırlık başlatması nedeniyle), genellikle çok büyük bir sayıya yakınsar."
   ]
  },
  {
   "cell_type": "markdown",
   "metadata": {},
   "source": [
    "Bu durumun neden kaynaklandığını ve ne anlama geldiğini açıklayayım:\n",
    "\n",
    "1. Boş grafik: Eğitim sırasında loss değerlerinin çok büyük veya sonsuz (NaN - Not a Number) olması durumunda görülür. Bu, modelin \"patladığını\" gösterir.\n",
    "2. Eğitim başarısızlığı: Bu dataset üzerinde bu network'ü eğitmeye çalışmak genellikle başarısız olur. Bu, modelin öğrenemediği anlamına gelir.\n",
    "3. Lucky weight initialization: Bazen, başlangıç weight'leri tesadüfen iyi bir noktada olursa, model yakınsayabilir (converge). Ancak bu nadir bir durumdur.\n",
    "4. Büyük sayılara yakınsama: Yakınsasa bile, genellikle çok büyük sayılara yakınsar. Bu, modelin aşırı büyük tahminler yaptığını gösterir.\n",
    "\n",
    "Bu sorunların olası nedenleri:\n",
    "\n",
    "1. Uygunsuz model mimarisi: Dataset için çok karmaşık veya basit olabilir.\n",
    "2. Uygunsuz hiperparametreler: Öğrenme oranı çok yüksek olabilir.\n",
    "3. Veri ön işleme eksikliği: Veriler normalize edilmemiş olabilir.\n",
    "4. Gradient patlaması: Gradyanlar çok büyük hale gelerek eğitimi bozabilir.\n",
    "\n",
    "Çözüm önerileri:\n",
    "\n",
    "1. Model mimarisini basitleştirmek veya değiştirmek\n",
    "2. Hiperparametreleri ayarlamak (özellikle öğrenme oranını düşürmek)\n",
    "3. Verileri normalize etmek\n",
    "4. Gradient clipping gibi teknikler kullanmak\n",
    "5. Batch normalization eklemek\n",
    "\n",
    "Bu tür sorunlar, derin öğrenme modellerini eğitirken sıkça karşılaşılan zorluklardır ve çözümleri genellikle deneme-yanılma gerektirir."
   ]
  },
  {
   "cell_type": "code",
   "execution_count": 9,
   "metadata": {},
   "outputs": [
    {
     "name": "stderr",
     "output_type": "stream",
     "text": [
      "c:\\Users\\Alperen Arda\\AppData\\Local\\Programs\\Python\\Python311\\Lib\\site-packages\\keras\\src\\layers\\normalization\\batch_normalization.py:143: UserWarning: Do not pass an `input_shape`/`input_dim` argument to a layer. When using Sequential models, prefer using an `Input(shape)` object as the first layer in the model instead.\n",
      "  super().__init__(**kwargs)\n"
     ]
    }
   ],
   "source": [
    "model = keras.Sequential([\n",
    "    layers.BatchNormalization(input_shape=[11]),\n",
    "    layers.Dense(512, activation='relu'),\n",
    "    layers.BatchNormalization(),\n",
    "    layers.Dense(512, activation='relu'),\n",
    "    layers.BatchNormalization(),\n",
    "    layers.Dense(512, activation='relu'),\n",
    "    layers.BatchNormalization(),\n",
    "    layers.Dense(1),\n",
    "])"
   ]
  },
  {
   "cell_type": "markdown",
   "metadata": {},
   "source": [
    "Batch normalization eklemenin ilk denemeden büyük bir iyileştirme olduğunu görebilirsiniz! Veriyi ağdan geçerken adaptif olarak ölçeklendirerek, batch normalization zor veri setleri üzerinde modeller eğitmenize olanak tanır.\n",
    "\n",
    "Eng.\n",
    "\n",
    "You can see that adding batch normalization was a big improvement on the first attempt! By adaptively scaling the data as it passes through the network, batch normalization can let you train models on difficult datasets."
   ]
  }
 ],
 "metadata": {
  "kernelspec": {
   "display_name": "Python 3",
   "language": "python",
   "name": "python3"
  },
  "language_info": {
   "codemirror_mode": {
    "name": "ipython",
    "version": 3
   },
   "file_extension": ".py",
   "mimetype": "text/x-python",
   "name": "python",
   "nbconvert_exporter": "python",
   "pygments_lexer": "ipython3",
   "version": "3.11.5"
  }
 },
 "nbformat": 4,
 "nbformat_minor": 2
}
