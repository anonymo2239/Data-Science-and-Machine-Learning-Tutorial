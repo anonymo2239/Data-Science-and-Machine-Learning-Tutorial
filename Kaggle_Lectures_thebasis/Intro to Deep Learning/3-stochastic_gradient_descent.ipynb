{
 "cells": [
  {
   "cell_type": "markdown",
   "metadata": {},
   "source": [
    "İlk iki derste, yoğun katmanlar yığınlarından tam bağlantılı ağlar oluşturmayı öğrendik. İlk oluşturulduğunda, ağın tüm ağırlıkları rastgele olarak ayarlanır -- yani ağ henüz \"hiçbir şey bilmiyor.\""
   ]
  },
  {
   "cell_type": "markdown",
   "metadata": {},
   "source": [
    "Evet, başlangıçta ağın ağırlıkları rastgele olarak ayarlanır. Bu, eğitim sürecinde ağın verilerden öğrenebilmesi için yapılır. Eğitim süreci boyunca, bu rastgele ağırlıklar verilerden öğrenilen bilgilere göre ayarlanır, böylece ağ daha iyi tahminler yapabilir."
   ]
  },
  {
   "cell_type": "markdown",
   "metadata": {},
   "source": [
    "Bu derste bir sinir ağının nasıl öğrendiğini, bir sinir ağının nasıl eğitildiğini göreceğiz."
   ]
  },
  {
   "cell_type": "markdown",
   "metadata": {},
   "source": [
    "Makine öğrenmesindeki gibi, training data ları ayarlayacağız. Ağın eğitimi, ağırlıklarını, girdileri hedefe dönüştürebilecek şekilde ayarlamak anlamına gelir. Örneğin, 80 Cereals veri setinde, ağın 'şeker', 'lif' ve 'protein' gibi özellikleri alıp o tahılın 'kalori' miktarını tahmin etmesini istiyoruz. Başarılı bir şekilde eğitilmiş bir ağ, bu özellikler ile hedef arasındaki ilişkiyi, eğitim verilerinde ifade edildiği şekilde ağırlıklarına yansıtır."
   ]
  },
  {
   "cell_type": "markdown",
   "metadata": {},
   "source": [
    "Bu konuda iki bileşene daha ihtiyacımız var:\n",
    "\n",
    "1. Ağın tahminlerinin ne kadar iyi olduğunu ölçen bir \"kayıp fonksiyonu(loss function).\" (mean absolute error gibi)\n",
    "2. Ağın ağırlıklarını nasıl değiştirmesi gerektiğini söyleyebilen bir \"optimizatör.\" (vaov)"
   ]
  },
  {
   "cell_type": "markdown",
   "metadata": {},
   "source": [
    "**The Loss Function**\n",
    "\n",
    "Bir ağın mimarisinin nasıl tasarlanacağını görmüştük ancak bir ağa hangi sorunun çözülmesi gerektiğini nasıl söyleyeceğimizi görmedik. işte bu loss function un işidir."
   ]
  },
  {
   "cell_type": "markdown",
   "metadata": {},
   "source": [
    "Farklı problemler, farklı kayıp fonksiyonları gerektirir. Şu ana kadar, 80 Cereals'daki kalori miktarını veya Red Wine Quality'deki derecelendirmeyi tahmin etmek gibi sayısal bir değeri tahmin etmeyi gerektiren regresyon problemlerine baktık. Diğer regresyon görevleri, bir evin fiyatını veya bir arabanın yakıt verimliliğini tahmin etmeyi içerebilir."
   ]
  },
  {
   "cell_type": "markdown",
   "metadata": {},
   "source": [
    "Regresyon problemleri için yaygın bir kayıp fonksiyonu ortalama mutlak hata (MAE) olarak bilinir.\n",
    "\n",
    "Bir veri kümesindeki toplam MAE kaybı, bu mutlak farkların ortalamasıdır."
   ]
  },
  {
   "cell_type": "markdown",
   "metadata": {},
   "source": [
    "![Alperen](image9.png)"
   ]
  },
  {
   "cell_type": "markdown",
   "metadata": {},
   "source": [
    "MAE dışında regresyon için görebileceğiniz loss functionlardan ikisi mean-squared error (MSE) veya the Huber loss (both available in Keras)."
   ]
  },
  {
   "cell_type": "markdown",
   "metadata": {},
   "source": [
    "Training sırasında loss functionlar, sinir ağlarının en doğru(en yakın) ağırlıklarını bulma konusunda rehberlik ederler.\n",
    "(daha düşük kayıp daha iyidir). Başka bir deyişle, kayıp fonksiyonu, ağa hedefini söyler."
   ]
  },
  {
   "cell_type": "markdown",
   "metadata": {},
   "source": [
    "**The Optimizer - Stochastic Gradient Descent**\n",
    "\n",
    "We've described the problem we want the network to solve, but now we need to say how to solve it. This is the job of the optimizer. The optimizer is an algorithm that adjusts the weights to minimize the loss.\n",
    "\n",
    "AYRINTILI ANLATIM (biliyosan okuma)"
   ]
  },
  {
   "cell_type": "markdown",
   "metadata": {},
   "source": [
    "![](image10.png)"
   ]
  },
  {
   "cell_type": "markdown",
   "metadata": {},
   "source": [
    "Derin öğrenmede kullanılan neredeyse tüm optimizasyon algoritmaları, stokastik gradyan inişi (stochastic gradient descent) adı verilen bir aileye aittir. Bunlar, bir ağı adım adım eğiten yinelemeli algoritmalardır. Bir eğitim adımı şu şekilde gerçekleşir:\n",
    "\n",
    "1. Bazı eğitim verilerini örnekle ve bu verileri ağdan geçirerek tahminler yap.\n",
    "2. Tahminlerle gerçek değerler arasındaki kaybı ölç.\n",
    "3. Son olarak, kaybı küçültecek yönde ağırlıkları ayarla.\n",
    "\n",
    "Bu adımları tekrar tekrar uygula, ta ki kayıp istediğin kadar küçük olana kadar (veya kayıp daha fazla azalmazsa).\n",
    "\n",
    "Then just do this over and over until the loss is as small as you like (or until it won't decrease any further.)"
   ]
  },
  {
   "cell_type": "markdown",
   "metadata": {},
   "source": [
    "![](image11.png)"
   ]
  },
  {
   "cell_type": "markdown",
   "metadata": {},
   "source": [
    "![](image12.png)"
   ]
  },
  {
   "cell_type": "markdown",
   "metadata": {},
   "source": [
    "**Her iterasyonun eğitim verisi örneğine minibatch (veya genellikle sadece \"batch (grup)\") denir**, tamamlanmış bir eğitim verisi turuna ise epoch denir. Eğitimi kaç epoch süreceği, ağın her eğitim örneğini kaç kez göreceğini belirler.\n",
    "\n",
    "Bu bağlamda, \"batch\" (veya minibatch), eğitim verisinin ağ üzerinde işlem yapılacak küçük bir alt kümesidir. Eğitim sürecinde, tüm veri kümesini değil, verinin sadece bir kısmını kullanarak ağı güncelleriz(meselaaa 1. 145. 238. satırlarındaki verileri kullanırız ve buna alt küme deriz). Bu küçük alt kümelere batch denir. Batch'ler, hesaplama verimliliğini artırır ve belleği daha etkin kullanmamızı sağlar."
   ]
  },
  {
   "cell_type": "markdown",
   "metadata": {},
   "source": [
    "Animasyon, Ders 1'deki doğrusal modelin SGD (Stokastik Gradyan İnişi) ile eğitildiğini gösterir. Soluk kırmızı noktalar tüm eğitim kümesini temsil ederken, koyu kırmızı noktalar minibatch'leri gösterir. Her yeni minibatch görüldüğünde, SGD ağırlıkları (eğim 𝑤 ve y-kesişen b) o minibatch'teki doğru değerlere doğru kaydırır. Batch batch ilerledikçe, doğru değerler doğrultusunda en iyi uyumu sağlayan doğru oluşur. Ağırlıklar gerçek değerlere yaklaştıkça kayıp azalır."
   ]
  },
  {
   "cell_type": "markdown",
   "metadata": {},
   "source": [
    "**Learning Rate and Batch Size**"
   ]
  },
  {
   "cell_type": "markdown",
   "metadata": {},
   "source": [
    "Çizgi, her bir küme yönünde yalnızca küçük bir kayma yapar (tamamen hareket etmek yerine). Bu kaymaların boyutu learning rate tarafından belirlenir. Daha küçük bir learning rate, ağın ağırlıklarının en iyi değerlere ulaşması için daha fazla minibatch(mini küme) görmesi gerektiği anlamına gelir."
   ]
  },
  {
   "cell_type": "markdown",
   "metadata": {},
   "source": [
    "Öğrenme oranı ve mini küme boyutu, SGD eğitiminin nasıl ilerleyeceği üzerinde en büyük etkiye sahip iki parametredir. Bu parametrelerin etkileşimi genellikle ince bir dengeye sahiptir ve bu parametreler için doğru seçimi yapmak her zaman kolay değildir."
   ]
  },
  {
   "cell_type": "markdown",
   "metadata": {},
   "source": [
    "Neyse ki, çoğu çalışma için tatmin edici sonuçlar elde etmek adına kapsamlı bir hiperparametre araması yapmak gerekmeyecektir. Adam, adaptif bir öğrenme oranına sahip bir SGD algoritmasıdır ve bu özelliği sayesinde çoğu problem için herhangi bir parametre ayarlaması yapmadan uygun hale gelir (bir anlamda 'kendini ayarlayan' bir algoritmadır). Adam, genel amaçlı bir optimizasyon algoritmasıdır."
   ]
  },
  {
   "cell_type": "markdown",
   "metadata": {},
   "source": [
    "**Loss ve Optimizer ekleme**"
   ]
  },
  {
   "cell_type": "markdown",
   "metadata": {},
   "source": [
    "Model oluşturduktan sonra 'compile' metodu ile kayıp fonksiyon ve optimizer ekleyebiliriz:"
   ]
  },
  {
   "cell_type": "code",
   "execution_count": 18,
   "metadata": {},
   "outputs": [],
   "source": [
    "from tensorflow import keras\n",
    "from tensorflow.keras import layers"
   ]
  },
  {
   "cell_type": "code",
   "execution_count": 19,
   "metadata": {},
   "outputs": [
    {
     "name": "stderr",
     "output_type": "stream",
     "text": [
      "c:\\Users\\Alperen Arda\\AppData\\Local\\Programs\\Python\\Python311\\Lib\\site-packages\\keras\\src\\layers\\core\\dense.py:87: UserWarning: Do not pass an `input_shape`/`input_dim` argument to a layer. When using Sequential models, prefer using an `Input(shape)` object as the first layer in the model instead.\n",
      "  super().__init__(activity_regularizer=activity_regularizer, **kwargs)\n"
     ]
    }
   ],
   "source": [
    "model = keras.Sequential([\n",
    "    layers.Dense(32, input_shape=[8]),\n",
    "    layers.Activation('relu'),\n",
    "    layers.Dense(32),\n",
    "    layers.Activation('relu'),\n",
    "    layers.Dense(1),\n",
    "])"
   ]
  },
  {
   "cell_type": "code",
   "execution_count": 20,
   "metadata": {},
   "outputs": [],
   "source": [
    "model.compile(\n",
    "    optimizer='adam',\n",
    "    loss='mae'\n",
    ")"
   ]
  },
  {
   "cell_type": "markdown",
   "metadata": {},
   "source": [
    "**ÖRNEK:** **Şarap Kalitesi**"
   ]
  },
  {
   "cell_type": "code",
   "execution_count": 21,
   "metadata": {},
   "outputs": [
    {
     "data": {
      "text/html": [
       "<div>\n",
       "<style scoped>\n",
       "    .dataframe tbody tr th:only-of-type {\n",
       "        vertical-align: middle;\n",
       "    }\n",
       "\n",
       "    .dataframe tbody tr th {\n",
       "        vertical-align: top;\n",
       "    }\n",
       "\n",
       "    .dataframe thead th {\n",
       "        text-align: right;\n",
       "    }\n",
       "</style>\n",
       "<table border=\"1\" class=\"dataframe\">\n",
       "  <thead>\n",
       "    <tr style=\"text-align: right;\">\n",
       "      <th></th>\n",
       "      <th>fixed acidity</th>\n",
       "      <th>volatile acidity</th>\n",
       "      <th>citric acid</th>\n",
       "      <th>residual sugar</th>\n",
       "      <th>chlorides</th>\n",
       "      <th>free sulfur dioxide</th>\n",
       "      <th>total sulfur dioxide</th>\n",
       "      <th>density</th>\n",
       "      <th>pH</th>\n",
       "      <th>sulphates</th>\n",
       "      <th>alcohol</th>\n",
       "      <th>quality</th>\n",
       "    </tr>\n",
       "  </thead>\n",
       "  <tbody>\n",
       "    <tr>\n",
       "      <th>1109</th>\n",
       "      <td>10.8</td>\n",
       "      <td>0.470</td>\n",
       "      <td>0.43</td>\n",
       "      <td>2.10</td>\n",
       "      <td>0.171</td>\n",
       "      <td>27.0</td>\n",
       "      <td>66.0</td>\n",
       "      <td>0.99820</td>\n",
       "      <td>3.17</td>\n",
       "      <td>0.76</td>\n",
       "      <td>10.8</td>\n",
       "      <td>6</td>\n",
       "    </tr>\n",
       "    <tr>\n",
       "      <th>1032</th>\n",
       "      <td>8.1</td>\n",
       "      <td>0.820</td>\n",
       "      <td>0.00</td>\n",
       "      <td>4.10</td>\n",
       "      <td>0.095</td>\n",
       "      <td>5.0</td>\n",
       "      <td>14.0</td>\n",
       "      <td>0.99854</td>\n",
       "      <td>3.36</td>\n",
       "      <td>0.53</td>\n",
       "      <td>9.6</td>\n",
       "      <td>5</td>\n",
       "    </tr>\n",
       "    <tr>\n",
       "      <th>1002</th>\n",
       "      <td>9.1</td>\n",
       "      <td>0.290</td>\n",
       "      <td>0.33</td>\n",
       "      <td>2.05</td>\n",
       "      <td>0.063</td>\n",
       "      <td>13.0</td>\n",
       "      <td>27.0</td>\n",
       "      <td>0.99516</td>\n",
       "      <td>3.26</td>\n",
       "      <td>0.84</td>\n",
       "      <td>11.7</td>\n",
       "      <td>7</td>\n",
       "    </tr>\n",
       "    <tr>\n",
       "      <th>487</th>\n",
       "      <td>10.2</td>\n",
       "      <td>0.645</td>\n",
       "      <td>0.36</td>\n",
       "      <td>1.80</td>\n",
       "      <td>0.053</td>\n",
       "      <td>5.0</td>\n",
       "      <td>14.0</td>\n",
       "      <td>0.99820</td>\n",
       "      <td>3.17</td>\n",
       "      <td>0.42</td>\n",
       "      <td>10.0</td>\n",
       "      <td>6</td>\n",
       "    </tr>\n",
       "  </tbody>\n",
       "</table>\n",
       "</div>"
      ],
      "text/plain": [
       "      fixed acidity  volatile acidity  citric acid  residual sugar  chlorides  \\\n",
       "1109           10.8             0.470         0.43            2.10      0.171   \n",
       "1032            8.1             0.820         0.00            4.10      0.095   \n",
       "1002            9.1             0.290         0.33            2.05      0.063   \n",
       "487            10.2             0.645         0.36            1.80      0.053   \n",
       "\n",
       "      free sulfur dioxide  total sulfur dioxide  density    pH  sulphates  \\\n",
       "1109                 27.0                  66.0  0.99820  3.17       0.76   \n",
       "1032                  5.0                  14.0  0.99854  3.36       0.53   \n",
       "1002                 13.0                  27.0  0.99516  3.26       0.84   \n",
       "487                   5.0                  14.0  0.99820  3.17       0.42   \n",
       "\n",
       "      alcohol  quality  \n",
       "1109     10.8        6  \n",
       "1032      9.6        5  \n",
       "1002     11.7        7  \n",
       "487      10.0        6  "
      ]
     },
     "metadata": {},
     "output_type": "display_data"
    }
   ],
   "source": [
    "# bu kodları sonra görücez\n",
    "import pandas as pd\n",
    "from IPython.display import display\n",
    "\n",
    "red_wine = pd.read_csv('C:/Users/Alperen Arda/OneDrive/Desktop/GitHub/Data-Science-and-Machine-Learning-Tutorial/Datasets/red-wine.csv')\n",
    "\n",
    "# Create training and validation splits\n",
    "df_train = red_wine.sample(frac=0.7, random_state=0)\n",
    "df_valid = red_wine.drop(df_train.index)\n",
    "display(df_train.head(4))\n",
    "\n",
    "# Scale to [0, 1]\n",
    "max_ = df_train.max(axis=0)\n",
    "min_ = df_train.min(axis=0)\n",
    "df_train = (df_train - min_) / (max_ - min_)\n",
    "df_valid = (df_valid - min_) / (max_ - min_)\n",
    "\n",
    "# Split features and target\n",
    "X_train = df_train.drop('quality', axis=1)\n",
    "X_valid = df_valid.drop('quality', axis=1)\n",
    "y_train = df_train['quality']\n",
    "y_valid = df_valid['quality']"
   ]
  },
  {
   "cell_type": "markdown",
   "metadata": {},
   "source": [
    "Bu ağın kaç girdiye sahip olması gerektiğini nasıl belirleyebiliriz? Bunu, veri matrisindeki sütun sayısına bakarak keşfedebiliriz. Burada hedef ('kalite') sütununu dahil etmediğinizden emin olun; yalnızca girdi özelliklerini göz önünde bulundurun."
   ]
  },
  {
   "cell_type": "code",
   "execution_count": 22,
   "metadata": {},
   "outputs": [
    {
     "name": "stdout",
     "output_type": "stream",
     "text": [
      "(1119, 11)\n"
     ]
    }
   ],
   "source": [
    "print(X_train.shape)"
   ]
  },
  {
   "cell_type": "code",
   "execution_count": 23,
   "metadata": {},
   "outputs": [],
   "source": [
    "from tensorflow import keras\n",
    "from tensorflow.keras import layers"
   ]
  },
  {
   "cell_type": "code",
   "execution_count": 24,
   "metadata": {},
   "outputs": [
    {
     "name": "stderr",
     "output_type": "stream",
     "text": [
      "c:\\Users\\Alperen Arda\\AppData\\Local\\Programs\\Python\\Python311\\Lib\\site-packages\\keras\\src\\layers\\core\\dense.py:87: UserWarning: Do not pass an `input_shape`/`input_dim` argument to a layer. When using Sequential models, prefer using an `Input(shape)` object as the first layer in the model instead.\n",
      "  super().__init__(activity_regularizer=activity_regularizer, **kwargs)\n"
     ]
    }
   ],
   "source": [
    "model = keras.Sequential([\n",
    "    layers.Dense(units=512, activation='relu', input_shape=[11]),\n",
    "    layers.Dense(512, activation='relu'),\n",
    "    layers.Dense(512, activation='relu'),\n",
    "    layers.Dense(1),\n",
    "])"
   ]
  },
  {
   "cell_type": "markdown",
   "metadata": {},
   "source": [
    "Modelinizin mimarisini belirlemek bir sürecin parçası olmalıdır. Basit başlayın ve doğrulama kaybını (validation loss) rehberiniz olarak kullanın. Modeli tanımladıktan sonra, optimizasyon algoritması ve kayıp fonksiyonunu derleyin."
   ]
  },
  {
   "cell_type": "code",
   "execution_count": 25,
   "metadata": {},
   "outputs": [],
   "source": [
    "model.compile(\n",
    "    optimizer='adam',\n",
    "    loss='mae',\n",
    ")"
   ]
  },
  {
   "cell_type": "markdown",
   "metadata": {},
   "source": [
    "Artık eğitime başlamak için hazırız! Keras'a, her seferinde 256 satırlık eğitim verisini optimizera vermesini (batch_size) ve bu işlemi veri seti boyunca 10 kez (epochs) tekrarlamasını söyledik."
   ]
  },
  {
   "cell_type": "code",
   "execution_count": 26,
   "metadata": {},
   "outputs": [
    {
     "name": "stdout",
     "output_type": "stream",
     "text": [
      "Epoch 1/10\n",
      "\u001b[1m5/5\u001b[0m \u001b[32m━━━━━━━━━━━━━━━━━━━━\u001b[0m\u001b[37m\u001b[0m \u001b[1m1s\u001b[0m 59ms/step - loss: 0.3461 - val_loss: 0.1358\n",
      "Epoch 2/10\n",
      "\u001b[1m5/5\u001b[0m \u001b[32m━━━━━━━━━━━━━━━━━━━━\u001b[0m\u001b[37m\u001b[0m \u001b[1m0s\u001b[0m 22ms/step - loss: 0.1348 - val_loss: 0.1201\n",
      "Epoch 3/10\n",
      "\u001b[1m5/5\u001b[0m \u001b[32m━━━━━━━━━━━━━━━━━━━━\u001b[0m\u001b[37m\u001b[0m \u001b[1m0s\u001b[0m 21ms/step - loss: 0.1218 - val_loss: 0.1227\n",
      "Epoch 4/10\n",
      "\u001b[1m5/5\u001b[0m \u001b[32m━━━━━━━━━━━━━━━━━━━━\u001b[0m\u001b[37m\u001b[0m \u001b[1m0s\u001b[0m 20ms/step - loss: 0.1156 - val_loss: 0.1076\n",
      "Epoch 5/10\n",
      "\u001b[1m5/5\u001b[0m \u001b[32m━━━━━━━━━━━━━━━━━━━━\u001b[0m\u001b[37m\u001b[0m \u001b[1m0s\u001b[0m 20ms/step - loss: 0.1090 - val_loss: 0.1038\n",
      "Epoch 6/10\n",
      "\u001b[1m5/5\u001b[0m \u001b[32m━━━━━━━━━━━━━━━━━━━━\u001b[0m\u001b[37m\u001b[0m \u001b[1m0s\u001b[0m 24ms/step - loss: 0.1074 - val_loss: 0.1058\n",
      "Epoch 7/10\n",
      "\u001b[1m5/5\u001b[0m \u001b[32m━━━━━━━━━━━━━━━━━━━━\u001b[0m\u001b[37m\u001b[0m \u001b[1m0s\u001b[0m 23ms/step - loss: 0.1054 - val_loss: 0.1059\n",
      "Epoch 8/10\n",
      "\u001b[1m5/5\u001b[0m \u001b[32m━━━━━━━━━━━━━━━━━━━━\u001b[0m\u001b[37m\u001b[0m \u001b[1m0s\u001b[0m 25ms/step - loss: 0.1066 - val_loss: 0.1017\n",
      "Epoch 9/10\n",
      "\u001b[1m5/5\u001b[0m \u001b[32m━━━━━━━━━━━━━━━━━━━━\u001b[0m\u001b[37m\u001b[0m \u001b[1m0s\u001b[0m 25ms/step - loss: 0.1051 - val_loss: 0.1005\n",
      "Epoch 10/10\n",
      "\u001b[1m5/5\u001b[0m \u001b[32m━━━━━━━━━━━━━━━━━━━━\u001b[0m\u001b[37m\u001b[0m \u001b[1m0s\u001b[0m 20ms/step - loss: 0.1006 - val_loss: 0.1002\n"
     ]
    }
   ],
   "source": [
    "history = model.fit(\n",
    "    X_train, y_train,\n",
    "    validation_data=(X_valid, y_valid),\n",
    "    batch_size = 256,\n",
    "    epochs=10\n",
    ")"
   ]
  },
  {
   "cell_type": "markdown",
   "metadata": {},
   "source": [
    "You can see that Keras will keep you updated on the loss as the model trains.\n",
    "\n",
    "Genellikle, kaybı (loss) görselleştirmenin daha iyi bir yolu, onu grafiğe dökmektir. Aslında, fit yöntemi, eğitim sırasında üretilen kaybın kaydını bir History nesnesinde tutar. Bu veriyi bir Pandas veri çerçevesine dönüştüreceğiz, bu da grafiğin çizilmesini kolaylaştırır."
   ]
  },
  {
   "cell_type": "code",
   "execution_count": 29,
   "metadata": {},
   "outputs": [
    {
     "data": {
      "text/plain": [
       "<Axes: >"
      ]
     },
     "execution_count": 29,
     "metadata": {},
     "output_type": "execute_result"
    },
    {
     "data": {
      "image/png": "[encoded data removed]",
      "text/plain": [
       "<Figure size 640x480 with 1 Axes>"
      ]
     },
     "metadata": {},
     "output_type": "display_data"
    }
   ],
   "source": [
    "# convert the training history to a dataframe\n",
    "history_df = pd.DataFrame(history.history)\n",
    "# use Pandas native plot method\n",
    "history_df['loss'].plot()"
   ]
  },
  {
   "cell_type": "markdown",
   "metadata": {},
   "source": [
    "Kaybın epochlar ilerledikçe nasıl yataylaştığını fark edin. Kayıp eğrisi bu şekilde yatay hale geldiğinde, bu modelin öğrenebileceği her şeyi öğrendiği ve ek epochlara devam etmenin bir anlamı olmadığı anlamına gelir."
   ]
  },
  {
   "cell_type": "markdown",
   "metadata": {},
   "source": []
  }
 ],
 "metadata": {
  "kernelspec": {
   "display_name": "Python 3",
   "language": "python",
   "name": "python3"
  },
  "language_info": {
   "codemirror_mode": {
    "name": "ipython",
    "version": 3
   },
   "file_extension": ".py",
   "mimetype": "text/x-python",
   "name": "python",
   "nbconvert_exporter": "python",
   "pygments_lexer": "ipython3",
   "version": "3.11.5"
  }
 },
 "nbformat": 4,
 "nbformat_minor": 2
}
