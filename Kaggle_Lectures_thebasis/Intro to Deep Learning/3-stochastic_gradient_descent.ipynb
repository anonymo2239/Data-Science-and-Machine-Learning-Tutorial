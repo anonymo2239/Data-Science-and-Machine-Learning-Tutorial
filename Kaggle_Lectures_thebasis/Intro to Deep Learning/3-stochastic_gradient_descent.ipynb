{
 "cells": [
  {
   "cell_type": "markdown",
   "metadata": {},
   "source": [
    "İlk iki derste, yoğun katmanlar yığınlarından tam bağlantılı ağlar oluşturmayı öğrendik. İlk oluşturulduğunda, ağın tüm ağırlıkları rastgele olarak ayarlanır -- yani ağ henüz \"hiçbir şey bilmiyor.\""
   ]
  },
  {
   "cell_type": "markdown",
   "metadata": {},
   "source": [
    "Evet, başlangıçta ağın ağırlıkları rastgele olarak ayarlanır. Bu, eğitim sürecinde ağın verilerden öğrenebilmesi için yapılır. Eğitim süreci boyunca, bu rastgele ağırlıklar verilerden öğrenilen bilgilere göre ayarlanır, böylece ağ daha iyi tahminler yapabilir."
   ]
  },
  {
   "cell_type": "markdown",
   "metadata": {},
   "source": [
    "Bu derste bir sinir ağının nasıl öğrendiğini, bir sinir ağının nasıl eğitildiğini göreceğiz."
   ]
  },
  {
   "cell_type": "markdown",
   "metadata": {},
   "source": [
    "Makine öğrenmesindeki gibi, training data ları ayarlayacağız. Ağın eğitimi, ağırlıklarını, girdileri hedefe dönüştürebilecek şekilde ayarlamak anlamına gelir. Örneğin, 80 Cereals veri setinde, ağın 'şeker', 'lif' ve 'protein' gibi özellikleri alıp o tahılın 'kalori' miktarını tahmin etmesini istiyoruz. Başarılı bir şekilde eğitilmiş bir ağ, bu özellikler ile hedef arasındaki ilişkiyi, eğitim verilerinde ifade edildiği şekilde ağırlıklarına yansıtır."
   ]
  },
  {
   "cell_type": "markdown",
   "metadata": {},
   "source": [
    "Bu konuda iki bileşene daha ihtiyacımız var:\n",
    "\n",
    "1. Ağın tahminlerinin ne kadar iyi olduğunu ölçen bir \"kayıp fonksiyonu(loss function).\" (mean absolute error gibi)\n",
    "2. Ağın ağırlıklarını nasıl değiştirmesi gerektiğini söyleyebilen bir \"optimizatör.\" (vaov)"
   ]
  },
  {
   "cell_type": "markdown",
   "metadata": {},
   "source": [
    "**The Loss Function**\n",
    "\n",
    "Bir ağın mimarisinin nasıl tasarlanacağını görmüştük ancak bir ağa hangi sorunun çözülmesi gerektiğini nasıl söyleyeceğimizi görmedik. işte bu loss function un işidir."
   ]
  },
  {
   "cell_type": "markdown",
   "metadata": {},
   "source": [
    "Farklı problemler, farklı kayıp fonksiyonları gerektirir. Şu ana kadar, 80 Cereals'daki kalori miktarını veya Red Wine Quality'deki derecelendirmeyi tahmin etmek gibi sayısal bir değeri tahmin etmeyi gerektiren regresyon problemlerine baktık. Diğer regresyon görevleri, bir evin fiyatını veya bir arabanın yakıt verimliliğini tahmin etmeyi içerebilir."
   ]
  },
  {
   "cell_type": "markdown",
   "metadata": {},
   "source": [
    "Regresyon problemleri için yaygın bir kayıp fonksiyonu ortalama mutlak hata (MAE) olarak bilinir.\n",
    "\n",
    "Bir veri kümesindeki toplam MAE kaybı, bu mutlak farkların ortalamasıdır."
   ]
  },
  {
   "cell_type": "markdown",
   "metadata": {},
   "source": [
    "![Alperen](image9.png)"
   ]
  },
  {
   "cell_type": "markdown",
   "metadata": {},
   "source": [
    "MAE dışında regresyon için görebileceğiniz loss functionlardan ikisi mean-squared error (MSE) veya the Huber loss (both available in Keras)."
   ]
  },
  {
   "cell_type": "markdown",
   "metadata": {},
   "source": [
    "Training sırasında loss functionlar, sinir ağlarının en doğru(en yakın) ağırlıklarını bulma konusunda rehberlik ederler.\n",
    "(daha düşük kayıp daha iyidir). Başka bir deyişle, kayıp fonksiyonu, ağa hedefini söyler."
   ]
  },
  {
   "cell_type": "markdown",
   "metadata": {},
   "source": [
    "**The Optimizer - Stochastic Gradient Descent**\n",
    "\n",
    "We've described the problem we want the network to solve, but now we need to say how to solve it. This is the job of the optimizer. The optimizer is an algorithm that adjusts the weights to minimize the loss.\n",
    "\n",
    "AYRINTILI ANLATIM (biliyosan okuma)"
   ]
  },
  {
   "cell_type": "markdown",
   "metadata": {},
   "source": [
    "![](image10.png)"
   ]
  },
  {
   "cell_type": "markdown",
   "metadata": {},
   "source": []
  }
 ],
 "metadata": {
  "language_info": {
   "name": "python"
  }
 },
 "nbformat": 4,
 "nbformat_minor": 2
}
