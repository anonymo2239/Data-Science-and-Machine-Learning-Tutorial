{
 "cells": [
  {
   "cell_type": "markdown",
   "id": "c7f32301-71af-46d1-a0f6-2d487293f3a7",
   "metadata": {},
   "source": "# Web Scraping Libraries"
  },
  {
   "attachments": {},
   "cell_type": "markdown",
   "id": "61bc511d-3fc6-49fa-8440-07ea552b2226",
   "metadata": {},
   "source": [
    "![image.png](images/imagee1.png)"
   ]
  },
  {
   "cell_type": "markdown",
   "id": "95118624-d22f-46f2-a742-75d5ce12ee58",
   "metadata": {},
   "source": [
    "Selenium wasn't actually designed for web scraping.  \n",
    "In fact, selenium is a webdriver designed to render web pages for test automation of web applications."
   ]
  },
  {
   "attachments": {},
   "cell_type": "markdown",
   "id": "2632b92e-9b00-4095-9663-6e327f4fad7b",
   "metadata": {},
   "source": [
    "![image.png](images/imagee2.png)"
   ]
  },
  {
   "attachments": {},
   "cell_type": "markdown",
   "id": "c0728863-0491-4334-8e7f-99599577e284",
   "metadata": {},
   "source": [
    "![image.png](images/imagee3.png)"
   ]
  },
  {
   "attachments": {},
   "cell_type": "markdown",
   "id": "fa33f142-b8c3-4570-b52b-faf9d3c25658",
   "metadata": {},
   "source": [
    "![image.png](images/imagee4.png)"
   ]
  },
  {
   "cell_type": "markdown",
   "id": "3e1b26b7-5638-4ed8-b2e6-c3a8e6732ff6",
   "metadata": {},
   "source": [
    "HTML de ağaç yapısını bilmek gerekli. Bu yapıyla nasıl kazıma yapacağımızı daha iyi anlarız."
   ]
  },
  {
   "cell_type": "markdown",
   "id": "114efff2-436a-4b41-bb9f-575f8078cec0",
   "metadata": {},
   "source": [
    "(Önerilen) eleman bulma etiket sıralaması:\n",
    "1) ID\n",
    "2) Class Name\n",
    "3) Tag Name, CSS Selector\n",
    "4) Xpath"
   ]
  },
  {
   "cell_type": "code",
   "execution_count": null,
   "id": "2ee0c658-0237-402c-a721-9fe8e4586c83",
   "metadata": {},
   "outputs": [],
   "source": []
  }
 ],
 "metadata": {
  "kernelspec": {
   "display_name": "Python 3 (ipykernel)",
   "language": "python",
   "name": "python3"
  },
  "language_info": {
   "codemirror_mode": {
    "name": "ipython",
    "version": 3
   },
   "file_extension": ".py",
   "mimetype": "text/x-python",
   "name": "python",
   "nbconvert_exporter": "python",
   "pygments_lexer": "ipython3",
   "version": "3.11.5"
  }
 },
 "nbformat": 4,
 "nbformat_minor": 5
}
