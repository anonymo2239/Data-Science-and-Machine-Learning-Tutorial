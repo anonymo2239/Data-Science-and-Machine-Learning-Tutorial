{
 "cells": [
  {
   "cell_type": "markdown",
   "id": "c7f32301-71af-46d1-a0f6-2d487293f3a7",
   "metadata": {},
   "source": [
    "# Web Scraipng Libraries"
   ]
  },
  {
   "attachments": {},
   "cell_type": "markdown",
   "id": "61bc511d-3fc6-49fa-8440-07ea552b2226",
   "metadata": {},
   "source": [
    "![image.png](images/imagee1.png)"
   ]
  },
  {
   "cell_type": "markdown",
   "id": "95118624-d22f-46f2-a742-75d5ce12ee58",
   "metadata": {},
   "source": [
    "Selenium wasn't actually designed for web scraping.  \n",
    "In fact, selenium is a webdriver designed to render web pages for test automation of web applications."
   ]
  },
  {
   "cell_type": "code",
   "execution_count": null,
   "id": "de264543-7856-4d05-bcba-e27e4b019aef",
   "metadata": {},
   "outputs": [],
   "source": []
  }
 ],
 "metadata": {
  "kernelspec": {
   "display_name": "Python 3 (ipykernel)",
   "language": "python",
   "name": "python3"
  },
  "language_info": {
   "codemirror_mode": {
    "name": "ipython",
    "version": 3
   },
   "file_extension": ".py",
   "mimetype": "text/x-python",
   "name": "python",
   "nbconvert_exporter": "python",
   "pygments_lexer": "ipython3",
   "version": "3.11.5"
  }
 },
 "nbformat": 4,
 "nbformat_minor": 5
}
