{
 "cells": [
  {
   "metadata": {},
   "cell_type": "markdown",
   "source": "# XPath Guide",
   "id": "dbd920a52d81af27"
  },
  {
   "metadata": {},
   "cell_type": "markdown",
   "source": [
    "XPath is a query language for selecting nodes from an XML document, but we can also use it to select\n",
    "\n",
    "elements from HTML pages."
   ],
   "id": "84765bb07e24045e"
  },
  {
   "metadata": {},
   "cell_type": "markdown",
   "source": [
    "We can select an element by using the double slash and then we write the element name.\n",
    "\n",
    "This is the most basic way to locate an element or node.  \n",
    "\n",
    "//tagName → **Belirtilen etiketi (tag) tüm XML veya HTML belgesi içinde arar.**  \n",
    "//tagName[1] → **Belirtilen etiketin ilk öğesini seçer.**  \n",
    "//tagName[@AttributeName=\"Value\"] → **Belirtilen özelliğe (attribute) sahip etiketi seçer.**"
   ],
   "id": "bb77f29da72d0539"
  },
  {
   "metadata": {},
   "cell_type": "markdown",
   "source": [
    "contains() → Bir öznitelik (attribute) veya metin değerinin belirli bir kısmını içerip içermediğini kontrol eder.  \n",
    "starts-with() → Bir öznitelik veya metin değerinin belirli bir ifadeyle başlayıp başlamadığını kontrol eder.  \n",
    "//tagName[contains(@AttributeName, \"Value\")] → Belirtilen özniteliğin değeri içinde \"Value\" kelimesini içeren tüm etiketleri seçer."
   ],
   "id": "2ae1889d3cbcd598"
  },
  {
   "metadata": {},
   "cell_type": "markdown",
   "source": "![sdf](images/imagee5.png)",
   "id": "70b8e1b95d46ec59"
  },
  {
   "metadata": {},
   "cell_type": "markdown",
   "source": "![sdf](images/img.png)",
   "id": "85bb96f15d2e7666"
  },
  {
   "metadata": {},
   "cell_type": "markdown",
   "source": "![sdf](images/img_1.png)",
   "id": "9862fdc15e6aceb0"
  },
  {
   "metadata": {},
   "cell_type": "markdown",
   "source": "![sdf](images/img_2.png)",
   "id": "2ebad099270b7414"
  },
  {
   "metadata": {},
   "cell_type": "markdown",
   "source": "![sdf](images/img_3.png)",
   "id": "52fb05d61c454e72"
  },
  {
   "metadata": {},
   "cell_type": "markdown",
   "source": "![sdf](images/img_4.png)",
   "id": "3775e5463b873280"
  },
  {
   "metadata": {},
   "cell_type": "markdown",
   "source": "iki eleman da plot içerdiği için ikisini de getirmiş oldu.",
   "id": "d759de1d156b5d87"
  },
  {
   "metadata": {},
   "cell_type": "markdown",
   "source": "/ ile o etiketin çocuklarına erişebiliyoruz.",
   "id": "88ba599fdb360779"
  },
  {
   "metadata": {},
   "cell_type": "markdown",
   "source": "// işareti ile belgenin herhangi bir yerindeki öğeleri seçilebilir (çocuk ve alt torunlar dahil).",
   "id": "9f6a078aa721cc44"
  },
  {
   "metadata": {},
   "cell_type": "markdown",
   "source": "![sdf](images/img_5.png)",
   "id": "378c29d279d0dbdb"
  },
  {
   "metadata": {},
   "cell_type": "markdown",
   "source": "![sdf](images/img_6.png)",
   "id": "56054420630c4082"
  },
  {
   "metadata": {},
   "cell_type": "markdown",
   "source": "![sdf](images/img_7.png)",
   "id": "518aa419332318fd"
  },
  {
   "metadata": {},
   "cell_type": "markdown",
   "source": "![sdf](images/img_9.png)",
   "id": "6e8e35c2941813cc"
  },
  {
   "metadata": {},
   "cell_type": "markdown",
   "source": "![sdf](images/img_10.png)",
   "id": "8fa13a5bcb669fcd"
  },
  {
   "metadata": {
    "ExecuteTime": {
     "end_time": "2025-02-09T12:10:05.230627Z",
     "start_time": "2025-02-09T12:10:05.227971Z"
    }
   },
   "cell_type": "code",
   "source": "",
   "id": "bc26c2f5f8519f91",
   "outputs": [],
   "execution_count": null
  }
 ],
 "metadata": {
  "kernelspec": {
   "display_name": "Python 3",
   "language": "python",
   "name": "python3"
  },
  "language_info": {
   "codemirror_mode": {
    "name": "ipython",
    "version": 2
   },
   "file_extension": ".py",
   "mimetype": "text/x-python",
   "name": "python",
   "nbconvert_exporter": "python",
   "pygments_lexer": "ipython2",
   "version": "2.7.6"
  }
 },
 "nbformat": 4,
 "nbformat_minor": 5
}
