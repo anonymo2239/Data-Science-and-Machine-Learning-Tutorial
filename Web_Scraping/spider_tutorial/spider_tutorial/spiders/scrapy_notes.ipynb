{
 "cells": [
  {
   "metadata": {},
   "cell_type": "markdown",
   "source": [
    "# Scrapy Komutları\n",
    "\n",
    "- **Yeni bir Scrapy projesi başlatır:**  \n",
    "  ```bash\n",
    "  scrapy startproject proje_adı\n",
    "  ```\n",
    "- **Yeni bir spider oluşturur (http:// kısmını silerek yazmalıyız):**  \n",
    "  ```bash\n",
    "  scrapy genspider örümcek_adı site.com\n",
    "  ```\n",
    "- **Spider’ı çalıştırır:**  \n",
    "  ```bash\n",
    "  scrapy crawl örümcek_adı\n",
    "  ```\n",
    "- **Scrapy içinde interaktif bir ortam başlatır:**  \n",
    "  ```bash\n",
    "  scrapy shell \"https://site.com\"\n",
    "  ```\n",
    "- **Bir URL’den veri çeker:**  \n",
    "  ```bash\n",
    "  scrapy fetch \"https://site.com\"\n",
    "  ```\n",
    "- **Sayfayı tarayıcıda açar:**  \n",
    "  ```bash\n",
    "  scrapy view \"https://site.com\"\n",
    "  ```\n",
    "- **Scrapy’nin performans testini yapar:**  \n",
    "  ```bash\n",
    "  scrapy bench\n",
    "  ```\n",
    "\n",
    "---\n",
    "\n",
    "# Scrapy Temel Bileşenleri\n",
    "\n",
    "- **Item (Veri Yapısı):** Çekilen verileri tutar.  \n",
    "- **Pipeline (Veri İşleme):** Verileri veritabanına, CSV’ye veya JSON’a kaydeder.  \n",
    "- **Middleware (Ara Katmanlar):** Proxy, User-Agent gibi işlemleri yönetir.  \n",
    "\n",
    "---\n",
    "\n",
    "# Scrapy Spider Türleri\n",
    "\n",
    "### **1. Scrapy Spider (Basit Spider)**\n",
    "- En temel ve sık kullanılan spider türüdür.\n",
    "- Özel bir işlevi yoktur ama isteğe göre özelleştirilebilir.\n",
    "\n",
    "### **2. Crawl Spider (Daha Gelişmiş Spider)**\n",
    "- Web sitelerini taramak (crawling) için geliştirilmiştir.\n",
    "- Bağlantıları (links) takip etmek için kurallar (**rules**) belirlenebilir.\n",
    "\n",
    "---\n",
    "\n",
    "# Scrapy vs. Diğer Kütüphaneler\n",
    "\n",
    "| **Kütüphane**  | **Kullanım**  |\n",
    "|---------------|--------------|\n",
    "| **BeautifulSoup** | `soup` nesnesi ile HTML parse edilir. |\n",
    "| **Selenium** | `driver` nesnesi ile dinamik sayfalar işlenir. |\n",
    "| **Scrapy** | `response` nesnesi ile hızlı ve optimize web scraping yapılır. |\n",
    "\n",
    "---\n",
    "\n",
    "# Örnek XPath Kullanımları\n",
    "\n",
    "- **Belirli bir etiketi seçmek:**\n",
    "  ```python\n",
    "  response.xpath('//tag')\n",
    "  ```\n",
    "- **Belirli bir attribute’a sahip etiketi seçmek:**\n",
    "  ```python\n",
    "  response.xpath('//tag[@AttributeName=\"Value\"]')\n",
    "  ```\n",
    "- **XPath sonucunu string olarak almak:**\n",
    "  ```python\n",
    "  response.xpath('//tag/text()').get()\n",
    "  ```"
   ],
   "id": "d12adc405fe60610"
  },
  {
   "metadata": {},
   "cell_type": "markdown",
   "source": "## Scrapy's Shell Command",
   "id": "9d6f5f1fb4776588"
  },
  {
   "metadata": {},
   "cell_type": "markdown",
   "source": "scrapy shell ile scrapy komut satırını açtık",
   "id": "5ceee48e02ac3d78"
  },
  {
   "metadata": {},
   "cell_type": "markdown",
   "source": [
    "r = scrapy.Request(url='https://www.worldometers.info/world-population/population-by-country/') ile adresi aldık.  \n",
    "fetch(r)  \n",
    "response.body  \n",
    "komutları ile o adresin readable olmayan html kodunu çekmiş olduk."
   ],
   "id": "8f25249faaf33c49"
  },
  {
   "metadata": {},
   "cell_type": "markdown",
   "source": [
    "Ayrıca Xpath komutu ile arama da yapabiliriz terminal üzerinden:  \n",
    "\n",
    "In [6]: response.xpath('//h1')   \n",
    "Out[6]: [<Selector query='//h1' data='<h1>Countries in the world by populat...'>]"
   ],
   "id": "46901d92c6c4cc7c"
  },
  {
   "metadata": {},
   "cell_type": "markdown",
   "source": [
    "In [7]: response.xpath('//h1/text()')   \n",
    "Out[7]: <Selector query=//h1/text()' data='Countries in the world by population ...]\n",
    "\n",
    "In [8]: response.xpath('//h1/text()').get()  \n",
    "Out[8]: 'Countries in the world by population (2025)'"
   ],
   "id": "4ceea368ce0e33fe"
  },
  {
   "metadata": {},
   "cell_type": "markdown",
   "source": [
    "Listeden Ülke çekme:\n",
    "\n"
   ],
   "id": "87ef07a1932bdff3"
  },
  {
   "metadata": {},
   "cell_type": "markdown",
   "source": [
    "In [9]: response.xpath('//td/a/text()').getall()  \n",
    "Out[9]:  \n",
    "['India',  \n",
    " 'China',  \n",
    " 'United States',  \n",
    " 'Indonesia',  \n",
    " 'Pakistan',  \n",
    " 'Nigeria',  \n",
    " 'Brazil',  \n",
    " 'Bangladesh',  \n",
    " 'Russia',\n",
    " 'Ethiopia',\n",
    " 'Mexico',\n",
    " 'Japan',..."
   ],
   "id": "1bfb1bc97c8b2baa"
  },
  {
   "metadata": {},
   "cell_type": "code",
   "outputs": [],
   "execution_count": null,
   "source": "",
   "id": "74b61fc2f22b964e"
  }
 ],
 "metadata": {
  "kernelspec": {
   "display_name": "Python 3",
   "language": "python",
   "name": "python3"
  },
  "language_info": {
   "codemirror_mode": {
    "name": "ipython",
    "version": 2
   },
   "file_extension": ".py",
   "mimetype": "text/x-python",
   "name": "python",
   "nbconvert_exporter": "python",
   "pygments_lexer": "ipython2",
   "version": "2.7.6"
  }
 },
 "nbformat": 4,
 "nbformat_minor": 5
}
